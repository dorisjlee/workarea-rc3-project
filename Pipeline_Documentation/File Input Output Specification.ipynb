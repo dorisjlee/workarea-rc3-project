{
 "metadata": {
  "name": "",
  "signature": "sha256:d832eafdc1978cec67ceed1ceced32d5560891a17f851171ee2f1acfb097c4a8"
 },
 "nbformat": 3,
 "nbformat_minor": 0,
 "worksheets": [
  {
   "cells": [
    {
     "cell_type": "markdown",
     "metadata": {},
     "source": [
      "- Server should get FITS file data with filename:\n",
      "\n",
      "    filename = \"{}_{}_{}_{}.fits\".format(survey.name,band,str(ra),str(dec))\n",
      "    \n",
      "    ex) SDSS_i_14.253_23.42569.fits"
     ]
    },
    {
     "cell_type": "markdown",
     "metadata": {},
     "source": [
      "Other_rc3 : \n",
      "\n",
      "- returns [['PGC    54', '0.158083', '28.384556'], ['PGC    58', '0.183333', '28.401444']]\n",
      "- this is intended to be parsed later inside the mosaic program To obtain our regular ra,dec list\n",
      "\n",
      "- this is also parsed inside other_rc3_info where we get a dictionary With keys of PGC and value As a list of position ra,dec\n",
      "{58: [0.18333, 28.40144], 54: [0.15808, 28.38455]}\n"
     ]
    },
    {
     "cell_type": "markdown",
     "metadata": {},
     "source": [
      "I am going to keep consistency and name all methods that return the dictionary as _info. (i.e. other_rc3_info)\n",
      "With  exception of The main source_info() method"
     ]
    },
    {
     "cell_type": "code",
     "collapsed": false,
     "input": [],
     "language": "python",
     "metadata": {},
     "outputs": []
    }
   ],
   "metadata": {}
  }
 ]
}