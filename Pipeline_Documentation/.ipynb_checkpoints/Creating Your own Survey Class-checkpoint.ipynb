{
 "metadata": {
  "name": "",
  "signature": "sha256:a07f43d375912060f51a69e02afceaa8df5248cf3fafef7637fa983f16bcca93"
 },
 "nbformat": 3,
 "nbformat_minor": 0,
 "worksheets": [
  {
   "cells": [
    {
     "cell_type": "heading",
     "level": 1,
     "metadata": {},
     "source": [
      "Server Class "
     ]
    },
    {
     "cell_type": "markdown",
     "metadata": {},
     "source": [
      "Every survey object contains a server class which performs all the heavy querying and data retreival work.\n",
      "The server class that you write must implement the methods inside the abstract parent class Server. "
     ]
    },
    {
     "cell_type": "markdown",
     "metadata": {},
     "source": [
      "The mosaicing and position-updating procedure will only work if the returned value of these functions coincide with what the mosacingin program expects. Generally, it is easier to write the code for each method according to this sequence: "
     ]
    },
    {
     "cell_type": "markdown",
     "metadata": {},
     "source": [
      "<ol>\n",
      "<li> __query(query string)__: queries and download the XML file with FITS URL and other info\n",
      "<li> __getData(ra, dec, band, margin, survey)__: calls __query__, parses the XML to obtain FITS URL, download all FITS files of only the specified band with the naming convention: \n",
      "<br> ```{survey name}_{band}_{ra}_{dec}_{i}.fits``` \n",
      "<br>where i is the $i^{th}$ number of FITS inside your search margin \uff08if more than 1 FITS)\n",
      "\n",
      "<li>Query Builders:\n",
      " <ul>\n",
      " <li>  __otherRC3__(ra,dec,margin,survey):\n",
      " <br>Returns a list of other rc3 that lies inside the search margin, in the form:\n",
      " <br> [['PGC    23', '0.089583', '-2.612056'], ['PGC   205', '0.773583', '-1.913806']] <br> where ra,dec can be in str or float\n",
      " <li> __surveyFieldConverter__(ra,dec,margin,need\\_clean=False): \n",
      " <p>Query the region and return the identifier for the survey's basic imaging unit  detected in the search field. (For SDSS, this is refered to as the __field__ and characterized by a unique set of (run,camcol,field) value. For 2MASS, each __tile__ uniquely corresponds to its __designation__) Ideally, this should be a box search around the given ra,dec with the size of the box as twice the __margin__(distance from center to edge of search box), if not then cone search with margin as radius is fine too.\n",
      " </p>\n",
      "  If the survey doesn't have appropriate ID labels for its imaging plates then consider making your own name , the specs of what you call it does not matter since ultimately it is only used for the mosaicing program to decide on what steps to take depending on how many field there are in the search region. (See example in dssServer.py) Also, optional clean photometry flag. \n",
      " </ul>\n",
      "</ol>"
     ]
    },
    {
     "cell_type": "markdown",
     "metadata": {},
     "source": [
      "Here is some sample code that parses the typical output XML file returned by queries, you can adjust this to conform to the particular data services  that you are using.\n"
     ]
    },
    {
     "cell_type": "code",
     "collapsed": false,
     "input": [
      "#Parse XML to find URL of all objects lying inside field \n",
      "with open(\"result.txt\") as f:\n",
      "    n=0\n",
      "    i=0\n",
      "    for line in f: \n",
      "        #The URL is stored in the line  after <fitsurl>\n",
      "        if (line ==\"<fitsurl>\"):\n",
      "            #passing till 1 lines down <fitsurl>\n",
      "            n+=1\n",
      "            pass\n",
      "        elif (n==1):\n",
      "            n=0\n",
      "            url = line.split('[')[-1].split(']')[0]\n",
      "            if (i>0):\n",
      "                #preventing other downloads to override the initial file\n",
      "                filename = \"{}_{}_{}_{}_{}.fits\".format(survey.name,band,str(ra),str(dec),str(i))\n",
      "            else:\n",
      "                filename = \"{}_{}_{}_{}.fits\".format(survey.name,band,str(ra),str(dec))\n",
      "            print (\"wget -O {} {}{}{} \".format(filename,' \"',url,'\" '))\n",
      "            os.system(\"wget -O {} {}{}{} \".format(filename,' \"',url,'\" '))\n",
      "            i+=1"
     ],
     "language": "python",
     "metadata": {},
     "outputs": []
    },
    {
     "cell_type": "heading",
     "level": 1,
     "metadata": {},
     "source": [
      "Survey Class"
     ]
    },
    {
     "cell_type": "markdown",
     "metadata": {},
     "source": [
      "It is usually easier to implement the server class first then fill in the attribute values inside the survey class."
     ]
    },
    {
     "cell_type": "markdown",
     "metadata": {},
     "source": [
      "- __color_bands__: bands used to create the color images. If the survey has less than 3 bands then it can not create a colored image unless it is strategeically recombined with FITS of another band from another survey.\n",
      "- __best_band__: To save computing time, this is only band that is used in the recursive steps. In optical surveys, this should be the band that recieves the most photons on its CCD, so that low-surface structure can be seen more clearly (SDSS 'r' band). \n",
      "- __data_server__: To ensure that you data\\_server is type dispatched correctly , go to the ``_initServer`` function in the abstract __Survey__ class and add an elif statement with the new survey name on it and correspondingly initialize the specific server object as such :"
     ]
    },
    {
     "cell_type": "code",
     "collapsed": false,
     "input": [
      "# survey.py\n",
      "#don't forget to import the new survey class up top\n",
      "from dssServer import DSSServer\n",
      "from server import Server\n",
      "class Survey(object):\n",
      "    def __init__(self):\n",
      "        ....\n",
      "        ....\n",
      "    def _initServer(self):\n",
      "        if (self.name =='2MASS' or self.name == 'WISE' or self.name == 'IRAS'):\n",
      "            #<EDIT THIS CASE IF SURVEY IS INCLUDED IN THE GATOR FAMILY>\n",
      "            # http://irsa.ipac.caltech.edu/applications/Gator/\n",
      "            return Gator()\n",
      "        ....\n",
      "        elif (self.name== #<NEWSURVEY NAME>):\n",
      "            return #<NEWSURVEY OBJ>()\n",
      "        ...."
     ],
     "language": "python",
     "metadata": {},
     "outputs": []
    },
    {
     "cell_type": "heading",
     "level": 1,
     "metadata": {},
     "source": [
      "Survey-dependent parameters"
     ]
    },
    {
     "cell_type": "heading",
     "level": 3,
     "metadata": {},
     "source": [
      "SExtractor"
     ]
    },
    {
     "cell_type": "markdown",
     "metadata": {},
     "source": [
      "- Inside the  .sex (SExtractor configuration) files: \n",
      "     - Change PIXEL_SCALE to appropriate size per pixel in arcseconds to ensure that radius is calculated correctly.\n",
      "     - Other parameters can be adjusted for each survey\n",
      "- If you are not using the default for .param,.conv,.nnw make sure to change the PARAMETERS_NAME, FILTER_NAME,STARNNW_NAME respectively.\n"
     ]
    },
    {
     "cell_type": "heading",
     "level": 3,
     "metadata": {},
     "source": [
      "STIFF"
     ]
    },
    {
     "cell_type": "markdown",
     "metadata": {},
     "source": [
      "Since we are mosaicing 2 color images with different parameters to emphasize low surface structure and wipe away the background,we  modify the parameters in the Survey object's __stiff_param_low__ and __stiff_param_best__ as command line arguements to overrride the default stiff configuration file.\n",
      "    "
     ]
    },
    {
     "cell_type": "heading",
     "level": 2,
     "metadata": {},
     "source": [
      "Optional"
     ]
    },
    {
     "cell_type": "markdown",
     "metadata": {},
     "source": [
      "These are parameters that are required for the essential mosaic and cordinate update algorithms to work but they are nice information to have around."
     ]
    },
    {
     "cell_type": "heading",
     "level": 3,
     "metadata": {},
     "source": [
      "Data Reliability"
     ]
    },
    {
     "cell_type": "markdown",
     "metadata": {},
     "source": [
      "- __need_clean__ : optional parameter inside the SurveyFieldConverter in the survey's DataServer Class. \n",
      "- If __need_clean__ is set to True, the SurveyFieldConverter will only return objects that are \"clean\", this can be used to compare with the clean=False query. If the 2 queries returns different-lengths list then the data contains unclean images. \n",
      "- For SDSS, this information is stored inside the boolean value [__CLEAN__](http://cas.sdss.org/dr4/en/help/docs/realquery.asp#flags) in SQL query search.\n",
      "- For 2MASS, unclean data is represented by non-zero character values in the __cc_flag__ [(contamination/confusion flag)](http://www.ipac.caltech.edu/2mass/releases/allsky/doc/seca3_3a.html#cc_flg). "
     ]
    },
    {
     "cell_type": "code",
     "collapsed": false,
     "input": [],
     "language": "python",
     "metadata": {},
     "outputs": []
    }
   ],
   "metadata": {}
  }
 ]
}