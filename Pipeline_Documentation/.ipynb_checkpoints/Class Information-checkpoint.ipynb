{
 "metadata": {
  "name": "",
  "signature": "sha256:3682cbf3a6b1ce44543afd7ef92e0469d21b439dab92b09284f8b6c4f4915436"
 },
 "nbformat": 3,
 "nbformat_minor": 0,
 "worksheets": [
  {
   "cells": [
    {
     "cell_type": "heading",
     "level": 1,
     "metadata": {},
     "source": [
      "Data(Object)"
     ]
    },
    {
     "cell_type": "markdown",
     "metadata": {},
     "source": [
      "Data object is an abstract class for accessing raw data from survey and feed it into program in the appropraite format. "
     ]
    },
    {
     "cell_type": "markdown",
     "metadata": {},
     "source": [
      "Instance Attributes:\n",
      "    - str raw : unprocessed raw data in CSV or HTML format\n",
      "    - str processed: processed data in desirable format (list?, or just text file and do readline())\n",
      "    - Useful quantities parse columns into list and store as attributes(?)\n",
      "    "
     ]
    },
    {
     "cell_type": "heading",
     "level": 2,
     "metadata": {},
     "source": [
      "Survey(Data)"
     ]
    },
    {
     "cell_type": "markdown",
     "metadata": {},
     "source": [
      "__Survey__ implements the abstract methods in the__Data__ class~~, in addition to the core mosaicing methods~~. ~~The reason why I changed mosaicing methods part of Survey and not RC3 object (as it was previously) is 1) to be able to call the mosaic function on different datasets ex) 2MASS.mosaic(rc3_obj) and SDSS.mosaic(rc3_obj), not that vice versa would require remaking the rc3_obj for each survey and 2) to avoid passing~~ It can also inherit appropriate methods from Gator or MAST class. For the program to work properly, survey must have capabilities which is covered by the folowing method:"
     ]
    },
    {
     "cell_type": "markdown",
     "metadata": {},
     "source": [
      "Instance Attributes:\n",
      "\n",
      "- General Info used for Mosaicing\n",
      "    - list __bands__ : ['u','g','r','i','z']\n",
      "    - list __color_bands__: ['g','r','i']\n",
      "    - char __best_band : best quality band, the band that best show low surface brightness structure (used for the zooming out algorithm)  ; 'r'\n",
      "    - pixel_size: for SExtractor\n",
      "    - \n",
      "    "
     ]
    },
    {
     "cell_type": "markdown",
     "metadata": {},
     "source": [
      "- __abstract  query()__:\n",
      "       args:\n",
      "         string query command\n",
      "         string mirror_database (Optional)\n",
      "         int format (Optional):\n",
      "         --> 1 :['#Table1\\n', 'run,camcol,field\\n', '1024,2,115\\n', '1045,2,129\\n']\n",
      "         --> 2 :[['1024', '2', '115'], ['1045', '2', '129']]\n",
      "\n",
      "       out: \n",
      "           List of matching result, depend on format, by format=1 default.\n",
      "    "
     ]
    },
    {
     "cell_type": "markdown",
     "metadata": {},
     "source": [
      "- __abstract access()__: Way to download data\n",
      "- __abstract coverage_check()__: check if position in survey footprint(maybe simply call on query()?)"
     ]
    },
    {
     "cell_type": "heading",
     "level": 2,
     "metadata": {},
     "source": [
      "Gator(Data)"
     ]
    },
    {
     "cell_type": "markdown",
     "metadata": {},
     "source": [
      "- __query()__:\n",
      "    - http://irsa.ipac.caltech.edu/cgi-bin/Gator/nph-query?[keyword1=value1]&[keyword2=value2]&...[keywordn=valuen]\n",
      "    - Select output as HTML then post-process into appropriate list form.\n"
     ]
    },
    {
     "cell_type": "heading",
     "level": 2,
     "metadata": {},
     "source": [
      "MAST(Data)"
     ]
    },
    {
     "cell_type": "heading",
     "level": 2,
     "metadata": {},
     "source": [
      "Catalog(Data)"
     ]
    },
    {
     "cell_type": "heading",
     "level": 2,
     "metadata": {},
     "source": [
      "RC3(Catalog)"
     ]
    },
    {
     "cell_type": "code",
     "collapsed": false,
     "input": [
      "RC3_galaxies(Catalog)"
     ],
     "language": "python",
     "metadata": {},
     "outputs": []
    },
    {
     "cell_type": "markdown",
     "metadata": {},
     "source": [
      "Previously RC3 information was stored/ read in the FIT files. However I decided that storing this information as an attribute of the RC3 Object is better.\n",
      "Instance Attributes: \n",
      "    - \n",
      "    - \n",
      "    "
     ]
    },
    {
     "cell_type": "markdown",
     "metadata": {},
     "source": [
      "Contains basic information about the RC3 Object,in addition to the core mosaicing methods.The reason why I am keeping core mosaicing methods to RC3 is because the recursion program need the object to have that information while it is doing source_info, 2) to switch survey you can jsut do rc3_obj.mosaic(\"2MASS\",...), then you have a series of if that instantiate a Survey Object containing the information that you need for mosaicing parameter. \n"
     ]
    }
   ],
   "metadata": {}
  }
 ]
}