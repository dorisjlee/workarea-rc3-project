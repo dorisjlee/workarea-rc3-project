{
 "metadata": {
  "name": "",
  "signature": "sha256:19684a8f52eb92ce188a0956c619498758fcd665ee62213b570c960e1c839f0c"
 },
 "nbformat": 3,
 "nbformat_minor": 0,
 "worksheets": [
  {
   "cells": [
    {
     "cell_type": "heading",
     "level": 1,
     "metadata": {},
     "source": [
      "Server(Object)"
     ]
    },
    {
     "cell_type": "markdown",
     "metadata": {},
     "source": [
      "Server object is an abstract class for Interacting with the server,accessing raw data from survey and feed it into program in the appropraite format. Server is implemented by the concrete class for the specific server for example: Mast, Sky server, gator, local disk."
     ]
    },
    {
     "cell_type": "markdown",
     "metadata": {},
     "source": [
      "Instance Attributes:\n",
      "    - str raw : unprocessed raw data in CSV or HTML format\n",
      "    - str processed: processed data in desirable format (list?, or just text file and do readline())\n",
      "    - Useful quantities parse columns into list and store as attributes(?)\n",
      "    "
     ]
    },
    {
     "cell_type": "markdown",
     "metadata": {},
     "source": [
      "Abstract methods\n",
      " - search[query): this interacts with the QWERTY system of the data server and returns a list of desirable information.\n",
      " - Get data(*kwargs): interacts with the data server to retrieve Data by giving Surveys specific imaging names, For example run can call field; RA DEC"
     ]
    },
    {
     "cell_type": "heading",
     "level": 2,
     "metadata": {},
     "source": [
      "Survey(Data)"
     ]
    },
    {
     "cell_type": "markdown",
     "metadata": {},
     "source": [
      "__Survey__ implements the abstract methods in the __Data__  class~~, in addition to the core mosaicing methods~~. ~~The reason why I changed mosaicing methods part of Survey and not RC3 object (as it was previously) is 1) to be able to call the mosaic function on different datasets ex) 2MASS.mosaic(rc3_obj) and SDSS.mosaic(rc3_obj), not that vice versa would require remaking the rc3_obj for each survey and 2) to avoid passing~~ It can also inherit appropriate methods from Gator or MAST class. For the program to work properly, survey must have capabilities which is covered by the folowing method:"
     ]
    },
    {
     "cell_type": "markdown",
     "metadata": {},
     "source": [
      "__Subclass__ : SDSS, 2MASS, GALEX, IRSA...etc"
     ]
    },
    {
     "cell_type": "markdown",
     "metadata": {},
     "source": [
      "Instance Attributes:\n",
      "\n",
      "- General Info used for Mosaicing\n",
      "    - list __bands__ : ['u','g','r','i','z']\n",
      "    - list __color_bands__: ['g','r','i']\n",
      "    - char __best_band : best quality band, the band that best show low surface brightness structure (used for the zooming out algorithm)  ; 'r'\n",
      "    - pixel_size: for SExtractor\n",
      "    - \n",
      "    "
     ]
    },
    {
     "cell_type": "markdown",
     "metadata": {},
     "source": [
      "- __abstract  query()__:\n",
      "       args:\n",
      "         string query command\n",
      "         string mirror_database (Optional)\n",
      "         int format (Optional):\n",
      "         --> 1 :['#Table1\\n', 'run,camcol,field\\n', '1024,2,115\\n', '1045,2,129\\n']\n",
      "         --> 2 :[['1024', '2', '115'], ['1045', '2', '129']]\n",
      "\n",
      "       out: \n",
      "           List of matching result, depend on format, by format=1 default.\n",
      "    "
     ]
    },
    {
     "cell_type": "markdown",
     "metadata": {},
     "source": [
      "- __abstract access()__: Way to download data\n",
      "- __abstract coverage_check()__: check if position in survey footprint(maybe simply call on query()?)"
     ]
    },
    {
     "cell_type": "heading",
     "level": 2,
     "metadata": {},
     "source": [
      "Gator(Data)"
     ]
    },
    {
     "cell_type": "markdown",
     "metadata": {},
     "source": [
      "- __query()__:\n",
      "    - http://irsa.ipac.caltech.edu/cgi-bin/Gator/nph-query?[keyword1=value1]&[keyword2=value2]&...[keywordn=valuen]\n",
      "    - Select output as HTML then post-process into appropriate list form.\n"
     ]
    },
    {
     "cell_type": "heading",
     "level": 2,
     "metadata": {},
     "source": [
      "MAST(Data)"
     ]
    },
    {
     "cell_type": "heading",
     "level": 2,
     "metadata": {},
     "source": [
      "Local(Data)"
     ]
    },
    {
     "cell_type": "markdown",
     "metadata": {},
     "source": [
      "Check if raw file exist on LCDM's local disk.\n",
      "Not sure how to interact with this, query database?"
     ]
    },
    {
     "cell_type": "heading",
     "level": 2,
     "metadata": {},
     "source": [
      "Catalog(Data)"
     ]
    },
    {
     "cell_type": "heading",
     "level": 2,
     "metadata": {},
     "source": [
      "~~RC3(Catalog)~~"
     ]
    },
    {
     "cell_type": "markdown",
     "metadata": {},
     "source": [
      "Decided that there is not point of having a separate RC3 Catalog since the only objects inside a RC3 Catalog is RC3 objects and nothing else. Having this class woulld be helpful to cross correlating in catalog (ex. PGC, UGC also lie in RC3) But its not too hard to add a container class on later (i.e think of as Skittles_bag HAS-A Skittles). The only concern is that RC3_galaxy IS-A Catalog doesn't make much semantical sense, but that should be fine."
     ]
    },
    {
     "cell_type": "heading",
     "level": 3,
     "metadata": {},
     "source": [
      "RC3_galaxies(Catalog)"
     ]
    },
    {
     "cell_type": "markdown",
     "metadata": {},
     "source": [
      "Previously RC3 information was stored/ read in the FIT files. However I decided that storing this information as an attribute of the RC3 Object is better.\n",
      "Instance Attributes: \n",
      "    - rc3_ra, rc3_dec, rc3_radius: Values found in the original RC3 Catalog\n",
      "    - pgc : Unique identifier \n",
      "    - ra,dec,radius: Updated coordinates (Reserved Values @ and -1), Updated Radius is not too reliable (dependent on definition)\n",
      "    \n",
      "    "
     ]
    },
    {
     "cell_type": "markdown",
     "metadata": {},
     "source": [
      "(currently rc3.py)Contains basic information about the RC3 Object,in addition to the core mosaicing methods.The reason why I am keeping core mosaicing methods to RC3 is because the recursion program need the object to have that information while it is doing source_info, 2) to switch survey you can jsut do rc3_obj.mosaic(\"2MASS\",...), then you have a series of if that instantiate a Survey Object containing the information that you need for mosaicing parameter. \n"
     ]
    },
    {
     "cell_type": "code",
     "collapsed": false,
     "input": [
      "survey HAS-A Data_obj (which can be Mast or Gator)"
     ],
     "language": "python",
     "metadata": {},
     "outputs": []
    }
   ],
   "metadata": {}
  }
 ]
}