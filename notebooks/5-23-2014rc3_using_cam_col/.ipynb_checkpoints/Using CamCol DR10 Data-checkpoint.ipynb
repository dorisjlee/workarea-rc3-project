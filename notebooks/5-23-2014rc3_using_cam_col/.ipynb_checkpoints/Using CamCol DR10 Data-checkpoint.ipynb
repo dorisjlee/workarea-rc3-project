{
 "metadata": {
  "name": ""
 },
 "nbformat": 3,
 "nbformat_minor": 0,
 "worksheets": [
  {
   "cells": [
    {
     "cell_type": "raw",
     "metadata": {},
     "source": [
      "Ra:135.15\n",
      "Dec: 50.6769444444\n",
      "Run:2074\n",
      "Camcol:3\n",
      "Field:112\n",
      "frame-u-002074-3-0112\n",
      "out = \"frame-\"+band+\"-00\"+run+\"-0\"+field"
     ]
    },
    {
     "cell_type": "code",
     "collapsed": false,
     "input": [
      "import montage_wrapper as montage"
     ],
     "language": "python",
     "metadata": {},
     "outputs": [],
     "prompt_number": 1
    },
    {
     "cell_type": "code",
     "collapsed": false,
     "input": [
      "run=2074\n",
      "camcol=3\n",
      "field=112\n",
      "band ='u'\n",
      "out = \"frame-\"+str(band)+\"-00\"+str(run)+\"-0\"+str(field)\n",
      "out"
     ],
     "language": "python",
     "metadata": {},
     "outputs": [
      {
       "metadata": {},
       "output_type": "pyout",
       "prompt_number": 6,
       "text": [
        "'frame-u-002074-0112'"
       ]
      }
     ],
     "prompt_number": 6
    },
    {
     "cell_type": "code",
     "collapsed": false,
     "input": [
      "import montage_wrapper as montage\n",
      "import os\n",
      "import shutil\n",
      "\n",
      "#cd /Users/doris/Desktop/GSoC2014/workarea-rc3-project/rc3/rc3-g/\n",
      "DEBUG = True \n",
      "\n",
      "#obj = 2 #loop through all the objects\n",
      "#band = \"u\"                #loop through u,g,i,r,z\n",
      "#loc = str(0.03625) + \" \" + str(-6.374722222222222)              #concatenate RA, DEC into a string\n",
      "#w = 2* 1.5488166189124812#equals height \n",
      "#out = \"rc3_\"+ band + \"_\"+ str(obj) #concat str filename\n",
      "run=2074\n",
      "camcol=3\n",
      "field=112\n",
      "band ='u'\n",
      "out = \"frame-\"+str(band)+\"-00\"+str(run)+\"-0\"+str(field)\n",
      "if (DEBUG) : print(\"Creating mosaic for obj\"+str(obj) +\" , \"+ band + \"band.\")\n",
      "\n",
      "#os.mkdir(out)\n",
      "#os.chdir(out)\n",
      "\n",
      "#make a directory and go in before you pull all your data files\n",
      "#os.mkdir(\"raw\")\n",
      "    #consider making raw directory for the data \n",
      "    #https://docs.python.org/2/library/tempfile.html#tempfile.mkdtemp\n",
      "\n",
      "\n",
      "\n",
      "#pull in all your data files inside the raw directory\n",
      "#montage.mArchiveList(\"SDSS\",band, loc, w, w, out+\".tbl\")\n",
      "\n",
      "#os.chdir(\"raw\")\n",
      "\n",
      "#if (DEBUG): print (\"Retreiving raw FITS from remote archive\")\n",
      "#montage.mArchiveExec(\"../\"+out+\".tbl\") #Keeps saying that url not found because you changed into raw so it can't find the .tbl file (which is outside)\n",
      "#doing \"cd .. \"\n",
      "#os.chdir(os.getcwd()[:-3]) #current path minus \"raw\"\n",
      "\n",
      "montage.mImgtbl(\"raw\",\"images.tbl\")\n",
      "montage.mHdr(loc , w,out+\".hdr\")\n",
      "\n",
      "os.mkdir(\"projected\")\n",
      "os.chdir(\"raw\")\n",
      "if (DEBUG): print (\"Reprojecting images\")\n",
      "montage.mProjExec(\"../images.tbl\",\"../\"+out+\".hdr\",\"../projected\", \"stats.tbl\") #,debug=True)\n",
      "\n",
      "\n",
      "\n",
      "os.chdir(os.getcwd()[:-3]) #cdd \n",
      "#creating a table of projected images\n",
      "montage.mImgtbl(\"projected\",\"pimages.tbl\")\n",
      "\n",
      "\n",
      "#mAdd coadds the reprojected images using the FITS header template and mImgtbl list.\n",
      "os.chdir(\"projected\")\n",
      "montage.mAdd(\"pimages.tbl\",\"../\"+out+\".hdr\",\"SDSS_\"+out+\".fits\")\n",
      "\n",
      "\n",
      "\n",
      "shutil.move(\"SDSS_\"+out+\".fits\",os.getcwd()[:-9] )\n",
      "\n",
      "if (DEBUG) : print (\"Completed Mosaic\")\n",
      "\n",
      "os.chdir(os.getcwd()[:-9])\n",
      "#Removing intermediate directories \"raw\" and \"projected\" after \n",
      "#shutil.rmtree('projected')\n",
      "#shutil.rmtree('raw')\n"
     ],
     "language": "python",
     "metadata": {},
     "outputs": [
      {
       "output_type": "stream",
       "stream": "stdout",
       "text": [
        "Creating mosaic for obj2 , uband.\n",
        "Reprojecting images"
       ]
      },
      {
       "ename": "MontageError",
       "evalue": "mAdd: Invalid image metadata file: ../pimages.tbl",
       "output_type": "pyerr",
       "traceback": [
        "\u001b[0;31m---------------------------------------------------------------------------\u001b[0m\n\u001b[0;31mMontageError\u001b[0m                              Traceback (most recent call last)",
        "\u001b[0;32m<ipython-input-7-5cb2ce5383ef>\u001b[0m in \u001b[0;36m<module>\u001b[0;34m()\u001b[0m\n\u001b[1;32m     55\u001b[0m \u001b[0;31m#mAdd coadds the reprojected images using the FITS header template and mImgtbl list.\u001b[0m\u001b[0;34m\u001b[0m\u001b[0;34m\u001b[0m\u001b[0m\n\u001b[1;32m     56\u001b[0m \u001b[0mos\u001b[0m\u001b[0;34m.\u001b[0m\u001b[0mchdir\u001b[0m\u001b[0;34m(\u001b[0m\u001b[0;34m\"projected\"\u001b[0m\u001b[0;34m)\u001b[0m\u001b[0;34m\u001b[0m\u001b[0m\n\u001b[0;32m---> 57\u001b[0;31m \u001b[0mmontage\u001b[0m\u001b[0;34m.\u001b[0m\u001b[0mmAdd\u001b[0m\u001b[0;34m(\u001b[0m\u001b[0;34m\"../pimages.tbl\"\u001b[0m\u001b[0;34m,\u001b[0m\u001b[0;34m\"../\"\u001b[0m\u001b[0;34m+\u001b[0m\u001b[0mout\u001b[0m\u001b[0;34m+\u001b[0m\u001b[0;34m\".hdr\"\u001b[0m\u001b[0;34m,\u001b[0m\u001b[0;34m\"SDSS_\"\u001b[0m\u001b[0;34m+\u001b[0m\u001b[0mout\u001b[0m\u001b[0;34m+\u001b[0m\u001b[0;34m\".fits\"\u001b[0m\u001b[0;34m)\u001b[0m\u001b[0;34m\u001b[0m\u001b[0m\n\u001b[0m\u001b[1;32m     58\u001b[0m \u001b[0;34m\u001b[0m\u001b[0m\n\u001b[1;32m     59\u001b[0m \u001b[0;34m\u001b[0m\u001b[0m\n",
        "\u001b[0;32m/Users/doris/anaconda/envs/py33dev/lib/python3.3/site-packages/montage_wrapper/commands.py\u001b[0m in \u001b[0;36mmAdd\u001b[0;34m(images_table, template_header, out_image, img_dir, no_area, type, exact, debug_level, status_file, mpi, n_proc)\u001b[0m\n\u001b[1;32m     89\u001b[0m     \u001b[0;32mif\u001b[0m \u001b[0mstderr\u001b[0m\u001b[0;34m:\u001b[0m\u001b[0;34m\u001b[0m\u001b[0m\n\u001b[1;32m     90\u001b[0m         \u001b[0;32mraise\u001b[0m \u001b[0mException\u001b[0m\u001b[0;34m(\u001b[0m\u001b[0mstderr\u001b[0m\u001b[0;34m)\u001b[0m\u001b[0;34m\u001b[0m\u001b[0m\n\u001b[0;32m---> 91\u001b[0;31m     \u001b[0;32mreturn\u001b[0m \u001b[0mstatus\u001b[0m\u001b[0;34m.\u001b[0m\u001b[0mparse_struct\u001b[0m\u001b[0;34m(\u001b[0m\u001b[0;34m\"mAdd\"\u001b[0m\u001b[0;34m,\u001b[0m \u001b[0mp\u001b[0m\u001b[0;34m.\u001b[0m\u001b[0mstdout\u001b[0m\u001b[0;34m.\u001b[0m\u001b[0mread\u001b[0m\u001b[0;34m(\u001b[0m\u001b[0;34m)\u001b[0m\u001b[0;34m.\u001b[0m\u001b[0mstrip\u001b[0m\u001b[0;34m(\u001b[0m\u001b[0;34m)\u001b[0m\u001b[0;34m)\u001b[0m\u001b[0;34m\u001b[0m\u001b[0m\n\u001b[0m\u001b[1;32m     92\u001b[0m \u001b[0;34m\u001b[0m\u001b[0m\n\u001b[1;32m     93\u001b[0m \u001b[0;34m\u001b[0m\u001b[0m\n",
        "\u001b[0;32m/Users/doris/anaconda/envs/py33dev/lib/python3.3/site-packages/montage_wrapper/status.py\u001b[0m in \u001b[0;36mparse_struct\u001b[0;34m(command, string)\u001b[0m\n\u001b[1;32m     31\u001b[0m     \u001b[0;32melse\u001b[0m\u001b[0;34m:\u001b[0m\u001b[0;34m\u001b[0m\u001b[0m\n\u001b[1;32m     32\u001b[0m         \u001b[0;32mif\u001b[0m \u001b[0;34m'struct'\u001b[0m \u001b[0;32min\u001b[0m \u001b[0mstring\u001b[0m\u001b[0;34m:\u001b[0m\u001b[0;34m\u001b[0m\u001b[0m\n\u001b[0;32m---> 33\u001b[0;31m             \u001b[0mresult\u001b[0m \u001b[0;34m=\u001b[0m \u001b[0mStruct\u001b[0m\u001b[0;34m(\u001b[0m\u001b[0mcommand\u001b[0m\u001b[0;34m,\u001b[0m \u001b[0mstring\u001b[0m\u001b[0;34m)\u001b[0m\u001b[0;34m\u001b[0m\u001b[0m\n\u001b[0m\u001b[1;32m     34\u001b[0m         \u001b[0;32melse\u001b[0m\u001b[0;34m:\u001b[0m\u001b[0;34m\u001b[0m\u001b[0m\n\u001b[1;32m     35\u001b[0m             \u001b[0mprint\u001b[0m\u001b[0;34m(\u001b[0m\u001b[0mstring\u001b[0m\u001b[0;34m)\u001b[0m\u001b[0;34m\u001b[0m\u001b[0m\n",
        "\u001b[0;32m/Users/doris/anaconda/envs/py33dev/lib/python3.3/site-packages/montage_wrapper/status.py\u001b[0m in \u001b[0;36m__init__\u001b[0;34m(self, command, string)\u001b[0m\n\u001b[1;32m     68\u001b[0m \u001b[0;34m\u001b[0m\u001b[0m\n\u001b[1;32m     69\u001b[0m         \u001b[0;32mif\u001b[0m \u001b[0mself\u001b[0m\u001b[0;34m.\u001b[0m\u001b[0mstat\u001b[0m \u001b[0;34m==\u001b[0m \u001b[0;34m\"ERROR\"\u001b[0m\u001b[0;34m:\u001b[0m\u001b[0;34m\u001b[0m\u001b[0m\n\u001b[0;32m---> 70\u001b[0;31m             \u001b[0;32mraise\u001b[0m \u001b[0mMontageError\u001b[0m\u001b[0;34m(\u001b[0m\u001b[0;34m\"%s: %s\"\u001b[0m \u001b[0;34m%\u001b[0m \u001b[0;34m(\u001b[0m\u001b[0mcommand\u001b[0m\u001b[0;34m,\u001b[0m \u001b[0mself\u001b[0m\u001b[0;34m.\u001b[0m\u001b[0mmsg\u001b[0m\u001b[0;34m)\u001b[0m\u001b[0;34m)\u001b[0m\u001b[0;34m\u001b[0m\u001b[0m\n\u001b[0m\u001b[1;32m     71\u001b[0m         \u001b[0;32melif\u001b[0m \u001b[0mself\u001b[0m\u001b[0;34m.\u001b[0m\u001b[0mstat\u001b[0m \u001b[0;34m==\u001b[0m \u001b[0;34m\"WARNING\"\u001b[0m\u001b[0;34m:\u001b[0m\u001b[0;34m\u001b[0m\u001b[0m\n\u001b[1;32m     72\u001b[0m             \u001b[0mlog\u001b[0m\u001b[0;34m.\u001b[0m\u001b[0mwarn\u001b[0m\u001b[0;34m(\u001b[0m\u001b[0mself\u001b[0m\u001b[0;34m.\u001b[0m\u001b[0mmsg\u001b[0m\u001b[0;34m)\u001b[0m\u001b[0;34m\u001b[0m\u001b[0m\n",
        "\u001b[0;31mMontageError\u001b[0m: mAdd: Invalid image metadata file: ../pimages.tbl"
       ]
      },
      {
       "output_type": "stream",
       "stream": "stdout",
       "text": [
        "\n"
       ]
      }
     ],
     "prompt_number": 7
    },
    {
     "cell_type": "code",
     "collapsed": false,
     "input": [
      "cd ..\n"
     ],
     "language": "python",
     "metadata": {},
     "outputs": [
      {
       "output_type": "stream",
       "stream": "stdout",
       "text": [
        "/Users/doris/Desktop/GSoC2014/workarea-rc3-project/notebooks/5-23-2014rc3_using_cam_col\n"
       ]
      }
     ],
     "prompt_number": 10
    },
    {
     "cell_type": "code",
     "collapsed": false,
     "input": [
      "montage.mImgtbl(\"raw\",\"images.tbl\")\n",
      "\n"
     ],
     "language": "python",
     "metadata": {},
     "outputs": [
      {
       "metadata": {},
       "output_type": "pyout",
       "prompt_number": 11,
       "text": [
        "stat : OK\n",
        "count : 16"
       ]
      }
     ],
     "prompt_number": 11
    },
    {
     "cell_type": "code",
     "collapsed": false,
     "input": [
      "montage.mHdr(loc , w,out+\".hdr\")"
     ],
     "language": "python",
     "metadata": {},
     "outputs": [
      {
       "metadata": {},
       "output_type": "pyout",
       "prompt_number": 12,
       "text": [
        "stat : OK\n",
        "count : 16"
       ]
      }
     ],
     "prompt_number": 12
    },
    {
     "cell_type": "code",
     "collapsed": false,
     "input": [
      "loc\n"
     ],
     "language": "python",
     "metadata": {},
     "outputs": [
      {
       "metadata": {},
       "output_type": "pyout",
       "prompt_number": 19,
       "text": [
        "'0.03625 -6.374722222222222'"
       ]
      }
     ],
     "prompt_number": 19
    },
    {
     "cell_type": "code",
     "collapsed": false,
     "input": [
      "ra=135.15\n",
      "dec= 50.6769444444\n",
      "radius=2.29086765277"
     ],
     "language": "python",
     "metadata": {},
     "outputs": [],
     "prompt_number": 16
    },
    {
     "cell_type": "code",
     "collapsed": false,
     "input": [
      "montage.mHdr(str(ra)+\" \"+str(dec),radius,out+\".hdr\")"
     ],
     "language": "python",
     "metadata": {},
     "outputs": [
      {
       "metadata": {},
       "output_type": "pyout",
       "prompt_number": 21,
       "text": [
        "stat : OK\n",
        "count : 16"
       ]
      }
     ],
     "prompt_number": 21
    },
    {
     "cell_type": "code",
     "collapsed": false,
     "input": [
      "ls"
     ],
     "language": "python",
     "metadata": {},
     "outputs": [
      {
       "output_type": "stream",
       "stream": "stdout",
       "text": [
        "hdu0_frame-u-002074-3-0112.fits       stats.tbl\r\n",
        "hdu0_frame-u-002074-3-0112_area.fits\r\n"
       ]
      }
     ],
     "prompt_number": 26
    },
    {
     "cell_type": "code",
     "collapsed": false,
     "input": [
      "cd .."
     ],
     "language": "python",
     "metadata": {},
     "outputs": [
      {
       "output_type": "stream",
       "stream": "stdout",
       "text": [
        "/Users/doris/Desktop/GSoC2014/workarea-rc3-project/notebooks/5-23-2014rc3_using_cam_col\n"
       ]
      }
     ],
     "prompt_number": 27
    },
    {
     "cell_type": "code",
     "collapsed": false,
     "input": [
      "if (DEBUG): print (\"Reprojecting images\")\n"
     ],
     "language": "python",
     "metadata": {},
     "outputs": [
      {
       "output_type": "stream",
       "stream": "stdout",
       "text": [
        "Reprojecting images\n"
       ]
      }
     ],
     "prompt_number": 28
    },
    {
     "cell_type": "code",
     "collapsed": false,
     "input": [
      "montage.mProjExec(\"images.tbl\",out+\".hdr\",\"projected\", \"stats.tbl\") \n"
     ],
     "language": "python",
     "metadata": {},
     "outputs": [
      {
       "metadata": {},
       "output_type": "pyout",
       "prompt_number": 29,
       "text": [
        "count : 1\n",
        "nooverlap : 0\n",
        "stat : OK\n",
        "failed : 1"
       ]
      }
     ],
     "prompt_number": 29
    },
    {
     "cell_type": "code",
     "collapsed": false,
     "input": [
      "montage.mImgtbl(\"projected\",\"pimages.tbl\")\n"
     ],
     "language": "python",
     "metadata": {},
     "outputs": [
      {
       "metadata": {},
       "output_type": "pyout",
       "prompt_number": 30,
       "text": [
        "badfits : 0\n",
        "count : 1\n",
        "badwcs : 0\n",
        "stat : OK"
       ]
      }
     ],
     "prompt_number": 30
    },
    {
     "cell_type": "code",
     "collapsed": false,
     "input": [
      "#mAdd coadds the reprojected images using the FITS header template and mImgtbl list.\n",
      "os.chdir(\"projected\")\n",
      "montage.mAdd(\"../pimages.tbl\",\"../\"+out+\".hdr\",\"SDSS_\"+out+\".fits\")\n",
      "\n"
     ],
     "language": "python",
     "metadata": {},
     "outputs": [
      {
       "metadata": {},
       "output_type": "pyout",
       "prompt_number": 31,
       "text": [
        "stat : OK\n",
        "time : 1"
       ]
      }
     ],
     "prompt_number": 31
    },
    {
     "cell_type": "code",
     "collapsed": false,
     "input": [
      "\n",
      "\n",
      "shutil.move(\"SDSS_\"+out+\".fits\",os.getcwd()[:-9] )\n",
      "\n",
      "if (DEBUG) : print (\"Completed Mosaic\")\n",
      "\n",
      "os.chdir(os.getcwd()[:-9])"
     ],
     "language": "python",
     "metadata": {},
     "outputs": [
      {
       "output_type": "stream",
       "stream": "stdout",
       "text": [
        "Completed Mosaic\n"
       ]
      }
     ],
     "prompt_number": 32
    },
    {
     "cell_type": "code",
     "collapsed": false,
     "input": [],
     "language": "python",
     "metadata": {},
     "outputs": []
    }
   ],
   "metadata": {}
  }
 ]
}