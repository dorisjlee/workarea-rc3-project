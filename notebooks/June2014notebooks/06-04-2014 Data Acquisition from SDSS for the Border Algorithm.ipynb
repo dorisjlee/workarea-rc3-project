{
 "metadata": {
  "name": ""
 },
 "nbformat": 3,
 "nbformat_minor": 0,
 "worksheets": [
  {
   "cells": [
    {
     "cell_type": "markdown",
     "metadata": {},
     "source": [
      "In the subsection \"Imaging Data\" of  http://www.sdss3.org/dr10/data_access/bulk.php"
     ]
    },
    {
     "cell_type": "markdown",
     "metadata": {},
     "source": [
      "The search for is exactly what I need, it means I dont even need the border algorithm (point coverage is not necessarily consecutive."
     ]
    },
    {
     "cell_type": "markdown",
     "metadata": {},
     "source": [
      "Trying to figure out what to do with this file, windowflist, there is nothign when I open it with a fits viewer, a bunch of weird character and a few lines of variables when I open with text editor. http://data.sdss3.org/datamodel/files/PHOTO_RESOLVE/window_flist.html"
     ]
    },
    {
     "cell_type": "heading",
     "level": 3,
     "metadata": {},
     "source": [
      "Using SQLCL http://skyserver.sdss3.org/dr10/en/help/download/sqlcl/sqlcl.aspx"
     ]
    },
    {
     "cell_type": "markdown",
     "metadata": {},
     "source": [
      "- Must run sqlcl using python 2 \n",
      "- to use sqlcl just __import sqlcl__\n",
      "- "
     ]
    },
    {
     "cell_type": "code",
     "collapsed": false,
     "input": [
      "import sqlcl"
     ],
     "language": "python",
     "metadata": {},
     "outputs": [],
     "prompt_number": 7
    },
    {
     "cell_type": "code",
     "collapsed": false,
     "input": [
      "sqlcl.query(\"select top 2 ra, dec from galaxy\")"
     ],
     "language": "python",
     "metadata": {},
     "outputs": [
      {
       "metadata": {},
       "output_type": "pyout",
       "prompt_number": 8,
       "text": [
        "<addinfourl at 4372088304 whose fp = <socket._fileobject object at 0x104997250>>"
       ]
      }
     ],
     "prompt_number": 8
    },
    {
     "cell_type": "code",
     "collapsed": false,
     "input": [
      "lines = sqlcl.query(\"select top 2 ra, dec from galaxy\").readlines()"
     ],
     "language": "python",
     "metadata": {},
     "outputs": [],
     "prompt_number": 22
    },
    {
     "cell_type": "code",
     "collapsed": false,
     "input": [
      "print sqlcl.query(\"select top 2 ra, dec from galaxy\").read()"
     ],
     "language": "python",
     "metadata": {},
     "outputs": [
      {
       "output_type": "stream",
       "stream": "stdout",
       "text": [
        "#Table1\n",
        "ra,dec\n",
        "270.005882333622,-0.000818074914787268\n",
        "270.013518236457,-0.00122235200573972\n",
        "\n"
       ]
      }
     ],
     "prompt_number": 23
    },
    {
     "cell_type": "code",
     "collapsed": false,
     "input": [
      "data=[]"
     ],
     "language": "python",
     "metadata": {},
     "outputs": [],
     "prompt_number": 24
    },
    {
     "cell_type": "code",
     "collapsed": false,
     "input": [
      "from operator import *"
     ],
     "language": "python",
     "metadata": {},
     "outputs": [],
     "prompt_number": 37
    },
    {
     "cell_type": "code",
     "collapsed": false,
     "input": [
      "for line in lines[1:]: data.append(map(float,line[:-1].split(',')))"
     ],
     "language": "python",
     "metadata": {},
     "outputs": [],
     "prompt_number": 40
    },
    {
     "cell_type": "code",
     "collapsed": false,
     "input": [
      "print data"
     ],
     "language": "python",
     "metadata": {},
     "outputs": [
      {
       "output_type": "stream",
       "stream": "stdout",
       "text": [
        "[<itertools.imap object at 0x104c87c10>, <itertools.imap object at 0x104c87cd0>, <itertools.imap object at 0x104c87d90>, <itertools.imap object at 0x1047b7dd0>, <itertools.imap object at 0x1047b7910>, <itertools.imap object at 0x1047b7950>, <itertools.imap object at 0x1047b7bd0>, <itertools.imap object at 0x104c63050>, <itertools.imap object at 0x104c63110>, <itertools.imap object at 0x104c631d0>, <itertools.imap object at 0x104c632d0>, <itertools.imap object at 0x104c63390>, <itertools.imap object at 0x104c63450>, <itertools.imap object at 0x104c63510>, <itertools.imap object at 0x104c635d0>, <itertools.imap object at 0x104c63690>, <itertools.imap object at 0x104c637d0>, <itertools.imap object at 0x104c63890>, <itertools.imap object at 0x104c63950>, <itertools.imap object at 0x104c87fd0>, <itertools.imap object at 0x1047b7e10>, <itertools.imap object at 0x1047b7810>, <itertools.imap object at 0x104c63210>, <itertools.imap object at 0x104c636d0>, <itertools.imap object at 0x104c63990>]\n"
       ]
      }
     ],
     "prompt_number": 41
    },
    {
     "cell_type": "code",
     "collapsed": false,
     "input": [
      "lines"
     ],
     "language": "python",
     "metadata": {},
     "outputs": [
      {
       "metadata": {},
       "output_type": "pyout",
       "prompt_number": 43,
       "text": [
        "['#Table1\\n',\n",
        " 'ra,dec\\n',\n",
        " '270.005882333622,-0.000818074914787268\\n',\n",
        " '270.013518236457,-0.00122235200573972\\n']"
       ]
      }
     ],
     "prompt_number": 43
    },
    {
     "cell_type": "heading",
     "level": 2,
     "metadata": {},
     "source": [
      "Intro to SQL http://skyserver.sdss3.org/dr10/en/help/howto/search/introduction.aspx"
     ]
    },
    {
     "cell_type": "markdown",
     "metadata": {},
     "source": [
      "The run, camcol, and field image classification numbers are stored in the data columns run, camcol, and field of the photoObj table.\n",
      "http://skyserver.sdss3.org/dr10/en/help/browser/browser.aspx#&&history=description+PhotoObjAll+U"
     ]
    },
    {
     "cell_type": "markdown",
     "metadata": {},
     "source": [
      "select\n",
      "\n",
      "-  which columns of data you want it to return.\n"
     ]
    },
    {
     "cell_type": "markdown",
     "metadata": {},
     "source": [
      "from\n",
      "\n",
      "-  which tables to search from"
     ]
    },
    {
     "cell_type": "markdown",
     "metadata": {},
     "source": [
      "where\n",
      "\n",
      "-  search for records with certain characteristics\n",
      "-  must use \"AND\" to specify range\n",
      "- can also use OR / NOT\n",
      "- <> not equal to"
     ]
    },
    {
     "cell_type": "code",
     "collapsed": false,
     "input": [
      "select ra,dec\n",
      "from specObj\n",
      "where ra BETWEEN 140.25 and 140.75 AND\n",
      "dec BETWEEN 20.25 and 20.75\n"
     ],
     "language": "python",
     "metadata": {},
     "outputs": []
    },
    {
     "cell_type": "markdown",
     "metadata": {},
     "source": [
      "Side note: came across this note on astro colors definition http://skyserver.sdss3.org/dr10/en/proj/advanced/color/definition.aspx#try2"
     ]
    },
    {
     "cell_type": "markdown",
     "metadata": {},
     "source": [
      " PhotoObj - stores information about the images of every object, including run, rerun, camcol, field, ra, dec, magnitudes and object flags."
     ]
    },
    {
     "cell_type": "markdown",
     "metadata": {},
     "source": [
      "SkyServer's Query tool is limited to 90 seconds of search time and 100,000 results"
     ]
    },
    {
     "cell_type": "code",
     "collapsed": false,
     "input": [
      "import sqlcl"
     ],
     "language": "python",
     "metadata": {},
     "outputs": [],
     "prompt_number": 47
    },
    {
     "cell_type": "code",
     "collapsed": false,
     "input": [
      "result=sqlcl.query(\"SELECT  run,rerun,camcol,field FROM PhotoObj WHERE  ra between 193.472083333-0.0409118153432/2 and 193.472083333 +0.0409118153432/2 and dec between 26.4438888889- 0.0409118153432/2 and 26.4438888889+0.0409118153432/2\").readlines()"
     ],
     "language": "python",
     "metadata": {},
     "outputs": [],
     "prompt_number": 48
    },
    {
     "cell_type": "markdown",
     "metadata": {},
     "source": [
      "to get only one entry use __select distinct__"
     ]
    },
    {
     "cell_type": "code",
     "collapsed": false,
     "input": [
      " result=sqlcl.query(\"SELECT distinct run,rerun,camcol,field FROM PhotoObj WHERE  ra between 193.472083333-0.0409118153432/2 and 193.472083333 +0.0409118153432/2 and dec between 26.4438888889- 0.0409118153432/2 and 26.4438888889+0.0409118153432/2\").readlines()"
     ],
     "language": "python",
     "metadata": {},
     "outputs": [],
     "prompt_number": 49
    },
    {
     "cell_type": "code",
     "collapsed": false,
     "input": [
      "result"
     ],
     "language": "python",
     "metadata": {},
     "outputs": [
      {
       "metadata": {},
       "output_type": "pyout",
       "prompt_number": 50,
       "text": [
        "['#Table1\\n', 'run,rerun,camcol,field\\n', '5087,301,2,266\\n']"
       ]
      }
     ],
     "prompt_number": 50
    },
    {
     "cell_type": "code",
     "collapsed": false,
     "input": [
      "diameter=0.0409118153432\n",
      "radius = diameter/2.\n",
      "margin=0.2* radius + radius"
     ],
     "language": "python",
     "metadata": {},
     "outputs": [],
     "prompt_number": 51
    },
    {
     "cell_type": "code",
     "collapsed": false,
     "input": [
      " result=sqlcl.query(\"SELECT distinct run,rerun,camcol,field FROM PhotoObj WHERE  ra between 193.472083333-0.0409118153432/2 and 193.472083333 +0.0409118153432/2 and dec between 26.4438888889 - \"+str(margin)+\" and 26.4438888889+\"+ str(margin)).readlines()"
     ],
     "language": "python",
     "metadata": {},
     "outputs": [],
     "prompt_number": 52
    },
    {
     "cell_type": "code",
     "collapsed": false,
     "input": [
      "result"
     ],
     "language": "python",
     "metadata": {},
     "outputs": [
      {
       "metadata": {},
       "output_type": "pyout",
       "prompt_number": 53,
       "text": [
        "['#Table1\\n', 'run,rerun,camcol,field\\n', '5087,301,2,266\\n']"
       ]
      }
     ],
     "prompt_number": 53
    },
    {
     "cell_type": "markdown",
     "metadata": {},
     "source": [
      "Testing how to parse out more than 1 entry"
     ]
    },
    {
     "cell_type": "code",
     "collapsed": false,
     "input": [
      " result=sqlcl.query(\"SELECT distinct run,camcol,field FROM PhotoObj WHERE  ra between 193.472083333-0.0409118153432/2 and 193.472083333 +0.0409118153432/2 and dec between 26.4438888889 - \"+str(0.5)+\" and 26.4438888889+\"+ str(0.5)).readlines()"
     ],
     "language": "python",
     "metadata": {},
     "outputs": [],
     "prompt_number": 54
    },
    {
     "cell_type": "markdown",
     "metadata": {},
     "source": [
      "Could probably also take out rerun since it is always 301 (at least for now)"
     ]
    },
    {
     "cell_type": "code",
     "collapsed": false,
     "input": [
      "result"
     ],
     "language": "python",
     "metadata": {},
     "outputs": [
      {
       "metadata": {},
       "output_type": "pyout",
       "prompt_number": 55,
       "text": [
        "['#Table1\\n',\n",
        " 'run,camcol,field\\n',\n",
        " '5087,1,266\\n',\n",
        " '5087,1,267\\n',\n",
        " '5087,2,266\\n',\n",
        " '5087,3,266\\n',\n",
        " '5115,1,142\\n',\n",
        " '5115,2,142\\n',\n",
        " '5116,6,153\\n']"
       ]
      }
     ],
     "prompt_number": 55
    },
    {
     "cell_type": "code",
     "collapsed": false,
     "input": [
      "count =0\n",
      "for i in result:\n",
      "    if count>1:\n",
      "        list =i.split(',')\n",
      "        print list\n",
      "        list[2]= list[2][:-1]\n",
      "        print list\n",
      "    count +=1"
     ],
     "language": "python",
     "metadata": {},
     "outputs": [
      {
       "output_type": "stream",
       "stream": "stdout",
       "text": [
        "['5087', '1', '266\\n']\n",
        "['5087', '1', '266']\n",
        "['5087', '1', '267\\n']\n",
        "['5087', '1', '267']\n",
        "['5087', '2', '266\\n']\n",
        "['5087', '2', '266']\n",
        "['5087', '3', '266\\n']\n",
        "['5087', '3', '266']\n",
        "['5115', '1', '142\\n']\n",
        "['5115', '1', '142']\n",
        "['5115', '2', '142\\n']\n",
        "['5115', '2', '142']\n",
        "['5116', '6', '153\\n']\n",
        "['5116', '6', '153']\n"
       ]
      }
     ],
     "prompt_number": 56
    },
    {
     "cell_type": "code",
     "collapsed": false,
     "input": [
      "count =0\n",
      "data =[]\n",
      "for i in result:\n",
      "    if count>1:\n",
      "        list =i.split(',')\n",
      "        list[2]= list[2][:-1]\n",
      "        data.append(list)\n",
      "    count +=1\n",
      "data"
     ],
     "language": "python",
     "metadata": {},
     "outputs": [
      {
       "metadata": {},
       "output_type": "pyout",
       "prompt_number": 57,
       "text": [
        "[['5087', '1', '266'],\n",
        " ['5087', '1', '267'],\n",
        " ['5087', '2', '266'],\n",
        " ['5087', '3', '266'],\n",
        " ['5115', '1', '142'],\n",
        " ['5115', '2', '142'],\n",
        " ['5116', '6', '153']]"
       ]
      }
     ],
     "prompt_number": 57
    },
    {
     "cell_type": "code",
     "collapsed": false,
     "input": [
      "for i in data : \n",
      "    print i[2]"
     ],
     "language": "python",
     "metadata": {},
     "outputs": [
      {
       "output_type": "stream",
       "stream": "stdout",
       "text": [
        "266\n",
        "267\n",
        "266\n",
        "266\n",
        "142\n",
        "142\n",
        "153\n"
       ]
      }
     ],
     "prompt_number": 58
    },
    {
     "cell_type": "code",
     "collapsed": false,
     "input": [
      "import montage_wrapper as montage\n",
      "import os\n",
      "import sqlcl\n",
      "import shutil\n",
      "from math import floor\n",
      "DEBUG = True\n",
      "\n",
      "# run=5087\n",
      "# camcol=2\n",
      "# field=266\n",
      "\n",
      "ra= 193.472083333 \n",
      "dec=26.4438888889\n",
      "diameter=0.0409118153432\n",
      "radius = diameter/2.\n",
      "#This is proper margin, but for multiple entries we are using margin =0.5 as test\n",
      "#margin=0.2* radius + radius\n",
      "margin =0.5\n",
      "data =[]\n",
      "result=sqlcl.query(\"SELECT distinct run,camcol,field FROM PhotoObj WHERE  ra between 193.472083333-0.0409118153432/2 and 193.472083333 +0.0409118153432/2 and dec between 26.4438888889 - \"+str(0.5)+\" and 26.4438888889+\"+ str(0.5)).readlines()\n",
      "print result\n",
      "count =0\n",
      "for i in result:\n",
      "    if count>1:\n",
      "        list =i.split(',')\n",
      "        list[2]= list[2][:-1]\n",
      "        data.append(list)\n",
      "    count +=1\n",
      "print data"
     ],
     "language": "python",
     "metadata": {},
     "outputs": [
      {
       "output_type": "stream",
       "stream": "stdout",
       "text": [
        "['#Table1\\n', 'run,camcol,field\\n', '5087,1,266\\n', '5087,1,267\\n', '5087,2,266\\n', '5087,3,266\\n', '5115,1,142\\n', '5115,2,142\\n', '5116,6,153\\n']\n",
        "[['5087', '1', '266'], ['5087', '1', '267'], ['5087', '2', '266'], ['5087', '3', '266'], ['5115', '1', '142'], ['5115', '2', '142'], ['5116', '6', '153']]\n"
       ]
      }
     ],
     "prompt_number": 59
    },
    {
     "cell_type": "code",
     "collapsed": false,
     "input": [
      "import os"
     ],
     "language": "python",
     "metadata": {},
     "outputs": [],
     "prompt_number": 60
    },
    {
     "cell_type": "code",
     "collapsed": false,
     "input": [
      "print (os.getcwd())"
     ],
     "language": "python",
     "metadata": {},
     "outputs": [
      {
       "output_type": "stream",
       "stream": "stdout",
       "text": [
        "/Users/doris/Desktop/GSoC2014/workarea-rc3-project/border_algorithm\n"
       ]
      }
     ],
     "prompt_number": 61
    },
    {
     "cell_type": "code",
     "collapsed": false,
     "input": [
      "cd ~/Desktop/GSoC2014/workarea-rc3-project/border_algorithm/"
     ],
     "language": "python",
     "metadata": {},
     "outputs": [
      {
       "output_type": "stream",
       "stream": "stdout",
       "text": [
        "/Users/doris/Desktop/GSoC2014/workarea-rc3-project/border_algorithm\n"
       ]
      }
     ],
     "prompt_number": 62
    },
    {
     "cell_type": "heading",
     "level": 3,
     "metadata": {},
     "source": [
      "Acquiring the data "
     ]
    },
    {
     "cell_type": "code",
     "collapsed": false,
     "input": [
      "bands=['u','g','r','i','z']\n",
      "for ele in bands:\n",
      "    band =ele\n",
      "    os.mkdir(band)\n",
      "    os.chdir(band)\n",
      "    os.mkdir (\"raw\")\n",
      "    os.mkdir (\"projected\")\n",
      "    os.chdir(\"raw\")\n",
      "    for i in data :  \n",
      "        out = \"frame-\"+str(band)+\"-\"+str(i[0]).zfill(6)+\"-\"+str(i[1])+\"-\"+str(i[2]).zfill(4)\n",
      "        os.system(\"wget http://data.sdss3.org/sas/dr10/boss/photoObj/frames/301/\"+str(i[0])+\"/\"+ str(i[1]) +\"/\"+out+\".fits.bz2\")\n",
      "        os.system(\"bunzip2 \"+out+\".fits.bz2\")\n",
      "    print (os.getcwd())\n",
      "    os.chdir(\"../../\")\n",
      "# \tos.chdir(\"../\")\n"
     ],
     "language": "python",
     "metadata": {},
     "outputs": [
      {
       "output_type": "stream",
       "stream": "stdout",
       "text": [
        "/Users/doris/Desktop/GSoC2014/workarea-rc3-project/border_algorithm/u/raw\n",
        "/Users/doris/Desktop/GSoC2014/workarea-rc3-project/border_algorithm/g/raw"
       ]
      },
      {
       "output_type": "stream",
       "stream": "stdout",
       "text": [
        "\n",
        "/Users/doris/Desktop/GSoC2014/workarea-rc3-project/border_algorithm/r/raw"
       ]
      },
      {
       "output_type": "stream",
       "stream": "stdout",
       "text": [
        "\n",
        "/Users/doris/Desktop/GSoC2014/workarea-rc3-project/border_algorithm/i/raw"
       ]
      },
      {
       "output_type": "stream",
       "stream": "stdout",
       "text": [
        "\n",
        "/Users/doris/Desktop/GSoC2014/workarea-rc3-project/border_algorithm/z/raw"
       ]
      },
      {
       "output_type": "stream",
       "stream": "stdout",
       "text": [
        "\n"
       ]
      }
     ],
     "prompt_number": 63
    },
    {
     "cell_type": "markdown",
     "metadata": {},
     "source": [
      "The directory structure is cascading u,g,r,i,z, we need to exit out of cwd before creating the next band"
     ]
    },
    {
     "cell_type": "code",
     "collapsed": false,
     "input": [
      "#os.getcwd()"
     ],
     "language": "python",
     "metadata": {},
     "outputs": [],
     "prompt_number": 64
    },
    {
     "cell_type": "code",
     "collapsed": false,
     "input": [
      "#os.chdir(os.path.normpath(\"C:/a/b/c/..\"))"
     ],
     "language": "python",
     "metadata": {},
     "outputs": [],
     "prompt_number": 65
    },
    {
     "cell_type": "code",
     "collapsed": false,
     "input": [
      "os.getcwd()"
     ],
     "language": "python",
     "metadata": {},
     "outputs": [
      {
       "metadata": {},
       "output_type": "pyout",
       "prompt_number": 67,
       "text": [
        "'/Users/doris/Desktop/GSoC2014/workarea-rc3-project/border_algorithm'"
       ]
      }
     ],
     "prompt_number": 67
    },
    {
     "cell_type": "heading",
     "level": 3,
     "metadata": {},
     "source": [
      "Processing the image"
     ]
    },
    {
     "cell_type": "code",
     "collapsed": false,
     "input": [
      "cd ../.."
     ],
     "language": "python",
     "metadata": {},
     "outputs": [
      {
       "output_type": "stream",
       "stream": "stdout",
       "text": [
        "/Users/doris/Desktop/GSoC2014/workarea-rc3-project/border_algorithm\n"
       ]
      }
     ],
     "prompt_number": 80
    },
    {
     "cell_type": "code",
     "collapsed": false,
     "input": [
      "bands=['u','g','r','i','z']\n",
      "for band in bands:\n",
      "    os.chdir(band)\n",
      "    if (DEBUG) : print(\"Creating mosaic for \" +\" \"+ band + \" band.\")\n",
      "    montage.mImgtbl(\"raw\",\"images.tbl\")\n",
      "    montage.mHdr(str(ra)+\" \"+str(dec),radius,out+\".hdr\")\n",
      "    if (DEBUG): print (\"Reprojecting images\")\n",
      "\t#Sometimes you can't find the files and result in images.tbl => empty doc\n",
      "\t#need to put data file inside raw AND unzip it so that Montage detect that it is a fit file\n",
      "    os.chdir(\"raw\")\n",
      "    montage.mProjExec(\"../images.tbl\",\"../\"+out+\".hdr\",\"../projected\", \"../stats.tbl\") \n",
      "    os.chdir(\"..\")\n",
      "    montage.mImgtbl(\"projected\",\"pimages.tbl\")\n",
      "\t#mAdd coadds the reprojected images using the FITS header template and mImgtbl list.\n",
      "    os.chdir(\"projected\")\n",
      "    montage.mAdd(\"../pimages.tbl\",\"../\"+out+\".hdr\",\"SDSS_\"+out+\".fits\")\n",
      "    montage.mSubimage(\"SDSS_\"+out+\".fits\",\"SDSS_\"+out+\".fits\",ra,dec,0.05)\n",
      "    shutil.move(\"SDSS_\"+out+\".fits\",os.getcwd()[:-11] )#if change to :-11 then move out of u,g,r,i,z directory, may be more convenient for mJPEG\n",
      "    if (DEBUG) : print (\"Completed Mosaic for \" + band)\n",
      "    os.chdir(\"../..\")\n",
      "# Superimposing R,G,B image mosaics into TIFF using STIFF\n",
      "os.system(\"stiff \"+\" SDSS_frame-\"+\"i\"+\"-\"+str(run).zfill(6)+\"-\"+str(camcol)+\"-\"+str(field).zfill(4)+ \".fits \"+ \" SDSS_frame-\"+\"r\"+\"-\"+str(run).zfill(6)+\"-\"+str(camcol)+\"-\"+str(field).zfill(4)+\".fits \"+ \" SDSS_frame-\"+\"g\"+\"-\"+str(run).zfill(6)+\"-\"+str(camcol)+\"-\"+str(field).zfill(4)+\".fits \"+ \"  -c stiff.conf  \" +\"  -OUTFILE_NAME  \"+str(floor(ra))+\"_\"+str(floor(dec))+\"_COLORSAT_5_MAX_MAN_3  -COLOUR_SAT  5 -MAX_TYPE MANUAL -MAX_LEVEL 3\")\n",
      "# for b in bands:\n",
      "# \tos.system(\"rm -r \"+b+\"/\")\n",
      "\t#we want to keep the fit files, but for testing purposes Python will throw file-already-exist error , if we dont delete them.\n",
      "\t#os.system(\"rm -r \" + \"SDSS_frame-\"+b+\"-\"+str(run).zfill(6)+\"-\"+str(camcol)+\"-\"+str(field).zfill(4)+ \".fits\" )\n",
      "if (DEBUG) : print (\"Completed Mosaic\")"
     ],
     "language": "python",
     "metadata": {},
     "outputs": [
      {
       "output_type": "stream",
       "stream": "stdout",
       "text": [
        "Creating mosaic for  u band.\n",
        "Reprojecting images"
       ]
      },
      {
       "output_type": "stream",
       "stream": "stdout",
       "text": [
        "\n",
        "Completed Mosaic for u"
       ]
      },
      {
       "output_type": "stream",
       "stream": "stdout",
       "text": [
        "\n",
        "Creating mosaic for  g band.\n",
        "Reprojecting images"
       ]
      },
      {
       "ename": "Error",
       "evalue": "Destination path '/Users/doris/Desktop/GSoC2014/workarea-rc3-project/border_algorithm/SDSS_frame-z-005116-6-0153.fits' already exists",
       "output_type": "pyerr",
       "traceback": [
        "\u001b[0;31m---------------------------------------------------------------------------\u001b[0m\n\u001b[0;31mError\u001b[0m                                     Traceback (most recent call last)",
        "\u001b[0;32m<ipython-input-81-abbbcb716fdd>\u001b[0m in \u001b[0;36m<module>\u001b[0;34m()\u001b[0m\n\u001b[1;32m     16\u001b[0m     \u001b[0mmontage\u001b[0m\u001b[0;34m.\u001b[0m\u001b[0mmAdd\u001b[0m\u001b[0;34m(\u001b[0m\u001b[0;34m\"../pimages.tbl\"\u001b[0m\u001b[0;34m,\u001b[0m\u001b[0;34m\"../\"\u001b[0m\u001b[0;34m+\u001b[0m\u001b[0mout\u001b[0m\u001b[0;34m+\u001b[0m\u001b[0;34m\".hdr\"\u001b[0m\u001b[0;34m,\u001b[0m\u001b[0;34m\"SDSS_\"\u001b[0m\u001b[0;34m+\u001b[0m\u001b[0mout\u001b[0m\u001b[0;34m+\u001b[0m\u001b[0;34m\".fits\"\u001b[0m\u001b[0;34m)\u001b[0m\u001b[0;34m\u001b[0m\u001b[0m\n\u001b[1;32m     17\u001b[0m     \u001b[0mmontage\u001b[0m\u001b[0;34m.\u001b[0m\u001b[0mmSubimage\u001b[0m\u001b[0;34m(\u001b[0m\u001b[0;34m\"SDSS_\"\u001b[0m\u001b[0;34m+\u001b[0m\u001b[0mout\u001b[0m\u001b[0;34m+\u001b[0m\u001b[0;34m\".fits\"\u001b[0m\u001b[0;34m,\u001b[0m\u001b[0;34m\"SDSS_\"\u001b[0m\u001b[0;34m+\u001b[0m\u001b[0mout\u001b[0m\u001b[0;34m+\u001b[0m\u001b[0;34m\".fits\"\u001b[0m\u001b[0;34m,\u001b[0m\u001b[0mra\u001b[0m\u001b[0;34m,\u001b[0m\u001b[0mdec\u001b[0m\u001b[0;34m,\u001b[0m\u001b[0;36m0.05\u001b[0m\u001b[0;34m)\u001b[0m\u001b[0;34m\u001b[0m\u001b[0m\n\u001b[0;32m---> 18\u001b[0;31m     \u001b[0mshutil\u001b[0m\u001b[0;34m.\u001b[0m\u001b[0mmove\u001b[0m\u001b[0;34m(\u001b[0m\u001b[0;34m\"SDSS_\"\u001b[0m\u001b[0;34m+\u001b[0m\u001b[0mout\u001b[0m\u001b[0;34m+\u001b[0m\u001b[0;34m\".fits\"\u001b[0m\u001b[0;34m,\u001b[0m\u001b[0mos\u001b[0m\u001b[0;34m.\u001b[0m\u001b[0mgetcwd\u001b[0m\u001b[0;34m(\u001b[0m\u001b[0;34m)\u001b[0m\u001b[0;34m[\u001b[0m\u001b[0;34m:\u001b[0m\u001b[0;34m-\u001b[0m\u001b[0;36m11\u001b[0m\u001b[0;34m]\u001b[0m \u001b[0;34m)\u001b[0m\u001b[0;31m#if change to :-11 then move out of u,g,r,i,z directory, may be more convenient for mJPEG\u001b[0m\u001b[0;34m\u001b[0m\u001b[0m\n\u001b[0m\u001b[1;32m     19\u001b[0m     \u001b[0;32mif\u001b[0m \u001b[0;34m(\u001b[0m\u001b[0mDEBUG\u001b[0m\u001b[0;34m)\u001b[0m \u001b[0;34m:\u001b[0m \u001b[0;32mprint\u001b[0m \u001b[0;34m(\u001b[0m\u001b[0;34m\"Completed Mosaic for \"\u001b[0m \u001b[0;34m+\u001b[0m \u001b[0mband\u001b[0m\u001b[0;34m)\u001b[0m\u001b[0;34m\u001b[0m\u001b[0m\n\u001b[1;32m     20\u001b[0m     \u001b[0mos\u001b[0m\u001b[0;34m.\u001b[0m\u001b[0mchdir\u001b[0m\u001b[0;34m(\u001b[0m\u001b[0;34m\"../..\"\u001b[0m\u001b[0;34m)\u001b[0m\u001b[0;34m\u001b[0m\u001b[0m\n",
        "\u001b[0;32m/Users/doris/anaconda/python.app/Contents/lib/python2.7/shutil.pyc\u001b[0m in \u001b[0;36mmove\u001b[0;34m(src, dst)\u001b[0m\n\u001b[1;32m    289\u001b[0m         \u001b[0mreal_dst\u001b[0m \u001b[0;34m=\u001b[0m \u001b[0mos\u001b[0m\u001b[0;34m.\u001b[0m\u001b[0mpath\u001b[0m\u001b[0;34m.\u001b[0m\u001b[0mjoin\u001b[0m\u001b[0;34m(\u001b[0m\u001b[0mdst\u001b[0m\u001b[0;34m,\u001b[0m \u001b[0m_basename\u001b[0m\u001b[0;34m(\u001b[0m\u001b[0msrc\u001b[0m\u001b[0;34m)\u001b[0m\u001b[0;34m)\u001b[0m\u001b[0;34m\u001b[0m\u001b[0m\n\u001b[1;32m    290\u001b[0m         \u001b[0;32mif\u001b[0m \u001b[0mos\u001b[0m\u001b[0;34m.\u001b[0m\u001b[0mpath\u001b[0m\u001b[0;34m.\u001b[0m\u001b[0mexists\u001b[0m\u001b[0;34m(\u001b[0m\u001b[0mreal_dst\u001b[0m\u001b[0;34m)\u001b[0m\u001b[0;34m:\u001b[0m\u001b[0;34m\u001b[0m\u001b[0m\n\u001b[0;32m--> 291\u001b[0;31m             \u001b[0;32mraise\u001b[0m \u001b[0mError\u001b[0m\u001b[0;34m,\u001b[0m \u001b[0;34m\"Destination path '%s' already exists\"\u001b[0m \u001b[0;34m%\u001b[0m \u001b[0mreal_dst\u001b[0m\u001b[0;34m\u001b[0m\u001b[0m\n\u001b[0m\u001b[1;32m    292\u001b[0m     \u001b[0;32mtry\u001b[0m\u001b[0;34m:\u001b[0m\u001b[0;34m\u001b[0m\u001b[0m\n\u001b[1;32m    293\u001b[0m         \u001b[0mos\u001b[0m\u001b[0;34m.\u001b[0m\u001b[0mrename\u001b[0m\u001b[0;34m(\u001b[0m\u001b[0msrc\u001b[0m\u001b[0;34m,\u001b[0m \u001b[0mreal_dst\u001b[0m\u001b[0;34m)\u001b[0m\u001b[0;34m\u001b[0m\u001b[0m\n",
        "\u001b[0;31mError\u001b[0m: Destination path '/Users/doris/Desktop/GSoC2014/workarea-rc3-project/border_algorithm/SDSS_frame-z-005116-6-0153.fits' already exists"
       ]
      },
      {
       "output_type": "stream",
       "stream": "stdout",
       "text": [
        "\n"
       ]
      }
     ],
     "prompt_number": 81
    },
    {
     "cell_type": "markdown",
     "metadata": {},
     "source": [
      "You can not partition the program this way because you need to grab data for one band, process the image and then create the final FIT before you can move onto the next band."
     ]
    },
    {
     "cell_type": "code",
     "collapsed": false,
     "input": [
      "cd doris/Desktop/GSoC2014/workarea-rc3-project/border_algorithm/"
     ],
     "language": "python",
     "metadata": {},
     "outputs": [
      {
       "output_type": "stream",
       "stream": "stdout",
       "text": [
        "/Users/doris/Desktop/GSoC2014/workarea-rc3-project/border_algorithm\n"
       ]
      }
     ],
     "prompt_number": 121
    },
    {
     "cell_type": "code",
     "collapsed": false,
     "input": [
      "bands=['u','g','r','i','z']\n",
      "for ele in bands:\n",
      "    band =ele\n",
      "    os.mkdir(band)\n",
      "    os.chdir(band)\n",
      "    os.mkdir (\"raw\")\n",
      "    os.mkdir (\"projected\")\n",
      "    os.chdir(\"raw\")\n",
      "    for i in data :  \n",
      "        out = \"frame-\"+str(band)+\"-\"+str(i[0]).zfill(6)+\"-\"+str(i[1])+\"-\"+str(i[2]).zfill(4)\n",
      "        os.system(\"wget http://data.sdss3.org/sas/dr10/boss/photoObj/frames/301/\"+str(i[0])+\"/\"+ str(i[1]) +\"/\"+out+\".fits.bz2\")\n",
      "        os.system(\"bunzip2 \"+out+\".fits.bz2\")\n",
      "    print (os.getcwd())\n",
      "    os.chdir(\"../\")\n",
      "    if (DEBUG) : print(\"Creating mosaic for \" +\" \"+ band + \" band.\")\n",
      "    montage.mImgtbl(\"raw\",\"images.tbl\")\n",
      "    montage.mHdr(str(ra)+\" \"+str(dec),radius,out+\".hdr\")\n",
      "    if (DEBUG): print (\"Reprojecting images\")\n",
      "\t#Sometimes you can't find the files and result in images.tbl => empty doc\n",
      "\t#need to put data file inside raw AND unzip it so that Montage detect that it is a fit file\n",
      "    os.chdir(\"raw\")\n",
      "    montage.mProjExec(\"../images.tbl\",\"../\"+out+\".hdr\",\"../projected\", \"../stats.tbl\") \n",
      "    os.chdir(\"..\")\n",
      "    montage.mImgtbl(\"projected\",\"pimages.tbl\")\n",
      "\t#mAdd coadds the reprojected images using the FITS header template and mImgtbl list.\n",
      "    os.chdir(\"projected\")\n",
      "    montage.mAdd(\"../pimages.tbl\",\"../\"+out+\".hdr\",\"SDSS_\"+out+\".fits\")\n",
      "    montage.mSubimage(\"SDSS_\"+out+\".fits\",\"SDSS_\"+out+\".fits\",ra,dec,0.05)\n",
      "    shutil.move(\"SDSS_\"+out+\".fits\",os.getcwd()[:-11] )#if change to :-11 then move out of u,g,r,i,z directory, may be more convenient for mJPEG\n",
      "    if (DEBUG) : print (\"Completed Mosaic for \" + band)\n",
      "    os.chdir(\"../..\")\n",
      "# Superimposing R,G,B image mosaics into TIFF using STIFF\n",
      "os.system(\"stiff \"+\" SDSS_frame-\"+\"i\"+\"-\"+str(run).zfill(6)+\"-\"+str(camcol)+\"-\"+str(field).zfill(4)+ \".fits \"+ \" SDSS_frame-\"+\"r\"+\"-\"+str(run).zfill(6)+\"-\"+str(camcol)+\"-\"+str(field).zfill(4)+\".fits \"+ \" SDSS_frame-\"+\"g\"+\"-\"+str(run).zfill(6)+\"-\"+str(camcol)+\"-\"+str(field).zfill(4)+\".fits \"+ \"  -c stiff.conf  \" +\"  -OUTFILE_NAME  \"+str(trunc(ra))+\"_\"+str(trunc(dec))+\"_COLORSAT_5_MAX_MAN_3  -COLOUR_SAT  5 -MAX_TYPE MANUAL -MAX_LEVEL 3\")\n",
      "# for b in bands:\n",
      "# \tos.system(\"rm -r \"+b+\"/\")\n",
      "\t#we want to keep the fit files, but for testing purposes Python will throw file-already-exist error , if we dont delete them.\n",
      "\t#os.system(\"rm -r \" + \"SDSS_frame-\"+b+\"-\"+str(run).zfill(6)+\"-\"+str(camcol)+\"-\"+str(field).zfill(4)+ \".fits\" )\n",
      "if (DEBUG) : print (\"Completed Mosaic\")"
     ],
     "language": "python",
     "metadata": {},
     "outputs": [
      {
       "output_type": "stream",
       "stream": "stdout",
       "text": [
        "/Users/doris/Desktop/GSoC2014/workarea-rc3-project/border_algorithm/u/raw\n",
        "Creating mosaic for  u band.\n",
        "Reprojecting images"
       ]
      },
      {
       "output_type": "stream",
       "stream": "stdout",
       "text": [
        "\n",
        "Completed Mosaic for u"
       ]
      },
      {
       "output_type": "stream",
       "stream": "stdout",
       "text": [
        "\n",
        "/Users/doris/Desktop/GSoC2014/workarea-rc3-project/border_algorithm/g/raw"
       ]
      },
      {
       "output_type": "stream",
       "stream": "stdout",
       "text": [
        "\n",
        "Creating mosaic for  g band.\n",
        "Reprojecting images"
       ]
      },
      {
       "output_type": "stream",
       "stream": "stdout",
       "text": [
        "\n",
        "Completed Mosaic for g"
       ]
      },
      {
       "output_type": "stream",
       "stream": "stdout",
       "text": [
        "\n",
        "/Users/doris/Desktop/GSoC2014/workarea-rc3-project/border_algorithm/r/raw"
       ]
      },
      {
       "output_type": "stream",
       "stream": "stdout",
       "text": [
        "\n",
        "Creating mosaic for  r band.\n",
        "Reprojecting images"
       ]
      },
      {
       "output_type": "stream",
       "stream": "stdout",
       "text": [
        "\n",
        "Completed Mosaic for r"
       ]
      },
      {
       "output_type": "stream",
       "stream": "stdout",
       "text": [
        "\n",
        "/Users/doris/Desktop/GSoC2014/workarea-rc3-project/border_algorithm/i/raw"
       ]
      },
      {
       "output_type": "stream",
       "stream": "stdout",
       "text": [
        "\n",
        "Creating mosaic for  i band.\n",
        "Reprojecting images"
       ]
      },
      {
       "output_type": "stream",
       "stream": "stdout",
       "text": [
        "\n",
        "Completed Mosaic for i"
       ]
      },
      {
       "output_type": "stream",
       "stream": "stdout",
       "text": [
        "\n",
        "/Users/doris/Desktop/GSoC2014/workarea-rc3-project/border_algorithm/z/raw"
       ]
      },
      {
       "output_type": "stream",
       "stream": "stdout",
       "text": [
        "\n",
        "Creating mosaic for  z band.\n",
        "Reprojecting images"
       ]
      },
      {
       "output_type": "stream",
       "stream": "stdout",
       "text": [
        "\n",
        "Completed Mosaic for z"
       ]
      },
      {
       "ename": "NameError",
       "evalue": "name 'run' is not defined",
       "output_type": "pyerr",
       "traceback": [
        "\u001b[0;31m---------------------------------------------------------------------------\u001b[0m\n\u001b[0;31mNameError\u001b[0m                                 Traceback (most recent call last)",
        "\u001b[0;32m<ipython-input-125-643a270a61dd>\u001b[0m in \u001b[0;36m<module>\u001b[0;34m()\u001b[0m\n\u001b[1;32m     31\u001b[0m     \u001b[0mos\u001b[0m\u001b[0;34m.\u001b[0m\u001b[0mchdir\u001b[0m\u001b[0;34m(\u001b[0m\u001b[0;34m\"../..\"\u001b[0m\u001b[0;34m)\u001b[0m\u001b[0;34m\u001b[0m\u001b[0m\n\u001b[1;32m     32\u001b[0m \u001b[0;31m# Superimposing R,G,B image mosaics into TIFF using STIFF\u001b[0m\u001b[0;34m\u001b[0m\u001b[0;34m\u001b[0m\u001b[0m\n\u001b[0;32m---> 33\u001b[0;31m \u001b[0mos\u001b[0m\u001b[0;34m.\u001b[0m\u001b[0msystem\u001b[0m\u001b[0;34m(\u001b[0m\u001b[0;34m\"stiff \"\u001b[0m\u001b[0;34m+\u001b[0m\u001b[0;34m\" SDSS_frame-\"\u001b[0m\u001b[0;34m+\u001b[0m\u001b[0;34m\"i\"\u001b[0m\u001b[0;34m+\u001b[0m\u001b[0;34m\"-\"\u001b[0m\u001b[0;34m+\u001b[0m\u001b[0mstr\u001b[0m\u001b[0;34m(\u001b[0m\u001b[0mrun\u001b[0m\u001b[0;34m)\u001b[0m\u001b[0;34m.\u001b[0m\u001b[0mzfill\u001b[0m\u001b[0;34m(\u001b[0m\u001b[0;36m6\u001b[0m\u001b[0;34m)\u001b[0m\u001b[0;34m+\u001b[0m\u001b[0;34m\"-\"\u001b[0m\u001b[0;34m+\u001b[0m\u001b[0mstr\u001b[0m\u001b[0;34m(\u001b[0m\u001b[0mcamcol\u001b[0m\u001b[0;34m)\u001b[0m\u001b[0;34m+\u001b[0m\u001b[0;34m\"-\"\u001b[0m\u001b[0;34m+\u001b[0m\u001b[0mstr\u001b[0m\u001b[0;34m(\u001b[0m\u001b[0mfield\u001b[0m\u001b[0;34m)\u001b[0m\u001b[0;34m.\u001b[0m\u001b[0mzfill\u001b[0m\u001b[0;34m(\u001b[0m\u001b[0;36m4\u001b[0m\u001b[0;34m)\u001b[0m\u001b[0;34m+\u001b[0m \u001b[0;34m\".fits \"\u001b[0m\u001b[0;34m+\u001b[0m \u001b[0;34m\" SDSS_frame-\"\u001b[0m\u001b[0;34m+\u001b[0m\u001b[0;34m\"r\"\u001b[0m\u001b[0;34m+\u001b[0m\u001b[0;34m\"-\"\u001b[0m\u001b[0;34m+\u001b[0m\u001b[0mstr\u001b[0m\u001b[0;34m(\u001b[0m\u001b[0mrun\u001b[0m\u001b[0;34m)\u001b[0m\u001b[0;34m.\u001b[0m\u001b[0mzfill\u001b[0m\u001b[0;34m(\u001b[0m\u001b[0;36m6\u001b[0m\u001b[0;34m)\u001b[0m\u001b[0;34m+\u001b[0m\u001b[0;34m\"-\"\u001b[0m\u001b[0;34m+\u001b[0m\u001b[0mstr\u001b[0m\u001b[0;34m(\u001b[0m\u001b[0mcamcol\u001b[0m\u001b[0;34m)\u001b[0m\u001b[0;34m+\u001b[0m\u001b[0;34m\"-\"\u001b[0m\u001b[0;34m+\u001b[0m\u001b[0mstr\u001b[0m\u001b[0;34m(\u001b[0m\u001b[0mfield\u001b[0m\u001b[0;34m)\u001b[0m\u001b[0;34m.\u001b[0m\u001b[0mzfill\u001b[0m\u001b[0;34m(\u001b[0m\u001b[0;36m4\u001b[0m\u001b[0;34m)\u001b[0m\u001b[0;34m+\u001b[0m\u001b[0;34m\".fits \"\u001b[0m\u001b[0;34m+\u001b[0m \u001b[0;34m\" SDSS_frame-\"\u001b[0m\u001b[0;34m+\u001b[0m\u001b[0;34m\"g\"\u001b[0m\u001b[0;34m+\u001b[0m\u001b[0;34m\"-\"\u001b[0m\u001b[0;34m+\u001b[0m\u001b[0mstr\u001b[0m\u001b[0;34m(\u001b[0m\u001b[0mrun\u001b[0m\u001b[0;34m)\u001b[0m\u001b[0;34m.\u001b[0m\u001b[0mzfill\u001b[0m\u001b[0;34m(\u001b[0m\u001b[0;36m6\u001b[0m\u001b[0;34m)\u001b[0m\u001b[0;34m+\u001b[0m\u001b[0;34m\"-\"\u001b[0m\u001b[0;34m+\u001b[0m\u001b[0mstr\u001b[0m\u001b[0;34m(\u001b[0m\u001b[0mcamcol\u001b[0m\u001b[0;34m)\u001b[0m\u001b[0;34m+\u001b[0m\u001b[0;34m\"-\"\u001b[0m\u001b[0;34m+\u001b[0m\u001b[0mstr\u001b[0m\u001b[0;34m(\u001b[0m\u001b[0mfield\u001b[0m\u001b[0;34m)\u001b[0m\u001b[0;34m.\u001b[0m\u001b[0mzfill\u001b[0m\u001b[0;34m(\u001b[0m\u001b[0;36m4\u001b[0m\u001b[0;34m)\u001b[0m\u001b[0;34m+\u001b[0m\u001b[0;34m\".fits \"\u001b[0m\u001b[0;34m+\u001b[0m \u001b[0;34m\"  -c stiff.conf  \"\u001b[0m \u001b[0;34m+\u001b[0m\u001b[0;34m\"  -OUTFILE_NAME  \"\u001b[0m\u001b[0;34m+\u001b[0m\u001b[0mstr\u001b[0m\u001b[0;34m(\u001b[0m\u001b[0mtrunc\u001b[0m\u001b[0;34m(\u001b[0m\u001b[0mra\u001b[0m\u001b[0;34m)\u001b[0m\u001b[0;34m)\u001b[0m\u001b[0;34m+\u001b[0m\u001b[0;34m\"_\"\u001b[0m\u001b[0;34m+\u001b[0m\u001b[0mstr\u001b[0m\u001b[0;34m(\u001b[0m\u001b[0mtrunc\u001b[0m\u001b[0;34m(\u001b[0m\u001b[0mdec\u001b[0m\u001b[0;34m)\u001b[0m\u001b[0;34m)\u001b[0m\u001b[0;34m+\u001b[0m\u001b[0;34m\"_COLORSAT_5_MAX_MAN_3  -COLOUR_SAT  5 -MAX_TYPE MANUAL -MAX_LEVEL 3\"\u001b[0m\u001b[0;34m)\u001b[0m\u001b[0;34m\u001b[0m\u001b[0m\n\u001b[0m\u001b[1;32m     34\u001b[0m \u001b[0;31m# for b in bands:\u001b[0m\u001b[0;34m\u001b[0m\u001b[0;34m\u001b[0m\u001b[0m\n\u001b[1;32m     35\u001b[0m \u001b[0;31m#       os.system(\"rm -r \"+b+\"/\")\u001b[0m\u001b[0;34m\u001b[0m\u001b[0;34m\u001b[0m\u001b[0m\n",
        "\u001b[0;31mNameError\u001b[0m: name 'run' is not defined"
       ]
      },
      {
       "output_type": "stream",
       "stream": "stdout",
       "text": [
        "\n"
       ]
      }
     ],
     "prompt_number": 125
    },
    {
     "cell_type": "code",
     "collapsed": false,
     "input": [
      "# Superimposing R,G,B image mosaics into TIFF using STIFF\n",
      "os.system(\"stiff \"+\" SDSS_frame-\"+\"i\"+\"-\"+str(run).zfill(6)+\"-\"+str(camcol)+\"-\"+str(field).zfill(4)+ \".fits \"+ \" SDSS_frame-\"+\"r\"+\"-\"+str(run).zfill(6)+\"-\"+str(camcol)+\"-\"+str(field).zfill(4)+\".fits \"+ \" SDSS_frame-\"+\"g\"+\"-\"+str(run).zfill(6)+\"-\"+str(camcol)+\"-\"+str(field).zfill(4)+\".fits \"+ \"  -c stiff.conf  \" +\"  -OUTFILE_NAME  \"+str(floor(ra))+\"_\"+str(floor(dec))+\"_COLORSAT_5_MAX_MAN_3  -COLOUR_SAT  5 -MAX_TYPE MANUAL -MAX_LEVEL 3\")\n",
      "# for b in bands:\n",
      "# \tos.system(\"rm -r \"+b+\"/\")\n",
      "\t#we want to keep the fit files, but for testing purposes Python will throw file-already-exist error , if we dont delete them.\n",
      "\t#os.system(\"rm -r \" + \"SDSS_frame-\"+b+\"-\"+str(run).zfill(6)+\"-\"+str(camcol)+\"-\"+str(field).zfill(4)+ \".fits\" )\n",
      "if (DEBUG) : print (\"Completed Mosaic\")"
     ],
     "language": "python",
     "metadata": {},
     "outputs": []
    },
    {
     "cell_type": "markdown",
     "metadata": {},
     "source": [
      "The final fit files are named after the last field, run,camcol that you get "
     ]
    },
    {
     "cell_type": "code",
     "collapsed": false,
     "input": [
      "from math import trunc \n",
      "bands=['u','g','r','i','z']\n",
      "for ele in bands:\n",
      "    band =ele\n",
      "    os.mkdir(band)\n",
      "    os.chdir(band)\n",
      "    os.mkdir (\"raw\")\n",
      "    os.mkdir (\"projected\")\n",
      "    os.chdir(\"raw\")\n",
      "    for i in data :  \n",
      "        out = \"frame-\"+str(band)+\"-\"+str(i[0]).zfill(6)+\"-\"+str(i[1])+\"-\"+str(i[2]).zfill(4)\n",
      "        os.system(\"wget http://data.sdss3.org/sas/dr10/boss/photoObj/frames/301/\"+str(i[0])+\"/\"+ str(i[1]) +\"/\"+out+\".fits.bz2\")\n",
      "        os.system(\"bunzip2 \"+out+\".fits.bz2\")\n",
      "    print (os.getcwd())\n",
      "    os.chdir(\"../\")\n",
      "    if (DEBUG) : print(\"Creating mosaic for \" +\" \"+ band + \" band.\")\n",
      "    montage.mImgtbl(\"raw\",\"images.tbl\")\n",
      "    montage.mHdr(str(ra)+\" \"+str(dec),radius,out+\".hdr\")\n",
      "    if (DEBUG): print (\"Reprojecting images\")\n",
      "\t#Sometimes you can't find the files and result in images.tbl => empty doc\n",
      "\t#need to put data file inside raw AND unzip it so that Montage detect that it is a fit file\n",
      "    os.chdir(\"raw\")\n",
      "    montage.mProjExec(\"../images.tbl\",\"../\"+out+\".hdr\",\"../projected\", \"../stats.tbl\") \n",
      "    os.chdir(\"..\")\n",
      "    montage.mImgtbl(\"projected\",\"pimages.tbl\")\n",
      "\t#mAdd coadds the reprojected images using the FITS header template and mImgtbl list.\n",
      "    os.chdir(\"projected\")\n",
      "    montage.mAdd(\"../pimages.tbl\",\"../\"+out+\".hdr\",\"SDSS_\"+out+\".fits\")\n",
      "    montage.mSubimage(\"SDSS_\"+out+\".fits\",\"SDSS_\"+ele+\"_\"+str(trunc(ra))+\"_\"+str(trunc(dec))+\".fits\",ra,dec,0.05)\n",
      "    shutil.move(\"SDSS_\"+ele+\"_\"+str(trunc(ra))+\"_\"+str(trunc(dec))+\".fits\",os.getcwd()[:-11] )#if change to :-11 then move out of u,g,r,i,z directory, may be more convenient for mJPEG\n",
      "    if (DEBUG) : print (\"Completed Mosaic for \" + band)\n",
      "    os.chdir(\"../..\")\n",
      "# Superimposing R,G,B image mosaics into TIFF using STIFF\n",
      "os.system(\"stiff \"+\" SDSS_i_\"+str(trunc(ra))+\"_\"+str(trunc(dec))+ \".fits \"+ \" SDSS_r_\"+str(trunc(ra))+\"_\"+str(trunc(dec))+ \".fits \"+\" SDSS_g_\"+str(trunc(ra))+\"_\"+str(trunc(dec))+ \".fits \"+ \"  -c stiff.conf  \" +\"  -OUTFILE_NAME  \"+str(trunc(ra))+\"_\"+str(trunc(dec))+\"_COLORSAT_5_MAX_MAN_3  -COLOUR_SAT  5 -MAX_TYPE MANUAL -MAX_LEVEL 3\")\n",
      "# for b in bands:\n",
      "# \tos.system(\"rm -r \"+b+\"/\")\n",
      "\t#we want to keep the fit files, but for testing purposes Python will throw file-already-exist error , if we dont delete them.\n",
      "\t#os.system(\"rm -r \" + \"SDSS_frame-\"+b+\"-\"+str(run).zfill(6)+\"-\"+str(camcol)+\"-\"+str(field).zfill(4)+ \".fits\" )\n",
      "if (DEBUG) : print (\"Completed Mosaic\")\n",
      "    "
     ],
     "language": "python",
     "metadata": {},
     "outputs": [
      {
       "output_type": "stream",
       "stream": "stdout",
       "text": [
        "/Users/doris/Desktop/GSoC2014/workarea-rc3-project/border_algorithm/u/raw\n",
        "Creating mosaic for  u band.\n",
        "Reprojecting images"
       ]
      },
      {
       "output_type": "stream",
       "stream": "stdout",
       "text": [
        "\n",
        "Completed Mosaic for u"
       ]
      },
      {
       "output_type": "stream",
       "stream": "stdout",
       "text": [
        "\n",
        "/Users/doris/Desktop/GSoC2014/workarea-rc3-project/border_algorithm/g/raw"
       ]
      },
      {
       "output_type": "stream",
       "stream": "stdout",
       "text": [
        "\n",
        "Creating mosaic for  g band.\n",
        "Reprojecting images"
       ]
      },
      {
       "output_type": "stream",
       "stream": "stdout",
       "text": [
        "\n",
        "Completed Mosaic for g"
       ]
      },
      {
       "output_type": "stream",
       "stream": "stdout",
       "text": [
        "\n",
        "/Users/doris/Desktop/GSoC2014/workarea-rc3-project/border_algorithm/r/raw"
       ]
      },
      {
       "output_type": "stream",
       "stream": "stdout",
       "text": [
        "\n",
        "Creating mosaic for  r band.\n",
        "Reprojecting images"
       ]
      },
      {
       "output_type": "stream",
       "stream": "stdout",
       "text": [
        "\n",
        "Completed Mosaic for r"
       ]
      },
      {
       "output_type": "stream",
       "stream": "stdout",
       "text": [
        "\n",
        "/Users/doris/Desktop/GSoC2014/workarea-rc3-project/border_algorithm/i/raw"
       ]
      },
      {
       "output_type": "stream",
       "stream": "stdout",
       "text": [
        "\n",
        "Creating mosaic for  i band.\n",
        "Reprojecting images"
       ]
      },
      {
       "output_type": "stream",
       "stream": "stdout",
       "text": [
        "\n",
        "Completed Mosaic for i"
       ]
      },
      {
       "output_type": "stream",
       "stream": "stdout",
       "text": [
        "\n",
        "/Users/doris/Desktop/GSoC2014/workarea-rc3-project/border_algorithm/z/raw"
       ]
      },
      {
       "output_type": "stream",
       "stream": "stdout",
       "text": [
        "\n",
        "Creating mosaic for  z band.\n",
        "Reprojecting images"
       ]
      },
      {
       "output_type": "stream",
       "stream": "stdout",
       "text": [
        "\n",
        "Completed Mosaic for z"
       ]
      },
      {
       "output_type": "stream",
       "stream": "stdout",
       "text": [
        "\n",
        "Completed Mosaic\n"
       ]
      }
     ],
     "prompt_number": 124
    },
    {
     "cell_type": "code",
     "collapsed": false,
     "input": [
      "SDSS_frame-i-005116-6-0153\n",
      "frame-i-005116-6-0153"
     ],
     "language": "python",
     "metadata": {},
     "outputs": []
    },
    {
     "cell_type": "code",
     "collapsed": false,
     "input": [
      "change radius in mSubImage later"
     ],
     "language": "python",
     "metadata": {},
     "outputs": []
    },
    {
     "cell_type": "code",
     "collapsed": false,
     "input": [
      "mkdir testfinal\n"
     ],
     "language": "python",
     "metadata": {},
     "outputs": [],
     "prompt_number": 126
    },
    {
     "cell_type": "code",
     "collapsed": false,
     "input": [
      "ls\n"
     ],
     "language": "python",
     "metadata": {},
     "outputs": [
      {
       "output_type": "stream",
       "stream": "stdout",
       "text": [
        "193.0_26.0_COLORSAT_5_MAX_MAN_3  SDSS_frame-u-005116-6-0153.fits  \u001b[34mr\u001b[m\u001b[m/\r\n",
        "193_26_COLORSAT_5_MAX_MAN_3      SDSS_frame-z-005116-6-0153.fits  rc3_border.py\r\n",
        "SDSS_frame-g-005116-6-0153.fits  border_algorithm.py              \u001b[34mtestfinal\u001b[m\u001b[m/\r\n",
        "SDSS_frame-i-005116-6-0153.fits  \u001b[34mg\u001b[m\u001b[m/                               \u001b[34mu\u001b[m\u001b[m/\r\n",
        "SDSS_frame-r-005116-6-0153.fits  \u001b[34mi\u001b[m\u001b[m/                               \u001b[34mz\u001b[m\u001b[m/\r\n"
       ]
      }
     ],
     "prompt_number": 127
    },
    {
     "cell_type": "code",
     "collapsed": false,
     "input": [
      "cd testfinal/"
     ],
     "language": "python",
     "metadata": {},
     "outputs": [
      {
       "output_type": "stream",
       "stream": "stdout",
       "text": [
        "/Users/doris/Desktop/GSoC2014/workarea-rc3-project/border_algorithm/testfinal\n"
       ]
      }
     ],
     "prompt_number": 128
    },
    {
     "cell_type": "code",
     "collapsed": false,
     "input": [
      "from math import trunc \n",
      "bands=['u','g','r','i','z']\n",
      "for ele in bands:\n",
      "    band =ele\n",
      "    os.mkdir(band)\n",
      "    os.chdir(band)\n",
      "    os.mkdir (\"raw\")\n",
      "    os.mkdir (\"projected\")\n",
      "    os.chdir(\"raw\")\n",
      "    for i in data :  \n",
      "        out = \"frame-\"+str(band)+\"-\"+str(i[0]).zfill(6)+\"-\"+str(i[1])+\"-\"+str(i[2]).zfill(4)\n",
      "        os.system(\"wget http://data.sdss3.org/sas/dr10/boss/photoObj/frames/301/\"+str(i[0])+\"/\"+ str(i[1]) +\"/\"+out+\".fits.bz2\")\n",
      "        os.system(\"bunzip2 \"+out+\".fits.bz2\")\n",
      "    print (os.getcwd())\n",
      "    os.chdir(\"../\")\n",
      "    if (DEBUG) : print(\"Creating mosaic for \" +\" \"+ band + \" band.\")\n",
      "    montage.mImgtbl(\"raw\",\"images.tbl\")\n",
      "    montage.mHdr(str(ra)+\" \"+str(dec),radius,out+\".hdr\")\n",
      "    if (DEBUG): print (\"Reprojecting images\")\n",
      "\t#Sometimes you can't find the files and result in images.tbl => empty doc\n",
      "\t#need to put data file inside raw AND unzip it so that Montage detect that it is a fit file\n",
      "    os.chdir(\"raw\")\n",
      "    montage.mProjExec(\"../images.tbl\",\"../\"+out+\".hdr\",\"../projected\", \"../stats.tbl\") \n",
      "    os.chdir(\"..\")\n",
      "    montage.mImgtbl(\"projected\",\"pimages.tbl\")\n",
      "\t#mAdd coadds the reprojected images using the FITS header template and mImgtbl list.\n",
      "    os.chdir(\"projected\")\n",
      "    montage.mAdd(\"../pimages.tbl\",\"../\"+out+\".hdr\",\"SDSS_\"+out+\".fits\")\n",
      "    montage.mSubimage(\"SDSS_\"+out+\".fits\",\"SDSS_\"+ele+\"_\"+str(trunc(ra))+\"_\"+str(trunc(dec))+\".fits\",ra,dec,0.05)\n",
      "    shutil.move(\"SDSS_\"+ele+\"_\"+str(trunc(ra))+\"_\"+str(trunc(dec))+\".fits\",os.getcwd()[:-11] )#if change to :-11 then move out of u,g,r,i,z directory, may be more convenient for mJPEG\n",
      "    if (DEBUG) : print (\"Completed Mosaic for \" + band)\n",
      "    os.chdir(\"../..\")\n",
      "# Superimposing R,G,B image mosaics into TIFF using STIFF\n",
      "os.system(\"stiff \"+\" SDSS_i_\"+str(trunc(ra))+\"_\"+str(trunc(dec))+ \".fits \"+ \" SDSS_r_\"+str(trunc(ra))+\"_\"+str(trunc(dec))+ \".fits \"+\" SDSS_g_\"+str(trunc(ra))+\"_\"+str(trunc(dec))+ \".fits \"+ \"  -c stiff.conf  \" +\"  -OUTFILE_NAME  \"+str(trunc(ra))+\"_\"+str(trunc(dec))+\"_COLORSAT_5_MAX_MAN_3  -COLOUR_SAT  5 -MAX_TYPE MANUAL -MAX_LEVEL 3\")\n",
      "# for b in bands:\n",
      "# \tos.system(\"rm -r \"+b+\"/\")\n",
      "\t#we want to keep the fit files, but for testing purposes Python will throw file-already-exist error , if we dont delete them.\n",
      "\t#os.system(\"rm -r \" + \"SDSS_frame-\"+b+\"-\"+str(run).zfill(6)+\"-\"+str(camcol)+\"-\"+str(field).zfill(4)+ \".fits\" )\n",
      "if (DEBUG) : print (\"Completed Mosaic\")"
     ],
     "language": "python",
     "metadata": {},
     "outputs": [
      {
       "output_type": "stream",
       "stream": "stdout",
       "text": [
        "/Users/doris/Desktop/GSoC2014/workarea-rc3-project/border_algorithm/testfinal/u/raw\n",
        "Creating mosaic for  u band.\n",
        "Reprojecting images"
       ]
      },
      {
       "output_type": "stream",
       "stream": "stdout",
       "text": [
        "\n",
        "Completed Mosaic for u"
       ]
      },
      {
       "output_type": "stream",
       "stream": "stdout",
       "text": [
        "\n",
        "/Users/doris/Desktop/GSoC2014/workarea-rc3-project/border_algorithm/testfinal/g/raw"
       ]
      },
      {
       "output_type": "stream",
       "stream": "stdout",
       "text": [
        "\n",
        "Creating mosaic for  g band.\n",
        "Reprojecting images"
       ]
      },
      {
       "output_type": "stream",
       "stream": "stdout",
       "text": [
        "\n",
        "Completed Mosaic for g"
       ]
      },
      {
       "output_type": "stream",
       "stream": "stdout",
       "text": [
        "\n",
        "/Users/doris/Desktop/GSoC2014/workarea-rc3-project/border_algorithm/testfinal/r/raw"
       ]
      },
      {
       "output_type": "stream",
       "stream": "stdout",
       "text": [
        "\n",
        "Creating mosaic for  r band.\n",
        "Reprojecting images"
       ]
      },
      {
       "output_type": "stream",
       "stream": "stdout",
       "text": [
        "\n",
        "Completed Mosaic for r"
       ]
      },
      {
       "output_type": "stream",
       "stream": "stdout",
       "text": [
        "\n",
        "/Users/doris/Desktop/GSoC2014/workarea-rc3-project/border_algorithm/testfinal/i/raw"
       ]
      },
      {
       "output_type": "stream",
       "stream": "stdout",
       "text": [
        "\n",
        "Creating mosaic for  i band.\n",
        "Reprojecting images"
       ]
      },
      {
       "output_type": "stream",
       "stream": "stdout",
       "text": [
        "\n",
        "Completed Mosaic for i"
       ]
      },
      {
       "output_type": "stream",
       "stream": "stdout",
       "text": [
        "\n",
        "/Users/doris/Desktop/GSoC2014/workarea-rc3-project/border_algorithm/testfinal/z/raw"
       ]
      },
      {
       "output_type": "stream",
       "stream": "stdout",
       "text": [
        "\n",
        "Creating mosaic for  z band.\n",
        "Reprojecting images"
       ]
      },
      {
       "output_type": "stream",
       "stream": "stdout",
       "text": [
        "\n",
        "Completed Mosaic for z"
       ]
      },
      {
       "output_type": "stream",
       "stream": "stdout",
       "text": [
        "\n",
        "Completed Mosaic\n"
       ]
      }
     ],
     "prompt_number": 129
    },
    {
     "cell_type": "code",
     "collapsed": false,
     "input": [
      "Image(\"4_6_COLORSAT_5_MAX_MAN_3.jpg\")"
     ],
     "language": "python",
     "metadata": {},
     "outputs": [
      {
       "jpeg": "[encoded data removed]",
       "metadata": {},
       "output_type": "pyout",
       "prompt_number": 134,
       "text": [
        "<IPython.core.display.Image at 0x1053607d0>"
       ]
      }
     ],
     "prompt_number": 134
    },
    {
     "cell_type": "markdown",
     "metadata": {},
     "source": [
      "The color of the galaxy looks kind of weird . Might have to adjust the color_sat again"
     ]
    },
    {
     "cell_type": "code",
     "collapsed": false,
     "input": [
      "stiff SDSS_i_4_6.fits SDSS_r_4_6.fits SDSS_g_4_6.fits  -c stiff.conf  -OUTFILE_NAME  COLORSAT_4_MAX_MAN_3  -COLOUR_SAT  4 -MAX_TYPE MANUAL -MAX_LEVEL 3"
     ],
     "language": "python",
     "metadata": {},
     "outputs": []
    },
    {
     "cell_type": "code",
     "collapsed": false,
     "input": [
      "stiff SDSS_i_4_6.fits SDSS_r_4_6.fits SDSS_g_4_6.fits  -c stiff.conf  -OUTFILE_NAME  COLORSAT_3_MAX_MAN_2  -COLOUR_SAT  3 -MAX_TYPE MANUAL -MAX_LEVEL 2"
     ],
     "language": "python",
     "metadata": {},
     "outputs": []
    },
    {
     "cell_type": "code",
     "collapsed": false,
     "input": [
      "stiff SDSS_i_4_6.fits SDSS_r_4_6.fits SDSS_g_4_6.fits  -c stiff.conf  -OUTFILE_NAME  COLORSAT_2_MAX_MAN_2  -COLOUR_SAT  2 -MAX_TYPE MANUAL -MAX_LEVEL 2"
     ],
     "language": "python",
     "metadata": {},
     "outputs": []
    },
    {
     "cell_type": "code",
     "collapsed": false,
     "input": [
      "stiff SDSS_i_4_6.fits SDSS_r_4_6.fits SDSS_g_4_6.fits  "
     ],
     "language": "python",
     "metadata": {},
     "outputs": []
    },
    {
     "cell_type": "markdown",
     "metadata": {},
     "source": [
      "Using the default setting, the blue color finally came back."
     ]
    },
    {
     "cell_type": "code",
     "collapsed": false,
     "input": [
      "Image(\"stiff.jpg\")"
     ],
     "language": "python",
     "metadata": {},
     "outputs": [
      {
       "jpeg": "[encoded data removed]",
       "metadata": {},
       "output_type": "pyout",
       "prompt_number": 135,
       "text": [
        "<IPython.core.display.Image at 0x105360610>"
       ]
      }
     ],
     "prompt_number": 135
    },
    {
     "cell_type": "code",
     "collapsed": false,
     "input": [],
     "language": "python",
     "metadata": {},
     "outputs": []
    }
   ],
   "metadata": {}
  }
 ]
}