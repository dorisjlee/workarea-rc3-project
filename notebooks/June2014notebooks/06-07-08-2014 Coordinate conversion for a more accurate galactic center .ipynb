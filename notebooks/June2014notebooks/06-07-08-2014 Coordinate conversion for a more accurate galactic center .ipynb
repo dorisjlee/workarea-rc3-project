{
 "metadata": {
  "name": ""
 },
 "nbformat": 3,
 "nbformat_minor": 0,
 "worksheets": [
  {
   "cells": [
    {
     "cell_type": "heading",
     "level": 2,
     "metadata": {},
     "source": [
      "Installation"
     ]
    },
    {
     "cell_type": "code",
     "collapsed": false,
     "input": [
      "import astropy\n",
      "from astropy.coordinates import *\n",
      "from astropy import units as u"
     ],
     "language": "python",
     "metadata": {},
     "outputs": [],
     "prompt_number": 5
    },
    {
     "cell_type": "code",
     "collapsed": false,
     "input": [
      "from astropy.coordinates import FK5"
     ],
     "language": "python",
     "metadata": {},
     "outputs": [],
     "prompt_number": 6
    },
    {
     "cell_type": "code",
     "collapsed": false,
     "input": [
      "from astropy.coordinate import SkyCoord"
     ],
     "language": "python",
     "metadata": {},
     "outputs": [
      {
       "ename": "ImportError",
       "evalue": "No module named 'astropy.coordinate'",
       "output_type": "pyerr",
       "traceback": [
        "\u001b[0;31m---------------------------------------------------------------------------\u001b[0m\n\u001b[0;31mImportError\u001b[0m                               Traceback (most recent call last)",
        "\u001b[0;32m<ipython-input-7-c2ec6c6cbffd>\u001b[0m in \u001b[0;36m<module>\u001b[0;34m()\u001b[0m\n\u001b[0;32m----> 1\u001b[0;31m \u001b[0;32mfrom\u001b[0m \u001b[0mastropy\u001b[0m\u001b[0;34m.\u001b[0m\u001b[0mcoordinate\u001b[0m \u001b[0;32mimport\u001b[0m \u001b[0mSkyCoord\u001b[0m\u001b[0;34m\u001b[0m\u001b[0m\n\u001b[0m",
        "\u001b[0;31mImportError\u001b[0m: No module named 'astropy.coordinate'"
       ]
      }
     ],
     "prompt_number": 7
    },
    {
     "cell_type": "markdown",
     "metadata": {},
     "source": [
      "I did python -c \"import astropy; print (astropy.__version__)\" and found out my astropy is version 0.3 and the latest release is 0.4 already. According to the old v0.3 doc, the coordinate package has changed alot. So I need to update to  the latest version of astropy .\n",
      "http://astropy.readthedocs.org/en/v0.3/coordinates/index.html"
     ]
    },
    {
     "cell_type": "markdown",
     "metadata": {},
     "source": [
      "Use the latest v0.4 documentation : http://docs.astropy.org/en/latest/coordinates/index.html"
     ]
    },
    {
     "cell_type": "code",
     "collapsed": false,
     "input": [
      "import astropy; print (astropy.__version__)"
     ],
     "language": "python",
     "metadata": {},
     "outputs": []
    },
    {
     "cell_type": "code",
     "collapsed": false,
     "input": [
      "pip install --upgrade  astropy"
     ],
     "language": "python",
     "metadata": {},
     "outputs": []
    },
    {
     "cell_type": "markdown",
     "metadata": {},
     "source": [
      "After update and running that command again, its says 0.3.2  but not 0.4? \n",
      "acccording to Cedair's suggestion on IRC I might have to use the github build version "
     ]
    },
    {
     "cell_type": "markdown",
     "metadata": {},
     "source": [
      "So I git cloned the astropy repo from GitHub and cd into the directory and did \"python setup.py install\""
     ]
    },
    {
     "cell_type": "code",
     "collapsed": false,
     "input": [
      "import astropy"
     ],
     "language": "python",
     "metadata": {},
     "outputs": [],
     "prompt_number": 1
    },
    {
     "cell_type": "code",
     "collapsed": false,
     "input": [
      "astropy.__version__"
     ],
     "language": "python",
     "metadata": {},
     "outputs": [
      {
       "metadata": {},
       "output_type": "pyout",
       "prompt_number": 2,
       "text": [
        "'0.4.dev9073'"
       ]
      }
     ],
     "prompt_number": 2
    },
    {
     "cell_type": "heading",
     "level": 2,
     "metadata": {},
     "source": [
      "Equinox transform (B2000-->J2000) and compare result with NED"
     ]
    },
    {
     "cell_type": "code",
     "collapsed": false,
     "input": [
      "from astropy.coordinates import SkyCoord\n",
      "from astropy import units as u"
     ],
     "language": "python",
     "metadata": {},
     "outputs": [],
     "prompt_number": 5
    },
    {
     "cell_type": "code",
     "collapsed": false,
     "input": [
      "c = SkyCoord(ra=7.3125*u.degree, dec=2.86527777778*u.degree, frame='fk5',equinox = \"B2000\") "
     ],
     "language": "python",
     "metadata": {},
     "outputs": [],
     "prompt_number": 23
    },
    {
     "cell_type": "markdown",
     "metadata": {},
     "source": [
      "If no specify equinox param then J2000 by default."
     ]
    },
    {
     "cell_type": "code",
     "collapsed": false,
     "input": [
      "c.to_string('decimal')"
     ],
     "language": "python",
     "metadata": {},
     "outputs": [
      {
       "metadata": {},
       "output_type": "pyout",
       "prompt_number": 25,
       "text": [
        "'7.3125 2.86528'"
       ]
      }
     ],
     "prompt_number": 25
    },
    {
     "cell_type": "code",
     "collapsed": false,
     "input": [
      "c.to_string('hmsdms') #this might be able to replace the functionality of readfile.py"
     ],
     "language": "python",
     "metadata": {},
     "outputs": [
      {
       "metadata": {},
       "output_type": "pyout",
       "prompt_number": 26,
       "text": [
        "'00h29m15s +02d51m55s'"
       ]
      }
     ],
     "prompt_number": 26
    },
    {
     "cell_type": "markdown",
     "metadata": {},
     "source": [
      "If you defined coordinate frame, then now you can transform between coordinate frame "
     ]
    },
    {
     "cell_type": "code",
     "collapsed": false,
     "input": [
      "from astropy.coordinates import FK5"
     ],
     "language": "python",
     "metadata": {},
     "outputs": [],
     "prompt_number": 80
    },
    {
     "cell_type": "code",
     "collapsed": false,
     "input": [
      "c.galactic"
     ],
     "language": "python",
     "metadata": {},
     "outputs": [
      {
       "metadata": {},
       "output_type": "pyout",
       "prompt_number": 28,
       "text": [
        "<SkyCoord (Galactic): l=111.95591716137199 deg, b=-59.53270107309892 deg>"
       ]
      }
     ],
     "prompt_number": 28
    },
    {
     "cell_type": "code",
     "collapsed": false,
     "input": [
      "c.transform_to(FK5(equinox = \"J2000\"))"
     ],
     "language": "python",
     "metadata": {},
     "outputs": [
      {
       "metadata": {},
       "output_type": "pyout",
       "prompt_number": 30,
       "text": [
        "<SkyCoord (FK5): equinox=J2000.000, ra=7.312516411900507 deg, dec=2.8652848319458597 deg>"
       ]
      }
     ],
     "prompt_number": 30
    },
    {
     "cell_type": "heading",
     "level": 2,
     "metadata": {},
     "source": [
      "NGC 0309"
     ]
    },
    {
     "cell_type": "heading",
     "level": 5,
     "metadata": {},
     "source": [
      "NGC 0309                       Ra = 00h56m42.6s , Dec = -09d54m50s"
     ]
    },
    {
     "cell_type": "code",
     "collapsed": false,
     "input": [
      "NED_NGC0309 = SkyCoord('00h56m42.660s','-09d54m49.92s',frame='fk5',equinox = \"J2000\") #result from NED"
     ],
     "language": "python",
     "metadata": {},
     "outputs": [],
     "prompt_number": 125
    },
    {
     "cell_type": "code",
     "collapsed": false,
     "input": [
      "NED_NGC0309"
     ],
     "language": "python",
     "metadata": {},
     "outputs": [
      {
       "metadata": {},
       "output_type": "pyout",
       "prompt_number": 132,
       "text": [
        "<SkyCoord (FK5): equinox=J2000.000, ra=14.17775 deg, dec=-9.913866666666667 deg>"
       ]
      }
     ],
     "prompt_number": 132
    },
    {
     "cell_type": "raw",
     "metadata": {},
     "source": [
      "Compare with result from readfile.py : 14.1779166667     -9.91416666667     0.0527046277749"
     ]
    },
    {
     "cell_type": "code",
     "collapsed": false,
     "input": [
      "NGC0309 = SkyCoord(ra =14.1779166667 *u.degree ,dec= -9.91416666667*u.degree, frame= 'fk5',equinox = \"B2000\")"
     ],
     "language": "python",
     "metadata": {},
     "outputs": [],
     "prompt_number": 133
    },
    {
     "cell_type": "code",
     "collapsed": false,
     "input": [
      "NGC0309.to_string(\"hmsdms\")"
     ],
     "language": "python",
     "metadata": {},
     "outputs": [
      {
       "metadata": {},
       "output_type": "pyout",
       "prompt_number": 134,
       "text": [
        "'00h56m42.7s -09d54m51s'"
       ]
      }
     ],
     "prompt_number": 134
    },
    {
     "cell_type": "code",
     "collapsed": false,
     "input": [
      "NGC0309"
     ],
     "language": "python",
     "metadata": {},
     "outputs": [
      {
       "metadata": {},
       "output_type": "pyout",
       "prompt_number": 135,
       "text": [
        "<SkyCoord (FK5): equinox=B2000.000, ra=14.1779166667 deg, dec=-9.91416666667 deg>"
       ]
      }
     ],
     "prompt_number": 135
    },
    {
     "cell_type": "code",
     "collapsed": false,
     "input": [
      "#NGC0309.transform_to(\"J2000\")"
     ],
     "language": "python",
     "metadata": {},
     "outputs": [],
     "prompt_number": 136
    },
    {
     "cell_type": "code",
     "collapsed": false,
     "input": [
      "NGC0309.transform_to(FK5(equinox =\"J2000\"))"
     ],
     "language": "python",
     "metadata": {},
     "outputs": [
      {
       "metadata": {},
       "output_type": "pyout",
       "prompt_number": 137,
       "text": [
        "<SkyCoord (FK5): equinox=J2000.000, ra=14.177932728806583 deg, dec=-9.914159771304208 deg>"
       ]
      }
     ],
     "prompt_number": 137
    },
    {
     "cell_type": "markdown",
     "metadata": {},
     "source": [
      "So this is not the way, it didn't actually become better."
     ]
    },
    {
     "cell_type": "markdown",
     "metadata": {},
     "source": [
      "readfile.py : 153.384583333     20.1730555556    (diameter =0.0252260208577)"
     ]
    },
    {
     "cell_type": "markdown",
     "metadata": {},
     "source": [
      "Since I am having trouble trying to search the original catalogue from ra dec value since precision loss due to truncation. So I am just going to match the line number on rc3.txt and rc3_ra_dec(final).txt which correspond to the desired galaxy."
     ]
    },
    {
     "cell_type": "markdown",
     "metadata": {},
     "source": [
      "line 1133 :005642.7 -095451 005411.8 -101103 127.31 -72.74 287.01  -3.07 NGC   309    MCG -2- 3- 50  IRAS00542-1010 PGC 3377    .SXR5.. R      5.0  .3  1.3  .5 3 1.48  .02  .08  .03 1.50 1.17 .01     12.50  .13 12.13 .28 12.11 14.57  .19 13.84 .03 12.11 14.12 .1  .56 .01  .62 .01  .46  -.07 .03  .04 .03 -.14  1.97  .12 .04  .17 221  7 203  5  5662  5  5649  66  5708  5348"
     ]
    },
    {
     "cell_type": "code",
     "collapsed": false,
     "input": [
      "line = \"005642.7 -095451 005411.8 -101103 127.31 -72.74 287.01  -3.07 NGC   309    MCG -2- 3- 50  IRAS00542-1010 PGC 3377    .SXR5.. R      5.0  .3  1.3  .5 3 1.48  .02  .08  .03 1.50 1.17 .01     12.50  .13 12.13 .28 12.11 14.57  .19 13.84 .03 12.11 14.12 .1  .56 .01  .62 .01  .46  -.07 .03  .04 .03 -.14  1.97  .12 .04  .17 221  7 203  5  5662  5  5649  66  5708  5348\""
     ],
     "language": "python",
     "metadata": {},
     "outputs": [],
     "prompt_number": 138
    },
    {
     "cell_type": "markdown",
     "metadata": {},
     "source": [
      "according to http://cdsarc.u-strasbg.fr/viz-bin/Cat?VII/155, the first few bytes are B2000"
     ]
    },
    {
     "cell_type": "code",
     "collapsed": false,
     "input": [
      "c= SkyCoord((line[0:2])+'h'+(line[2:4]) +'m'+(line[4:8])+'s','-'+(line[10:12])+'d'+ (line[12:14])+'m'+(line[14:16])+'s',frame='fk5',equinox = \"B2000\")"
     ],
     "language": "python",
     "metadata": {},
     "outputs": [],
     "prompt_number": 139
    },
    {
     "cell_type": "code",
     "collapsed": false,
     "input": [
      "c"
     ],
     "language": "python",
     "metadata": {},
     "outputs": [
      {
       "metadata": {},
       "output_type": "pyout",
       "prompt_number": 140,
       "text": [
        "<SkyCoord (FK5): equinox=B2000.000, ra=14.177916666666665 deg, dec=-9.914166666666667 deg>"
       ]
      }
     ],
     "prompt_number": 140
    },
    {
     "cell_type": "code",
     "collapsed": false,
     "input": [
      "c.to_string('decimal')"
     ],
     "language": "python",
     "metadata": {},
     "outputs": [
      {
       "metadata": {},
       "output_type": "pyout",
       "prompt_number": 141,
       "text": [
        "'14.1779 -9.91417'"
       ]
      }
     ],
     "prompt_number": 141
    },
    {
     "cell_type": "code",
     "collapsed": false,
     "input": [
      "c.transform_to(FK5(equinox =\"J2000\"))"
     ],
     "language": "python",
     "metadata": {},
     "outputs": [
      {
       "metadata": {},
       "output_type": "pyout",
       "prompt_number": 142,
       "text": [
        "<SkyCoord (FK5): equinox=J2000.000, ra=14.177932728773246 deg, dec=-9.914159771300872 deg>"
       ]
      }
     ],
     "prompt_number": 142
    },
    {
     "cell_type": "code",
     "collapsed": false,
     "input": [
      "NED_NGC0309 = SkyCoord( '00h56m42.6s', '-09d54m50s',frame = \"fk5\",equinox =  \"J2000\")"
     ],
     "language": "python",
     "metadata": {},
     "outputs": [],
     "prompt_number": 143
    },
    {
     "cell_type": "code",
     "collapsed": false,
     "input": [
      "NED_NGC0309.to_string('decimal')"
     ],
     "language": "python",
     "metadata": {},
     "outputs": [
      {
       "metadata": {},
       "output_type": "pyout",
       "prompt_number": 144,
       "text": [
        "'14.1775 -9.91389'"
       ]
      }
     ],
     "prompt_number": 144
    },
    {
     "cell_type": "markdown",
     "metadata": {},
     "source": [
      "This coordinate transform is not working that great. I am wondering whether the coordinate frame is fk5 afterall, I don't see any documentation that says that this is fk5. Emailed NASA HEASARC to ask but no reply yet."
     ]
    },
    {
     "cell_type": "markdown",
     "metadata": {},
     "source": [
      "Result:\n",
      "\n",
      "- NED result in J2000: ra= 14.17775 deg, dec=-9.913866666666667\n",
      "- ~~NED result in Equatorial (B1950.0):   13.548892  -10.184186 00h54m11.734s -10d11m03.07s~~\n",
      "- readfile.py result in B2000 : ra=14.1779166667 deg, dec=-9.91416666667 deg\n",
      "- readfile.py result --> J2000: ra=14.177932728806583 deg, dec=-9.914159771304208 deg\n",
      "- RC3 catalog -->J2000 : ra= 14.177916666666665 deg, dec=-9.914166666666667 "
     ]
    },
    {
     "cell_type": "markdown",
     "metadata": {},
     "source": [
      "So I found out that one version of rc3.txt has first few bytes in B2000 (http://cdsarc.u-strasbg.fr/viz-bin/Cat?VII/155) and another has it already in J2000 (http://haroldcorwin.net/rc3/)"
     ]
    },
    {
     "cell_type": "markdown",
     "metadata": {},
     "source": [
      "This is the result of NGC0309 in Corwin's site (already J2000 precessed from 1950):\n",
      "\n",
      "005411.8-101103 PGC  3377       1.3  .5   1.50       .04 12.11       -.14      14.57  .19  1.97     5348"
     ]
    },
    {
     "cell_type": "code",
     "collapsed": false,
     "input": [
      "line2 =\"005411.8-101103 PGC  3377       1.3  .5   1.50       .04 12.11       -.14      14.57  .19  1.97     5348\""
     ],
     "language": "python",
     "metadata": {},
     "outputs": [],
     "prompt_number": 154
    },
    {
     "cell_type": "code",
     "collapsed": false,
     "input": [
      "c2= SkyCoord((line2[0:2])+'h'+(line2[2:4]) +'m'+(line2[4:8])+'s','-'+(line2[9:11])+'d'+ (line2[11:13])+'m'+(line[14:16])+'s',frame='fk5',equinox = \"J2000\")"
     ],
     "language": "python",
     "metadata": {},
     "outputs": [],
     "prompt_number": 155
    },
    {
     "cell_type": "code",
     "collapsed": false,
     "input": [
      "c2.to_string(\"hmsdms\")"
     ],
     "language": "python",
     "metadata": {},
     "outputs": [
      {
       "metadata": {},
       "output_type": "pyout",
       "prompt_number": 156,
       "text": [
        "'00h54m11.8s -10d11m03s'"
       ]
      }
     ],
     "prompt_number": 156
    },
    {
     "cell_type": "code",
     "collapsed": false,
     "input": [
      "c2.to_string(\"decimal\")"
     ],
     "language": "python",
     "metadata": {},
     "outputs": [
      {
       "metadata": {},
       "output_type": "pyout",
       "prompt_number": 157,
       "text": [
        "'13.5492 -10.1842'"
       ]
      }
     ],
     "prompt_number": 157
    },
    {
     "cell_type": "code",
     "collapsed": false,
     "input": [
      "c2"
     ],
     "language": "python",
     "metadata": {},
     "outputs": [
      {
       "metadata": {},
       "output_type": "pyout",
       "prompt_number": 158,
       "text": [
        "<SkyCoord (FK5): equinox=J2000.000, ra=13.549166666666666 deg, dec=-10.184166666666666 deg>"
       ]
      }
     ],
     "prompt_number": 158
    },
    {
     "cell_type": "code",
     "collapsed": false,
     "input": [],
     "language": "python",
     "metadata": {},
     "outputs": []
    }
   ],
   "metadata": {}
  }
 ]
}