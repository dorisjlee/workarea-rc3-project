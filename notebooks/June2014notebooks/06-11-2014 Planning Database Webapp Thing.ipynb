{
 "metadata": {
  "name": ""
 },
 "nbformat": 3,
 "nbformat_minor": 0,
 "worksheets": [
  {
   "cells": [
    {
     "cell_type": "heading",
     "level": 2,
     "metadata": {},
     "source": [
      "Overview"
     ]
    },
    {
     "cell_type": "markdown",
     "metadata": {},
     "source": [
      "Component\n",
      "\n",
      "-  "
     ]
    },
    {
     "cell_type": "heading",
     "level": 2,
     "metadata": {},
     "source": [
      "Linking with NED"
     ]
    },
    {
     "cell_type": "markdown",
     "metadata": {},
     "source": [
      "After learning that NED only updated to DR7, also thought about using LEDA but foudn out that is a bit out of date (2002!). \n",
      "Trying to decide whether I needed a textfile to storage \"useful information\", the ra dec is already there in the filename, missing objID\n",
      "Checked STIFF and COPY_HEADER only copies header information but can not actually write in object ID. \n",
      "\n",
      "I need object ID because I need to search by ID if I am doing the linkage to NED. Because if I search by position, then there are often multiple results that shows up. So it is better for me to have at least one of the catalog names of the galaxy.\n",
      "\n",
      "I am looking into a way to edit the \"COMMENT\" section of the fits. If not then I would need a separate textfile for that information."
     ]
    },
    {
     "cell_type": "markdown",
     "metadata": {},
     "source": [
      "The Name field was not very consistent when I do the line slicing by byte because of the inconsistent catalogs. So I used the PGC number instead. "
     ]
    },
    {
     "cell_type": "markdown",
     "metadata": {},
     "source": [
      "Then I could just have this hyperlink on the infopage to \n",
      "\n",
      "http://ned.ipac.caltech.edu/cgi-bin/objsearch?objname=******----insert-pgc-number-here--------******&extend=no&hconst=73&omegam=0.27&omegav=0.73&corr_z=1&out_csys=Equatorial&out_equinox=J2000.0&obj_sort=RA+or+Longitude&of=pre_text&zv_breaker=30000.0&list_limit=5&img_stamp=YES"
     ]
    },
    {
     "cell_type": "code",
     "collapsed": false,
     "input": [
      "cd rc3galaxies_3rd_run/0.03625,-6.37472222222/"
     ],
     "language": "python",
     "metadata": {},
     "outputs": [
      {
       "output_type": "stream",
       "stream": "stdout",
       "text": [
        "/Users/doris/Desktop/GSoC2014/workarea-rc3-project/rc3galaxies_3rd_run/0.03625,-6.37472222222\n"
       ]
      }
     ],
     "prompt_number": 8
    },
    {
     "cell_type": "markdown",
     "metadata": {},
     "source": [
      "why are fit files 3 dimensional arrays and not 2D like normal images\n",
      "\n",
      "Because there are primary and secondary HDUs"
     ]
    },
    {
     "cell_type": "markdown",
     "metadata": {},
     "source": [
      "http://python4astronomers.github.io/astropy/fits.html"
     ]
    },
    {
     "cell_type": "code",
     "collapsed": false,
     "input": [
      "from astropy.io import fits as pyfits"
     ],
     "language": "python",
     "metadata": {},
     "outputs": [],
     "prompt_number": 3
    },
    {
     "cell_type": "code",
     "collapsed": false,
     "input": [
      "hdulist = pyfits.open(\"SDSS_g_0.03625_-6.37472222222.fits\")"
     ],
     "language": "python",
     "metadata": {},
     "outputs": [],
     "prompt_number": 11
    },
    {
     "cell_type": "code",
     "collapsed": false,
     "input": [
      "hdulist[0].header"
     ],
     "language": "python",
     "metadata": {},
     "outputs": [
      {
       "metadata": {},
       "output_type": "pyout",
       "prompt_number": 16,
       "text": [
        "SIMPLE  =                    T                                                  \n",
        "BITPIX  =                  -64                                                  \n",
        "NAXIS   =                    2                                                  \n",
        "NAXIS1  =                  140                                                  \n",
        "NAXIS2  =                  140                                                  \n",
        "EXTEND  =                    T / FITS dataset may contain extensions            \n",
        "COMMENT   FITS (Flexible Image Transport System) format is defined in 'Astronomy\n",
        "COMMENT   and Astrophysics', volume 376, page 359; bibcode: 2001A&A...376..359H \n",
        "CTYPE1  = 'RA---TAN'                                                            \n",
        "CTYPE2  = 'DEC--TAN'                                                            \n",
        "CRVAL1  =             0.036250                                                  \n",
        "CRVAL2  =            -6.374720                                                  \n",
        "CRPIX1  =                 70.5                                                  \n",
        "CRPIX2  =                 70.5                                                  \n",
        "CDELT1  =         -0.000277778                                                  \n",
        "CDELT2  =          0.000277778                                                  \n",
        "CROTA2  =             0.000000                                                  \n",
        "EQUINOX =               2000.0                                                  "
       ]
      }
     ],
     "prompt_number": 16
    },
    {
     "cell_type": "code",
     "collapsed": false,
     "input": [
      "hdulist[0].header['PGC']='mypgcnumber'"
     ],
     "language": "python",
     "metadata": {},
     "outputs": [],
     "prompt_number": 17
    },
    {
     "cell_type": "code",
     "collapsed": false,
     "input": [
      "hdulist[0].header"
     ],
     "language": "python",
     "metadata": {},
     "outputs": [
      {
       "metadata": {},
       "output_type": "pyout",
       "prompt_number": 18,
       "text": [
        "SIMPLE  =                    T                                                  \n",
        "BITPIX  =                  -64                                                  \n",
        "NAXIS   =                    2                                                  \n",
        "NAXIS1  =                  140                                                  \n",
        "NAXIS2  =                  140                                                  \n",
        "EXTEND  =                    T / FITS dataset may contain extensions            \n",
        "COMMENT   FITS (Flexible Image Transport System) format is defined in 'Astronomy\n",
        "COMMENT   and Astrophysics', volume 376, page 359; bibcode: 2001A&A...376..359H \n",
        "CTYPE1  = 'RA---TAN'                                                            \n",
        "CTYPE2  = 'DEC--TAN'                                                            \n",
        "CRVAL1  =             0.036250                                                  \n",
        "CRVAL2  =            -6.374720                                                  \n",
        "CRPIX1  =                 70.5                                                  \n",
        "CRPIX2  =                 70.5                                                  \n",
        "CDELT1  =         -0.000277778                                                  \n",
        "CDELT2  =          0.000277778                                                  \n",
        "CROTA2  =             0.000000                                                  \n",
        "EQUINOX =               2000.0                                                  \n",
        "PGC     = 'mypgcnumber'                                                         "
       ]
      }
     ],
     "prompt_number": 18
    },
    {
     "cell_type": "code",
     "collapsed": false,
     "input": [
      "hdulist.writeto(\"SDSS_g_0.03625_-6.37472222222_f.fits\")"
     ],
     "language": "python",
     "metadata": {},
     "outputs": [],
     "prompt_number": 21
    },
    {
     "cell_type": "code",
     "collapsed": false,
     "input": [
      "import os"
     ],
     "language": "python",
     "metadata": {},
     "outputs": [],
     "prompt_number": 24
    },
    {
     "cell_type": "code",
     "collapsed": false,
     "input": [
      "os.system(\"rm SDSS_g_0.03625_-6.37472222222.fits\")"
     ],
     "language": "python",
     "metadata": {},
     "outputs": [
      {
       "metadata": {},
       "output_type": "pyout",
       "prompt_number": 26,
       "text": [
        "0"
       ]
      }
     ],
     "prompt_number": 26
    },
    {
     "cell_type": "code",
     "collapsed": false,
     "input": [
      "pyfits.open(\"SDSS_g_0.03625_-6.37472222222_f.fits\")[0].header"
     ],
     "language": "python",
     "metadata": {},
     "outputs": [
      {
       "metadata": {},
       "output_type": "pyout",
       "prompt_number": 28,
       "text": [
        "SIMPLE  =                    T                                                  \n",
        "BITPIX  =                  -64                                                  \n",
        "NAXIS   =                    2                                                  \n",
        "NAXIS1  =                  140                                                  \n",
        "NAXIS2  =                  140                                                  \n",
        "EXTEND  =                    T / FITS dataset may contain extensions            \n",
        "COMMENT   FITS (Flexible Image Transport System) format is defined in 'Astronomy\n",
        "COMMENT   and Astrophysics', volume 376, page 359; bibcode: 2001A&A...376..359H \n",
        "CTYPE1  = 'RA---TAN'                                                            \n",
        "CTYPE2  = 'DEC--TAN'                                                            \n",
        "CRVAL1  =             0.036250                                                  \n",
        "CRVAL2  =            -6.374720                                                  \n",
        "CRPIX1  =                 70.5                                                  \n",
        "CRPIX2  =                 70.5                                                  \n",
        "CDELT1  =         -0.000277778                                                  \n",
        "CDELT2  =          0.000277778                                                  \n",
        "CROTA2  =             0.000000                                                  \n",
        "EQUINOX =               2000.0                                                  \n",
        "PGC     = 'mypgcnumber'                                                         "
       ]
      }
     ],
     "prompt_number": 28
    },
    {
     "cell_type": "code",
     "collapsed": false,
     "input": [
      "cd .."
     ],
     "language": "python",
     "metadata": {},
     "outputs": [
      {
       "output_type": "stream",
       "stream": "stdout",
       "text": [
        "/Users/doris/Desktop/GSoC2014/workarea-rc3-project/rc3galaxies_3rd_run\n"
       ]
      }
     ],
     "prompt_number": 30
    },
    {
     "cell_type": "code",
     "collapsed": false,
     "input": [
      "cd 7.8,-10.4747222222"
     ],
     "language": "python",
     "metadata": {},
     "outputs": [
      {
       "output_type": "stream",
       "stream": "stdout",
       "text": [
        "/Users/doris/Desktop/GSoC2014/workarea-rc3-project/rc3galaxies_3rd_run/7.8,-10.4747222222\n"
       ]
      }
     ],
     "prompt_number": 31
    },
    {
     "cell_type": "code",
     "collapsed": false,
     "input": [
      "ls"
     ],
     "language": "python",
     "metadata": {},
     "outputs": [
      {
       "output_type": "stream",
       "stream": "stdout",
       "text": [
        "SDSS_7.8_-10.4747222222_BEST.tiff  SDSS_r_7.8_-10.4747222222.fits\r\n",
        "SDSS_7.8_-10.4747222222_LOW.tiff   SDSS_u_7.8_-10.4747222222.fits\r\n",
        "SDSS_g_7.8_-10.4747222222.fits     SDSS_z_7.8_-10.4747222222.fits\r\n",
        "SDSS_i_7.8_-10.4747222222.fits     stiff.xml\r\n"
       ]
      }
     ],
     "prompt_number": 32
    },
    {
     "cell_type": "code",
     "collapsed": false,
     "input": [
      "verify = pyfits.open(\"SDSS_g_7.8_-10.4747222222.fits\")"
     ],
     "language": "python",
     "metadata": {},
     "outputs": [],
     "prompt_number": 33
    },
    {
     "cell_type": "code",
     "collapsed": false,
     "input": [
      "verify[0].header['PGC']"
     ],
     "language": "python",
     "metadata": {},
     "outputs": [
      {
       "metadata": {},
       "output_type": "pyout",
       "prompt_number": 35,
       "text": [
        "'PGC1909'"
       ]
      }
     ],
     "prompt_number": 35
    },
    {
     "cell_type": "markdown",
     "metadata": {},
     "source": [
      "I decided that I might as well just put in the NED link in the header. "
     ]
    },
    {
     "cell_type": "code",
     "collapsed": false,
     "input": [
      "hdulist[0].header['PGC']=\"PGC\"+str(line.split()[3]).replace(' ', '')"
     ],
     "language": "python",
     "metadata": {},
     "outputs": [
      {
       "ename": "NameError",
       "evalue": "name 'line' is not defined",
       "output_type": "pyerr",
       "traceback": [
        "\u001b[0;31m---------------------------------------------------------------------------\u001b[0m\n\u001b[0;31mNameError\u001b[0m                                 Traceback (most recent call last)",
        "\u001b[0;32m<ipython-input-36-d873057f4961>\u001b[0m in \u001b[0;36m<module>\u001b[0;34m()\u001b[0m\n\u001b[0;32m----> 1\u001b[0;31m \u001b[0mhdulist\u001b[0m\u001b[0;34m[\u001b[0m\u001b[0;36m0\u001b[0m\u001b[0;34m]\u001b[0m\u001b[0;34m.\u001b[0m\u001b[0mheader\u001b[0m\u001b[0;34m[\u001b[0m\u001b[0;34m'PGC'\u001b[0m\u001b[0;34m]\u001b[0m\u001b[0;34m=\u001b[0m\u001b[0;34m\"PGC\"\u001b[0m\u001b[0;34m+\u001b[0m\u001b[0mstr\u001b[0m\u001b[0;34m(\u001b[0m\u001b[0mline\u001b[0m\u001b[0;34m.\u001b[0m\u001b[0msplit\u001b[0m\u001b[0;34m(\u001b[0m\u001b[0;34m)\u001b[0m\u001b[0;34m[\u001b[0m\u001b[0;36m3\u001b[0m\u001b[0;34m]\u001b[0m\u001b[0;34m)\u001b[0m\u001b[0;34m.\u001b[0m\u001b[0mreplace\u001b[0m\u001b[0;34m(\u001b[0m\u001b[0;34m' '\u001b[0m\u001b[0;34m,\u001b[0m \u001b[0;34m''\u001b[0m\u001b[0;34m)\u001b[0m\u001b[0;34m\u001b[0m\u001b[0m\n\u001b[0m",
        "\u001b[0;31mNameError\u001b[0m: name 'line' is not defined"
       ]
      }
     ],
     "prompt_number": 36
    },
    {
     "cell_type": "code",
     "collapsed": false,
     "input": [
      "hdulist[0].header['PGC']=\"PGC  034\".replace(' ', '')"
     ],
     "language": "python",
     "metadata": {},
     "outputs": [],
     "prompt_number": 37
    },
    {
     "cell_type": "code",
     "collapsed": false,
     "input": [
      "hdulist[0].header['PGC']"
     ],
     "language": "python",
     "metadata": {},
     "outputs": [
      {
       "metadata": {},
       "output_type": "pyout",
       "prompt_number": 38,
       "text": [
        "'PGC034'"
       ]
      }
     ],
     "prompt_number": 38
    },
    {
     "cell_type": "code",
     "collapsed": false,
     "input": [
      "hdulist[0].header['PGC']=\"PGC          0 34 \".replace(' ', '')"
     ],
     "language": "python",
     "metadata": {},
     "outputs": [],
     "prompt_number": 39
    },
    {
     "cell_type": "code",
     "collapsed": false,
     "input": [
      "hdulist[0].header['PGC']"
     ],
     "language": "python",
     "metadata": {},
     "outputs": [
      {
       "metadata": {},
       "output_type": "pyout",
       "prompt_number": 40,
       "text": [
        "'PGC034'"
       ]
      }
     ],
     "prompt_number": 40
    },
    {
     "cell_type": "code",
     "collapsed": false,
     "input": [
      "hdulist[0].header['NED']=hdulist[0].header['PGC']"
     ],
     "language": "python",
     "metadata": {},
     "outputs": [],
     "prompt_number": 41
    },
    {
     "cell_type": "code",
     "collapsed": false,
     "input": [
      "hdulist[0].header['NED']"
     ],
     "language": "python",
     "metadata": {},
     "outputs": [
      {
       "metadata": {},
       "output_type": "pyout",
       "prompt_number": 42,
       "text": [
        "'PGC034'"
       ]
      }
     ],
     "prompt_number": 42
    },
    {
     "cell_type": "code",
     "collapsed": false,
     "input": [],
     "language": "python",
     "metadata": {},
     "outputs": []
    }
   ],
   "metadata": {}
  }
 ]
}