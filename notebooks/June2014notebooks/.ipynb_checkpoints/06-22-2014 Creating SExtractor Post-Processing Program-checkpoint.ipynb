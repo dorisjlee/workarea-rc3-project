{
 "metadata": {
  "name": "",
  "signature": "sha256:6aa0396b6f7f7a1e55cf8f4d43930a2e6260bfcf74caf0d2998e6b6ce03c25f6"
 },
 "nbformat": 3,
 "nbformat_minor": 0,
 "worksheets": [
  {
   "cells": [
    {
     "cell_type": "markdown",
     "metadata": {},
     "source": [
      "I ecountered the error of \n",
      "  File \"/Users/dorislee/.virtualenvs/py34dev/lib/python3.4/site-packages/astropy-0.4.dev9207-py3.4-macosx-10.9-x86_64.egg/astropy/io/fits/hdu/hdulist.py\", line 837, in _readfrom\n",
      "    raise IOError('Empty or corrupt FITS file')\n",
      "OSError: Empty or corrupt FITS file\n",
      ">>> file\n",
      "'.DS_Store'\n",
      "\n",
      "Then I found out that it was due to the hidden .DS_Store"
     ]
    },
    {
     "cell_type": "markdown",
     "metadata": {},
     "source": [
      "Again the same issue is that it is detecting the non fits file like default.con.\n",
      "So I added in \n",
      "```if not fi.endswith(\".fits\")```"
     ]
    },
    {
     "cell_type": "markdown",
     "metadata": {},
     "source": [
      "What does it mean by \n",
      "\n",
      "Objects: detected 34       / sextracted 27  \n",
      "    \n",
      "Why is the number different, don't you source extract everything that you detect? "
     ]
    },
    {
     "cell_type": "markdown",
     "metadata": {},
     "source": [
      "If No detected sources in image. Call on mosaic program using a larger margin"
     ]
    },
    {
     "cell_type": "markdown",
     "metadata": {},
     "source": [
      "Now I need to make the mosaic program modular so that we can \"call on \" it within a separate file. Before we do that though, we should write out new updated ra dec radius inside the original file. So it trns out we never wrote the orginal radius inside the fits header (whihc I guess makes sense because it was not really necessary)  \n",
      "Then make the program modular by creating a mosaic function that does the mosaicing (no automated) for a given ra,dec,and margin. I need to backtrack to pre-automated mosaic program and also DON'T USE background rectification steps. "
     ]
    },
    {
     "cell_type": "markdown",
     "metadata": {},
     "source": [
      "I created the modular program and tested it with the following"
     ]
    },
    {
     "cell_type": "code",
     "collapsed": false,
     "input": [
      "cd ../../withSExtractor/gfits/"
     ],
     "language": "python",
     "metadata": {},
     "outputs": [
      {
       "output_type": "stream",
       "stream": "stdout",
       "text": [
        "/Users/dorislee/Desktop/GSoC2014/workarea-rc3-project/withSExtractor/gfits\n"
       ]
      }
     ],
     "prompt_number": 1
    },
    {
     "cell_type": "code",
     "collapsed": false,
     "input": [],
     "language": "python",
     "metadata": {},
     "outputs": []
    },
    {
     "cell_type": "code",
     "collapsed": false,
     "input": [
      "mosaic(0.1,7.841666666667,0.01*2,0.01,39)"
     ],
     "language": "python",
     "metadata": {},
     "outputs": []
    },
    {
     "cell_type": "code",
     "collapsed": false,
     "input": [
      "cd ../../withSExtractor/gfits/"
     ],
     "language": "python",
     "metadata": {},
     "outputs": [
      {
       "output_type": "stream",
       "stream": "stdout",
       "text": [
        "/Users/dorislee/Desktop/GSoC2014/workarea-rc3-project/withSExtractor/gfits\n"
       ]
      }
     ],
     "prompt_number": 1
    },
    {
     "cell_type": "code",
     "collapsed": false,
     "input": [
      "import montage_wrapper as montage"
     ],
     "language": "python",
     "metadata": {},
     "outputs": [],
     "prompt_number": 2
    },
    {
     "cell_type": "code",
     "collapsed": false,
     "input": [
      "from mosaic import Mosaic"
     ],
     "language": "python",
     "metadata": {},
     "outputs": [],
     "prompt_number": 3
    },
    {
     "cell_type": "code",
     "collapsed": false,
     "input": [
      "x = Mosaic()"
     ],
     "language": "python",
     "metadata": {},
     "outputs": [],
     "prompt_number": 4
    },
    {
     "cell_type": "code",
     "collapsed": false,
     "input": [
      "x.mosaic(16.525,44.9894444444,0.0258136103668*2,0.0258136103668/2,3905)        "
     ],
     "language": "python",
     "metadata": {},
     "outputs": [
      {
       "output_type": "stream",
       "stream": "stdout",
       "text": [
        "Working on 0th RC3 Galaxy at <mosaic.Mosaic instance at 0x104760320>,16.525\n",
        "Querying data that lies inside margin\n",
        "['<html>\\r\\n', '    <head>\\r\\n', '        <title>Runtime Error</title>\\r\\n', '        <style>\\r\\n', '         body {font-family:\"Verdana\";font-weight:normal;font-size: .7em;color:black;} \\r\\n', '         p {font-family:\"Verdana\";font-weight:normal;color:black;margin-top: -5px}\\r\\n', '         b {font-family:\"Verdana\";font-weight:bold;color:black;margin-top: -5px}\\r\\n', '         H1 { font-family:\"Verdana\";font-weight:normal;font-size:18pt;color:red }\\r\\n', '         H2 { font-family:\"Verdana\";font-weight:normal;font-size:14pt;color:maroon }\\r\\n', '         pre {font-family:\"Lucida Console\";font-size: .9em}\\r\\n', '         .marker {font-weight: bold; color: black;text-decoration: none;}\\r\\n', '         .version {color: gray;}\\r\\n', '         .error {margin-bottom: 10px;}\\r\\n', '         .expandable { text-decoration:underline; font-weight:bold; color:navy; cursor:hand; }\\r\\n', '        </style>\\r\\n', '    </head>\\r\\n', '\\r\\n', '    <body bgcolor=\"white\">\\r\\n', '\\r\\n', \"            <span><H1>Server Error in '/public' Application.<hr width=100% size=1 color=silver></H1>\\r\\n\", '\\r\\n', '            <h2> <i>Runtime Error</i> </h2></span>\\r\\n', '\\r\\n', '            <font face=\"Arial, Helvetica, Geneva, SunSans-Regular, sans-serif \">\\r\\n', '\\r\\n', '            <b> Description: </b>An application error occurred on the server. The current custom error settings for this application prevent the details of the application error from being viewed remotely (for security reasons). It could, however, be viewed by browsers running on the local server machine.\\r\\n', '            <br><br>\\r\\n', '\\r\\n', '            <b>Details:</b> To enable the details of this specific error message to be viewable on remote machines, please create a &lt;customErrors&gt; tag within a &quot;web.config&quot; configuration file located in the root directory of the current web application. This &lt;customErrors&gt; tag should then have its &quot;mode&quot; attribute set to &quot;Off&quot;.<br><br>\\r\\n', '\\r\\n', '            <table width=100% bgcolor=\"#ffffcc\">\\r\\n', '               <tr>\\r\\n', '                  <td>\\r\\n', '                      <code><pre>\\r\\n', '\\r\\n', '&lt;!-- Web.Config Configuration File --&gt;\\r\\n', '\\r\\n', '&lt;configuration&gt;\\r\\n', '    &lt;system.web&gt;\\r\\n', '        &lt;customErrors mode=&quot;Off&quot;/&gt;\\r\\n', '    &lt;/system.web&gt;\\r\\n', '&lt;/configuration&gt;</pre></code>\\r\\n', '\\r\\n', '                  </td>\\r\\n', '               </tr>\\r\\n', '            </table>\\r\\n', '\\r\\n', '            <br>\\r\\n', '\\r\\n', '            <b>Notes:</b> The current error page you are seeing can be replaced by a custom error page by modifying the &quot;defaultRedirect&quot; attribute of the application&#39;s &lt;customErrors&gt; configuration tag to point to a custom error page URL.<br><br>\\r\\n', '\\r\\n', '            <table width=100% bgcolor=\"#ffffcc\">\\r\\n', '               <tr>\\r\\n', '                  <td>\\r\\n', '                      <code><pre>\\r\\n', '\\r\\n', '&lt;!-- Web.Config Configuration File --&gt;\\r\\n', '\\r\\n', '&lt;configuration&gt;\\r\\n', '    &lt;system.web&gt;\\r\\n', '        &lt;customErrors mode=&quot;RemoteOnly&quot; defaultRedirect=&quot;mycustompage.htm&quot;/&gt;\\r\\n', '    &lt;/system.web&gt;\\r\\n', '&lt;/configuration&gt;</pre></code>\\r\\n', '\\r\\n', '                  </td>\\r\\n', '               </tr>\\r\\n', '            </table>\\r\\n', '\\r\\n', '            <br>\\r\\n', '\\r\\n', '    </body>\\r\\n', '</html>\\r\\n']"
       ]
      },
      {
       "output_type": "stream",
       "stream": "stdout",
       "text": [
        "\n"
       ]
      },
      {
       "ename": "IndexError",
       "evalue": "list index out of range",
       "output_type": "pyerr",
       "traceback": [
        "\u001b[0;31m---------------------------------------------------------------------------\u001b[0m\n\u001b[0;31mIndexError\u001b[0m                                Traceback (most recent call last)",
        "\u001b[0;32m<ipython-input-5-e77b6c8fc610>\u001b[0m in \u001b[0;36m<module>\u001b[0;34m()\u001b[0m\n\u001b[0;32m----> 1\u001b[0;31m \u001b[0mx\u001b[0m\u001b[0;34m.\u001b[0m\u001b[0mmosaic\u001b[0m\u001b[0;34m(\u001b[0m\u001b[0;36m16.525\u001b[0m\u001b[0;34m,\u001b[0m\u001b[0;36m44.9894444444\u001b[0m\u001b[0;34m,\u001b[0m\u001b[0;36m0.0258136103668\u001b[0m\u001b[0;34m*\u001b[0m\u001b[0;36m2\u001b[0m\u001b[0;34m,\u001b[0m\u001b[0;36m0.0258136103668\u001b[0m\u001b[0;34m/\u001b[0m\u001b[0;36m2\u001b[0m\u001b[0;34m,\u001b[0m\u001b[0;36m3905\u001b[0m\u001b[0;34m)\u001b[0m\u001b[0;34m\u001b[0m\u001b[0m\n\u001b[0m",
        "\u001b[0;32m/Users/dorislee/Desktop/GSoC2014/workarea-rc3-project/withSExtractor/gfits/mosaic.py\u001b[0m in \u001b[0;36mmosaic\u001b[0;34m(ra, dec, margin, radius, pgc, clean)\u001b[0m\n\u001b[1;32m     42\u001b[0m             \u001b[0;32mif\u001b[0m \u001b[0mcount\u001b[0m\u001b[0;34m>\u001b[0m\u001b[0;36m1\u001b[0m\u001b[0;34m:\u001b[0m\u001b[0;34m\u001b[0m\u001b[0m\n\u001b[1;32m     43\u001b[0m                 \u001b[0mlist\u001b[0m \u001b[0;34m=\u001b[0m\u001b[0mi\u001b[0m\u001b[0;34m.\u001b[0m\u001b[0msplit\u001b[0m\u001b[0;34m(\u001b[0m\u001b[0;34m','\u001b[0m\u001b[0;34m)\u001b[0m\u001b[0;34m\u001b[0m\u001b[0m\n\u001b[0;32m---> 44\u001b[0;31m                 \u001b[0mlist\u001b[0m\u001b[0;34m[\u001b[0m\u001b[0;36m2\u001b[0m\u001b[0;34m]\u001b[0m\u001b[0;34m=\u001b[0m \u001b[0mlist\u001b[0m\u001b[0;34m[\u001b[0m\u001b[0;36m2\u001b[0m\u001b[0;34m]\u001b[0m\u001b[0;34m[\u001b[0m\u001b[0;34m:\u001b[0m\u001b[0;34m-\u001b[0m\u001b[0;36m1\u001b[0m\u001b[0;34m]\u001b[0m\u001b[0;34m\u001b[0m\u001b[0m\n\u001b[0m\u001b[1;32m     45\u001b[0m                 \u001b[0mdata\u001b[0m\u001b[0;34m.\u001b[0m\u001b[0mappend\u001b[0m\u001b[0;34m(\u001b[0m\u001b[0mlist\u001b[0m\u001b[0;34m)\u001b[0m\u001b[0;34m\u001b[0m\u001b[0m\n\u001b[1;32m     46\u001b[0m             \u001b[0mcount\u001b[0m \u001b[0;34m+=\u001b[0m \u001b[0;36m1\u001b[0m\u001b[0;34m\u001b[0m\u001b[0m\n",
        "\u001b[0;31mIndexError\u001b[0m: list index out of range"
       ]
      }
     ],
     "prompt_number": 5
    },
    {
     "cell_type": "markdown",
     "metadata": {},
     "source": [
      "Description: </b>An application error occurred on the server. The current custom error settings for this application prevent the details of the application error from being viewed remotely (for security reasons). It could, however, be viewed by browsers running on the local server machine.\\r\\n', '            <br><br>\\r\\n', '\\r\\n', '            <b>Details:</b> To enable the details of this specific error message to be viewable on remote machines, please create a &lt;customErrors&gt; tag within a &quot;web.config&quot; configuration file located in the root directory of the current web application"
     ]
    },
    {
     "cell_type": "markdown",
     "metadata": {},
     "source": [
      "This is very strange, maybe SkyServer is down now? "
     ]
    },
    {
     "cell_type": "markdown",
     "metadata": {},
     "source": [
      "Yes, It seems like the application is down, on here http://skyserver.sdss3.org/public/en/tools/search/x_sql.aspx \n",
      "    there is a runtime error for some strange reason."
     ]
    },
    {
     "cell_type": "code",
     "collapsed": false,
     "input": [
      "ra = 16.525"
     ],
     "language": "python",
     "metadata": {},
     "outputs": [],
     "prompt_number": 7
    },
    {
     "cell_type": "code",
     "collapsed": false,
     "input": [
      "dec = 44.9894444444"
     ],
     "language": "python",
     "metadata": {},
     "outputs": [],
     "prompt_number": 8
    },
    {
     "cell_type": "code",
     "collapsed": false,
     "input": [
      "margin= 0.0258136103668*2"
     ],
     "language": "python",
     "metadata": {},
     "outputs": [],
     "prompt_number": 9
    },
    {
     "cell_type": "code",
     "collapsed": false,
     "input": [
      "import sqlcl"
     ],
     "language": "python",
     "metadata": {},
     "outputs": [],
     "prompt_number": 10
    },
    {
     "cell_type": "code",
     "collapsed": false,
     "input": [
      "result = sqlcl.query( \"SELECT distinct run,camcol,field FROM PhotoObj WHERE  ra between {0}-{1} and  {0}+{1}and dec between {2}-{3} and  {2}+{3}\".format(str(ra),str(margin),str(dec),str(margin))) .readlines()"
     ],
     "language": "python",
     "metadata": {},
     "outputs": []
    },
    {
     "cell_type": "code",
     "collapsed": false,
     "input": [
      "result"
     ],
     "language": "python",
     "metadata": {},
     "outputs": []
    },
    {
     "cell_type": "markdown",
     "metadata": {},
     "source": [
      "This is very strange that I am able to query it normally but when I do it by calling a method it then throws an error-->BAD!!"
     ]
    },
    {
     "cell_type": "code",
     "collapsed": false,
     "input": [
      "result[2:]"
     ],
     "language": "python",
     "metadata": {},
     "outputs": []
    },
    {
     "cell_type": "code",
     "collapsed": false,
     "input": [
      "data = []\n",
      "count =0\n",
      "for i in result:\n",
      "    if count>1:\n",
      "        list =i.split(',')\n",
      "        list[2]= list[2][:-1]\n",
      "        data.append(list)\n",
      "    count +=1"
     ],
     "language": "python",
     "metadata": {},
     "outputs": []
    },
    {
     "cell_type": "code",
     "collapsed": false,
     "input": [
      "data"
     ],
     "language": "python",
     "metadata": {},
     "outputs": []
    },
    {
     "cell_type": "code",
     "collapsed": false,
     "input": [
      "16.525,44.9894444444,0.0258136103668*2,0.0258136103668/2,3905"
     ],
     "language": "python",
     "metadata": {},
     "outputs": []
    },
    {
     "cell_type": "code",
     "collapsed": false,
     "input": [
      "import montage_wrapper as montage\n",
      "from astropy.io import fits as pyfits\n",
      "import os\n",
      "import shutil\n",
      "from math import trunc\n",
      "import sqlcl\n",
      "import sys \n",
      "def mosaic (ra,dec,margin,radius,pgc,clean=True):\n",
      "    DEBUG = True\n",
      "    filename = \"{},{}\".format(str(ra),str(dec))\n",
      "    #if (DEBUG) : print (\"Working on {}th RC3 Galaxy at {}\".format(str(n),filename))\n",
      "    if (DEBUG) : print (\"Querying data that lies inside margin\")\n",
      "    result = sqlcl.query( \"SELECT distinct run,camcol,field FROM PhotoObj WHERE  ra between {0}-{1} and  {0}+{1}and dec between {2}-{3} and  {2}+{3}\".format(str(ra),str(margin),str(dec),str(margin))) .readlines()\n",
      "    # clean_result = sqlcl.query( \"SELECT distinct run,camcol,field FROM PhotoObj WHERE  CLEAN =1 and ra between {0}-{1} and  {0}+{1}and dec between {2}-{3} and  {2}+{3}\".format(str(ra),str(margin),str(dec),str(margin))) .readlines()\n",
      "    print (result)\n",
      "    data =[]\n",
      "    count =0\n",
      "    for i in result:\n",
      "        if count>1:\n",
      "            list =i.split(',')\n",
      "            list[2]= list[2][:-1]\n",
      "            data.append(list)\n",
      "        count += 1 \n",
      "    print (data)\n",
      "    if len(data)==0:\n",
      "        if (DEBUG): print ('The given ra, dec of this galaxy does not lie in the SDSS footprint. Onto the next galaxy!')#Exit Program.'\n",
      "        #output.write(str(ra)+ \"     \"+ str(dec)+\"     \"+str(radius)+\"\\n\")\n",
      "        output.write(\"{}     {}     {}     {} \\n\".format(str(ra),str(dec),str(radius),pgc))\n",
      "        sys.exit()\n",
      "        # break\n",
      "    else :\n",
      "        if (DEBUG): \n",
      "            print ( \"Complete Query. These data lies within margin: \")\n",
      "            print (data)\n",
      "    os.mkdir(filename)\n",
      "    os.chdir(filename)\n",
      "    bands=['u','g','r','i','z']\n",
      "    for band in bands:\n",
      "        os.mkdir(band)\n",
      "        os.chdir(band)\n",
      "        os.mkdir (\"raw\")\n",
      "        os.mkdir (\"projected\")\n",
      "        os.chdir(\"raw\")\n",
      "        if (DEBUG): print (\"Retrieving data from SDSS SAS server for \"+ band +\"band\")\n",
      "        for i in data :  \n",
      "            #out = \"frame-\"+str(band)+\"-\"+str(i[0]).zfill(6)+\"-\"+str(i[1])+\"-\"+str(i[2]).zfill(4)\n",
      "            out = \"frame-{}-{}-{}-{}\".format(str(band),str(i[0]).zfill(6),str(i[1]),str(i[2]).zfill(4))\n",
      "            #os.system(\"wget http://mirror.sdss3.org/sas/dr10/boss/photoObj/frames/301/\"+str(i[0])+\"/\"+ str(i[1]) +\"/\"+out+\".fits.bz2\")\n",
      "            os.system(\"wget http://mirror.sdss3.org/sas/dr10/boss/photoObj/frames/301/{}/{}/{}.fits.bz2\".format(str(i[0]),str(i[1]),out) )\n",
      "            #os.system(\"bunzip2 \"+out+\".fits.bz2\")\n",
      "            os.system(\"bunzip2 {}.fits.bz2\".format(out))\n",
      "        # print (os.getcwd())\n",
      "        os.chdir(\"../\")\n",
      "        if (DEBUG) : print(\"Creating mosaic for {} band.\".format(band))\n",
      "        montage.mImgtbl(\"raw\",\"images.tbl\")\n",
      "        #montage.mHdr(str(ra)+\" \"+str(dec),margin,out+\".hdr\")\n",
      "        montage.mHdr(\"{} {}\".format(str(ra),str(dec)),margin,\"{}.hdr\".format(out))\n",
      "        if (DEBUG): print (\"Reprojecting images\")\n",
      "        #Sometimes you can't find the files and result in images.tbl => empty doc\n",
      "        #need to put data file inside raw AND unzip it so that Montage detect that it is a fit file\n",
      "        os.chdir(\"raw\")\n",
      "        montage.mProjExec(\"../images.tbl\",\"../\"+out+\".hdr\",\"../projected\", \"../stats.tbl\") \n",
      "        os.chdir(\"..\")\n",
      "        montage.mImgtbl(\"projected\",\"pimages.tbl\")\n",
      "        #mAdd coadds the reprojected images using the FITS header template and mImgtbl list.\n",
      "        os.chdir(\"projected\")\n",
      "        montage.mAdd(\"../pimages.tbl\",\"../\"+out+\".hdr\",\"SDSS_\"+out+\".fits\")\n",
      "        outfile_r=\"SDSS_{}_{}_{}r.fits\".format(band,str(ra),str(dec))\n",
      "        montage.mSubimage(\"SDSS_\"+out+\".fits\",outfile_r,ra,dec,2*margin) # mSubImage takes xsize which should be twice the margin (margin measures center to edge of image)\n",
      "        shutil.move(outfile_r,os.getcwd()[:-11] )#if change to :-11 then move out of u,g,r,i,z directory, may be more convenient for mJPEG\n",
      "        if (DEBUG) : print (\"Completed Mosaic for \" + band)\n",
      "        #Writing PGC number into FITS header information\n",
      "        os.chdir(\"../..\")\n",
      "        hdulist = pyfits.open(outfile_r)\n",
      "        hdulist[0].header['RA']=ra\n",
      "        hdulist[0].header['DEC']=dec\n",
      "        hdulist[0].header['PGC']=\"PGC{}\".format(str(pgc))\n",
      "        hdulist[0].header['NED']=(\"http://ned.ipac.caltech.edu/cgi-bin/objsearch?objname=\"+hdulist[0].header['PGC']+\"&extend=no&hconst=73&omegam=0.27&omegav=0.73&corr_z=1&out_csys=Equatorial&out_equinox=J2000.0&obj_sort=RA+or+Longitude&of=pre_text&zv_breaker=30000.0&list_limit=5&img_stamp=YES\")\n",
      "        hdulist[0].header['CLEAN']=clean\n",
      "        outfile=\"SDSS_{}_{}_{}.fits\".format(band,str(ra),str(dec))\n",
      "        hdulist.writeto(outfile)\n",
      "        os.system(\"rm \"+outfile_r)\n",
      "    # Superimposing R,G,B image mosaics into TIFF using STIFF\n",
      "    # Image for Viewing purposes\n",
      "    os.system(\"stiff  SDSS_i_{0}_{1}.fits  SDSS_r_{0}_{1}.fits SDSS_g_{0}_{1}.fits  -c stiff.conf  -OUTFILE_NAME  SDSS_{0}_{1}_BEST.tiff    -MAX_TYPE QUANTILE  -MAX_LEVEL 0.99 -COLOUR_SAT  6 -MIN_TYPE QUANTILE -MIN_LEVEL 1  -GAMMA_FAC 0.7 \".format(str(ra),str(dec)))\n",
      "    # Image for emphasizing low-surface sturcture\n",
      "    os.system(\"stiff  SDSS_i_{0}_{1}.fits  SDSS_r_{0}_{1}.fits SDSS_g_{0}_{1}.fits  -c stiff.conf  -OUTFILE_NAME  SDSS_{0}_{1}_LOW.tiff  -MAX_TYPE QUANTILE  -MAX_LEVEL 0.98 -COLOUR_SAT  5  -MIN_TYPE QUANTILE -MIN_LEVEL 0.01  -GAMMA_FAC 0.9 \".format(str(ra),str(dec)))  \n",
      "    os.system(\"rm stiff.xml\")\n",
      "    for b in bands:\n",
      "        os.system(\"rm -r \"+b+\"/\")\n",
      "    print (\"Completed Mosaic\")"
     ],
     "language": "python",
     "metadata": {},
     "outputs": [],
     "prompt_number": 16
    },
    {
     "cell_type": "code",
     "collapsed": false,
     "input": [
      "mosaic(16.525,44.9894444444,0.0258136103668*2,0.0258136103668/2,3905)        "
     ],
     "language": "python",
     "metadata": {},
     "outputs": [
      {
       "output_type": "stream",
       "stream": "stdout",
       "text": [
        "Querying data that lies inside margin\n",
        "['#Table1\\n', 'run,camcol,field\\n', '3366,1,114\\n', '3367,2,114\\n', '3367,2,115\\n']"
       ]
      },
      {
       "output_type": "stream",
       "stream": "stdout",
       "text": [
        "\n",
        "[['3366', '1', '114'], ['3367', '2', '114'], ['3367', '2', '115']]\n",
        "Complete Query. These data lies within margin: \n",
        "[['3366', '1', '114'], ['3367', '2', '114'], ['3367', '2', '115']]\n",
        "Retrieving data from SDSS SAS server for uband\n",
        "Creating mosaic for u band."
       ]
      },
      {
       "output_type": "stream",
       "stream": "stdout",
       "text": [
        "\n",
        "Reprojecting images"
       ]
      },
      {
       "output_type": "stream",
       "stream": "stdout",
       "text": [
        "\n",
        "Completed Mosaic for u"
       ]
      },
      {
       "output_type": "stream",
       "stream": "stdout",
       "text": [
        "\n",
        "Retrieving data from SDSS SAS server for gband\n",
        "Creating mosaic for g band."
       ]
      },
      {
       "output_type": "stream",
       "stream": "stdout",
       "text": [
        "\n",
        "Reprojecting images"
       ]
      },
      {
       "output_type": "stream",
       "stream": "stdout",
       "text": [
        "\n",
        "Completed Mosaic for g"
       ]
      },
      {
       "output_type": "stream",
       "stream": "stdout",
       "text": [
        "\n",
        "Retrieving data from SDSS SAS server for rband\n",
        "Creating mosaic for r band."
       ]
      },
      {
       "output_type": "stream",
       "stream": "stdout",
       "text": [
        "\n",
        "Reprojecting images"
       ]
      },
      {
       "output_type": "stream",
       "stream": "stdout",
       "text": [
        "\n",
        "Completed Mosaic for r"
       ]
      },
      {
       "output_type": "stream",
       "stream": "stdout",
       "text": [
        "\n",
        "Retrieving data from SDSS SAS server for iband\n",
        "Creating mosaic for i band."
       ]
      },
      {
       "output_type": "stream",
       "stream": "stdout",
       "text": [
        "\n",
        "Reprojecting images"
       ]
      },
      {
       "output_type": "stream",
       "stream": "stdout",
       "text": [
        "\n",
        "Completed Mosaic for i"
       ]
      },
      {
       "output_type": "stream",
       "stream": "stdout",
       "text": [
        "\n",
        "Retrieving data from SDSS SAS server for zband\n",
        "Creating mosaic for z band."
       ]
      },
      {
       "output_type": "stream",
       "stream": "stdout",
       "text": [
        "\n",
        "Reprojecting images"
       ]
      },
      {
       "output_type": "stream",
       "stream": "stdout",
       "text": [
        "\n",
        "Completed Mosaic for z"
       ]
      },
      {
       "output_type": "stream",
       "stream": "stdout",
       "text": [
        "\n",
        "Completed Mosaic"
       ]
      },
      {
       "output_type": "stream",
       "stream": "stdout",
       "text": [
        "\n"
       ]
      }
     ],
     "prompt_number": 17
    },
    {
     "cell_type": "markdown",
     "metadata": {},
     "source": [
      "This is strange because it clearly works as a function but not when it is wrapped inside a class."
     ]
    },
    {
     "cell_type": "code",
     "collapsed": false,
     "input": [
      "x"
     ],
     "language": "python",
     "metadata": {},
     "outputs": [
      {
       "metadata": {},
       "output_type": "pyout",
       "prompt_number": 18,
       "text": [
        "<mosaic.Mosaic instance at 0x104760320>"
       ]
      }
     ],
     "prompt_number": 18
    },
    {
     "cell_type": "code",
     "collapsed": false,
     "input": [
      "x.mosaic(16.525,44.9894444444,0.0258136103668*2,0.0258136103668/2,3905)"
     ],
     "language": "python",
     "metadata": {},
     "outputs": [
      {
       "output_type": "stream",
       "stream": "stdout",
       "text": [
        "Querying data that lies inside margin\n",
        "['<html>\\r\\n', '    <head>\\r\\n', '        <title>Runtime Error</title>\\r\\n', '        <style>\\r\\n', '         body {font-family:\"Verdana\";font-weight:normal;font-size: .7em;color:black;} \\r\\n', '         p {font-family:\"Verdana\";font-weight:normal;color:black;margin-top: -5px}\\r\\n', '         b {font-family:\"Verdana\";font-weight:bold;color:black;margin-top: -5px}\\r\\n', '         H1 { font-family:\"Verdana\";font-weight:normal;font-size:18pt;color:red }\\r\\n', '         H2 { font-family:\"Verdana\";font-weight:normal;font-size:14pt;color:maroon }\\r\\n', '         pre {font-family:\"Lucida Console\";font-size: .9em}\\r\\n', '         .marker {font-weight: bold; color: black;text-decoration: none;}\\r\\n', '         .version {color: gray;}\\r\\n', '         .error {margin-bottom: 10px;}\\r\\n', '         .expandable { text-decoration:underline; font-weight:bold; color:navy; cursor:hand; }\\r\\n', '        </style>\\r\\n', '    </head>\\r\\n', '\\r\\n', '    <body bgcolor=\"white\">\\r\\n', '\\r\\n', \"            <span><H1>Server Error in '/public' Application.<hr width=100% size=1 color=silver></H1>\\r\\n\", '\\r\\n', '            <h2> <i>Runtime Error</i> </h2></span>\\r\\n', '\\r\\n', '            <font face=\"Arial, Helvetica, Geneva, SunSans-Regular, sans-serif \">\\r\\n', '\\r\\n', '            <b> Description: </b>An application error occurred on the server. The current custom error settings for this application prevent the details of the application error from being viewed remotely (for security reasons). It could, however, be viewed by browsers running on the local server machine.\\r\\n', '            <br><br>\\r\\n', '\\r\\n', '            <b>Details:</b> To enable the details of this specific error message to be viewable on remote machines, please create a &lt;customErrors&gt; tag within a &quot;web.config&quot; configuration file located in the root directory of the current web application. This &lt;customErrors&gt; tag should then have its &quot;mode&quot; attribute set to &quot;Off&quot;.<br><br>\\r\\n', '\\r\\n', '            <table width=100% bgcolor=\"#ffffcc\">\\r\\n', '               <tr>\\r\\n', '                  <td>\\r\\n', '                      <code><pre>\\r\\n', '\\r\\n', '&lt;!-- Web.Config Configuration File --&gt;\\r\\n', '\\r\\n', '&lt;configuration&gt;\\r\\n', '    &lt;system.web&gt;\\r\\n', '        &lt;customErrors mode=&quot;Off&quot;/&gt;\\r\\n', '    &lt;/system.web&gt;\\r\\n', '&lt;/configuration&gt;</pre></code>\\r\\n', '\\r\\n', '                  </td>\\r\\n', '               </tr>\\r\\n', '            </table>\\r\\n', '\\r\\n', '            <br>\\r\\n', '\\r\\n', '            <b>Notes:</b> The current error page you are seeing can be replaced by a custom error page by modifying the &quot;defaultRedirect&quot; attribute of the application&#39;s &lt;customErrors&gt; configuration tag to point to a custom error page URL.<br><br>\\r\\n', '\\r\\n', '            <table width=100% bgcolor=\"#ffffcc\">\\r\\n', '               <tr>\\r\\n', '                  <td>\\r\\n', '                      <code><pre>\\r\\n', '\\r\\n', '&lt;!-- Web.Config Configuration File --&gt;\\r\\n', '\\r\\n', '&lt;configuration&gt;\\r\\n', '    &lt;system.web&gt;\\r\\n', '        &lt;customErrors mode=&quot;RemoteOnly&quot; defaultRedirect=&quot;mycustompage.htm&quot;/&gt;\\r\\n', '    &lt;/system.web&gt;\\r\\n', '&lt;/configuration&gt;</pre></code>\\r\\n', '\\r\\n', '                  </td>\\r\\n', '               </tr>\\r\\n', '            </table>\\r\\n', '\\r\\n', '            <br>\\r\\n', '\\r\\n', '    </body>\\r\\n', '</html>\\r\\n']"
       ]
      },
      {
       "output_type": "stream",
       "stream": "stdout",
       "text": [
        "\n"
       ]
      },
      {
       "ename": "IndexError",
       "evalue": "list index out of range",
       "output_type": "pyerr",
       "traceback": [
        "\u001b[0;31m---------------------------------------------------------------------------\u001b[0m\n\u001b[0;31mIndexError\u001b[0m                                Traceback (most recent call last)",
        "\u001b[0;32m<ipython-input-6-a909543470b4>\u001b[0m in \u001b[0;36m<module>\u001b[0;34m()\u001b[0m\n\u001b[0;32m----> 1\u001b[0;31m \u001b[0mx\u001b[0m\u001b[0;34m.\u001b[0m\u001b[0mmosaic\u001b[0m\u001b[0;34m(\u001b[0m\u001b[0;36m16.525\u001b[0m\u001b[0;34m,\u001b[0m\u001b[0;36m44.9894444444\u001b[0m\u001b[0;34m,\u001b[0m\u001b[0;36m0.0258136103668\u001b[0m\u001b[0;34m*\u001b[0m\u001b[0;36m2\u001b[0m\u001b[0;34m,\u001b[0m\u001b[0;36m0.0258136103668\u001b[0m\u001b[0;34m/\u001b[0m\u001b[0;36m2\u001b[0m\u001b[0;34m,\u001b[0m\u001b[0;36m3905\u001b[0m\u001b[0;34m)\u001b[0m\u001b[0;34m\u001b[0m\u001b[0m\n\u001b[0m",
        "\u001b[0;32m/Users/dorislee/Desktop/GSoC2014/workarea-rc3-project/withSExtractor/gfits/mosaic.py\u001b[0m in \u001b[0;36mmosaic\u001b[0;34m(ra, dec, margin, radius, pgc, clean)\u001b[0m\n\u001b[1;32m     28\u001b[0m             \u001b[0;32mif\u001b[0m \u001b[0mcount\u001b[0m\u001b[0;34m>\u001b[0m\u001b[0;36m1\u001b[0m\u001b[0;34m:\u001b[0m\u001b[0;34m\u001b[0m\u001b[0m\n\u001b[1;32m     29\u001b[0m                 \u001b[0mlist\u001b[0m \u001b[0;34m=\u001b[0m\u001b[0mi\u001b[0m\u001b[0;34m.\u001b[0m\u001b[0msplit\u001b[0m\u001b[0;34m(\u001b[0m\u001b[0;34m','\u001b[0m\u001b[0;34m)\u001b[0m\u001b[0;34m\u001b[0m\u001b[0m\n\u001b[0;32m---> 30\u001b[0;31m                 \u001b[0mlist\u001b[0m\u001b[0;34m[\u001b[0m\u001b[0;36m2\u001b[0m\u001b[0;34m]\u001b[0m\u001b[0;34m=\u001b[0m \u001b[0mlist\u001b[0m\u001b[0;34m[\u001b[0m\u001b[0;36m2\u001b[0m\u001b[0;34m]\u001b[0m\u001b[0;34m[\u001b[0m\u001b[0;34m:\u001b[0m\u001b[0;34m-\u001b[0m\u001b[0;36m1\u001b[0m\u001b[0;34m]\u001b[0m\u001b[0;34m\u001b[0m\u001b[0m\n\u001b[0m\u001b[1;32m     31\u001b[0m                 \u001b[0mdata\u001b[0m\u001b[0;34m.\u001b[0m\u001b[0mappend\u001b[0m\u001b[0;34m(\u001b[0m\u001b[0mlist\u001b[0m\u001b[0;34m)\u001b[0m\u001b[0;34m\u001b[0m\u001b[0m\n\u001b[1;32m     32\u001b[0m             \u001b[0mcount\u001b[0m \u001b[0;34m+=\u001b[0m \u001b[0;36m1\u001b[0m\u001b[0;34m\u001b[0m\u001b[0m\n",
        "\u001b[0;31mIndexError\u001b[0m: list index out of range"
       ]
      }
     ],
     "prompt_number": 6
    },
    {
     "cell_type": "code",
     "collapsed": false,
     "input": [
      "x.mosaic(16.525,44.9894444444,0.0258136103668*2,0.0258136103668/2,3905)"
     ],
     "language": "python",
     "metadata": {},
     "outputs": [
      {
       "output_type": "stream",
       "stream": "stdout",
       "text": [
        "Querying data that lies inside margin\n",
        "['<html>\\r\\n', '    <head>\\r\\n', '        <title>Runtime Error</title>\\r\\n', '        <style>\\r\\n', '         body {font-family:\"Verdana\";font-weight:normal;font-size: .7em;color:black;} \\r\\n', '         p {font-family:\"Verdana\";font-weight:normal;color:black;margin-top: -5px}\\r\\n', '         b {font-family:\"Verdana\";font-weight:bold;color:black;margin-top: -5px}\\r\\n', '         H1 { font-family:\"Verdana\";font-weight:normal;font-size:18pt;color:red }\\r\\n', '         H2 { font-family:\"Verdana\";font-weight:normal;font-size:14pt;color:maroon }\\r\\n', '         pre {font-family:\"Lucida Console\";font-size: .9em}\\r\\n', '         .marker {font-weight: bold; color: black;text-decoration: none;}\\r\\n', '         .version {color: gray;}\\r\\n', '         .error {margin-bottom: 10px;}\\r\\n', '         .expandable { text-decoration:underline; font-weight:bold; color:navy; cursor:hand; }\\r\\n', '        </style>\\r\\n', '    </head>\\r\\n', '\\r\\n', '    <body bgcolor=\"white\">\\r\\n', '\\r\\n', \"            <span><H1>Server Error in '/public' Application.<hr width=100% size=1 color=silver></H1>\\r\\n\", '\\r\\n', '            <h2> <i>Runtime Error</i> </h2></span>\\r\\n', '\\r\\n', '            <font face=\"Arial, Helvetica, Geneva, SunSans-Regular, sans-serif \">\\r\\n', '\\r\\n', '            <b> Description: </b>An application error occurred on the server. The current custom error settings for this application prevent the details of the application error from being viewed remotely (for security reasons). It could, however, be viewed by browsers running on the local server machine.\\r\\n', '            <br><br>\\r\\n', '\\r\\n', '            <b>Details:</b> To enable the details of this specific error message to be viewable on remote machines, please create a &lt;customErrors&gt; tag within a &quot;web.config&quot; configuration file located in the root directory of the current web application. This &lt;customErrors&gt; tag should then have its &quot;mode&quot; attribute set to &quot;Off&quot;.<br><br>\\r\\n', '\\r\\n', '            <table width=100% bgcolor=\"#ffffcc\">\\r\\n', '               <tr>\\r\\n', '                  <td>\\r\\n', '                      <code><pre>\\r\\n', '\\r\\n', '&lt;!-- Web.Config Configuration File --&gt;\\r\\n', '\\r\\n', '&lt;configuration&gt;\\r\\n', '    &lt;system.web&gt;\\r\\n', '        &lt;customErrors mode=&quot;Off&quot;/&gt;\\r\\n', '    &lt;/system.web&gt;\\r\\n', '&lt;/configuration&gt;</pre></code>\\r\\n', '\\r\\n', '                  </td>\\r\\n', '               </tr>\\r\\n', '            </table>\\r\\n', '\\r\\n', '            <br>\\r\\n', '\\r\\n', '            <b>Notes:</b> The current error page you are seeing can be replaced by a custom error page by modifying the &quot;defaultRedirect&quot; attribute of the application&#39;s &lt;customErrors&gt; configuration tag to point to a custom error page URL.<br><br>\\r\\n', '\\r\\n', '            <table width=100% bgcolor=\"#ffffcc\">\\r\\n', '               <tr>\\r\\n', '                  <td>\\r\\n', '                      <code><pre>\\r\\n', '\\r\\n', '&lt;!-- Web.Config Configuration File --&gt;\\r\\n', '\\r\\n', '&lt;configuration&gt;\\r\\n', '    &lt;system.web&gt;\\r\\n', '        &lt;customErrors mode=&quot;RemoteOnly&quot; defaultRedirect=&quot;mycustompage.htm&quot;/&gt;\\r\\n', '    &lt;/system.web&gt;\\r\\n', '&lt;/configuration&gt;</pre></code>\\r\\n', '\\r\\n', '                  </td>\\r\\n', '               </tr>\\r\\n', '            </table>\\r\\n', '\\r\\n', '            <br>\\r\\n', '\\r\\n', '    </body>\\r\\n', '</html>\\r\\n']"
       ]
      },
      {
       "output_type": "stream",
       "stream": "stdout",
       "text": [
        "\n"
       ]
      },
      {
       "ename": "IndexError",
       "evalue": "list index out of range",
       "output_type": "pyerr",
       "traceback": [
        "\u001b[0;31m---------------------------------------------------------------------------\u001b[0m\n\u001b[0;31mIndexError\u001b[0m                                Traceback (most recent call last)",
        "\u001b[0;32m<ipython-input-7-a909543470b4>\u001b[0m in \u001b[0;36m<module>\u001b[0;34m()\u001b[0m\n\u001b[0;32m----> 1\u001b[0;31m \u001b[0mx\u001b[0m\u001b[0;34m.\u001b[0m\u001b[0mmosaic\u001b[0m\u001b[0;34m(\u001b[0m\u001b[0;36m16.525\u001b[0m\u001b[0;34m,\u001b[0m\u001b[0;36m44.9894444444\u001b[0m\u001b[0;34m,\u001b[0m\u001b[0;36m0.0258136103668\u001b[0m\u001b[0;34m*\u001b[0m\u001b[0;36m2\u001b[0m\u001b[0;34m,\u001b[0m\u001b[0;36m0.0258136103668\u001b[0m\u001b[0;34m/\u001b[0m\u001b[0;36m2\u001b[0m\u001b[0;34m,\u001b[0m\u001b[0;36m3905\u001b[0m\u001b[0;34m)\u001b[0m\u001b[0;34m\u001b[0m\u001b[0m\n\u001b[0m",
        "\u001b[0;32m/Users/dorislee/Desktop/GSoC2014/workarea-rc3-project/withSExtractor/gfits/mosaic.py\u001b[0m in \u001b[0;36mmosaic\u001b[0;34m(ra, dec, margin, radius, pgc, clean)\u001b[0m\n\u001b[1;32m     28\u001b[0m             \u001b[0;32mif\u001b[0m \u001b[0mcount\u001b[0m\u001b[0;34m>\u001b[0m\u001b[0;36m1\u001b[0m\u001b[0;34m:\u001b[0m\u001b[0;34m\u001b[0m\u001b[0m\n\u001b[1;32m     29\u001b[0m                 \u001b[0mlist\u001b[0m \u001b[0;34m=\u001b[0m\u001b[0mi\u001b[0m\u001b[0;34m.\u001b[0m\u001b[0msplit\u001b[0m\u001b[0;34m(\u001b[0m\u001b[0;34m','\u001b[0m\u001b[0;34m)\u001b[0m\u001b[0;34m\u001b[0m\u001b[0m\n\u001b[0;32m---> 30\u001b[0;31m                 \u001b[0mlist\u001b[0m\u001b[0;34m[\u001b[0m\u001b[0;36m2\u001b[0m\u001b[0;34m]\u001b[0m\u001b[0;34m=\u001b[0m \u001b[0mlist\u001b[0m\u001b[0;34m[\u001b[0m\u001b[0;36m2\u001b[0m\u001b[0;34m]\u001b[0m\u001b[0;34m[\u001b[0m\u001b[0;34m:\u001b[0m\u001b[0;34m-\u001b[0m\u001b[0;36m1\u001b[0m\u001b[0;34m]\u001b[0m\u001b[0;34m\u001b[0m\u001b[0m\n\u001b[0m\u001b[1;32m     31\u001b[0m                 \u001b[0mdata\u001b[0m\u001b[0;34m.\u001b[0m\u001b[0mappend\u001b[0m\u001b[0;34m(\u001b[0m\u001b[0mlist\u001b[0m\u001b[0;34m)\u001b[0m\u001b[0;34m\u001b[0m\u001b[0m\n\u001b[1;32m     32\u001b[0m             \u001b[0mcount\u001b[0m \u001b[0;34m+=\u001b[0m \u001b[0;36m1\u001b[0m\u001b[0;34m\u001b[0m\u001b[0m\n",
        "\u001b[0;31mIndexError\u001b[0m: list index out of range"
       ]
      }
     ],
     "prompt_number": 7
    },
    {
     "cell_type": "code",
     "collapsed": false,
     "input": [
      "x"
     ],
     "language": "python",
     "metadata": {},
     "outputs": [
      {
       "metadata": {},
       "output_type": "pyout",
       "prompt_number": 7,
       "text": [
        "<mosaic.Mosaic instance at 0x10c5cc320>"
       ]
      }
     ],
     "prompt_number": 7
    },
    {
     "cell_type": "code",
     "collapsed": false,
     "input": [
      "x.mosaic"
     ],
     "language": "python",
     "metadata": {},
     "outputs": [
      {
       "metadata": {},
       "output_type": "pyout",
       "prompt_number": 8,
       "text": [
        "<bound method Mosaic.mosaic of <mosaic.Mosaic instance at 0x10c5cc320>>"
       ]
      }
     ],
     "prompt_number": 8
    },
    {
     "cell_type": "code",
     "collapsed": false,
     "input": [
      "Mosaic.mosaic"
     ],
     "language": "python",
     "metadata": {},
     "outputs": [
      {
       "metadata": {},
       "output_type": "pyout",
       "prompt_number": 10,
       "text": [
        "<unbound method Mosaic.mosaic>"
       ]
      }
     ],
     "prompt_number": 10
    },
    {
     "cell_type": "markdown",
     "metadata": {},
     "source": [
      "I am not too sure what the bug is. Because it clearly works without the class if it is just a definition. And I am not sure why it has the run time warning (on their server! ) even though run it normally is fine. Also it doesn't make CS sense to use a class for mosaic because it is a function not an object. So I might just put this in the SExtractor program (update.py) and let them recursively call on each other. "
     ]
    },
    {
     "cell_type": "markdown",
     "metadata": {},
     "source": [
      "I found a bug where the max value is not really the max(radius_list) because these lists values are stored as strings so max function does a string comparison, which is not what we want  "
     ]
    },
    {
     "cell_type": "markdown",
     "metadata": {},
     "source": [
      "I found out the file note found error is stemming from the fact that it is looking for the i band fits file. Which I obviously do not have in gfits directory. This is due to a not-restrictive-enough gfits list. Then I had to filter it out by using fnamematch to test the boolean. It works smoothly now and runs error free throught all the sourcves."
     ]
    },
    {
     "cell_type": "code",
     "collapsed": false,
     "input": [
      "gfits=[file for root, dir, files in os.walk(\"gfits\") for file in files if fnmatch.fnmatchcase(file, \"SDSS_g_*.fits\")]"
     ],
     "language": "python",
     "metadata": {},
     "outputs": []
    },
    {
     "cell_type": "code",
     "collapsed": false,
     "input": [],
     "language": "python",
     "metadata": {},
     "outputs": []
    },
    {
     "cell_type": "code",
     "collapsed": false,
     "input": [
      "Searching using PGC\n",
      "http://cas.sdss.org/dr7/en/help/browser/browser.asp?n=RC3&t=U\n",
      "    this is out of date DR7. The variable is now PGC and not PGC_name"
     ],
     "language": "python",
     "metadata": {},
     "outputs": []
    },
    {
     "cell_type": "code",
     "collapsed": false,
     "input": [
      "For some strange reason, this one with a missing comma work\n",
      "SELECT distinct run,camcol,field PGC FROM PhotoObj WHERE ra between 1 and 1.5 and dec between 1 and 1.5 \n",
      "but not this "
     ],
     "language": "python",
     "metadata": {},
     "outputs": []
    },
    {
     "cell_type": "markdown",
     "metadata": {},
     "source": [
      "To do\n",
      "\n",
      "- extract objID or sth from SDSS server to verify, type ==galaxy \n"
     ]
    },
    {
     "cell_type": "code",
     "collapsed": false,
     "input": [
      "#Was really unlucky, all these ra,dec did not lie in field \n",
      "r_mosaic(0.120833333333,-40.4833333333,6*0.032497410061,0.032497410061,43)\n",
      "r_mosaic(0.328333333333,-27.4183333333,6*0.0187003076091,0.0187003076091,100)\n",
      "r_mosaic(81.6445833333,-31.8433333333,6*0.0155542383777,0.0155542383777,17290)\n",
      "r_mosaic(82.1508333333,-41.4911111111,6*0.0224827147548,0.0224827147548,17329 )"
     ],
     "language": "python",
     "metadata": {},
     "outputs": []
    },
    {
     "cell_type": "code",
     "collapsed": false,
     "input": [],
     "language": "python",
     "metadata": {},
     "outputs": [],
     "prompt_number": 8
    },
    {
     "cell_type": "code",
     "collapsed": false,
     "input": [],
     "language": "python",
     "metadata": {},
     "outputs": []
    },
    {
     "cell_type": "code",
     "collapsed": false,
     "input": [],
     "language": "python",
     "metadata": {},
     "outputs": []
    },
    {
     "cell_type": "code",
     "collapsed": false,
     "input": [
      "r_mosaic(155.075833333,42.8211111111,6*0.0224827147548,0.0224827147548,30217)"
     ],
     "language": "python",
     "metadata": {},
     "outputs": []
    }
   ],
   "metadata": {}
  }
 ]
}