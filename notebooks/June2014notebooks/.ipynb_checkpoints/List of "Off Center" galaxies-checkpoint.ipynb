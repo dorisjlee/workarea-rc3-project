{
 "metadata": {
  "name": ""
 },
 "nbformat": 3,
 "nbformat_minor": 0,
 "worksheets": [
  {
   "cells": [
    {
     "cell_type": "markdown",
     "metadata": {},
     "source": [
      "From rc3_ra_dec_radius_csv(Final).txt, "
     ]
    },
    {
     "cell_type": "markdown",
     "metadata": {},
     "source": [
      "- 193.472083333     26.4438888889     0.0409118153432\n",
      "- 7.575     25.0838888889     0.0155542383777\n",
      "http://skyserver.sdss3.org/public/en/tools/chart/navi.aspx?ra=7.575&dec=25.0838888889"
     ]
    },
    {
     "cell_type": "code",
     "collapsed": false,
     "input": [],
     "language": "python",
     "metadata": {},
     "outputs": []
    }
   ],
   "metadata": {}
  }
 ]
}