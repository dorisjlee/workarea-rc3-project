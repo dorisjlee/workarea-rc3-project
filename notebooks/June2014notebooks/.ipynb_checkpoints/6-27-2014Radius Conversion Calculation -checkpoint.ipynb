{
 "metadata": {
  "name": "",
  "signature": "sha256:92be8c6e056ff9a04cb519fb27ac67f171af738a25d7f0403f44bd0adcb5c468"
 },
 "nbformat": 3,
 "nbformat_minor": 0,
 "worksheets": [
  {
   "cells": [
    {
     "cell_type": "markdown",
     "metadata": {},
     "source": [
      "According to the catalog description, RC3 galaxies have apparent diameter larger than 1. So minumium radius of 0.5 arcmin"
     ]
    },
    {
     "cell_type": "markdown",
     "metadata": {},
     "source": [
      "0.5 arcmin * 1 deg/60 arcmin =0.008deg"
     ]
    },
    {
     "cell_type": "code",
     "collapsed": false,
     "input": [],
     "language": "python",
     "metadata": {},
     "outputs": []
    }
   ],
   "metadata": {}
  }
 ]
}