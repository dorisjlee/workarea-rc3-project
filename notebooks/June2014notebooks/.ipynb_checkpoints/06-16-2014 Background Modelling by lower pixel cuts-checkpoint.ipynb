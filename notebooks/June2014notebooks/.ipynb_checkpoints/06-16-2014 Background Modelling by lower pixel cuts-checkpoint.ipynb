{
 "metadata": {
  "name": ""
 },
 "nbformat": 3,
 "nbformat_minor": 0,
 "worksheets": [
  {
   "cells": [
    {
     "cell_type": "code",
     "collapsed": false,
     "input": [
      "import pyfits \n",
      "from matplotlib import pyplot as pyplt\n",
      "def my_hist_plot(image):\n",
      "    #ylen, xlen = image.shape\n",
      "    xlen=114\n",
      "    ylen=3\n",
      "    \n",
      "    # In this method, we trim the pixel list to only hold those pixels\n",
      "    # less than some maximum value (here mean plus three sigma) in order\n",
      "    # to focus on the shape of the distribution function near the peak.\n",
      "    \n",
      "    mean = image.mean()\n",
      "    sigma = image.std()\n",
      "    max_value = mean + 500 * sigma\n",
      "    \n",
      "    # This makes a trimmed pixel list by using a list comprehension\n",
      "    \n",
      "#     pixels = [image[j, i][1] \\\n",
      "#         for i in range(xlen) \\\n",
      "#         for j in range(ylen) \\\n",
      "#         if image[j, i][1] < max_value]\n",
      "    data = list(image.ravel())\n",
      "    fig = pyplt.figure()\n",
      "    plt = fig.add_subplot(111)\n",
      "    plt.hist(pixels, bins=1000, log=True)# Plot the histogram (one line)\n",
      "    plt.set_xlabel(\"Pixel Value\")\n",
      "    plt.set_ylabel(\"Pixel Count\")\n",
      "    plt.set_title(\"Pixel Histogram Plot\")\n",
      "    pyplt.show()\n",
      " \n",
      "fitsImage = pyfits.open(\"stiff.fits\")\n",
      "image = fitsImage[0].data \n",
      "my_hist_plot(image)\n",
      "            "
     ],
     "language": "python",
     "metadata": {},
     "outputs": []
    }
   ],
   "metadata": {}
  }
 ]
}