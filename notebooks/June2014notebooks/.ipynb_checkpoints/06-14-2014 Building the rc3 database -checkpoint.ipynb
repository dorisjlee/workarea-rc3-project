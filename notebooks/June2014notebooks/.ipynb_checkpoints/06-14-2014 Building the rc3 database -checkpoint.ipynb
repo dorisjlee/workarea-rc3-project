{
 "metadata": {
  "name": ""
 },
 "nbformat": 3,
 "nbformat_minor": 0,
 "worksheets": [
  {
   "cells": [
    {
     "cell_type": "markdown",
     "metadata": {},
     "source": [
      "I have completed building the rc3 database by a short Python script. "
     ]
    },
    {
     "cell_type": "markdown",
     "metadata": {},
     "source": [
      "Can test this database by typing in this query in the SQLite data browser."
     ]
    },
    {
     "cell_type": "code",
     "collapsed": false,
     "input": [
      "SELECT PGC_number\n",
      "FROM rc3\n",
      "WHERE ra BETWEEN 0 and 10"
     ],
     "language": "python",
     "metadata": {},
     "outputs": []
    },
    {
     "cell_type": "raw",
     "metadata": {},
     "source": [
      "for some reason you must run interactively and then enter \n",
      "\ttableCreate()\n",
      "\tdataEntry()"
     ]
    },
    {
     "cell_type": "raw",
     "metadata": {},
     "source": [
      "you can not do the if name ==main trick, I am not too sure why . \n",
      "Actually I've fixed it , the syntax is if __name__ == \"__main__\": NOT if __name__==\"main\":"
     ]
    },
    {
     "cell_type": "markdown",
     "metadata": {},
     "source": [
      "you can only create your table once, so you must delete it afterwards if you want to recreate it . \n",
      "I decided to use a primary id as just a number that I count, even though the pgc number uniquely identifies the galaxy I think it would still be nice to have . "
     ]
    },
    {
     "cell_type": "markdown",
     "metadata": {},
     "source": [
      "Do Later \n",
      "\n",
      "- Possibly adding in \"in_SDSS_footprint BOOLEAN \" later \n",
      "- File path to color image\n",
      "- File path to u,g,r,i,z files"
     ]
    },
    {
     "cell_type": "markdown",
     "metadata": {},
     "source": [
      "If you go to http://irsa.ipac.caltech.edu/documentation.html and click on \"datasets\" on the top banner, you can see all the possible datasets that we could use .There seems to be quite a lot of imaging data in here. Need to look more into this later.  "
     ]
    },
    {
     "cell_type": "code",
     "collapsed": false,
     "input": [],
     "language": "python",
     "metadata": {},
     "outputs": []
    }
   ],
   "metadata": {}
  }
 ]
}