{
 "metadata": {
  "name": ""
 },
 "nbformat": 3,
 "nbformat_minor": 0,
 "worksheets": [
  {
   "cells": [
    {
     "cell_type": "code",
     "collapsed": false,
     "input": [
      "#Run in Python2 \n",
      "output =  open(\"rc3_formatted_csv.txt\", \"w\")\n",
      "count =0\n",
      "for line in file('rc3.txt'):\n",
      "    if count<3:\n",
      "        count=count+1\n",
      "        x = float(line[0:2])\n",
      "        y = float(line[2:4])\n",
      "        z = float(line[4:8])\n",
      "        print x,y,z\n",
      "        sign = line[9]\n",
      "        decval = float(line[10:12]) \n",
      "        m = float(line[12:14])\n",
      "        if line[14] != ' ' and line[15] != ' ':        \n",
      "            n = float(line[14:16])\n",
      "        if line[172]!= ' ' : #everything except blank line should have decimal point\n",
      "            rad = 10**(float(line[171:175]))\n",
      "            ra = 15*x + (y/4) + (z/240) #units of time 0-24 hr,=>degrees, every hour earth spins 15 deg  (4, 240 comes from expaned form from 3600)\n",
      "            radius = rad/10\n",
      "        dec = decval + (m/60) + (n/3600)\n",
      "        if sign == '-':\n",
      "           dec = -1*dec \n",
      "        print(str(ra)+ \",\")\n",
      "        print(str(dec)+\"\\n\")\n",
      "        #output.write(str(radius)+\"\\n\")\n",
      "#output.close()\n"
     ],
     "language": "python",
     "metadata": {},
     "outputs": [
      {
       "output_type": "stream",
       "stream": "stdout",
       "text": [
        "0.0 0.0 1.8\n",
        "0.0075,\n",
        "47.2744444444\n",
        "\n",
        "0.0 0.0 8.7\n",
        "0.03625,\n",
        "-6.37472222222\n",
        "\n",
        "0.0 0.0 21.3\n",
        "0.08875,\n",
        "-2.61055555556\n",
        "\n"
       ]
      }
     ],
     "prompt_number": 7
    },
    {
     "cell_type": "markdown",
     "metadata": {},
     "source": [
      "Using this http://www.satsig.net/degrees-minutes-seconds-calculator.htm to verify with the result I calculated by hand and by this program\n"
     ]
    },
    {
     "cell_type": "markdown",
     "metadata": {},
     "source": [
      "4.46:27:40.386  hr, min,sec =>deg for ra,dec"
     ]
    },
    {
     "cell_type": "code",
     "collapsed": false,
     "input": [
      "4.46*15 #archr"
     ],
     "language": "python",
     "metadata": {},
     "outputs": [
      {
       "metadata": {},
       "output_type": "pyout",
       "prompt_number": 11,
       "text": [
        "66.9"
       ]
      }
     ],
     "prompt_number": 11
    },
    {
     "cell_type": "code",
     "collapsed": false,
     "input": [
      "27./60. #arcmin"
     ],
     "language": "python",
     "metadata": {},
     "outputs": [
      {
       "metadata": {},
       "output_type": "pyout",
       "prompt_number": 14,
       "text": [
        "0.45"
       ]
      }
     ],
     "prompt_number": 14
    },
    {
     "cell_type": "code",
     "collapsed": false,
     "input": [
      "40.386/240. #arcsec"
     ],
     "language": "python",
     "metadata": {},
     "outputs": [
      {
       "metadata": {},
       "output_type": "pyout",
       "prompt_number": 16,
       "text": [
        "0.168275"
       ]
      }
     ],
     "prompt_number": 16
    },
    {
     "cell_type": "code",
     "collapsed": false,
     "input": [
      "66.918277\u00b0"
     ],
     "language": "python",
     "metadata": {},
     "outputs": []
    },
    {
     "cell_type": "markdown",
     "metadata": {},
     "source": [
      "For first set of data , 1.8 arcsec = 0.0075 degrees"
     ]
    },
    {
     "cell_type": "code",
     "collapsed": false,
     "input": [
      "1.8/240. "
     ],
     "language": "python",
     "metadata": {},
     "outputs": [
      {
       "metadata": {},
       "output_type": "pyout",
       "prompt_number": 17,
       "text": [
        "0.007500000000000001"
       ]
      }
     ],
     "prompt_number": 17
    },
    {
     "cell_type": "markdown",
     "metadata": {},
     "source": [
      "Arcsec calculation does not include the 15\u00b0 factor . For RA, DEC, MUSTtake into account 15 degree in a arc sec because earth rotates"
     ]
    },
    {
     "cell_type": "markdown",
     "metadata": {},
     "source": [
      "This means that the radius doesnt actually require the 15 \u00b0 factor since it doesn't matter if the earth is rotating or not, the size is what it is . "
     ]
    },
    {
     "cell_type": "code",
     "collapsed": false,
     "input": [
      "#Run in Python2 \n",
      "output =  open(\"rc3_formatted_csv.txt\", \"w\")\n",
      "count =0\n",
      "for line in file('rc3.txt'):\n",
      "    if count<3:\n",
      "        count=count+1\n",
      "        x = float(line[0:2])\n",
      "        y = float(line[2:4])\n",
      "        z = float(line[4:8])\n",
      "#         print x,y,z\n",
      "        sign = line[9]\n",
      "        decval = float(line[10:12]) \n",
      "        m = float(line[12:14])\n",
      "        if line[14] != ' ' and line[15] != ' ':        \n",
      "            n = float(line[14:16])\n",
      "        if line[172]!= ' ' : #everything except blank line should have decimal point\n",
      "            rad = 10**(float(line[171:175]))\n",
      "            print (float(line[171:175]))\n",
      "            print (rad)\n",
      "            ra = 15*x + (y/4) + (z/240) #units of time 0-24 hr,=>degrees, every hour earth spins 15 deg  (4, 240 comes from expaned form from 3600)\n",
      "            radius = rad/10\n",
      "            print ('radius: '+str(radius) + \"\\n\")\n",
      "        dec = decval + (m/60) + (n/3600)\n",
      "        if sign == '-':\n",
      "           dec = -1*dec \n",
      "        #print(str(ra)+ \",\")\n",
      "        #print(str(dec)+\"\\n\")\n",
      "        #output.write(str(radius)+\"\\n\")\n",
      "#output.close()\n"
     ],
     "language": "python",
     "metadata": {},
     "outputs": [
      {
       "output_type": "stream",
       "stream": "stdout",
       "text": [
        "1.38\n",
        "23.9883291902\n",
        "radius: 2.39883291902\n",
        "\n",
        "1.19\n",
        "15.4881661891\n",
        "radius: 1.54881661891\n",
        "\n",
        "1.09\n",
        "12.3026877081\n",
        "radius: 1.23026877081\n",
        "\n"
       ]
      }
     ],
     "prompt_number": 22
    },
    {
     "cell_type": "markdown",
     "metadata": {},
     "source": [
      "These radius values are wayyy too large ; shoudl be approx 100 arc sec = > 0.0277777778 degree"
     ]
    },
    {
     "cell_type": "markdown",
     "metadata": {},
     "source": [
      "http://bama.ua.edu/~rbuta/gvatlas/quickcheck.html\n",
      "\n",
      "http://haroldcorwin.net/rc3/"
     ]
    },
    {
     "cell_type": "markdown",
     "metadata": {},
     "source": [
      "So the value that we seem to be retreiving is the LogD_0 or Log A_e (either way calc is same)"
     ]
    },
    {
     "cell_type": "markdown",
     "metadata": {},
     "source": [
      "From http://heasarc.nasa.gov/W3Browse/all/rc3.html\n",
      "\n",
      "Log_Do: The decimal logarithm of the isophotal major diameter D_0, in units of **0.1 arcminutes**, corrected to a \"face-on\" (i = 0 degrees) orientation, and for galactic extinction to A_g = 0, but not for redshift, as explained in Section 3.4.d, page 29, of Volume I of the printed RC3."
     ]
    },
    {
     "cell_type": "markdown",
     "metadata": {},
     "source": [
      "Log_Ae\n",
      "The decimal logarithm of the apparent diameter A_e, in units of 0.1 arcminutes, of the \"effective aperture\", i.e., of the circle centered on the nucleus of the galxay within which one-half of the total B-band flux is emitted, derived as explained in Section 3.4.c, page 28, of Volume I of the printed RC3."
     ]
    },
    {
     "cell_type": "markdown",
     "metadata": {},
     "source": [
      "float(line[171:175])  in unit 0.1 arcminutes\n",
      "\n",
      "rad = 10**(float(line[171:175])) # log D_0 = isophotal major diameter\n",
      " \n",
      "$\\because$0.1 arc minute = 0.00166666667 degree\n",
      "\n",
      "diameter = rad*0.00166666667 degrees\n"
     ]
    },
    {
     "cell_type": "code",
     "collapsed": false,
     "input": [
      "#Run in Python2 \n",
      "output =  open(\"rc3_formatted_csv.txt\", \"w\")\n",
      "count =0\n",
      "for line in file('rc3.txt'):\n",
      "    if count<3:\n",
      "        count=count+1\n",
      "        x = float(line[0:2])\n",
      "        y = float(line[2:4])\n",
      "        z = float(line[4:8])\n",
      "#         print x,y,z\n",
      "        sign = line[9]\n",
      "        decval = float(line[10:12]) \n",
      "        m = float(line[12:14])\n",
      "        if line[14] != ' ' and line[15] != ' ':        \n",
      "            n = float(line[14:16])\n",
      "        if line[172]!= ' ' : #everything except blank line should have decimal point\n",
      "            rad = 10**(float(line[171:175]))\n",
      "            print (float(line[171:175]))\n",
      "            print (rad)\n",
      "            ra = 15*x + (y/4) + (z/240) #units of time 0-24 hr,=>degrees, every hour earth spins 15 deg  (4, 240 comes from expaned form from 3600)\n",
      "            diameter = rad*0.00166666667\n",
      "            print ('diameter: '+str(diameter) + \"\\n\")\n",
      "        dec = decval + (m/60) + (n/3600)\n",
      "        if sign == '-':\n",
      "           dec = -1*dec \n",
      "        #print(str(ra)+ \",\")\n",
      "        #print(str(dec)+\"\\n\")\n",
      "        #output.write(str(radius)+\"\\n\")\n",
      "#output.close()\n"
     ],
     "language": "python",
     "metadata": {},
     "outputs": [
      {
       "output_type": "stream",
       "stream": "stdout",
       "text": [
        "1.38\n",
        "23.9883291902\n",
        "diameter: 0.0399805487303\n",
        "\n",
        "1.19\n",
        "15.4881661891\n",
        "diameter: 0.0258136103668\n",
        "\n",
        "1.09\n",
        "12.3026877081\n",
        "diameter: 0.0205044795545\n",
        "\n"
       ]
      }
     ],
     "prompt_number": 25
    },
    {
     "cell_type": "markdown",
     "metadata": {},
     "source": [
      "I have to rerun the readfile.py to genereate the new rc3.txt"
     ]
    },
    {
     "cell_type": "code",
     "collapsed": false,
     "input": [],
     "language": "python",
     "metadata": {},
     "outputs": []
    }
   ],
   "metadata": {}
  }
 ]
}