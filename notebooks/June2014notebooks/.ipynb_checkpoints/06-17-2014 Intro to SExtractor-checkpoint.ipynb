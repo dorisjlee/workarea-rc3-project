{
 "metadata": {
  "name": ""
 },
 "nbformat": 3,
 "nbformat_minor": 0,
 "worksheets": [
  {
   "cells": [
    {
     "cell_type": "heading",
     "level": 2,
     "metadata": {},
     "source": [
      "More Miscellaneous Setup Stuff"
     ]
    },
    {
     "cell_type": "markdown",
     "metadata": {},
     "source": [
      "1) IPython notebook is part of scisoft, but it is not as updated as mines are. Since we are running the default use scisoft bash command at startup. So I just deleted python all together in the scisoft directory and it automatically looked for my other ipython /python installation.\n",
      "\n",
      "2) When I ran SExtractor without any paramerters,\n",
      "\n",
      "> *ERROR*: can't read default.param\n",
      "\n",
      "\n",
      "Same error ecountered here: http://www.astromatic.net/forum/showthread.php?tid=422\n",
      "This is resolved by going into /usr/local/scisoft/packages/sextractor/config and copying all the defult files into the directory you are calling sextractor on. \n",
      "\n",
      "I have set the param , conv...etc path name inside the default.sex file.\n",
      "But whenever I run it I need to specify location of default.sex by : \n",
      "\n",
      "sex SDSS_i_155.925_12.5605555556.fits -c /usr/local/scisoft/packages/sextractor/config/default.sex"
     ]
    },
    {
     "cell_type": "heading",
     "level": 1,
     "metadata": {},
     "source": [
      "Using SExtractor to identify galaxies"
     ]
    },
    {
     "cell_type": "markdown",
     "metadata": {},
     "source": [
      "The output catalog contains many sources, there is only one main galaxy so we need to adjust the parameter such that we only get the information about the main galaxy of interest."
     ]
    }
   ],
   "metadata": {}
  }
 ]
}