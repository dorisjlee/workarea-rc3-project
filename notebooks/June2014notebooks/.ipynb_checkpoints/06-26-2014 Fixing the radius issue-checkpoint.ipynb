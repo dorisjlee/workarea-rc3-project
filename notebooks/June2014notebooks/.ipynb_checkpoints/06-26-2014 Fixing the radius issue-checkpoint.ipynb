{
 "metadata": {
  "name": "",
  "signature": "sha256:5939478d8d1458474947642549e696b350dde7e0b2aa35fc9aad076a4a1659bb"
 },
 "nbformat": 3,
 "nbformat_minor": 0,
 "worksheets": [
  {
   "cells": [
    {
     "cell_type": "code",
     "collapsed": false,
     "input": [
      "cd ../../withSExtractor/rfits/"
     ],
     "language": "python",
     "metadata": {},
     "outputs": [
      {
       "output_type": "stream",
       "stream": "stdout",
       "text": [
        "/Users/dorislee/Desktop/GSoC2014/workarea-rc3-project/withSExtractor/rfits\n"
       ]
      }
     ],
     "prompt_number": 1
    },
    {
     "cell_type": "code",
     "collapsed": false,
     "input": [
      "#temporarily commented out the if __main__ section so just loading the class\n",
      "from rc3 import *"
     ],
     "language": "python",
     "metadata": {},
     "outputs": [],
     "prompt_number": 2
    },
    {
     "cell_type": "code",
     "collapsed": false,
     "input": [
      "obj = rc3(6.225,6.66027777778,0.0166666667,1566)\n",
      "#SDSS_r_6.225_6.66027777778"
     ],
     "language": "python",
     "metadata": {},
     "outputs": [],
     "prompt_number": 3
    },
    {
     "cell_type": "code",
     "collapsed": false,
     "input": [
      "obj.mosaic_band('r',6.225,6.66027777778,0.0166666667*3,0.0166666667,1566) "
     ],
     "language": "python",
     "metadata": {},
     "outputs": [
      {
       "output_type": "stream",
       "stream": "stdout",
       "text": [
        "------------------mosaic_band----------------------\n",
        "Querying data that lies inside margin\n",
        "['#Table1\\n', 'run,camcol,field\\n', '8049,2,41\\n', '5641,1,37\\n', '5598,2,156\\n', '5641,1,38\\n', '5656,2,57\\n', '7729,2,102\\n', '7729,2,103\\n', '5598,2,157\\n', '5656,2,56\\n']"
       ]
      },
      {
       "output_type": "stream",
       "stream": "stdout",
       "text": [
        "\n",
        "Data contain unclean images\n",
        "[['8049', '2', '41'], ['5641', '1', '37'], ['5598', '2', '156'], ['5641', '1', '38'], ['5656', '2', '57'], ['7729', '2', '102'], ['7729', '2', '103'], ['5598', '2', '157'], ['5656', '2', '56']]\n",
        "Complete Query. These data lies within margin: \n",
        "[['8049', '2', '41'], ['5641', '1', '37'], ['5598', '2', '156'], ['5641', '1', '38'], ['5656', '2', '57'], ['7729', '2', '102'], ['7729', '2', '103'], ['5598', '2', '157'], ['5656', '2', '56']]\n",
        "Retrieving data from SDSS SAS server for rband\n",
        "Creating mosaic for r band."
       ]
      },
      {
       "output_type": "stream",
       "stream": "stdout",
       "text": [
        "\n",
        "Reprojecting images"
       ]
      },
      {
       "output_type": "stream",
       "stream": "stdout",
       "text": [
        "\n",
        "Completed Mosaic for r"
       ]
      },
      {
       "output_type": "stream",
       "stream": "stdout",
       "text": [
        "\n",
        "Completed Mosaic\n"
       ]
      },
      {
       "metadata": {},
       "output_type": "pyout",
       "prompt_number": 5,
       "text": [
        "'SDSS_r_6.225_6.66027777778.fits'"
       ]
      }
     ],
     "prompt_number": 5
    },
    {
     "cell_type": "markdown",
     "metadata": {},
     "source": [
      "I manually measured pixels on ds9 and radius is about 25 but SExtractor only registered 4.9 pixels for margin 3* radius and 3.5 for when the margin is 2*radius. I tried outputting the segmentation map to verify that it is the detected source. "
     ]
    },
    {
     "cell_type": "code",
     "collapsed": false,
     "input": [
      "obj.mosaic_band('r',6.225,6.66027777778,0.0166666667*2,0.0166666667,1566) "
     ],
     "language": "python",
     "metadata": {},
     "outputs": [
      {
       "output_type": "stream",
       "stream": "stdout",
       "text": [
        "------------------mosaic_band----------------------\n",
        "Querying data that lies inside margin\n",
        "['#Table1\\n', 'run,camcol,field\\n', '5598,2,156\\n', '5598,2,157\\n', '5641,1,37\\n', '5641,1,38\\n', '5656,2,57\\n', '7729,2,102\\n', '7729,2,103\\n', '8049,2,41\\n']"
       ]
      },
      {
       "output_type": "stream",
       "stream": "stdout",
       "text": [
        "\n",
        "Data contain unclean images\n",
        "[['5598', '2', '156'], ['5598', '2', '157'], ['5641', '1', '37'], ['5641', '1', '38'], ['5656', '2', '57'], ['7729', '2', '102'], ['7729', '2', '103'], ['8049', '2', '41']]\n",
        "Complete Query. These data lies within margin: \n",
        "[['5598', '2', '156'], ['5598', '2', '157'], ['5641', '1', '37'], ['5641', '1', '38'], ['5656', '2', '57'], ['7729', '2', '102'], ['7729', '2', '103'], ['8049', '2', '41']]\n",
        "Retrieving data from SDSS SAS server for rband\n",
        "Creating mosaic for r band."
       ]
      },
      {
       "output_type": "stream",
       "stream": "stdout",
       "text": [
        "\n",
        "Reprojecting images"
       ]
      },
      {
       "output_type": "stream",
       "stream": "stdout",
       "text": [
        "\n",
        "Completed Mosaic for r"
       ]
      },
      {
       "output_type": "stream",
       "stream": "stdout",
       "text": [
        "\n",
        "Completed Mosaic\n"
       ]
      },
      {
       "metadata": {},
       "output_type": "pyout",
       "prompt_number": 6,
       "text": [
        "'SDSS_r_6.225_6.66027777778.fits'"
       ]
      }
     ],
     "prompt_number": 6
    },
    {
     "cell_type": "code",
     "collapsed": false,
     "input": [
      "sex SDSS_r_6.225_6.66027777778.fits -c default.sex"
     ],
     "language": "python",
     "metadata": {},
     "outputs": []
    },
    {
     "cell_type": "code",
     "collapsed": false,
     "input": [
      "obj = rc3(6.37083333333,20.2375,0.0296379902266,1591)"
     ],
     "language": "python",
     "metadata": {},
     "outputs": [],
     "prompt_number": 7
    },
    {
     "cell_type": "code",
     "collapsed": false,
     "input": [
      "obj"
     ],
     "language": "python",
     "metadata": {},
     "outputs": [
      {
       "metadata": {},
       "output_type": "pyout",
       "prompt_number": 8,
       "text": [
        "<rc3.rc3 instance at 0x10abbdd40>"
       ]
      }
     ],
     "prompt_number": 8
    },
    {
     "cell_type": "code",
     "collapsed": false,
     "input": [
      "obj.mosaic_band('r',6.37083333333,20.2375,0.0296379902266*2,0.0296379902266,1591)"
     ],
     "language": "python",
     "metadata": {},
     "outputs": [
      {
       "output_type": "stream",
       "stream": "stdout",
       "text": [
        "------------------mosaic_band----------------------\n",
        "Querying data that lies inside margin\n",
        "['#Table1\\n', 'run,camcol,field\\n', '8096,4,267\\n', '7923,4,222\\n', '7923,4,221\\n', '8096,4,268\\n']"
       ]
      },
      {
       "output_type": "stream",
       "stream": "stdout",
       "text": [
        "\n",
        "[['8096', '4', '267'], ['7923', '4', '222'], ['7923', '4', '221'], ['8096', '4', '268']]\n",
        "Complete Query. These data lies within margin: \n",
        "[['8096', '4', '267'], ['7923', '4', '222'], ['7923', '4', '221'], ['8096', '4', '268']]\n",
        "Retrieving data from SDSS SAS server for rband\n",
        "Creating mosaic for r band."
       ]
      },
      {
       "output_type": "stream",
       "stream": "stdout",
       "text": [
        "\n",
        "Reprojecting images"
       ]
      },
      {
       "output_type": "stream",
       "stream": "stdout",
       "text": [
        "\n",
        "Completed Mosaic for r"
       ]
      },
      {
       "output_type": "stream",
       "stream": "stdout",
       "text": [
        "\n",
        "Completed Mosaic\n"
       ]
      },
      {
       "metadata": {},
       "output_type": "pyout",
       "prompt_number": 9,
       "text": [
        "'SDSS_r_6.37083333333_20.2375.fits'"
       ]
      }
     ],
     "prompt_number": 9
    },
    {
     "cell_type": "markdown",
     "metadata": {},
     "source": [
      "to output the segmentation map change the setting in default.sex\n",
      "\n",
      "\n",
      "CHECKIMAGE_TYPE  SEGMENTATION           \n",
      "\t\t\t\t\t\t\t\t# can be NONE, BACKGROUND, BACKGROUND_RMS,\n",
      "                                # MINIBACKGROUND, MINIBACK_RMS, -BACKGROUND,\n",
      "                                # FILTERED, OBJECTS, -OBJECTS, SEGMENTATION,\n",
      "                                # or APERTURES\n",
      "CHECKIMAGE_NAME  check.fits     # Filename for the check-image\n",
      " "
     ]
    },
    {
     "cell_type": "code",
     "collapsed": false,
     "input": [
      "obj.mosaic_band('r',6.37083333333,20.2375,0.0296379902266*4,0.0296379902266,1591)"
     ],
     "language": "python",
     "metadata": {},
     "outputs": [
      {
       "output_type": "stream",
       "stream": "stdout",
       "text": [
        "------------------mosaic_band----------------------\n",
        "Querying data that lies inside margin\n",
        "['#Table1\\n', 'run,camcol,field\\n', '8096,4,267\\n', '7923,4,221\\n', '7923,4,222\\n', '8096,4,269\\n', '8096,4,268\\n']"
       ]
      },
      {
       "output_type": "stream",
       "stream": "stdout",
       "text": [
        "\n",
        "[['8096', '4', '267'], ['7923', '4', '221'], ['7923', '4', '222'], ['8096', '4', '269'], ['8096', '4', '268']]\n",
        "Complete Query. These data lies within margin: \n",
        "[['8096', '4', '267'], ['7923', '4', '221'], ['7923', '4', '222'], ['8096', '4', '269'], ['8096', '4', '268']]\n",
        "Retrieving data from SDSS SAS server for rband\n",
        "Creating mosaic for r band."
       ]
      },
      {
       "output_type": "stream",
       "stream": "stdout",
       "text": [
        "\n",
        "Reprojecting images"
       ]
      },
      {
       "output_type": "stream",
       "stream": "stdout",
       "text": [
        "\n",
        "Completed Mosaic for r"
       ]
      },
      {
       "output_type": "stream",
       "stream": "stdout",
       "text": [
        "\n",
        "Completed Mosaic\n"
       ]
      },
      {
       "metadata": {},
       "output_type": "pyout",
       "prompt_number": 5,
       "text": [
        "'SDSS_r_6.37083333333_20.2375.fits'"
       ]
      }
     ],
     "prompt_number": 5
    },
    {
     "cell_type": "code",
     "collapsed": false,
     "input": [
      "os.system(\"sex SDSS_r_6.37083333333_20.2375.fits -c default.sex\")"
     ],
     "language": "python",
     "metadata": {},
     "outputs": [
      {
       "metadata": {},
       "output_type": "pyout",
       "prompt_number": 7,
       "text": [
        "0"
       ]
      }
     ],
     "prompt_number": 7
    },
    {
     "cell_type": "code",
     "collapsed": false,
     "input": [
      "I took a larger margin (4* radius)  so that there is more background . So that the background esitmation is more correct .\n",
      "17.611 is the new radius. Which seemed more reasonable. \n",
      "Although this also causes the inclusion of other sources (almost 9.736 pix galaxy beside it) which would mess up the background level?"
     ],
     "language": "python",
     "metadata": {},
     "outputs": []
    },
    {
     "cell_type": "code",
     "collapsed": false,
     "input": [
      "obj.mosaic_band('r',6.37083333333,20.2375,0.0296379902266*5,0.0296379902266,1591)"
     ],
     "language": "python",
     "metadata": {},
     "outputs": [
      {
       "output_type": "stream",
       "stream": "stdout",
       "text": [
        "------------------mosaic_band----------------------\n",
        "Querying data that lies inside margin\n",
        "['#Table1\\n', 'run,camcol,field\\n', '8096,4,267\\n', '8096,4,269\\n', '7923,4,221\\n', '7923,4,222\\n', '8096,4,268\\n']"
       ]
      },
      {
       "output_type": "stream",
       "stream": "stdout",
       "text": [
        "\n",
        "[['8096', '4', '267'], ['8096', '4', '269'], ['7923', '4', '221'], ['7923', '4', '222'], ['8096', '4', '268']]\n",
        "Complete Query. These data lies within margin: \n",
        "[['8096', '4', '267'], ['8096', '4', '269'], ['7923', '4', '221'], ['7923', '4', '222'], ['8096', '4', '268']]\n",
        "Retrieving data from SDSS SAS server for rband\n",
        "Creating mosaic for r band."
       ]
      },
      {
       "output_type": "stream",
       "stream": "stdout",
       "text": [
        "\n",
        "Reprojecting images"
       ]
      },
      {
       "output_type": "stream",
       "stream": "stdout",
       "text": [
        "\n",
        "Completed Mosaic for r"
       ]
      },
      {
       "output_type": "stream",
       "stream": "stdout",
       "text": [
        "\n",
        "Completed Mosaic\n"
       ]
      },
      {
       "metadata": {},
       "output_type": "pyout",
       "prompt_number": 8,
       "text": [
        "'SDSS_r_6.37083333333_20.2375.fits'"
       ]
      }
     ],
     "prompt_number": 8
    },
    {
     "cell_type": "code",
     "collapsed": false,
     "input": [
      "os.system(\"sex SDSS_r_6.37083333333_20.2375.fits -c default.sex\")"
     ],
     "language": "python",
     "metadata": {},
     "outputs": [
      {
       "metadata": {},
       "output_type": "pyout",
       "prompt_number": 9,
       "text": [
        "0"
       ]
      }
     ],
     "prompt_number": 9
    },
    {
     "cell_type": "code",
     "collapsed": false,
     "input": [
      "The biggest source is 17.628, but there are other sources that are 8 and 13.5"
     ],
     "language": "python",
     "metadata": {},
     "outputs": []
    },
    {
     "cell_type": "code",
     "collapsed": false,
     "input": [
      "#diameter given by RC3\n",
      "0.0296379902266 /2 #degrees"
     ],
     "language": "python",
     "metadata": {},
     "outputs": [
      {
       "metadata": {},
       "output_type": "pyout",
       "prompt_number": 10,
       "text": [
        "0.0148189951133"
       ]
      }
     ],
     "prompt_number": 10
    },
    {
     "cell_type": "code",
     "collapsed": false,
     "input": [
      "0.0148189951133/0.00011003527777777778"
     ],
     "language": "python",
     "metadata": {},
     "outputs": [
      {
       "metadata": {},
       "output_type": "pyout",
       "prompt_number": 11,
       "text": [
        "134.67494618614737"
       ]
      }
     ],
     "prompt_number": 11
    },
    {
     "cell_type": "code",
     "collapsed": false,
     "input": [
      "35*0.00011003527777777778"
     ],
     "language": "python",
     "metadata": {},
     "outputs": [
      {
       "metadata": {},
       "output_type": "pyout",
       "prompt_number": 12,
       "text": [
        "0.003851234722222222"
       ]
      }
     ],
     "prompt_number": 12
    },
    {
     "cell_type": "code",
     "collapsed": false,
     "input": [
      "301-264"
     ],
     "language": "python",
     "metadata": {},
     "outputs": [
      {
       "metadata": {},
       "output_type": "pyout",
       "prompt_number": 13,
       "text": [
        "37"
       ]
      }
     ],
     "prompt_number": 13
    },
    {
     "cell_type": "code",
     "collapsed": false,
     "input": [
      "0.0296379902266"
     ],
     "language": "python",
     "metadata": {},
     "outputs": []
    },
    {
     "cell_type": "code",
     "collapsed": false,
     "input": [
      "#From Navigator\n",
      "#6.371067888561627-6.37083333333"
     ],
     "language": "python",
     "metadata": {},
     "outputs": [],
     "prompt_number": 17
    },
    {
     "cell_type": "code",
     "collapsed": false,
     "input": [
      "20.246082599779893-20.2375"
     ],
     "language": "python",
     "metadata": {},
     "outputs": [
      {
       "metadata": {},
       "output_type": "pyout",
       "prompt_number": 16,
       "text": [
        "0.008582599779892064"
       ]
      }
     ],
     "prompt_number": 16
    },
    {
     "cell_type": "code",
     "collapsed": false,
     "input": [
      "#from NED \n",
      "0.85 arcminute to degree= 0.0141666667 degree"
     ],
     "language": "python",
     "metadata": {},
     "outputs": []
    },
    {
     "cell_type": "code",
     "collapsed": false,
     "input": [
      "0.0141666667/0.00011003527777777778"
     ],
     "language": "python",
     "metadata": {},
     "outputs": [
      {
       "metadata": {},
       "output_type": "pyout",
       "prompt_number": 18,
       "text": [
        "128.74658914943944"
       ]
      }
     ],
     "prompt_number": 18
    },
    {
     "cell_type": "code",
     "collapsed": false,
     "input": [
      "308-264"
     ],
     "language": "python",
     "metadata": {},
     "outputs": [
      {
       "metadata": {},
       "output_type": "pyout",
       "prompt_number": 19,
       "text": [
        "44"
       ]
      }
     ],
     "prompt_number": 19
    },
    {
     "cell_type": "code",
     "collapsed": false,
     "input": [
      "44 *0.00011003527777777778"
     ],
     "language": "python",
     "metadata": {},
     "outputs": [
      {
       "metadata": {},
       "output_type": "pyout",
       "prompt_number": 20,
       "text": [
        "0.004841552222222222"
       ]
      }
     ],
     "prompt_number": 20
    },
    {
     "cell_type": "code",
     "collapsed": false,
     "input": [
      "0.5*0.0166666667"
     ],
     "language": "python",
     "metadata": {},
     "outputs": [
      {
       "metadata": {},
       "output_type": "pyout",
       "prompt_number": 22,
       "text": [
        "0.00833333335"
       ]
      }
     ],
     "prompt_number": 22
    },
    {
     "cell_type": "code",
     "collapsed": false,
     "input": [
      "1 arcminute =\n",
      "0.0166666667 degree"
     ],
     "language": "python",
     "metadata": {},
     "outputs": []
    },
    {
     "cell_type": "code",
     "collapsed": false,
     "input": [
      "# 0.5/0.4"
     ],
     "language": "python",
     "metadata": {},
     "outputs": [],
     "prompt_number": 25
    },
    {
     "cell_type": "code",
     "collapsed": false,
     "input": [
      "0.396127*1/3600"
     ],
     "language": "python",
     "metadata": {},
     "outputs": [
      {
       "metadata": {},
       "output_type": "pyout",
       "prompt_number": 24,
       "text": [
        "0.00011003527777777778"
       ]
      }
     ],
     "prompt_number": 24
    },
    {
     "cell_type": "code",
     "collapsed": false,
     "input": [
      "0.00833333335/(0.396127*1/3600)"
     ],
     "language": "python",
     "metadata": {},
     "outputs": [
      {
       "metadata": {},
       "output_type": "pyout",
       "prompt_number": 29,
       "text": [
        "75.73328770823498"
       ]
      }
     ],
     "prompt_number": 29
    },
    {
     "cell_type": "code",
     "collapsed": false,
     "input": [
      "os.system(\"sex SDSS_r_6.37083333333_20.2375.fits -c default.sex\")"
     ],
     "language": "python",
     "metadata": {},
     "outputs": [
      {
       "metadata": {},
       "output_type": "pyout",
       "prompt_number": 32,
       "text": [
        "0"
       ]
      }
     ],
     "prompt_number": 32
    },
    {
     "cell_type": "heading",
     "level": 3,
     "metadata": {},
     "source": [
      "Pythagorean Method "
     ]
    },
    {
     "cell_type": "code",
     "collapsed": false,
     "input": [
      "FLUX_RADIUS = 17.628\n",
      "X_MIN= 130\n",
      "Y_MIN = 205\n",
      "X_MAX = 425\n",
      "Y_MAX = 388\n",
      "import numpy as np\n",
      "print np.sqrt((X_MAX-X_MIN)**2 + (Y_MAX-Y_MIN)**2)/2."
     ],
     "language": "python",
     "metadata": {},
     "outputs": [
      {
       "output_type": "stream",
       "stream": "stdout",
       "text": [
        "173.57563193\n"
       ]
      }
     ],
     "prompt_number": 41
    },
    {
     "cell_type": "code",
     "collapsed": false,
     "input": [
      "#From the RC3 Catalog radius \n",
      "0.0296379902266/2/0.00011003527777777778 "
     ],
     "language": "python",
     "metadata": {},
     "outputs": [
      {
       "metadata": {},
       "output_type": "pyout",
       "prompt_number": 42,
       "text": [
        "134.67494618614737"
       ]
      }
     ],
     "prompt_number": 42
    },
    {
     "cell_type": "markdown",
     "metadata": {},
     "source": [
      "Line 175 changed return ['@','@',1.5*margin,'@','@'] from 1.5 radius to 1.5 margin since recursively that makes more sense. rc3_radius is static. "
     ]
    },
    {
     "cell_type": "code",
     "collapsed": false,
     "input": [
      "Changed initial run to 3* radius"
     ],
     "language": "python",
     "metadata": {},
     "outputs": []
    },
    {
     "cell_type": "markdown",
     "metadata": {},
     "source": [
      "After implementing the Pythagorean method, the radius became quite good (close to the RC3 ones) althought this is stll relative because it is dependent on what we define as radius, so is not really physically significant but is useful for us to choose galaxy in a relative sense.\n",
      "\n",
      "rc3: 0.0089293275615 , updated: 0.00516034657363\n",
      "rc3: 0.0107354129523 , updated: 0.00658936752477\n",
      "rc3: 0.00417656028858 , updated: 0.00271628168745 \n",
      "rc3: 0.0109854728433 , updated: 0.0076118574186 \n",
      "rc3: 0.0129068051834 , updated: 0.0058279538822"
     ]
    },
    {
     "cell_type": "markdown",
     "metadata": {},
     "source": [
      "$\\frac{RC3- updated}{RC3}$ = percentage error\n"
     ]
    },
    {
     "cell_type": "code",
     "collapsed": false,
     "input": [
      "(0.0089293275615-0.00516034657363)/0.0089293275615\n",
      "+(0.0107354129523-0.00658936752477)/0.0107354129523\n",
      "+(0.00417656028858-0.00271628168745)/ 0.00417656028858\n",
      "+(0.0109854728433 -0.0076118574186 )/0.0109854728433 \n",
      "+(0.0129068051834 - 0.0058279538822)/0.0129068051834 "
     ],
     "language": "python",
     "metadata": {},
     "outputs": [
      {
       "metadata": {},
       "output_type": "pyout",
       "prompt_number": 45,
       "text": [
        "0.5484588324231017"
       ]
      }
     ],
     "prompt_number": 45
    },
    {
     "cell_type": "code",
     "collapsed": false,
     "input": [
      "0.5484588324231017/5*100"
     ],
     "language": "python",
     "metadata": {},
     "outputs": [
      {
       "metadata": {},
       "output_type": "pyout",
       "prompt_number": 47,
       "text": [
        "10.969176648462033"
       ]
      }
     ],
     "prompt_number": 47
    },
    {
     "cell_type": "code",
     "collapsed": false,
     "input": [
      "(0.0089293275615-0.00516034657363)/0.0089293275615"
     ],
     "language": "python",
     "metadata": {},
     "outputs": [
      {
       "metadata": {},
       "output_type": "pyout",
       "prompt_number": 48,
       "text": [
        "0.42209012514228617"
       ]
      }
     ],
     "prompt_number": 48
    },
    {
     "cell_type": "code",
     "collapsed": false,
     "input": [],
     "language": "python",
     "metadata": {},
     "outputs": []
    }
   ],
   "metadata": {}
  }
 ]
}