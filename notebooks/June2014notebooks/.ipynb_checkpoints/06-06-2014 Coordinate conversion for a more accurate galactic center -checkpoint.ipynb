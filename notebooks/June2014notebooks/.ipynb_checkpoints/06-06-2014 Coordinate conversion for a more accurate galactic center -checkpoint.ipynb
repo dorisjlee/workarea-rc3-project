{
 "metadata": {
  "name": ""
 },
 "nbformat": 3,
 "nbformat_minor": 0,
 "worksheets": [
  {
   "cells": [
    {
     "cell_type": "heading",
     "level": 1,
     "metadata": {},
     "source": [
      "Testing how far off-center the galaxy is\n"
     ]
    },
    {
     "cell_type": "markdown",
     "metadata": {},
     "source": [
      "Took a screenshot of the galaxy and uploaded to  Astrometry.net to find the proper galactic name for the object (there's probably a better way to do this)"
     ]
    },
    {
     "cell_type": "code",
     "collapsed": false,
     "input": [
      "ra = 15*x + (y/4) + (z/240) where x archr, y arcmin, z arcsec"
     ],
     "language": "python",
     "metadata": {},
     "outputs": []
    },
    {
     "cell_type": "markdown",
     "metadata": {},
     "source": [
      "02:27:37.50"
     ]
    },
    {
     "cell_type": "code",
     "collapsed": false,
     "input": [
      "15*2+27/4+37.50/240"
     ],
     "language": "python",
     "metadata": {},
     "outputs": [
      {
       "metadata": {},
       "output_type": "pyout",
       "prompt_number": 1,
       "text": [
        "36.15625"
       ]
      }
     ],
     "prompt_number": 1
    },
    {
     "cell_type": "code",
     "collapsed": false,
     "input": [
      "dec = decval + (m/60) + (n/3600)"
     ],
     "language": "python",
     "metadata": {},
     "outputs": []
    },
    {
     "cell_type": "code",
     "collapsed": false,
     "input": [
      "-01\u00c2\u00b009'20.0\""
     ],
     "language": "python",
     "metadata": {},
     "outputs": []
    },
    {
     "cell_type": "code",
     "collapsed": false,
     "input": [
      "0.1+0.9/60+20/3600"
     ],
     "language": "python",
     "metadata": {},
     "outputs": [
      {
       "metadata": {},
       "output_type": "pyout",
       "prompt_number": 2,
       "text": [
        "0.115"
       ]
      }
     ],
     "prompt_number": 2
    },
    {
     "cell_type": "heading",
     "level": 5,
     "metadata": {},
     "source": [
      "archr,min,sec to degree conversion "
     ]
    },
    {
     "cell_type": "code",
     "collapsed": false,
     "input": [],
     "language": "python",
     "metadata": {},
     "outputs": []
    },
    {
     "cell_type": "markdown",
     "metadata": {},
     "source": [
      "From the NED search, (NGC 0864 seems to be an RC3 that lies inside SDSS footprint (Hogg) ) \n",
      "NGC 0864                       02h15m27.6s +06d00m09s"
     ]
    },
    {
     "cell_type": "code",
     "collapsed": false,
     "input": [
      "x= 2\n",
      "y= 15\n",
      "z= 27.6\n",
      "sign = '+'\n",
      "decval = 6 \n",
      "m = 0\n",
      "n = 9\n",
      "ra = 15*x + (y/4) + (z/240) #units of time 0-24 hr,=>degrees, every hour earth spins 15 deg  (4, 240 comes from expaned form from 3600)\n",
      "dec = decval + (m/60) + (n/3600)\n",
      "if sign == '-':\n",
      "    dec = -1*dec \n",
      "print ra \n",
      "print dec"
     ],
     "language": "python",
     "metadata": {},
     "outputs": [
      {
       "output_type": "stream",
       "stream": "stdout",
       "text": [
        "33.115\n",
        "6\n"
       ]
      }
     ],
     "prompt_number": 9
    },
    {
     "cell_type": "code",
     "collapsed": false,
     "input": [],
     "language": "python",
     "metadata": {},
     "outputs": []
    },
    {
     "cell_type": "markdown",
     "metadata": {},
     "source": [
      "I think I know why the thing is off, the values are truncated by integer division in readfile.py. \n",
      "If the given is integer such as the dec above. This is one source of possible off-value, but there might still be the Julian , Bessilian issue."
     ]
    },
    {
     "cell_type": "markdown",
     "metadata": {},
     "source": [
      "Actually, this truncated value is probably minor because the galaxy is quite big (at least in this case)"
     ]
    },
    {
     "cell_type": "code",
     "collapsed": false,
     "input": [
      "x= 2\n",
      "y= 15\n",
      "z= 27.6\n",
      "sign = '+'\n",
      "decval = 6 \n",
      "m = 0\n",
      "n = 9\n",
      "ra = 15.*x + (y/4.) + (z/240.) #units of time 0-24 hr,=>degrees, every hour earth spins 15 deg  (4, 240 comes from expaned form from 3600)\n",
      "dec = decval + (m/60.) + (n/3600.)\n",
      "if sign == '-':\n",
      "    dec = -1*dec \n",
      "print ra \n",
      "print dec"
     ],
     "language": "python",
     "metadata": {},
     "outputs": [
      {
       "output_type": "stream",
       "stream": "stdout",
       "text": [
        "33.865\n",
        "6.0025\n"
       ]
      }
     ],
     "prompt_number": 10
    },
    {
     "cell_type": "markdown",
     "metadata": {},
     "source": [
      "Now I have output for NGC 0864 \n",
      "\n",
      "- readfile.py: 33.8641666667     6.00138888889  \n",
      "- NED search (then degree conversion) 33.865 6.0025\n",
      "- ~~Navigator tool (name search )  33.86517 6.00261~~"
     ]
    },
    {
     "cell_type": "code",
     "collapsed": false,
     "input": [
      "import numpy as np"
     ],
     "language": "python",
     "metadata": {},
     "outputs": [],
     "prompt_number": 15
    },
    {
     "cell_type": "code",
     "collapsed": false,
     "input": [
      "np.array([33.865,6.0025])-np.array([33.8641666667,6.00138888889])"
     ],
     "language": "python",
     "metadata": {},
     "outputs": [
      {
       "metadata": {},
       "output_type": "pyout",
       "prompt_number": 26,
       "text": [
        "array([ 0.00083333,  0.00111111])"
       ]
      }
     ],
     "prompt_number": 26
    },
    {
     "cell_type": "code",
     "collapsed": false,
     "input": [],
     "language": "python",
     "metadata": {},
     "outputs": []
    },
    {
     "cell_type": "heading",
     "level": 5,
     "metadata": {},
     "source": [
      "UGC 04559\n"
     ]
    },
    {
     "cell_type": "code",
     "collapsed": false,
     "input": [
      "Now I have output for NGC 0864 \n",
      "\n",
      "- readfile.py(updated): 131.033333333     30.1186111111      (diameter= 0.0564740261361)\n",
      "- NED search (then degree conversion) 08h44m07.6s +30d07m09s =>131.031666667  30.1191666667\n",
      "- ~~Navigator tool (name search )  131.03171 30.11914~~\n"
     ],
     "language": "python",
     "metadata": {},
     "outputs": []
    },
    {
     "cell_type": "code",
     "collapsed": false,
     "input": [
      "x= 8\n",
      "y= 44\n",
      "z= 7.6\n",
      "sign = '+'\n",
      "decval = 30 \n",
      "m = 7\n",
      "n = 9\n",
      "ra = 15.*x + (y/4.) + (z/240.) #units of time 0-24 hr,=>degrees, every hour earth spins 15 deg  (4, 240 comes from expaned form from 3600)\n",
      "dec = decval + (m/60.) + (n/3600.)\n",
      "if sign == '-':\n",
      "    dec = -1*dec \n",
      "print ra \n",
      "print dec"
     ],
     "language": "python",
     "metadata": {},
     "outputs": [
      {
       "output_type": "stream",
       "stream": "stdout",
       "text": [
        "131.031666667\n",
        "30.1191666667\n"
       ]
      }
     ],
     "prompt_number": 27
    },
    {
     "cell_type": "markdown",
     "metadata": {},
     "source": [
      "Re-running readfile.py for floating point result(should only matter for dec values that are ints (which is  quite common) )"
     ]
    },
    {
     "cell_type": "heading",
     "level": 4,
     "metadata": {},
     "source": [
      "Checking Radius again (Correct) "
     ]
    },
    {
     "cell_type": "code",
     "collapsed": false,
     "input": [
      "6.02825-6.0025 #top"
     ],
     "language": "python",
     "metadata": {},
     "outputs": [
      {
       "metadata": {},
       "output_type": "pyout",
       "prompt_number": 24,
       "text": [
        "0.025749999999999496"
       ]
      }
     ],
     "prompt_number": 24
    },
    {
     "cell_type": "code",
     "collapsed": false,
     "input": [
      "6.0025- 5.9716 #bottom"
     ],
     "language": "python",
     "metadata": {},
     "outputs": [
      {
       "metadata": {},
       "output_type": "pyout",
       "prompt_number": 23,
       "text": [
        "0.030900000000000816"
       ]
      }
     ],
     "prompt_number": 23
    },
    {
     "cell_type": "code",
     "collapsed": false,
     "input": [
      "0.0797716822133/2 #diameter/2"
     ],
     "language": "python",
     "metadata": {},
     "outputs": [
      {
       "metadata": {},
       "output_type": "pyout",
       "prompt_number": 25,
       "text": [
        "0.03988584110665"
       ]
      }
     ],
     "prompt_number": 25
    },
    {
     "cell_type": "markdown",
     "metadata": {},
     "source": [
      "Bessellian \n",
      "\n",
      "- defined as when mean longitude (kind of light ra, but w.r.t elliptic (apparent path of planet)=280 deg\n",
      "- Besselian to Julian conversion : B = 1900.0 + (Julian date \u2212 2415020.31352) / 365.242198781\n",
      "- When using Besselian years, specify which definition is being used. There are many types of Besselian years definiton\n"
     ]
    },
    {
     "cell_type": "markdown",
     "metadata": {},
     "source": [
      "SDSS DR10 uses J2000.0 for ra dec \n",
      "http://skyserver.sdss3.org/dr10/en/tools/chart/chartinfo.aspx"
     ]
    }
   ],
   "metadata": {}
  }
 ]
}