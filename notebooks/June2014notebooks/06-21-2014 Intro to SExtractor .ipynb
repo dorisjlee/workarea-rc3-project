{
 "metadata": {
  "name": "",
  "signature": "sha256:2e612825ff62c78c4a388f4eeee98c0de14002d5e8afb59646071042e075b97d"
 },
 "nbformat": 3,
 "nbformat_minor": 0,
 "worksheets": [
  {
   "cells": [
    {
     "cell_type": "heading",
     "level": 2,
     "metadata": {},
     "source": [
      "Chapter 8 Output Paramters on catalog"
     ]
    },
    {
     "cell_type": "code",
     "collapsed": false,
     "input": [],
     "language": "python",
     "metadata": {},
     "outputs": []
    },
    {
     "cell_type": "markdown",
     "metadata": {},
     "source": [
      "Interested in Astrometric paramter : position of object in image"
     ]
    },
    {
     "cell_type": "markdown",
     "metadata": {},
     "source": [
      " x and y positions (with the exception of \u2019peak\u2019 values) are the barycenters of objects; the weighted mean position.\n",
      " $$\\text{barycenter = 1st order moment} = X = \\frac{\\Sigma I_i x_i}{\\Sigma I_i}$$"
     ]
    },
    {
     "cell_type": "markdown",
     "metadata": {},
     "source": [
      "The first pixel in the left bottom corner of the FITS image is number 1,1 and not 0,0.\n",
      "Beware of unit : pixel or degree."
     ]
    },
    {
     "cell_type": "markdown",
     "metadata": {},
     "source": [
      "In order to use the degress thing, we must use the fit files, (not the color images because they don't have WCS information encoded on them). So I am just going to do it on the g band fit images and assume it holds true for the whole galaxy. "
     ]
    },
    {
     "cell_type": "code",
     "collapsed": false,
     "input": [
      "cd ../../rc3galaxies_9th_run/155.13375,43.0205555556/"
     ],
     "language": "python",
     "metadata": {},
     "outputs": [
      {
       "output_type": "stream",
       "stream": "stdout",
       "text": [
        "/Users/dorislee/Desktop/GSoC2014/workarea-rc3-project/rc3galaxies_9th_run/155.13375,43.0205555556\n"
       ]
      }
     ],
     "prompt_number": 1
    },
    {
     "cell_type": "markdown",
     "metadata": {},
     "source": [
      "So to added the parameters described in Ch 8, you need to uncomment / comment the items inside default.param (or some other parm file that you call on in your config)"
     ]
    },
    {
     "cell_type": "markdown",
     "metadata": {},
     "source": [
      "I am running this on the g band fits file because only that contains WCS info.\n",
      "In geometric parameter the is optio nof choosing 2nd order moment (variance) I'm not sure if that is necessary."
     ]
    },
    {
     "cell_type": "markdown",
     "metadata": {},
     "source": [
      "Isophote : a curve on a chart joining points of equal light intensity from a given source"
     ]
    },
    {
     "cell_type": "markdown",
     "metadata": {},
     "source": [
      "I also had to add in FLUX_RADIUS, which is in pixels but even that, you can see that the galaxy (only one) has the largest radius/. So we can easily eliminate the others (around 1~2 pix)"
     ]
    },
    {
     "cell_type": "code",
     "collapsed": false,
     "input": [
      "ls"
     ],
     "language": "python",
     "metadata": {},
     "outputs": [
      {
       "output_type": "stream",
       "stream": "stdout",
       "text": [
        "SDSS_155.13375_43.0205555556_BEST.tiff  default.conv\r\n",
        "SDSS_155.13375_43.0205555556_LOW.tiff   default.nnw\r\n",
        "SDSS_g_155.13375_43.0205555556.fits     default.param\r\n",
        "SDSS_i_155.13375_43.0205555556.fits     default.sex\r\n",
        "SDSS_r_155.13375_43.0205555556.fits     stiff.xml\r\n",
        "SDSS_u_155.13375_43.0205555556.fits     test.cat\r\n",
        "SDSS_z_155.13375_43.0205555556.fits\r\n"
       ]
      }
     ],
     "prompt_number": 3
    },
    {
     "cell_type": "markdown",
     "metadata": {},
     "source": [
      "This is good because verified with the Navigator. It's center is completely spot on.\n",
      "Now I just need to consider how I can convert pixel to degrees. According to https://www.sdss3.org/dr10/scope.php\n",
      "Individual image field size\t1361x2048 pixels (0.0337 square degrees)"
     ]
    },
    {
     "cell_type": "code",
     "collapsed": false,
     "input": [
      "1361*2048"
     ],
     "language": "python",
     "metadata": {},
     "outputs": [
      {
       "metadata": {},
       "output_type": "pyout",
       "prompt_number": 4,
       "text": [
        "2787328"
       ]
      }
     ],
     "prompt_number": 4
    },
    {
     "cell_type": "code",
     "collapsed": false,
     "input": [
      "0.0337 /2787328 #degree^2 per pixel^2"
     ],
     "language": "python",
     "metadata": {},
     "outputs": [
      {
       "metadata": {},
       "output_type": "pyout",
       "prompt_number": 5,
       "text": [
        "1.2090432127112418e-08"
       ]
      }
     ],
     "prompt_number": 5
    },
    {
     "cell_type": "code",
     "collapsed": false,
     "input": [
      "import math\n",
      "math.sqrt(1.2090432127112418e-08) "
     ],
     "language": "python",
     "metadata": {},
     "outputs": [
      {
       "metadata": {},
       "output_type": "pyout",
       "prompt_number": 9,
       "text": [
        "0.00010995650106797878"
       ]
      }
     ],
     "prompt_number": 9
    },
    {
     "cell_type": "markdown",
     "metadata": {},
     "source": [
      "So 0.0001 degrees per pixel . My FLUX_RADIUS of the galaxy is 13.193 pixels."
     ]
    },
    {
     "cell_type": "code",
     "collapsed": false,
     "input": [
      "0.00010995650106797878*13.193  #[degrees]"
     ],
     "language": "python",
     "metadata": {},
     "outputs": [
      {
       "metadata": {},
       "output_type": "pyout",
       "prompt_number": 11,
       "text": [
        "0.001450656118589844"
       ]
      }
     ],
     "prompt_number": 11
    },
    {
     "cell_type": "code",
     "collapsed": false,
     "input": [
      "3600*0.001450656118589844 #[arcsecond]"
     ],
     "language": "python",
     "metadata": {},
     "outputs": [
      {
       "metadata": {},
       "output_type": "pyout",
       "prompt_number": 12,
       "text": [
        "5.222362026923438"
       ]
      }
     ],
     "prompt_number": 12
    },
    {
     "cell_type": "markdown",
     "metadata": {},
     "source": [
      "This seems to be a reasonable answer. Although I am not too sure about the accuracy of this (i.e. whether to use KRON or PETROSIAN radius) There seems to be a de Valcoleur for RC3 but is not actually an option in the .param file\n",
      "\n",
      ">> WARNING: DEVAUCOULEUR catalog parameter unknown"
     ]
    },
    {
     "cell_type": "markdown",
     "metadata": {},
     "source": [
      "The extraction flags seems a bit irrevelent for the purpose of this project"
     ]
    },
    {
     "cell_type": "code",
     "collapsed": false,
     "input": [
      "So with this knowledge, I can create a program that runs through all the images. Then get the new updated RA Dec values"
     ],
     "language": "python",
     "metadata": {},
     "outputs": []
    },
    {
     "cell_type": "markdown",
     "metadata": {},
     "source": [
      "I will run this on the outer dir of the 8th run because there are more samples there for testing the program "
     ]
    },
    {
     "cell_type": "markdown",
     "metadata": {},
     "source": [
      "find . -name \\\"SDSS_g_*.fits\\\" -type f -exec cp {} ./gfits \\;"
     ]
    },
    {
     "cell_type": "code",
     "collapsed": false,
     "input": [
      "cd rc3galaxies_8th_run_6*radius/gfits"
     ],
     "language": "python",
     "metadata": {},
     "outputs": [
      {
       "output_type": "stream",
       "stream": "stdout",
       "text": [
        "/Users/dorislee/Desktop/GSoC2014/workarea-rc3-project/rc3galaxies_8th_run_6*radius/gfits\n"
       ]
      }
     ],
     "prompt_number": 16
    },
    {
     "cell_type": "code",
     "collapsed": false,
     "input": [
      "cd .."
     ],
     "language": "python",
     "metadata": {},
     "outputs": [
      {
       "output_type": "stream",
       "stream": "stdout",
       "text": [
        "/Users/dorislee/Desktop/GSoC2014/workarea-rc3-project/rc3galaxies_8th_run_6*radius\n"
       ]
      }
     ],
     "prompt_number": 22
    },
    {
     "cell_type": "code",
     "collapsed": false,
     "input": [
      "import os \n",
      "result = [file for root, dir, files in os.walk(\"gfits\") for file in files]\n",
      "# result"
     ],
     "language": "python",
     "metadata": {},
     "outputs": [],
     "prompt_number": 35
    },
    {
     "cell_type": "code",
     "collapsed": false,
     "input": [
      "# import os \n",
      "# os.walk(\"gfits\")\n",
      "# for i in os.walk(\"gfits\"):\n",
      "#     print i.next()"
     ],
     "language": "python",
     "metadata": {},
     "outputs": [],
     "prompt_number": 25
    },
    {
     "cell_type": "markdown",
     "metadata": {},
     "source": [
      "~~I think the catalog is always arranged in order of largest to smallest radius if you put radius as the first item (in column 2) before RA and dec.~~ So I can always just take the biggest one.\n"
     ]
    },
    {
     "cell_type": "code",
     "collapsed": false,
     "input": [
      "list =[1,2,3]\n",
      "max(list)"
     ],
     "language": "python",
     "metadata": {},
     "outputs": [
      {
       "metadata": {},
       "output_type": "pyout",
       "prompt_number": 34,
       "text": [
        "3"
       ]
      }
     ],
     "prompt_number": 34
    },
    {
     "cell_type": "code",
     "collapsed": false,
     "input": [
      "a ='@'"
     ],
     "language": "python",
     "metadata": {},
     "outputs": [],
     "prompt_number": 36
    },
    {
     "cell_type": "code",
     "collapsed": false,
     "input": [
      "a=3"
     ],
     "language": "python",
     "metadata": {},
     "outputs": [],
     "prompt_number": 37
    },
    {
     "cell_type": "code",
     "collapsed": false,
     "input": [
      "a"
     ],
     "language": "python",
     "metadata": {},
     "outputs": [
      {
       "metadata": {},
       "output_type": "pyout",
       "prompt_number": 38,
       "text": [
        "3"
       ]
      }
     ],
     "prompt_number": 38
    },
    {
     "cell_type": "code",
     "collapsed": false,
     "input": [],
     "language": "python",
     "metadata": {},
     "outputs": []
    }
   ],
   "metadata": {}
  }
 ]
}