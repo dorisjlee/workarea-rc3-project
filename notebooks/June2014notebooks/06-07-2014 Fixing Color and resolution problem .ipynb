{
 "metadata": {
  "name": ""
 },
 "nbformat": 3,
 "nbformat_minor": 0,
 "worksheets": [
  {
   "cells": [
    {
     "cell_type": "code",
     "collapsed": false,
     "input": [
      "from IPython.core.display import Image"
     ],
     "language": "python",
     "metadata": {},
     "outputs": [],
     "prompt_number": 2
    },
    {
     "cell_type": "code",
     "collapsed": false,
     "input": [
      "cd MosaicTest/"
     ],
     "language": "python",
     "metadata": {},
     "outputs": [
      {
       "output_type": "stream",
       "stream": "stdout",
       "text": [
        "/Users/doris/Desktop/GSoC2014/workarea-rc3-project/border_algorithm/MosaicTest\n"
       ]
      }
     ],
     "prompt_number": 10
    },
    {
     "cell_type": "code",
     "collapsed": false,
     "input": [
      "Image(\"stiff.jpg\")"
     ],
     "language": "python",
     "metadata": {},
     "outputs": [
      {
       "jpeg": "[encoded data removed]",
       "metadata": {},
       "output_type": "pyout",
       "prompt_number": 12,
       "text": [
        "<IPython.core.display.Image at 0x1053aa5d0>"
       ]
      }
     ],
     "prompt_number": 12
    },
    {
     "cell_type": "heading",
     "level": 3,
     "metadata": {},
     "source": [
      "Fixing resolution "
     ]
    },
    {
     "cell_type": "markdown",
     "metadata": {},
     "source": [
      " I suspect that the resolution is messed up because of the smaller radius value that I used as a paramter to mSubImage. (which make the galaxy's shape better seen (zoomed in)) . So I'm trying to run this again with 0.05 (previous default)"
     ]
    },
    {
     "cell_type": "markdown",
     "metadata": {},
     "source": [
      "The result in MosaicTest0.05 shows no difference. So its not the issue with 0.05 radius adjustment (plus  margin is approx in same order of magnitude)"
     ]
    },
    {
     "cell_type": "markdown",
     "metadata": {},
     "source": [
      "So Now I am trying this on a different galaxy. also submitted a ImageMosaic request to DR10 server to check"
     ]
    },
    {
     "cell_type": "markdown",
     "metadata": {},
     "source": [
      "From looking at the results and the mosaic from image request, it seems like a margin factor of 1.2 is too low, I think its more like 2 or 2.5. Also we can't use default stiff setting because the color_sat is too low.\n"
     ]
    },
    {
     "cell_type": "markdown",
     "metadata": {},
     "source": [
      "I finally fixed the stiff colors with MAX LEVEL MANUAL 20."
     ]
    },
    {
     "cell_type": "markdown",
     "metadata": {},
     "source": [
      "By tryin out all different values of margin, the image did not change at all , which leads me to suspect that the reason why it is not working is mSubImage."
     ]
    },
    {
     "cell_type": "code",
     "collapsed": false,
     "input": [],
     "language": "python",
     "metadata": {},
     "outputs": []
    },
    {
     "cell_type": "markdown",
     "metadata": {},
     "source": [
      "Try this on one of the old galaxies that I have previously made with 0.05 and compare result "
     ]
    },
    {
     "cell_type": "markdown",
     "metadata": {},
     "source": [
      "By comparing with the previous rc3.py, the reason why it is not changing is that I didn't reset the value in mHdr,which \"Connects to the IRSA service HdrTemplate to create a header template based on a location, size, resolution and rotation.\""
     ]
    },
    {
     "cell_type": "markdown",
     "metadata": {},
     "source": [
      "0.05 seems ideal in this situtaion , so using the radius = 0.0418647739422/2."
     ]
    },
    {
     "cell_type": "code",
     "collapsed": false,
     "input": [
      "radius = 0.0418647739422/2."
     ],
     "language": "python",
     "metadata": {},
     "outputs": [],
     "prompt_number": 3
    },
    {
     "cell_type": "code",
     "collapsed": false,
     "input": [
      "radius"
     ],
     "language": "python",
     "metadata": {},
     "outputs": [
      {
       "metadata": {},
       "output_type": "pyout",
       "prompt_number": 5,
       "text": [
        "0.0209323869711"
       ]
      }
     ],
     "prompt_number": 5
    },
    {
     "cell_type": "code",
     "collapsed": false,
     "input": [
      "1.2*(radius *2)\n",
      "#this is not a general rule of thumb because this galaxy is particularly elliptical (elongated)"
     ],
     "language": "python",
     "metadata": {},
     "outputs": [
      {
       "metadata": {},
       "output_type": "pyout",
       "prompt_number": 8,
       "text": [
        "0.050237728730639995"
       ]
      }
     ],
     "prompt_number": 8
    },
    {
     "cell_type": "code",
     "collapsed": false,
     "input": [],
     "language": "python",
     "metadata": {},
     "outputs": []
    }
   ],
   "metadata": {}
  }
 ]
}