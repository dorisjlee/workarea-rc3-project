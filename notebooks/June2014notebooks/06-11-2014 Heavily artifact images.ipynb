{
 "metadata": {
  "name": ""
 },
 "nbformat": 3,
 "nbformat_minor": 0,
 "worksheets": [
  {
   "cells": [
    {
     "cell_type": "markdown",
     "metadata": {},
     "source": [
      "I tried running through the first dozen or so images and they are either very heavily artifacted or the color settings were way off."
     ]
    },
    {
     "cell_type": "markdown",
     "metadata": {},
     "source": [
      "- Turns out I don't need shutil.copyfile in my program. __ find . -name \"*.tiff\" -type f -exec cp {} ./Mosaic \\__ after the files are generated and this goes into each directory and copies the file to the Mosaic directory.\n",
      "- After installing Imagick,  __convert *.tiff pictures.pdf__"
     ]
    },
    {
     "cell_type": "code",
     "collapsed": false,
     "input": [],
     "language": "python",
     "metadata": {},
     "outputs": []
    }
   ],
   "metadata": {}
  }
 ]
}