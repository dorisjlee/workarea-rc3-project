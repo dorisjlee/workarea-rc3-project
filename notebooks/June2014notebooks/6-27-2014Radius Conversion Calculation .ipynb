{
 "metadata": {
  "name": "",
  "signature": "sha256:0ca955204d84aa70421295de7c90fff8fb897d3923e2c595da3b6e57a03de380"
 },
 "nbformat": 3,
 "nbformat_minor": 0,
 "worksheets": [
  {
   "cells": [
    {
     "cell_type": "markdown",
     "metadata": {},
     "source": [
      "According to the catalog description, RC3 galaxies have apparent diameter larger than 1 arcmin but those smaller than 1 arcmin are also included from RC2. So minumium radius of 0.5 arcmin"
     ]
    },
    {
     "cell_type": "markdown",
     "metadata": {},
     "source": [
      "0.5 arcmin * $\\frac{1}{60}\\frac{deg}{arcmin}$ =0.008deg"
     ]
    },
    {
     "cell_type": "markdown",
     "metadata": {},
     "source": [
      "Conversion factor \n",
      "\n",
      "$\\frac{0.4 arcsec}{1 pixel}$*$\\frac{1 degree}{3600 arcsec}$ =0.000111111111 $\\frac{degree}{pixel}$"
     ]
    },
    {
     "cell_type": "markdown",
     "metadata": {},
     "source": [
      "0.008deg * $\\frac{1 pixel}{0.000111111111 degree}$= 72.00000007199999 pixels"
     ]
    },
    {
     "cell_type": "code",
     "collapsed": false,
     "input": [
      "0.1/60/(0.4/3600)"
     ],
     "language": "python",
     "metadata": {},
     "outputs": [
      {
       "metadata": {},
       "output_type": "pyout",
       "prompt_number": 4,
       "text": [
        "15.0"
       ]
      }
     ],
     "prompt_number": 4
    },
    {
     "cell_type": "code",
     "collapsed": false,
     "input": [
      "0.0296379902266/2/(0.4/3600)"
     ],
     "language": "python",
     "metadata": {},
     "outputs": [
      {
       "metadata": {},
       "output_type": "pyout",
       "prompt_number": 5,
       "text": [
        "133.37095601969997"
       ]
      }
     ],
     "prompt_number": 5
    },
    {
     "cell_type": "code",
     "collapsed": false,
     "input": [],
     "language": "python",
     "metadata": {},
     "outputs": []
    }
   ],
   "metadata": {}
  }
 ]
}