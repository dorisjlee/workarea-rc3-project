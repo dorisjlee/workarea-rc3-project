{
 "metadata": {
  "name": ""
 },
 "nbformat": 3,
 "nbformat_minor": 0,
 "worksheets": [
  {
   "cells": [
    {
     "cell_type": "markdown",
     "metadata": {},
     "source": [
      "Ideas\n",
      "Leftovers from Stage 1:\n",
      "\n",
      "- @Just going to ignore centering inaccuracy problem altogether?\n",
      "- @Resolve image artifcats by image processing flags\n",
      "    - Resolve partially uncovered grounds problem \n",
      "- Color problem (too yellow no blue)\n",
      "\n",
      "Next Step :\n",
      "\n",
      "- @Artifact reduction \n",
      "    see MARGIN_2rad_deg_0_17_COLORSAT_2_MAX_MAN_5\n",
      "- @COPY HEADER: set as true so that STIFF copies the \ufb01rst FITS image header to the output TIFF \ufb01le, under the ImageDescription tag\n",
      "- @VoTable:\n",
      "\n",
      "- stiff.xml metadata , printout of stiff.conf and other image configuration . But no actual info about galaxy. (file:///Users/doris/Desktop/GSoC2014/workarea-rc3-project/border_algorithm/MosaicTestVI/stiff.xml)\n",
      "    - \"For more advanced usages (e.g. access from a remote web server), alternative XSLT translation URLs may be speci\ufb01ed using the XSL URL con\ufb01guration parameter\"\n",
      "- @What data we want to serve of ? (what info would be of useful information to other astronomers)\n",
      "    - Optical, IR Spectra?\n",
      "    - \n",
      "-Overarching goal"
     ]
    },
    {
     "cell_type": "code",
     "collapsed": false,
     "input": [],
     "language": "python",
     "metadata": {},
     "outputs": []
    }
   ],
   "metadata": {}
  }
 ]
}