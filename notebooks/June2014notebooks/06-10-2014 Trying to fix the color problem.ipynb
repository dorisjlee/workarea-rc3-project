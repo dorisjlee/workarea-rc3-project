{
 "metadata": {
  "name": ""
 },
 "nbformat": 3,
 "nbformat_minor": 0,
 "worksheets": [
  {
   "cells": [
    {
     "cell_type": "markdown",
     "metadata": {},
     "source": [
      "Parsing in the data files to program"
     ]
    },
    {
     "cell_type": "code",
     "collapsed": false,
     "input": [
      "for line in file(\"rc3_ra_dec_radius_csv(Final).txt\"):\n",
      "    #print line.split()\n",
      "    ra = float(line.split()[0])\n",
      "    dec = float(line.split()[1])\n",
      "    radius = float(line.split()[2])\n",
      "    #print ra\n",
      "    #print dec\n",
      "    #print radius"
     ],
     "language": "python",
     "metadata": {},
     "outputs": [],
     "prompt_number": 13
    },
    {
     "cell_type": "markdown",
     "metadata": {},
     "source": [
      "Create 2 types of images: one enhancing low-surface structure(will be more yellowish, color loss), one is enhances color . Then one or both of these can have the scale bar and annotation."
     ]
    },
    {
     "cell_type": "markdown",
     "metadata": {},
     "source": [
      "Below is code from pixel_hist.py not written by me"
     ]
    },
    {
     "cell_type": "code",
     "collapsed": false,
     "input": [
      "#Below is code from pixel_hist.py not written by me\n",
      "import pyfits\n",
      "from matplotlib import pyplot as pyplt\n",
      "def my_hist_plot(image):\n",
      "\n",
      "    ylen, xlen = image.shape\n",
      "    \n",
      "    # In this method, we trim the pixel list to only hold those pixels\n",
      "    # less than some maximum value (here mean plus three sigma) in order\n",
      "    # to focus on the shape of the distribution function near the peak.\n",
      "    \n",
      "    mean = image.mean()\n",
      "    sigma = image.std()\n",
      "    max_value = mean + 500 * sigma\n",
      "    \n",
      "    # This makes a trimmed pixel list by using a list comprehension\n",
      "    \n",
      "    pixels = [image[j, i] \\\n",
      "        for i in range(xlen) \\\n",
      "        for j in range(ylen) \\\n",
      "        if image[j, i] < max_value]\n",
      "\n",
      "    fig = pyplt.figure()\n",
      "    plt = fig.add_subplot(111)\n",
      "    \n",
      "    plt.hist(pixels, bins=1000, log=True)# Plot the histogram (one line)\n",
      "\n",
      "    plt.set_xlabel(\"Pixel Value\")\n",
      "    plt.set_ylabel(\"Pixel Count\")\n",
      "\n",
      "    plt.set_title(\"Pixel Histogram Plot)\")\n",
      "\n",
      "    # Uncomment next line to show plot on screen\n",
      "    pyplt.show()\n",
      "\n",
      "    pyplt.savefig(\"Coma_i_pixelhist.pdf\")\n",
      "    "
     ],
     "language": "python",
     "metadata": {},
     "outputs": [],
     "prompt_number": 18
    },
    {
     "cell_type": "code",
     "collapsed": false,
     "input": [
      "cd rc3galaxies_2nd_run/"
     ],
     "language": "python",
     "metadata": {},
     "outputs": [
      {
       "output_type": "stream",
       "stream": "stdout",
       "text": [
        "/Users/doris/Desktop/GSoC2014/workarea-rc3-project/rc3galaxies_2nd_run\n"
       ]
      }
     ],
     "prompt_number": 22
    },
    {
     "cell_type": "markdown",
     "metadata": {},
     "source": [
      "Wanted to try 0.195,28.4027777778 but that was yellow to start with "
     ]
    },
    {
     "cell_type": "code",
     "collapsed": false,
     "input": [],
     "language": "python",
     "metadata": {},
     "outputs": []
    }
   ],
   "metadata": {}
  }
 ]
}