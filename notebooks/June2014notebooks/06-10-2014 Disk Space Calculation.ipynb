{
 "metadata": {
  "name": ""
 },
 "nbformat": 3,
 "nbformat_minor": 0,
 "worksheets": [
  {
   "cells": [
    {
     "cell_type": "code",
     "collapsed": false,
     "input": [
      "du -sh*"
     ],
     "language": "python",
     "metadata": {},
     "outputs": [],
     "prompt_number": 1
    },
    {
     "cell_type": "code",
     "collapsed": false,
     "input": [
      "852K\t (0.03625,-6.37472222222) \n",
      "392K\t (0.195,28.4027777778) \n",
      "208K\t (0.25,4.46166666667) \n",
      "396K\t (0.25,4.51166666667) \n",
      "2.6M\t (0.25,6.22833333333) \n",
      "444K\t (0.3,6.32583333333) \n",
      "336K\t (0.306666666667,13.1438888889) \n",
      "488K\t (0.309583333333,34.6758333333) \n",
      "396K\t (0.3325,13.1116666667) \n",
      "1.5M\t (0.333333333333,34.5258333333) \n",
      "408K\t (0.35,5.35055555556) \n",
      "1.8M\t (0.407916666667,26.9227777778) \n",
      "408K\t (0.5,16.585)"
     ],
     "language": "python",
     "metadata": {},
     "outputs": []
    },
    {
     "cell_type": "code",
     "collapsed": false,
     "input": [
      "files=[852,392,208,396,2.6e3,444,336,488,396,1.5e3,408,1.8,408]"
     ],
     "language": "python",
     "metadata": {},
     "outputs": [],
     "prompt_number": 2
    },
    {
     "cell_type": "code",
     "collapsed": false,
     "input": [
      "sum(files)/len(files) "
     ],
     "language": "python",
     "metadata": {},
     "outputs": [
      {
       "metadata": {},
       "output_type": "pyout",
       "prompt_number": 5,
       "text": [
        "648.4461538461538"
       ]
      }
     ],
     "prompt_number": 5
    },
    {
     "cell_type": "markdown",
     "metadata": {},
     "source": [
      "Each directory takes up 648kb on average (only u,g,r,i,z fits and 1 color mosaics)"
     ]
    },
    {
     "cell_type": "markdown",
     "metadata": {},
     "source": [
      "If we want 1 or 2 other images (each~ +50KB), so total ~748kb."
     ]
    },
    {
     "cell_type": "markdown",
     "metadata": {},
     "source": [
      "There are an estimated 9210 rc3 galaxies in SDSS footprint \n",
      "(http://nbviewer.ipython.org/github/dorislee0309/workarea-rc3-project/blob/master/notebooks/May2014notebooks/5-25-2014%20Problem%20of%20Centering%20Image%20%282%29.ipynb)"
     ]
    },
    {
     "cell_type": "code",
     "collapsed": false,
     "input": [
      "9210*648.4461538461538 #KB"
     ],
     "language": "python",
     "metadata": {},
     "outputs": [
      {
       "metadata": {},
       "output_type": "pyout",
       "prompt_number": 7,
       "text": [
        "5972189.076923077"
       ]
      }
     ],
     "prompt_number": 7
    },
    {
     "cell_type": "markdown",
     "metadata": {},
     "source": [
      "which is 5.69552 GB"
     ]
    },
    {
     "cell_type": "markdown",
     "metadata": {},
     "source": [
      "This is surprisingly low, even taking upper bound 1MB average,20000 galaxies=> 20GB."
     ]
    }
   ],
   "metadata": {}
  }
 ]
}