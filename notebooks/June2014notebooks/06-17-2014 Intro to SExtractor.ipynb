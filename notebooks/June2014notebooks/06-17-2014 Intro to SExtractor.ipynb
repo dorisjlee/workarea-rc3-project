{
 "metadata": {
  "name": ""
 },
 "nbformat": 3,
 "nbformat_minor": 0,
 "worksheets": [
  {
   "cells": [
    {
     "cell_type": "heading",
     "level": 2,
     "metadata": {},
     "source": [
      "More Miscellaneous Setup Stuff"
     ]
    },
    {
     "cell_type": "markdown",
     "metadata": {},
     "source": [
      "1) IPython notebook is part of scisoft, but it is not as updated as mines are. Since we are running the default use scisoft bash command at startup. So I just deleted python all together in the scisoft directory and it automatically looked for my other ipython /python installation.\n",
      "\n",
      "2) When I ran SExtractor without any paramerters,\n",
      "\n",
      "> *ERROR*: can't read default.param\n",
      "\n",
      "\n",
      "Same error ecountered here: http://www.astromatic.net/forum/showthread.php?tid=422\n",
      "This is resolved by going into /usr/local/scisoft/packages/sextractor/config and copying all the defult files into the directory you are calling sextractor on. \n",
      "\n",
      "I have set the param , conv...etc path name inside the default.sex file.\n",
      "But whenever I run it I need to specify location of default.sex by : \n",
      "\n",
      "sex SDSS_i_155.925_12.5605555556.fits -c /usr/local/scisoft/packages/sextractor/config/default.sex"
     ]
    },
    {
     "cell_type": "heading",
     "level": 1,
     "metadata": {},
     "source": [
      "Using SExtractor to identify galaxies"
     ]
    },
    {
     "cell_type": "markdown",
     "metadata": {},
     "source": [
      "The output catalog contains many sources, there is only one main galaxy so we need to adjust the parameter such that we only get the information about the main galaxy of interest."
     ]
    },
    {
     "cell_type": "markdown",
     "metadata": {},
     "source": [
      "ADU. Analog-to-digital unit: CCD's output\n",
      "Gain : ADU/ # of electrons registered by CCD"
     ]
    },
    {
     "cell_type": "markdown",
     "metadata": {},
     "source": [
      "In Sec 2.2 of this paper, it describes almost exactly what I have been doing over the last month \n",
      "http://arxiv.org/pdf/1103.5734v3.pdf"
     ]
    },
    {
     "cell_type": "heading",
     "level": 2,
     "metadata": {},
     "source": [
      "Using IMagick to put multiple images in one page"
     ]
    },
    {
     "cell_type": "markdown",
     "metadata": {},
     "source": [
      "The magic command to do this is \"montage\". \n",
      "Then using tile setting :\n",
      "   \n",
      "    -tile {cols}x{rows}\n",
      "The number of images across and down used to fill a single montage image. If more images were read in or created than fits in a single montage image, then multiple images will be created."
     ]
    },
    {
     "cell_type": "code",
     "collapsed": false,
     "input": [
      "montage *.tiff -tile +3+5 montage.pdf #Not sure why this didn't return to me 3 col 5 row."
     ],
     "language": "python",
     "metadata": {},
     "outputs": []
    },
    {
     "cell_type": "markdown",
     "metadata": {},
     "source": [
      "So it turns out that the number you specify must be enough the span all the number of images you have "
     ]
    },
    {
     "cell_type": "code",
     "collapsed": false,
     "input": [
      " ls -l *.tiff | wc -l #This counts the number of mosaics I have which is 516"
     ],
     "language": "python",
     "metadata": {},
     "outputs": []
    },
    {
     "cell_type": "code",
     "collapsed": false,
     "input": [
      "516/3"
     ],
     "language": "python",
     "metadata": {},
     "outputs": [
      {
       "metadata": {},
       "output_type": "pyout",
       "prompt_number": 1,
       "text": [
        "172.0"
       ]
      }
     ],
     "prompt_number": 1
    },
    {
     "cell_type": "markdown",
     "metadata": {},
     "source": [
      "Trying montage *.tiff -tile +3+172  montage_3_172.pdf still yield the same result"
     ]
    },
    {
     "cell_type": "code",
     "collapsed": false,
     "input": [
      "montage *.tiff -tile +3+172 -geometry 16x16+1+1  montage_3_172.pdf\n",
      "#this makes resolution bad because it resizes the tiff files to that geometry too."
     ],
     "language": "python",
     "metadata": {},
     "outputs": []
    },
    {
     "cell_type": "markdown",
     "metadata": {},
     "source": [
      "I made the mistake of using + in tile command where I should be using multiplication x to symbolize dimension, (conta. geometry). It works now"
     ]
    },
    {
     "cell_type": "code",
     "collapsed": false,
     "input": [
      "montage *.tiff -tile 3x172  montage_3_172.pdf"
     ],
     "language": "python",
     "metadata": {},
     "outputs": []
    },
    {
     "cell_type": "markdown",
     "metadata": {},
     "source": [
      "You can also be lazy and only specify one dimension. So that the calculation is done on its own"
     ]
    },
    {
     "cell_type": "code",
     "collapsed": false,
     "input": [
      "montage *.tiff -tile 4x  montage_4_.pdf"
     ],
     "language": "python",
     "metadata": {},
     "outputs": []
    },
    {
     "cell_type": "markdown",
     "metadata": {},
     "source": [
      "I put 4 on a row because then you basically see 2 pairs of images."
     ]
    },
    {
     "cell_type": "code",
     "collapsed": false,
     "input": [],
     "language": "python",
     "metadata": {},
     "outputs": []
    }
   ],
   "metadata": {}
  }
 ]
}