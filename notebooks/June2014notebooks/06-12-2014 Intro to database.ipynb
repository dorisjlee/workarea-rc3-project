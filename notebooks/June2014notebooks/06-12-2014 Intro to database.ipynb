{
 "metadata": {
  "name": ""
 },
 "nbformat": 3,
 "nbformat_minor": 0,
 "worksheets": [
  {
   "cells": [
    {
     "cell_type": "code",
     "collapsed": false,
     "input": [
      "cd database/"
     ],
     "language": "python",
     "metadata": {},
     "outputs": [
      {
       "output_type": "stream",
       "stream": "stdout",
       "text": [
        "/Users/doris/Desktop/GSoC2014/workarea-rc3-project/database\n"
       ]
      }
     ],
     "prompt_number": 4
    },
    {
     "cell_type": "code",
     "collapsed": false,
     "input": [
      "import sqlite3"
     ],
     "language": "python",
     "metadata": {},
     "outputs": [],
     "prompt_number": 5
    },
    {
     "cell_type": "code",
     "collapsed": false,
     "input": [
      "with sqlite3.connect('example.db') as db:\n",
      "    pass"
     ],
     "language": "python",
     "metadata": {},
     "outputs": [],
     "prompt_number": 6
    },
    {
     "cell_type": "code",
     "collapsed": false,
     "input": [
      "ls"
     ],
     "language": "python",
     "metadata": {},
     "outputs": [
      {
       "output_type": "stream",
       "stream": "stdout",
       "text": [
        "database.py  example.db\r\n"
       ]
      }
     ],
     "prompt_number": 7
    },
    {
     "cell_type": "code",
     "collapsed": false,
     "input": [
      "def create_table(db_name,sql): #sql statement that you want to take\n",
      "    with sqlite3.connect('example.db') as db: #open db and do stuff within function. If crashes then connection automatically closed.\n",
      "        cursor = db.cursor() #give latest info about navigate around database\n",
      "        cursor.execute(sql) #execute query\n",
      "        db.commit() #saved\n",
      "        \n",
      "if __name__==\"main\":\n",
      "    db_name=\"coffee_shop.db\"\n",
      "    #create table statement in SQL, ProductID act as primary attribute key\n",
      "    sql = \"\"\"CREATE TABLE Product\n",
      "            (ProductID integer,\n",
      "            Name text,\n",
      "            Price real,\n",
      "            primary key(ProductID)) \n",
      "            \"\"\"\n",
      "    create_table(db_name,sql)"
     ],
     "language": "python",
     "metadata": {},
     "outputs": [],
     "prompt_number": 11
    },
    {
     "cell_type": "code",
     "collapsed": false,
     "input": [],
     "language": "python",
     "metadata": {},
     "outputs": []
    }
   ],
   "metadata": {}
  }
 ]
}