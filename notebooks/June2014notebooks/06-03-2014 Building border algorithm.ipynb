{
 "metadata": {
  "name": ""
 },
 "nbformat": 3,
 "nbformat_minor": 0,
 "worksheets": [
  {
   "cells": [
    {
     "cell_type": "markdown",
     "metadata": {},
     "source": [
      "Trying to figure out a way to get Run Camcol..etc info from given RA, DEC. \n"
     ]
    },
    {
     "cell_type": "markdown",
     "metadata": {},
     "source": [
      "http://data.sdss3.org/sas/dr10/boss/photoObj/frames/301/5087/2/"
     ]
    },
    {
     "cell_type": "markdown",
     "metadata": {},
     "source": [
      "Coverage Check gives you a good result but need to somehow parse this result to obtain the useful data."
     ]
    },
    {
     "cell_type": "code",
     "collapsed": false,
     "input": [],
     "language": "python",
     "metadata": {},
     "outputs": []
    }
   ],
   "metadata": {}
  }
 ]
}