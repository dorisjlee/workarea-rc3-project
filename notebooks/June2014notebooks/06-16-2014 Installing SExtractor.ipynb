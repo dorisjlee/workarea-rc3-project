{
 "metadata": {
  "name": ""
 },
 "nbformat": 3,
 "nbformat_minor": 0,
 "worksheets": [
  {
   "cells": [
    {
     "cell_type": "markdown",
     "metadata": {},
     "source": [
      "It turns out that SExtractor installation was just as much of a hassle as Stiff. Dependency on Fortran, ATLAS and FFTW. So I decided to just use fink for it. \n",
      "http://okomestudio.net/biboroku/?p=824"
     ]
    },
    {
     "cell_type": "code",
     "collapsed": false,
     "input": [
      "fink install sextractor"
     ],
     "language": "python",
     "metadata": {},
     "outputs": []
    },
    {
     "cell_type": "markdown",
     "metadata": {},
     "source": [
      "But fink didn't work because of some init path issue"
     ]
    },
    {
     "cell_type": "markdown",
     "metadata": {},
     "source": [
      "now I am using macport to install ATLAS and FFTW"
     ]
    },
    {
     "cell_type": "markdown",
     "metadata": {},
     "source": [
      "After spending 3 tortuous hours of broken installation with fink,macport, brew. In order to install atlas, which required gcc and gfortran (fortran compilers) they were clearly installed but not detected. Brew had link problems. macport had sextractor but no gcc. it was very confusing. These links were helpful but didn't help, because they all broke in one step or another. \n",
      "\n",
      "- https://github.com/jonathansick/dotfiles/wiki/Notes-for-Mac-OS-X\n",
      "- http://osxastrotricks.wordpress.com/2010/07/19/new-mac-setup/\n",
      "- http://www2.lowell.edu/users/massey/Macsoftware.html#Sextract"
     ]
    },
    {
     "cell_type": "markdown",
     "metadata": {},
     "source": [
      "Sucessful installation by :\n",
      "    \n",
      "    - Installing Scisoft http://www.stsci.edu/~npirzkal/Scisoft/downloads/Intel/ \n",
      "        - downloaded the 10.8 version it is a pkg file so easy GUI installation.\n",
      "    - After sucessful information you need to cd.. out everything (even out of doris/ to another doris/User) and then \n",
      "    - cd usr/local/scisoft/bin\n",
      "    - If you do ls, you will see just how much application is included in the package (2GB or so, but can delete ones that is not necessary)\n",
      "    - you can't really run these applications yet"
     ]
    },
    {
     "cell_type": "markdown",
     "metadata": {},
     "source": [
      "Below is part of the Special Information that they had (this pops away after pkg installation , so I copied them down)"
     ]
    },
    {
     "cell_type": "markdown",
     "metadata": {},
     "source": [
      "\n",
      "1) All applications will be installed in a directory /usr/local/scisoft and should not affect any software you might have installed, included anything from Fink. You get to decide when you want to start using scisoft tasks by sourcing a single file (Setup.csh or Setup.bash). This places the  /usr/local/scisoft/bin directory on your PATH in such a way that software in scisoft will be found and run before any other pre-installed versions of software (such as Fink tasks, or even a pre-existing version of IRAF installed somewhere else on your system).\n",
      "\n",
      "\n",
      "\n",
      "2) Once the collection is successfully installed csh and tcsh users should invoke the command:\n",
      "\n",
      "\n",
      "\n",
      "     source  /usr/local/scisoft//bin/Setup.csh\n",
      "\n",
      "\n",
      "\n",
      "to gain access to all the software and configure their environment correctly. \n",
      "\n",
      "\n",
      "\n",
      "Users of the \"bash\" shell should instead use:\n",
      "\n",
      "\n",
      "\n",
      "     .  /usr/loca/scisoft//bin/Setup.bash\n",
      "\n",
      "\n",
      "\n",
      "These commands may be conveniently added to an appropriate startup file such as .cshrc/.tcshrc (for csh and tcsh) and .profile (for bash) or the system-wide equivalents.\n",
      "\n",
      "\n",
      "\n",
      "3) All the other items not listed below do not need any additional installation and automatically are available.\n",
      "\n",
      "\n",
      "\n",
      "5) You can remove subdirectories from /scisoft if you want to save some space. For example, you can delete /usr/local/scisoft/midas if you do not plan to use midas. No modification of the Setup scripts should be required and everything else should continue to work as before.\n",
      "\n",
      "\n",
      "\n",
      "6) Special IRAF Note: \n",
      "\n",
      "There is not need to run the IRAF install script.\n"
     ]
    },
    {
     "cell_type": "markdown",
     "metadata": {},
     "source": [
      "http://scisoftosx.dyndns.org/\n",
      "Basically after installation you need to go to your .profile and copy and paste everything from Setup.bash into there. (becareful vim sometimes cuts off some of \"export\" first few words)\n",
      "In my current setting , on my terminal startup I simply call on .bash_profile, which has a PATH in the first line that refers it to .profile, where all the setup code is located at. \n",
      "To test, just type \"sex\" in terminal, if there is the author and intro blurb it is sucessfully linked . If not then too bad..."
     ]
    },
    {
     "cell_type": "markdown",
     "metadata": {},
     "source": [
      "In Preferences in terminal, you can also do run command at startup where I do \" cd /Users/doris/anaconda/envs/py33dev/bin;source activate py33dev;cd ~/Desktop/\""
     ]
    },
    {
     "cell_type": "code",
     "collapsed": false,
     "input": [],
     "language": "python",
     "metadata": {},
     "outputs": []
    }
   ],
   "metadata": {}
  }
 ]
}