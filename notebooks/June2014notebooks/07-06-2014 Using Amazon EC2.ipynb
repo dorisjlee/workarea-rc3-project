{
 "metadata": {
  "name": "",
  "signature": "sha256:28b201d368ef5bc37c5d7204606ab40c7fe01686af9dd2574f3840b196350977"
 },
 "nbformat": 3,
 "nbformat_minor": 0,
 "worksheets": [
  {
   "cells": [
    {
     "cell_type": "code",
     "collapsed": false,
     "input": [
      "sudo yum install git\n",
      "sudo yum install "
     ],
     "language": "python",
     "metadata": {},
     "outputs": []
    }
   ],
   "metadata": {}
  }
 ]
}