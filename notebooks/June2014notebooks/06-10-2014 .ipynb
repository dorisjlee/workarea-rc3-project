{
 "metadata": {
  "name": ""
 },
 "nbformat": 3,
 "nbformat_minor": 0,
 "worksheets": [
  {
   "cells": [
    {
     "cell_type": "markdown",
     "metadata": {},
     "source": [
      "Parsing in the data files to program"
     ]
    },
    {
     "cell_type": "code",
     "collapsed": false,
     "input": [
      "for line in file(\"rc3_ra_dec_radius_csv(Final).txt\"):\n",
      "    #print line.split()\n",
      "    ra = float(line.split()[0])\n",
      "    dec = float(line.split()[1])\n",
      "    radius = float(line.split()[2])\n",
      "    #print ra\n",
      "    #print dec\n",
      "    #print radius"
     ],
     "language": "python",
     "metadata": {},
     "outputs": [],
     "prompt_number": 13
    },
    {
     "cell_type": "code",
     "collapsed": false,
     "input": [],
     "language": "python",
     "metadata": {},
     "outputs": []
    }
   ],
   "metadata": {}
  }
 ]
}