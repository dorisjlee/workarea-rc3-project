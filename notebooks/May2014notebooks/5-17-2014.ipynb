{
 "metadata": {
  "name": ""
 },
 "nbformat": 3,
 "nbformat_minor": 0,
 "worksheets": [
  {
   "cells": [
    {
     "cell_type": "raw",
     "metadata": {},
     "source": [
      "Tried installing ginga \n",
      "    - error opening it\n",
      "    - emailed error report\n",
      "Created greyscale image "
     ]
    }
   ],
   "metadata": {}
  }
 ]
}