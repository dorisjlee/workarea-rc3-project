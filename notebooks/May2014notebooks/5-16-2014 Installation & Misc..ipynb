{
 "metadata": {
  "name": ""
 },
 "nbformat": 3,
 "nbformat_minor": 0,
 "worksheets": [
  {
   "cells": [
    {
     "cell_type": "raw",
     "metadata": {},
     "source": [
      "Project Overview \n",
      "\" We would like to update and improve on their work, by using the more recent SDSS data reductions to make both the color images as well as scientifically calibrated image mosaics for each galaxy in the RC3 catalog that lies within the SDSS footprint.\"\n",
      "\n",
      "Most likely we will develop a Python program to call Montage iteratively on the data needed to build each RC3 galaxy that lies with in the SDSS footprint. We will then build a color image by using STIFF. This project is not conceptually difficult, but doing right will take patience and good record-keeping. All files will eventually be served off the LCDM website.\n",
      "\n",
      "Starting Conditions\n",
      "\n",
      "We have made many composite images from SDSS, so the basic knowledge of doing this with SDSS exists (as do various scripts), see Figure 1 for example, which is m101 made from the SDSS.\n",
      "Swarp\n",
      "    - resampling (estimate sample precision)\n",
      "    \n",
      "Question\n",
      "    - only making mosaic ? or also searching for other galaxies in SDSS data?\n",
      "    - SDSS Pipeline data reduction"
     ]
    },
    {
     "cell_type": "raw",
     "metadata": {},
     "source": [
      "Installation\n",
      "    - Montage core package (make; comes with dependency libraries http://montage.ipac.caltech.edu/docs/build.html)\n",
      "    - "
     ]
    },
    {
     "cell_type": "raw",
     "metadata": {},
     "source": [
      "Montage Installation\n",
      "    - kind of a fuss because apparently the C code compiler \n",
      "    - there seemed to be lots of warning, but it is negligible\n",
      "    - but what is crashing is the program the \"error\" , basically just wrong return type\n",
      "    - after various searches, I found the patch on macports\n",
      "- http://trac.macports.org/attachment/ticket/41076/patch-lib-src-two_plane_v1.1-initdistdata.c.diff\n",
      "- http://trac.macports.org/ticket/41076\n",
      "- https://www.google.com/search?q=error%3A+non-void+function+%27closefitsfile%27+should+return+a+value+%5B-Wreturn-type%5D+montage&rlz=1C5CHFA_enTW569TW569&oq=error%3A+non-void+function+%27closefitsfile%27+should+return+a+value+%5B-Wreturn-type%5D+montage&aqs=chrome..69i57j69i58.3027j0j7&sourceid=chrome&es_sm=91&ie=UTF-8\n",
      "- Lesson learned: C is low level machine dependent so \"make\" sucessfully builds on other OS but not OSX Maverick "
     ]
    },
    {
     "cell_type": "code",
     "collapsed": false,
     "input": [
      "lib/src/two_plane_v1.1/initdistdata.c\n",
      "old\t new\t \n",
      "28\t28\t  if (I_fits_return_status != 0) \n",
      "29\t29\t  { \n",
      "30\t30\t     fprintf(stderr, \"Error closing file\\n\"); \n",
      "31\t \t     return; #Old code, BAD!!!\n",
      " \t31\t     return -1; \n",
      "32\t32\t  } \n",
      "33\t \t  return;     #Old code, BAD!!!\n",
      " \t33\t  return 0; \n",
      "34\t34\t} "
     ],
     "language": "python",
     "metadata": {},
     "outputs": []
    },
    {
     "cell_type": "raw",
     "metadata": {},
     "source": [
      "Things to look at later \n",
      "    - http://nbviewer.ipython.org/github/esc/scipy2013-tutorial-numpy-ipython/blob/master/ipython.ipynb\n",
      "    - Go through Part I,II,II of these for fun\n",
      "        - https://conference.scipy.org/scipy2013/tutorial_detail.php?id=104\n",
      "\n",
      "\n",
      "    - Install montage-wrapper for python \n",
      "    "
     ]
    },
    {
     "cell_type": "code",
     "collapsed": false,
     "input": [
      "    "
     ],
     "language": "python",
     "metadata": {},
     "outputs": []
    }
   ],
   "metadata": {}
  }
 ]
}