{
 "metadata": {
  "name": ""
 },
 "nbformat": 3,
 "nbformat_minor": 0,
 "worksheets": [
  {
   "cells": [
    {
     "cell_type": "raw",
     "metadata": {},
     "source": [
      "http://montage.ipac.caltech.edu/docs/m101tutorial.html\n",
      "J band from 2MASS"
     ]
    },
    {
     "cell_type": "markdown",
     "metadata": {},
     "source": [
      "TAN projection : tangent plane  projection, coord at center of tangent plane, position w.r.t infinity\n",
      "http://lambda.gsfc.nasa.gov/product/iras/coordproj.cfm"
     ]
    },
    {
     "cell_type": "raw",
     "metadata": {},
     "source": [
      "What is a \"area image\" ?\n",
      "\n",
      "area images are coadded together by Montage to form mosaic. Only exist temporaily during process of mosaic creation."
     ]
    },
    {
     "cell_type": "raw",
     "metadata": {},
     "source": [
      "Initial file has 5 folders. Only raw has original FIT data content. Other files are empty and will be filled during the progress.\n"
     ]
    },
    {
     "cell_type": "heading",
     "level": 2,
     "metadata": {},
     "source": [
      "Image Projection"
     ]
    },
    {
     "cell_type": "raw",
     "metadata": {},
     "source": [
      "- mapping total energy of an area of the sky ---> redistribute to output pixel\n",
      "- must preserve both input pixel energy AND positional (astrometric) info\n",
      "- Ex ) Aitoff projection, Cartesian projection\n",
      "- Montage: projection onto celestial sphere\n",
      "    - forward projection simple\n",
      "    - simplify problem to finding area of overlapping polygon\n",
      "        - Girard's Theorem\n",
      "        -\"drizzle\" algorithm"
     ]
    },
    {
     "cell_type": "heading",
     "level": 2,
     "metadata": {},
     "source": [
      "Fast Reprojection Algorithm"
     ]
    },
    {
     "cell_type": "raw",
     "metadata": {},
     "source": [
      "Purpose: pixel coordinates in the input pixel coordinate --> coordinates on the sky ---> image pixel space                                                  (measuring energy distribution of some patch)   (WC3, think of as long. & lat. ) (actual pixel layout on image)\n",
      "- limit to case where both output and input is tangent sphere\n",
      "- plane-to-sky approach (?)\n"
     ]
    },
    {
     "cell_type": "heading",
     "level": 4,
     "metadata": {},
     "source": [
      "Distorted Gnomic technique (TAN)"
     ]
    },
    {
     "cell_type": "raw",
     "metadata": {},
     "source": [
      "\n",
      "For High res. , small sky coverage images,\n",
      "    - approx by gnomnic projection\n",
      "    - pixel locations are \"distorted\" by small distances relative to the plane used in the image projection formulae\n",
      "    - correction stored in FITS header \n",
      "- original purpose : decrease instrumentation error effects\n",
      "- Also used for reprojection\n",
      "    - polynomial correction highly accurate\n",
      "    - Higher order terms can be ignored"
     ]
    },
    {
     "cell_type": "code",
     "collapsed": false,
     "input": [
      "#Create a metatable describing the contents of rawdir\n",
      "mImgtbl rawdir images-rawdir.tbl"
     ],
     "language": "python",
     "metadata": {},
     "outputs": []
    },
    {
     "cell_type": "markdown",
     "metadata": {},
     "source": [
      "- mProjExec recursively calls mProj on every item in the metatable\n",
      "- mProj creates the reprojected image and an \"area\" image consisting of the fraction input pixel sky area that went into each output pixel.\n"
     ]
    },
    {
     "cell_type": "code",
     "collapsed": false,
     "input": [
      "mProjExec -p rawdir images-rawdir.tbl template.hdr projdir stats.tbl"
     ],
     "language": "python",
     "metadata": {},
     "outputs": []
    },
    {
     "cell_type": "code",
     "collapsed": false,
     "input": [
      "#create a new set of reprojected images in projdir\n",
      "#generate metatable table from new header info\n",
      "mImgtbl projdir images.tbl"
     ],
     "language": "python",
     "metadata": {},
     "outputs": []
    },
    {
     "cell_type": "markdown",
     "metadata": {},
     "source": [
      "I dont think I quite understand what the purpose of reprojecting the image is? And its relation to metatable."
     ]
    },
    {
     "cell_type": "code",
     "collapsed": false,
     "input": [
      "#mAdd is for generating mosaic by adding together reprojected images \n",
      "mAdd -p projdir images.tbl template.hdr final/m101_uncorrected.fits\n",
      "# -p specifies to look for files not in current working directory but specified PATH \n"
     ],
     "language": "python",
     "metadata": {},
     "outputs": []
    },
    {
     "cell_type": "code",
     "collapsed": false,
     "input": [
      "cd .."
     ],
     "language": "python",
     "metadata": {},
     "outputs": [
      {
       "output_type": "stream",
       "stream": "stdout",
       "text": [
        "/Users/doris/Desktop/GSoC2014/workarea-rc3-project\n"
       ]
      }
     ],
     "prompt_number": 2
    },
    {
     "cell_type": "code",
     "collapsed": false,
     "input": [
      "ls"
     ],
     "language": "python",
     "metadata": {},
     "outputs": [
      {
       "output_type": "stream",
       "stream": "stdout",
       "text": [
        "Montage_v3.3.tar   \u001b[34mm101\u001b[m\u001b[m/              \u001b[34mpleiades_tutorial\u001b[m\u001b[m/\r\n",
        "README.md          \u001b[34mnotebooks\u001b[m\u001b[m/\r\n"
       ]
      }
     ],
     "prompt_number": 3
    },
    {
     "cell_type": "code",
     "collapsed": false,
     "input": [
      "cd m101/\n"
     ],
     "language": "python",
     "metadata": {},
     "outputs": [
      {
       "output_type": "stream",
       "stream": "stdout",
       "text": [
        "/Users/doris/Desktop/GSoC2014/workarea-rc3-project/m101\n"
       ]
      }
     ],
     "prompt_number": 4
    },
    {
     "cell_type": "code",
     "collapsed": false,
     "input": [
      "ls"
     ],
     "language": "python",
     "metadata": {},
     "outputs": [
      {
       "output_type": "stream",
       "stream": "stdout",
       "text": [
        "\u001b[34mcorrdir\u001b[m\u001b[m/           images-rawdir.tbl  \u001b[34mprojdir\u001b[m\u001b[m/           template.hdr\r\n",
        "\u001b[34mdiffdir\u001b[m\u001b[m/           images.tbl         \u001b[34mrawdir\u001b[m\u001b[m/\r\n",
        "\u001b[34mfinal\u001b[m\u001b[m/             \u001b[34mmosaicdir\u001b[m\u001b[m/         stats.tbl\r\n"
       ]
      }
     ],
     "prompt_number": 5
    },
    {
     "cell_type": "code",
     "collapsed": false,
     "input": [
      "cd final/"
     ],
     "language": "python",
     "metadata": {},
     "outputs": [
      {
       "output_type": "stream",
       "stream": "stdout",
       "text": [
        "/Users/doris/Desktop/GSoC2014/workarea-rc3-project/m101/final\n"
       ]
      }
     ],
     "prompt_number": 6
    },
    {
     "cell_type": "code",
     "collapsed": false,
     "input": [
      "ls"
     ],
     "language": "python",
     "metadata": {},
     "outputs": [
      {
       "output_type": "stream",
       "stream": "stdout",
       "text": [
        "m101_uncorrected.fits       m101_uncorrected_area.fits\r\n"
       ]
      }
     ],
     "prompt_number": 7
    },
    {
     "cell_type": "code",
     "collapsed": false,
     "input": [
      "#create a greyscale JPEG image\n",
      "mJPEG -gray final/m101_uncorrected.fits 20% 99.98% loglog -out final/m101_uncorrected.jpg\n",
      "#the two numbers specify upper/lower pixel values for image stretching "
     ],
     "language": "python",
     "metadata": {},
     "outputs": [],
     "prompt_number": 9
    },
    {
     "cell_type": "raw",
     "metadata": {},
     "source": [
      "    Not sure why my images don't look like the one they have on the example, but lets see if background modelling helps "
     ]
    },
    {
     "cell_type": "code",
     "collapsed": false,
     "input": [
      "#mOverlaps looks at images.tbl and determine if any of the regions (specified by the coordinates) are overlapping\n",
      "#returns a list of overlapping images from identifying image pairs that lies in another image's boundary\n",
      "mOverlaps images.tbl diffs.tbl"
     ],
     "language": "python",
     "metadata": {},
     "outputs": []
    },
    {
     "cell_type": "markdown",
     "metadata": {},
     "source": [
      "http://montage.ipac.caltech.edu/docs/algorithms.html#background"
     ]
    },
    {
     "cell_type": "raw",
     "metadata": {},
     "source": []
    },
    {
     "cell_type": "code",
     "collapsed": false,
     "input": [
      "#mDiffExec uses this file to subtract each pair of overlapping images, creating a set of difference images in the specified diffdir subdirectory:\n",
      "#runs mDiff on all the files \n",
      "mDiffExec -p projdir diffs.tbl template.hdr diffdir\n",
      "#calculate plane-fitting coefficient\n",
      "mFitExec diffs.tbl fits.tbl diffdir\n",
      "#fits.tbl is the plane-fitting metadata table"
     ],
     "language": "python",
     "metadata": {},
     "outputs": []
    },
    {
     "cell_type": "raw",
     "metadata": {},
     "source": [
      "By observing the output FITS in Ginga, it is clear that the boundaries are subtracted off."
     ]
    },
    {
     "cell_type": "raw",
     "metadata": {},
     "source": [
      "Apply background removal to original reprojected images,"
     ]
    },
    {
     "cell_type": "code",
     "collapsed": false,
     "input": [
      "#tried doing this but didn't work\n",
      "mBgExec -p projdir images.tbl corrections.tbl corrdir\n",
      "#also used -d flag but don't understand the output message"
     ],
     "language": "python",
     "metadata": {},
     "outputs": []
    },
    {
     "cell_type": "code",
     "collapsed": false,
     "input": [
      "[mTblSort images.tbl cntr corrdir/IMGTBL2YyKbb]\n",
      "[mTblSort corrections.tbl id corrdir/CORTBLhpuEgy]\n",
      "[struct stat=\"ERROR\", msg=\"Cannot open input file\"]"
     ],
     "language": "python",
     "metadata": {},
     "outputs": []
    },
    {
     "cell_type": "code",
     "collapsed": false,
     "input": [
      "cd .."
     ],
     "language": "python",
     "metadata": {},
     "outputs": [
      {
       "output_type": "stream",
       "stream": "stdout",
       "text": [
        "/Users/doris/Desktop/GSoC2014/workarea-rc3-project/m101\n"
       ]
      }
     ],
     "prompt_number": 10
    },
    {
     "cell_type": "code",
     "collapsed": false,
     "input": [
      "import montage_wrapper as montage"
     ],
     "language": "python",
     "metadata": {},
     "outputs": [],
     "prompt_number": 12
    },
    {
     "cell_type": "code",
     "collapsed": false,
     "input": [
      "montage.mBgExec('images.tbl','corrections.tbl','corrdir')"
     ],
     "language": "python",
     "metadata": {},
     "outputs": [
      {
       "ename": "MontageError",
       "evalue": "mBgExec: Cannot open input file",
       "output_type": "pyerr",
       "traceback": [
        "\u001b[0;31m---------------------------------------------------------------------------\u001b[0m\n\u001b[0;31mMontageError\u001b[0m                              Traceback (most recent call last)",
        "\u001b[0;32m<ipython-input-13-4ee4df9d92ff>\u001b[0m in \u001b[0;36m<module>\u001b[0;34m()\u001b[0m\n\u001b[0;32m----> 1\u001b[0;31m \u001b[0mmontage\u001b[0m\u001b[0;34m.\u001b[0m\u001b[0mmBgExec\u001b[0m\u001b[0;34m(\u001b[0m\u001b[0;34m'images.tbl'\u001b[0m\u001b[0;34m,\u001b[0m\u001b[0;34m'corrections.tbl'\u001b[0m\u001b[0;34m,\u001b[0m\u001b[0;34m'corrdir'\u001b[0m\u001b[0;34m)\u001b[0m\u001b[0;34m\u001b[0m\u001b[0m\n\u001b[0m",
        "\u001b[0;32m/Users/doris/anaconda/envs/py33dev/lib/python3.3/site-packages/montage_wrapper/commands.py\u001b[0m in \u001b[0;36mmBgExec\u001b[0;34m(images_table, corrections_table, corr_dir, proj_dir, status_file, debug, no_area, mpi, n_proc)\u001b[0m\n\u001b[1;32m    486\u001b[0m     \u001b[0;32mif\u001b[0m \u001b[0mstderr\u001b[0m\u001b[0;34m:\u001b[0m\u001b[0;34m\u001b[0m\u001b[0m\n\u001b[1;32m    487\u001b[0m         \u001b[0;32mraise\u001b[0m \u001b[0mException\u001b[0m\u001b[0;34m(\u001b[0m\u001b[0mstderr\u001b[0m\u001b[0;34m)\u001b[0m\u001b[0;34m\u001b[0m\u001b[0m\n\u001b[0;32m--> 488\u001b[0;31m     \u001b[0;32mreturn\u001b[0m \u001b[0mstatus\u001b[0m\u001b[0;34m.\u001b[0m\u001b[0mparse_struct\u001b[0m\u001b[0;34m(\u001b[0m\u001b[0;34m\"mBgExec\"\u001b[0m\u001b[0;34m,\u001b[0m \u001b[0mp\u001b[0m\u001b[0;34m.\u001b[0m\u001b[0mstdout\u001b[0m\u001b[0;34m.\u001b[0m\u001b[0mread\u001b[0m\u001b[0;34m(\u001b[0m\u001b[0;34m)\u001b[0m\u001b[0;34m.\u001b[0m\u001b[0mstrip\u001b[0m\u001b[0;34m(\u001b[0m\u001b[0;34m)\u001b[0m\u001b[0;34m)\u001b[0m\u001b[0;34m\u001b[0m\u001b[0m\n\u001b[0m\u001b[1;32m    489\u001b[0m \u001b[0;34m\u001b[0m\u001b[0m\n\u001b[1;32m    490\u001b[0m \u001b[0;34m\u001b[0m\u001b[0m\n",
        "\u001b[0;32m/Users/doris/anaconda/envs/py33dev/lib/python3.3/site-packages/montage_wrapper/status.py\u001b[0m in \u001b[0;36mparse_struct\u001b[0;34m(command, string)\u001b[0m\n\u001b[1;32m     31\u001b[0m     \u001b[0;32melse\u001b[0m\u001b[0;34m:\u001b[0m\u001b[0;34m\u001b[0m\u001b[0m\n\u001b[1;32m     32\u001b[0m         \u001b[0;32mif\u001b[0m \u001b[0;34m'struct'\u001b[0m \u001b[0;32min\u001b[0m \u001b[0mstring\u001b[0m\u001b[0;34m:\u001b[0m\u001b[0;34m\u001b[0m\u001b[0m\n\u001b[0;32m---> 33\u001b[0;31m             \u001b[0mresult\u001b[0m \u001b[0;34m=\u001b[0m \u001b[0mStruct\u001b[0m\u001b[0;34m(\u001b[0m\u001b[0mcommand\u001b[0m\u001b[0;34m,\u001b[0m \u001b[0mstring\u001b[0m\u001b[0;34m)\u001b[0m\u001b[0;34m\u001b[0m\u001b[0m\n\u001b[0m\u001b[1;32m     34\u001b[0m         \u001b[0;32melse\u001b[0m\u001b[0;34m:\u001b[0m\u001b[0;34m\u001b[0m\u001b[0m\n\u001b[1;32m     35\u001b[0m             \u001b[0mprint\u001b[0m\u001b[0;34m(\u001b[0m\u001b[0mstring\u001b[0m\u001b[0;34m)\u001b[0m\u001b[0;34m\u001b[0m\u001b[0m\n",
        "\u001b[0;32m/Users/doris/anaconda/envs/py33dev/lib/python3.3/site-packages/montage_wrapper/status.py\u001b[0m in \u001b[0;36m__init__\u001b[0;34m(self, command, string)\u001b[0m\n\u001b[1;32m     68\u001b[0m \u001b[0;34m\u001b[0m\u001b[0m\n\u001b[1;32m     69\u001b[0m         \u001b[0;32mif\u001b[0m \u001b[0mself\u001b[0m\u001b[0;34m.\u001b[0m\u001b[0mstat\u001b[0m \u001b[0;34m==\u001b[0m \u001b[0;34m\"ERROR\"\u001b[0m\u001b[0;34m:\u001b[0m\u001b[0;34m\u001b[0m\u001b[0m\n\u001b[0;32m---> 70\u001b[0;31m             \u001b[0;32mraise\u001b[0m \u001b[0mMontageError\u001b[0m\u001b[0;34m(\u001b[0m\u001b[0;34m\"%s: %s\"\u001b[0m \u001b[0;34m%\u001b[0m \u001b[0;34m(\u001b[0m\u001b[0mcommand\u001b[0m\u001b[0;34m,\u001b[0m \u001b[0mself\u001b[0m\u001b[0;34m.\u001b[0m\u001b[0mmsg\u001b[0m\u001b[0;34m)\u001b[0m\u001b[0;34m)\u001b[0m\u001b[0;34m\u001b[0m\u001b[0m\n\u001b[0m\u001b[1;32m     71\u001b[0m         \u001b[0;32melif\u001b[0m \u001b[0mself\u001b[0m\u001b[0;34m.\u001b[0m\u001b[0mstat\u001b[0m \u001b[0;34m==\u001b[0m \u001b[0;34m\"WARNING\"\u001b[0m\u001b[0;34m:\u001b[0m\u001b[0;34m\u001b[0m\u001b[0m\n\u001b[1;32m     72\u001b[0m             \u001b[0mlog\u001b[0m\u001b[0;34m.\u001b[0m\u001b[0mwarn\u001b[0m\u001b[0;34m(\u001b[0m\u001b[0mself\u001b[0m\u001b[0;34m.\u001b[0m\u001b[0mmsg\u001b[0m\u001b[0;34m)\u001b[0m\u001b[0;34m\u001b[0m\u001b[0m\n",
        "\u001b[0;31mMontageError\u001b[0m: mBgExec: Cannot open input file"
       ]
      }
     ],
     "prompt_number": 13
    },
    {
     "cell_type": "code",
     "collapsed": false,
     "input": [
      "cd corrdir/\n"
     ],
     "language": "python",
     "metadata": {},
     "outputs": [
      {
       "output_type": "stream",
       "stream": "stdout",
       "text": [
        "/Users/doris/Desktop/GSoC2014/workarea-rc3-project/m101/corrdir\n"
       ]
      }
     ],
     "prompt_number": 14
    },
    {
     "cell_type": "code",
     "collapsed": false,
     "input": [
      "ls "
     ],
     "language": "python",
     "metadata": {},
     "outputs": [
      {
       "output_type": "stream",
       "stream": "stdout",
       "text": [
        "IMGTBL2AR5GZ  IMGTBLKTFiUY  IMGTBLZgAadW  IMGTBLmR1hmm  IMGTBLwGvhGV\r\n",
        "IMGTBL2YyKbb  IMGTBLVqvnMs  IMGTBLcRf603  IMGTBLmvBGcz\r\n",
        "IMGTBL85LYGe  IMGTBLZVKoFQ  IMGTBLdTvS6t  IMGTBLtuWdpt\r\n"
       ]
      }
     ],
     "prompt_number": 15
    },
    {
     "cell_type": "code",
     "collapsed": false,
     "input": [
      "#Even though there is error, it still outputted images.\n",
      "#More error, so I downloaded the correction.tbl file they outputted and reran mBgModel\n",
      "# In corrdir is the set of reprojected, background-matched images\n",
      "#You simply coadd these together and create a JPEG (grayscale) mosaic as you do to the non-background matched mosaic\n",
      "mAdd -p corrdir images.tbl template.hdr final/m101_mosaic.fits\n",
      "mJPEG -gray final/m101_mosaic.fits 0s max gaussian-log -out final/m101_mosaic.jpg"
     ],
     "language": "python",
     "metadata": {},
     "outputs": []
    }
   ],
   "metadata": {}
  }
 ]
}