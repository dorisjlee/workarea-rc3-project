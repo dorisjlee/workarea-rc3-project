{
 "metadata": {
  "name": ""
 },
 "nbformat": 3,
 "nbformat_minor": 0,
 "worksheets": [
  {
   "cells": [
    {
     "cell_type": "heading",
     "level": 3,
     "metadata": {},
     "source": [
      "Installing and Using Python Montage Wrapper \n",
      "http://montage-wrapper.readthedocs.org/en/v0.9.5/"
     ]
    },
    {
     "cell_type": "code",
     "collapsed": false,
     "input": [
      "import montage_wrapper as montage"
     ],
     "language": "python",
     "metadata": {},
     "outputs": [],
     "prompt_number": 2
    },
    {
     "cell_type": "code",
     "collapsed": false,
     "input": [
      "montage.mArchiveList('2MASS', 'K', 'm31', 0.5, 0.5, 'm31_list.tbl')\n",
      "#this pulled the archive info from 2MASS into a metatable file"
     ],
     "language": "python",
     "metadata": {},
     "outputs": [
      {
       "metadata": {},
       "output_type": "pyout",
       "prompt_number": 3,
       "text": [
        "count : 18\n",
        "stat : OK"
       ]
      }
     ],
     "prompt_number": 3
    },
    {
     "cell_type": "code",
     "collapsed": false,
     "input": [
      "montage.mMakeHdr?"
     ],
     "language": "python",
     "metadata": {},
     "outputs": [],
     "prompt_number": 4
    },
    {
     "cell_type": "code",
     "collapsed": false,
     "input": [
      "s = montage.mMakeHdr('m31_list.tbl', 'header.hdr', north_aligned=True)"
     ],
     "language": "python",
     "metadata": {},
     "outputs": [],
     "prompt_number": 5
    },
    {
     "cell_type": "code",
     "collapsed": false,
     "input": [
      "s #Struct Object contains all the info/diagonstic (like output from bash)"
     ],
     "language": "python",
     "metadata": {},
     "outputs": [
      {
       "metadata": {},
       "output_type": "pyout",
       "prompt_number": 7,
       "text": [
        "lon4 : 11.274528\n",
        "lonsize : 0.830562\n",
        "lon1 : 11.267467\n",
        "lon3 : 10.161403\n",
        "clat : 41.32951\n",
        "latsize : 0.831951\n",
        "lon2 : 10.168464\n",
        "posang : 0.0\n",
        "count : 18\n",
        "clon : 10.717965\n",
        "lat1 : 40.912238\n",
        "lat3 : 41.744136\n",
        "lat2 : 40.912238\n",
        "lat4 : 41.744136\n",
        "stat : OK"
       ]
      }
     ],
     "prompt_number": 7
    },
    {
     "cell_type": "code",
     "collapsed": false,
     "input": [
      "s.lat1"
     ],
     "language": "python",
     "metadata": {},
     "outputs": [
      {
       "metadata": {},
       "output_type": "pyout",
       "prompt_number": 9,
       "text": [
        "40.912238"
       ]
      }
     ],
     "prompt_number": 9
    },
    {
     "cell_type": "code",
     "collapsed": false,
     "input": [
      "#Instead of following the normal workflow by calling individual Montage Command\n",
      "#Can also use \"mosaic\" command that does everything for you\n",
      "# FITS --> mosaic image\n"
     ],
     "language": "python",
     "metadata": {},
     "outputs": []
    },
    {
     "cell_type": "code",
     "collapsed": false,
     "input": [
      "ls"
     ],
     "language": "python",
     "metadata": {},
     "outputs": [
      {
       "output_type": "stream",
       "stream": "stdout",
       "text": [
        "5-16-2014 Installation & Misc..ipynb  header.hdr\r\n",
        "5-17-2014.ipynb                       m101 Mosaic.ipynb\r\n",
        "5-18-2014.ipynb                       m31_list.tbl\r\n",
        "Pleiades Mosaic.ipynb                 rc3.txt\r\n",
        "Understanding readfile.py .ipynb\r\n"
       ]
      }
     ],
     "prompt_number": 10
    },
    {
     "cell_type": "code",
     "collapsed": false,
     "input": [
      "cd .."
     ],
     "language": "python",
     "metadata": {},
     "outputs": [
      {
       "output_type": "stream",
       "stream": "stdout",
       "text": [
        "/Users/doris/Desktop/GSoC2014/workarea\n"
       ]
      }
     ],
     "prompt_number": 11
    },
    {
     "cell_type": "code",
     "collapsed": false,
     "input": [
      "ls"
     ],
     "language": "python",
     "metadata": {},
     "outputs": [
      {
       "output_type": "stream",
       "stream": "stdout",
       "text": [
        "Montage_v3.3.tar   \u001b[34mm101\u001b[m\u001b[m/              \u001b[34mnotebooks\u001b[m\u001b[m/         \u001b[34mpleiades_tutorial\u001b[m\u001b[m/\r\n"
       ]
      }
     ],
     "prompt_number": 12
    },
    {
     "cell_type": "code",
     "collapsed": false,
     "input": [
      "cd m101"
     ],
     "language": "python",
     "metadata": {},
     "outputs": [
      {
       "output_type": "stream",
       "stream": "stdout",
       "text": [
        "/Users/doris/Desktop/GSoC2014/workarea/m101\n"
       ]
      }
     ],
     "prompt_number": 13
    },
    {
     "cell_type": "code",
     "collapsed": false,
     "input": [
      "ls"
     ],
     "language": "python",
     "metadata": {},
     "outputs": [
      {
       "output_type": "stream",
       "stream": "stdout",
       "text": [
        "\u001b[34mcorrdir\u001b[m\u001b[m/          \u001b[34mfinal\u001b[m\u001b[m/            \u001b[34mprojdir\u001b[m\u001b[m/          template.hdr\r\n",
        "\u001b[34mdiffdir\u001b[m\u001b[m/          image-rawdir.tbl  \u001b[34mrawdir\u001b[m\u001b[m/\r\n"
       ]
      }
     ],
     "prompt_number": 14
    },
    {
     "cell_type": "code",
     "collapsed": false,
     "input": [
      "cd rawdir/\n"
     ],
     "language": "python",
     "metadata": {},
     "outputs": [
      {
       "output_type": "stream",
       "stream": "stdout",
       "text": [
        "/Users/doris/Desktop/GSoC2014/workarea/m101/rawdir\n"
       ]
      }
     ],
     "prompt_number": 15
    },
    {
     "cell_type": "code",
     "collapsed": false,
     "input": [
      "ls"
     ],
     "language": "python",
     "metadata": {},
     "outputs": [
      {
       "output_type": "stream",
       "stream": "stdout",
       "text": [
        "2mass-atlas-990214n-j1100244.fits  2mass-atlas-990214n-j1180256.fits\r\n",
        "2mass-atlas-990214n-j1100256.fits  2mass-atlas-990214n-j1190021.fits\r\n",
        "2mass-atlas-990214n-j1110021.fits  2mass-atlas-990214n-j1190032.fits\r\n",
        "2mass-atlas-990214n-j1110032.fits  2mass-atlas-990214n-j1200244.fits\r\n",
        "2mass-atlas-990214n-j1180244.fits  2mass-atlas-990214n-j1200256.fits\r\n"
       ]
      }
     ],
     "prompt_number": 16
    },
    {
     "cell_type": "code",
     "collapsed": false,
     "input": [
      "cd .."
     ],
     "language": "python",
     "metadata": {},
     "outputs": [
      {
       "output_type": "stream",
       "stream": "stdout",
       "text": [
        "/Users/doris/Desktop/GSoC2014/workarea/m101\n"
       ]
      }
     ],
     "prompt_number": 17
    },
    {
     "cell_type": "code",
     "collapsed": false,
     "input": [
      "montage.mosaic('rawdir','mosaicdir',background_match=True)"
     ],
     "language": "python",
     "metadata": {},
     "outputs": [
      {
       "output_type": "stream",
       "stream": "stdout",
       "text": [
        "INFO: Listing raw frames [montage_wrapper.wrappers]\n",
        "INFO"
       ]
      },
      {
       "output_type": "stream",
       "stream": "stdout",
       "text": [
        ": Computing optimal header [montage_wrapper.wrappers]\n",
        "INFO: Projecting raw frames [montage_wrapper.wrappers]\n",
        "INFO"
       ]
      },
      {
       "output_type": "stream",
       "stream": "stdout",
       "text": [
        ": Determining overlaps [montage_wrapper.wrappers]\n",
        "INFO: Modeling background [montage_wrapper.wrappers]\n",
        "INFO"
       ]
      },
      {
       "output_type": "stream",
       "stream": "stdout",
       "text": [
        ": Matching background [montage_wrapper.wrappers]\n",
        "INFO"
       ]
      },
      {
       "output_type": "stream",
       "stream": "stdout",
       "text": [
        ": Mosaicking frames [montage_wrapper.wrappers]\n",
        "INFO"
       ]
      },
      {
       "output_type": "stream",
       "stream": "stdout",
       "text": [
        ": Deleting work directory /var/folders/gn/cfx6dlrd0zz0z_c0qws80kt80000gn/T/tmpsqd79t [montage_wrapper.wrappers]\n"
       ]
      }
     ],
     "prompt_number": 19
    },
    {
     "cell_type": "code",
     "collapsed": false,
     "input": [],
     "language": "python",
     "metadata": {},
     "outputs": []
    }
   ],
   "metadata": {}
  }
 ]
}