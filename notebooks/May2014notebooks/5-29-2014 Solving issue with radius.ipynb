{
 "metadata": {
  "name": ""
 },
 "nbformat": 3,
 "nbformat_minor": 0,
 "worksheets": [
  {
   "cells": [
    {
     "cell_type": "markdown",
     "metadata": {},
     "source": [
      "To Do\n",
      " \n",
      " - Should I be using STIFF for colored images? https://www.astromatic.net/pubsvn/software/stiff/trunk/doc/stiff.pdf\n",
      " - Background rectification?\n",
      " - ~~remove \"cropped\"~~\n",
      " - ~~4 digit and 6 digit zero padding using NumberFormat or something ?~~\n",
      " - ~~triangular cutoff for the last 2 images (?)~~\n",
      " - ~~scientific-color calibration (g,r,i ordering?)~~\n",
      " - radius of galaxies (look at deValcouer's original paper or Corwin's modifcation to figure out what the parameter is; dont forget to convert  arcmin to degree)\n"
     ]
    },
    {
     "cell_type": "code",
     "collapsed": false,
     "input": [],
     "language": "python",
     "metadata": {},
     "outputs": []
    }
   ],
   "metadata": {}
  }
 ]
}