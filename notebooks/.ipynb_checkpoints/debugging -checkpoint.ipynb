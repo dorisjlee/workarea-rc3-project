{
 "metadata": {
  "name": ""
 },
 "nbformat": 3,
 "nbformat_minor": 0,
 "worksheets": [
  {
   "cells": [
    {
     "cell_type": "code",
     "collapsed": false,
     "input": [
      "ls"
     ],
     "language": "python",
     "metadata": {},
     "outputs": [
      {
       "output_type": "stream",
       "stream": "stdout",
       "text": [
        "\u001b[34m158.147,65.04\u001b[m\u001b[m/\r\n",
        "\u001b[34m169.458333333,26.6247222222\u001b[m\u001b[m/\r\n",
        "5-16-2014 Installation & Misc..ipynb\r\n",
        "5-17-2014.ipynb\r\n",
        "5-18-2014.ipynb\r\n",
        "5-21-2014 --Testing rc3.ipynb\r\n",
        "\u001b[34m5-23-2014rc3_using_cam_col\u001b[m\u001b[m/\r\n",
        "5-24-2014 Problem of Centering Image .ipynb\r\n",
        "5-24-2014 Single Mosaic Creation.ipynb\r\n",
        "5-25-2014 Problem of Centering Image (2).ipynb\r\n",
        "Pleiades Mosaic.ipynb\r\n",
        "Questions about Mosaic Creation.ipynb\r\n",
        "Understanding readfile.py .ipynb\r\n",
        "\u001b[34mcam_col_test2\u001b[m\u001b[m/\r\n",
        "\u001b[34mcam_col_test3\u001b[m\u001b[m/\r\n",
        "\u001b[34mcam_col_test4(Cropping)\u001b[m\u001b[m/\r\n",
        "debugging .ipynb\r\n",
        "header.hdr\r\n",
        "m101 Mosaic.ipynb\r\n",
        "m31_list.tbl\r\n",
        "rc3.txt\r\n"
       ]
      }
     ],
     "prompt_number": 1
    },
    {
     "cell_type": "code",
     "collapsed": false,
     "input": [
      "cd 158.147,65.04/"
     ],
     "language": "python",
     "metadata": {},
     "outputs": [
      {
       "output_type": "stream",
       "stream": "stdout",
       "text": [
        "/Users/doris/Desktop/GSoC2014/workarea-rc3-project/notebooks/158.147,65.04\n"
       ]
      }
     ],
     "prompt_number": 2
    },
    {
     "cell_type": "code",
     "collapsed": false,
     "input": [
      "ls\n"
     ],
     "language": "python",
     "metadata": {},
     "outputs": [
      {
       "output_type": "stream",
       "stream": "stdout",
       "text": [
        "SDSS_frame-g-005112-3-0389cropped.fits  frame-u-005112-3-0389.fits\r\n",
        "SDSS_frame-i-005112-3-0389cropped.fits  \u001b[34mg\u001b[m\u001b[m/\r\n",
        "SDSS_frame-r-005112-3-0389cropped.fits  \u001b[34mi\u001b[m\u001b[m/\r\n",
        "SDSS_frame-u-005112-3-0389cropped.fits  \u001b[34mr\u001b[m\u001b[m/\r\n",
        "SDSS_frame-z-005112-3-0389cropped.fits  rc3_158.py\r\n",
        "cam_col_test3CROP.py                    \u001b[34mu\u001b[m\u001b[m/\r\n",
        "camcoltest4_cropped.jpg                 \u001b[34mz\u001b[m\u001b[m/\r\n",
        "frame-u-001412-3-0096.fits\r\n"
       ]
      }
     ],
     "prompt_number": 3
    },
    {
     "cell_type": "code",
     "collapsed": false,
     "input": [
      ".."
     ],
     "language": "python",
     "metadata": {},
     "outputs": [
      {
       "ename": "SyntaxError",
       "evalue": "invalid syntax (<ipython-input-4-ca3509477f7f>, line 1)",
       "output_type": "pyerr",
       "traceback": [
        "\u001b[0;36m  File \u001b[0;32m\"<ipython-input-4-ca3509477f7f>\"\u001b[0;36m, line \u001b[0;32m1\u001b[0m\n\u001b[0;31m    ..\u001b[0m\n\u001b[0m    ^\u001b[0m\n\u001b[0;31mSyntaxError\u001b[0m\u001b[0;31m:\u001b[0m invalid syntax\n"
       ]
      }
     ],
     "prompt_number": 4
    },
    {
     "cell_type": "code",
     "collapsed": false,
     "input": [
      "cd .."
     ],
     "language": "python",
     "metadata": {},
     "outputs": [
      {
       "output_type": "stream",
       "stream": "stdout",
       "text": [
        "/Users/doris/Desktop/GSoC2014/workarea-rc3-project/notebooks\n"
       ]
      }
     ],
     "prompt_number": 5
    },
    {
     "cell_type": "code",
     "collapsed": false,
     "input": [
      "cd 169.458333333,26.6247222222/\n"
     ],
     "language": "python",
     "metadata": {},
     "outputs": [
      {
       "output_type": "stream",
       "stream": "stdout",
       "text": [
        "/Users/doris/Desktop/GSoC2014/workarea-rc3-project/notebooks/169.458333333,26.6247222222\n"
       ]
      }
     ],
     "prompt_number": 6
    },
    {
     "cell_type": "code",
     "collapsed": false,
     "input": [
      "ls\n"
     ],
     "language": "python",
     "metadata": {},
     "outputs": [
      {
       "output_type": "stream",
       "stream": "stdout",
       "text": [
        "cam_col_test3CROP.py  rc3.py                \u001b[34mu\u001b[m\u001b[m/\r\n"
       ]
      }
     ],
     "prompt_number": 7
    },
    {
     "cell_type": "code",
     "collapsed": false,
     "input": [
      "import montage_wrapper as montage\n",
      "import os\n",
      "import shutil\n",
      "\n",
      "DEBUG = True\n",
      "CUTOFF =False\n",
      "run=5112\n",
      "camcol=3\n",
      "field=389\n",
      "\n",
      "ra=158.147083333   \n",
      "dec= 65.041\n",
      "radius= 1.20226443462\n",
      "bands=['u','g','r','i','z']\n",
      "for ele in bands:\n",
      "\tband =ele\n",
      "\tout = \"frame-\"+str(band)+\"-00\"+str(run)+\"-\"+str(camcol)+\"-0\"+str(field)\n",
      "\tos.system(\"wget http://data.sdss3.org/sas/dr10/boss/photoObj/frames/301/\"+str(run)+\"/\"+ str(camcol) +\"/\"+out+\".fits.bz2\")\n",
      "\tos.system(\"bunzip2 \"+out+\".fits.bz2\")\n",
      "\tif (CUTOFF) :\n",
      "\t\tout2 = \"frame-\"+str(band)+\"-00\"+str(run)+\"-\"+str(camcol)+\"-0\"+str(field-1)\n",
      "\t\tos.system(\"wget http://data.sdss3.org/sas/dr10/boss/photoObj/frames/301/\"+str(run)+\"/\"+ str(camcol) +\"/\"+out2+\".fits.bz2\")\n",
      "\t\tos.system(\"bunzip2 \"+out2+\".fits.bz2\")\n",
      "\tos.mkdir (band)\n",
      "\tos.chdir(band)\n",
      "\tos.mkdir (\"raw\")\n",
      "\tos.mkdir (\"projected\")\n",
      "\tos.chdir(\"..\")\n",
      "\tshutil.move(out+\".fits\",band+\"/raw/\" )\n",
      "\tif(CUTOFF): shutil.move(out2+\".fits\",band+\"/raw/\" )\n",
      "\tos.chdir(band)\n",
      "\tif (DEBUG) : print(\"Creating mosaic for \" +\" \"+ band + \" band.\")\n",
      "\tmontage.mImgtbl(\"raw\",\"images.tbl\")\n",
      "\tmontage.mHdr(str(ra)+\" \"+str(dec),radius,out+\".hdr\")\n",
      "\tif (DEBUG): print (\"Reprojecting images\")\n",
      "\t#Sometimes you can't find the files and result in images.tbl => empty doc\n",
      "\t#need to put data file inside raw AND unzip it so that Montage detect that it is a fit file\n",
      "\tos.chdir(\"raw\")\n",
      "\tmontage.mProjExec(\"../images.tbl\",\"../\"+out+\".hdr\",\"../projected\", \"../stats.tbl\") \n",
      "\tos.chdir(\"..\")\n",
      "\tmontage.mImgtbl(\"projected\",\"pimages.tbl\")\n",
      "\t#mAdd coadds the reprojected images using the FITS header template and mImgtbl list.\n",
      "\tos.chdir(\"projected\")\n",
      "\tmontage.mAdd(\"../pimages.tbl\",\"../\"+out+\".hdr\",\"SDSS_\"+out+\".fits\")\n",
      "\tmontage.mSubimage(\"SDSS_\"+out+\".fits\",\"SDSS_\"+out+\"cropped.fits\",ra,dec,0.05)\n",
      "\tshutil.move(\"SDSS_\"+out+\"cropped.fits\",os.getcwd()[:-11] )#if change to :-11 then move out of u,g,r,i,z directory, may be more convenient for mJPEG\n",
      "\tif (DEBUG) : print (\"Completed Mosaic for \" + band)\n",
      "\tos.chdir(\"../..\")\n",
      "#actually you can just do \"..\" for \"cd ..\"\n",
      "\n",
      "\n",
      "#Run this on Bash \n",
      "#os.system executes ths line in bash, the python wrapper does not support mJPEG for some strange reason \n",
      "  # Superimposing R,G,B image mosaics into JPEG\n",
      "\n",
      "os.system(\"mJPEG -blue \"+ \"SDSS_frame-\"+\"i\"+\"-00\"+str(run)+\"-\"+str(camcol)+\"-0\"+str(field)+\"cropped.fits \"+ \"-1s 99.999% gaussian-log \\\n",
      "        -green SDSS_frame-\"+\"g\"+\"-00\"+str(run)+\"-\"+str(camcol)+\"-0\"+str(field)+\"cropped.fits \"+\" -1s 99.999% gaussian-log \\\n",
      "        -red SDSS_frame-\"+\"r\"+\"-00\"+str(run)+\"-\"+str(camcol)+\"-0\"+str(field)+ \"cropped.fits \"+\" -1s 99.999% gaussian-log \\\n",
      "        -out camcoltest4_cropped.jpg\")\n",
      "if (DEBUG) : print (\"Completed Mosaic\")"
     ],
     "language": "python",
     "metadata": {},
     "outputs": [
      {
       "ename": "FileNotFoundError",
       "evalue": "[Errno 2] No such file or directory: 'frame-u-005112-3-0389.fits'",
       "output_type": "pyerr",
       "traceback": [
        "\u001b[0;31m---------------------------------------------------------------------------\u001b[0m\n\u001b[0;31mFileNotFoundError\u001b[0m                         Traceback (most recent call last)",
        "\u001b[0;32m<ipython-input-9-448b0d42dc62>\u001b[0m in \u001b[0;36m<module>\u001b[0;34m()\u001b[0m\n\u001b[1;32m     27\u001b[0m         \u001b[0mos\u001b[0m\u001b[0;34m.\u001b[0m\u001b[0mmkdir\u001b[0m \u001b[0;34m(\u001b[0m\u001b[0;34m\"projected\"\u001b[0m\u001b[0;34m)\u001b[0m\u001b[0;34m\u001b[0m\u001b[0m\n\u001b[1;32m     28\u001b[0m         \u001b[0mos\u001b[0m\u001b[0;34m.\u001b[0m\u001b[0mchdir\u001b[0m\u001b[0;34m(\u001b[0m\u001b[0;34m\"..\"\u001b[0m\u001b[0;34m)\u001b[0m\u001b[0;34m\u001b[0m\u001b[0m\n\u001b[0;32m---> 29\u001b[0;31m         \u001b[0mshutil\u001b[0m\u001b[0;34m.\u001b[0m\u001b[0mmove\u001b[0m\u001b[0;34m(\u001b[0m\u001b[0mout\u001b[0m\u001b[0;34m+\u001b[0m\u001b[0;34m\".fits\"\u001b[0m\u001b[0;34m,\u001b[0m\u001b[0mband\u001b[0m\u001b[0;34m+\u001b[0m\u001b[0;34m\"/raw/\"\u001b[0m \u001b[0;34m)\u001b[0m\u001b[0;34m\u001b[0m\u001b[0m\n\u001b[0m\u001b[1;32m     30\u001b[0m         \u001b[0;32mif\u001b[0m\u001b[0;34m(\u001b[0m\u001b[0mCUTOFF\u001b[0m\u001b[0;34m)\u001b[0m\u001b[0;34m:\u001b[0m \u001b[0mshutil\u001b[0m\u001b[0;34m.\u001b[0m\u001b[0mmove\u001b[0m\u001b[0;34m(\u001b[0m\u001b[0mout2\u001b[0m\u001b[0;34m+\u001b[0m\u001b[0;34m\".fits\"\u001b[0m\u001b[0;34m,\u001b[0m\u001b[0mband\u001b[0m\u001b[0;34m+\u001b[0m\u001b[0;34m\"/raw/\"\u001b[0m \u001b[0;34m)\u001b[0m\u001b[0;34m\u001b[0m\u001b[0m\n\u001b[1;32m     31\u001b[0m         \u001b[0mos\u001b[0m\u001b[0;34m.\u001b[0m\u001b[0mchdir\u001b[0m\u001b[0;34m(\u001b[0m\u001b[0mband\u001b[0m\u001b[0;34m)\u001b[0m\u001b[0;34m\u001b[0m\u001b[0m\n",
        "\u001b[0;32m/Users/doris/anaconda/envs/py33dev/lib/python3.3/shutil.py\u001b[0m in \u001b[0;36mmove\u001b[0;34m(src, dst)\u001b[0m\n\u001b[1;32m    532\u001b[0m             \u001b[0mrmtree\u001b[0m\u001b[0;34m(\u001b[0m\u001b[0msrc\u001b[0m\u001b[0;34m)\u001b[0m\u001b[0;34m\u001b[0m\u001b[0m\n\u001b[1;32m    533\u001b[0m         \u001b[0;32melse\u001b[0m\u001b[0;34m:\u001b[0m\u001b[0;34m\u001b[0m\u001b[0m\n\u001b[0;32m--> 534\u001b[0;31m             \u001b[0mcopy2\u001b[0m\u001b[0;34m(\u001b[0m\u001b[0msrc\u001b[0m\u001b[0;34m,\u001b[0m \u001b[0mreal_dst\u001b[0m\u001b[0;34m)\u001b[0m\u001b[0;34m\u001b[0m\u001b[0m\n\u001b[0m\u001b[1;32m    535\u001b[0m             \u001b[0mos\u001b[0m\u001b[0;34m.\u001b[0m\u001b[0munlink\u001b[0m\u001b[0;34m(\u001b[0m\u001b[0msrc\u001b[0m\u001b[0;34m)\u001b[0m\u001b[0;34m\u001b[0m\u001b[0m\n\u001b[1;32m    536\u001b[0m     \u001b[0;32mreturn\u001b[0m \u001b[0mreal_dst\u001b[0m\u001b[0;34m\u001b[0m\u001b[0m\n",
        "\u001b[0;32m/Users/doris/anaconda/envs/py33dev/lib/python3.3/shutil.py\u001b[0m in \u001b[0;36mcopy2\u001b[0;34m(src, dst, follow_symlinks)\u001b[0m\n\u001b[1;32m    241\u001b[0m     \u001b[0;32mif\u001b[0m \u001b[0mos\u001b[0m\u001b[0;34m.\u001b[0m\u001b[0mpath\u001b[0m\u001b[0;34m.\u001b[0m\u001b[0misdir\u001b[0m\u001b[0;34m(\u001b[0m\u001b[0mdst\u001b[0m\u001b[0;34m)\u001b[0m\u001b[0;34m:\u001b[0m\u001b[0;34m\u001b[0m\u001b[0m\n\u001b[1;32m    242\u001b[0m         \u001b[0mdst\u001b[0m \u001b[0;34m=\u001b[0m \u001b[0mos\u001b[0m\u001b[0;34m.\u001b[0m\u001b[0mpath\u001b[0m\u001b[0;34m.\u001b[0m\u001b[0mjoin\u001b[0m\u001b[0;34m(\u001b[0m\u001b[0mdst\u001b[0m\u001b[0;34m,\u001b[0m \u001b[0mos\u001b[0m\u001b[0;34m.\u001b[0m\u001b[0mpath\u001b[0m\u001b[0;34m.\u001b[0m\u001b[0mbasename\u001b[0m\u001b[0;34m(\u001b[0m\u001b[0msrc\u001b[0m\u001b[0;34m)\u001b[0m\u001b[0;34m)\u001b[0m\u001b[0;34m\u001b[0m\u001b[0m\n\u001b[0;32m--> 243\u001b[0;31m     \u001b[0mcopyfile\u001b[0m\u001b[0;34m(\u001b[0m\u001b[0msrc\u001b[0m\u001b[0;34m,\u001b[0m \u001b[0mdst\u001b[0m\u001b[0;34m,\u001b[0m \u001b[0mfollow_symlinks\u001b[0m\u001b[0;34m=\u001b[0m\u001b[0mfollow_symlinks\u001b[0m\u001b[0;34m)\u001b[0m\u001b[0;34m\u001b[0m\u001b[0m\n\u001b[0m\u001b[1;32m    244\u001b[0m     \u001b[0mcopystat\u001b[0m\u001b[0;34m(\u001b[0m\u001b[0msrc\u001b[0m\u001b[0;34m,\u001b[0m \u001b[0mdst\u001b[0m\u001b[0;34m,\u001b[0m \u001b[0mfollow_symlinks\u001b[0m\u001b[0;34m=\u001b[0m\u001b[0mfollow_symlinks\u001b[0m\u001b[0;34m)\u001b[0m\u001b[0;34m\u001b[0m\u001b[0m\n\u001b[1;32m    245\u001b[0m     \u001b[0;32mreturn\u001b[0m \u001b[0mdst\u001b[0m\u001b[0;34m\u001b[0m\u001b[0m\n",
        "\u001b[0;32m/Users/doris/anaconda/envs/py33dev/lib/python3.3/shutil.py\u001b[0m in \u001b[0;36mcopyfile\u001b[0;34m(src, dst, follow_symlinks)\u001b[0m\n\u001b[1;32m    107\u001b[0m         \u001b[0mos\u001b[0m\u001b[0;34m.\u001b[0m\u001b[0msymlink\u001b[0m\u001b[0;34m(\u001b[0m\u001b[0mos\u001b[0m\u001b[0;34m.\u001b[0m\u001b[0mreadlink\u001b[0m\u001b[0;34m(\u001b[0m\u001b[0msrc\u001b[0m\u001b[0;34m)\u001b[0m\u001b[0;34m,\u001b[0m \u001b[0mdst\u001b[0m\u001b[0;34m)\u001b[0m\u001b[0;34m\u001b[0m\u001b[0m\n\u001b[1;32m    108\u001b[0m     \u001b[0;32melse\u001b[0m\u001b[0;34m:\u001b[0m\u001b[0;34m\u001b[0m\u001b[0m\n\u001b[0;32m--> 109\u001b[0;31m         \u001b[0;32mwith\u001b[0m \u001b[0mopen\u001b[0m\u001b[0;34m(\u001b[0m\u001b[0msrc\u001b[0m\u001b[0;34m,\u001b[0m \u001b[0;34m'rb'\u001b[0m\u001b[0;34m)\u001b[0m \u001b[0;32mas\u001b[0m \u001b[0mfsrc\u001b[0m\u001b[0;34m:\u001b[0m\u001b[0;34m\u001b[0m\u001b[0m\n\u001b[0m\u001b[1;32m    110\u001b[0m             \u001b[0;32mwith\u001b[0m \u001b[0mopen\u001b[0m\u001b[0;34m(\u001b[0m\u001b[0mdst\u001b[0m\u001b[0;34m,\u001b[0m \u001b[0;34m'wb'\u001b[0m\u001b[0;34m)\u001b[0m \u001b[0;32mas\u001b[0m \u001b[0mfdst\u001b[0m\u001b[0;34m:\u001b[0m\u001b[0;34m\u001b[0m\u001b[0m\n\u001b[1;32m    111\u001b[0m                 \u001b[0mcopyfileobj\u001b[0m\u001b[0;34m(\u001b[0m\u001b[0mfsrc\u001b[0m\u001b[0;34m,\u001b[0m \u001b[0mfdst\u001b[0m\u001b[0;34m)\u001b[0m\u001b[0;34m\u001b[0m\u001b[0m\n",
        "\u001b[0;31mFileNotFoundError\u001b[0m: [Errno 2] No such file or directory: 'frame-u-005112-3-0389.fits'"
       ]
      }
     ],
     "prompt_number": 9
    },
    {
     "cell_type": "code",
     "collapsed": false,
     "input": [
      "ls\n"
     ],
     "language": "python",
     "metadata": {},
     "outputs": [
      {
       "output_type": "stream",
       "stream": "stdout",
       "text": [
        "frame-u-005112-3-0389.fits.bz2  \u001b[34mu\u001b[m\u001b[m/\r\n"
       ]
      }
     ],
     "prompt_number": 11
    },
    {
     "cell_type": "code",
     "collapsed": false,
     "input": [
      "cd u/"
     ],
     "language": "python",
     "metadata": {},
     "outputs": [
      {
       "output_type": "stream",
       "stream": "stdout",
       "text": [
        "/Users/doris/.Trash/u 9.16.06 PM/projected/u\n"
       ]
      }
     ],
     "prompt_number": 12
    },
    {
     "cell_type": "code",
     "collapsed": false,
     "input": [
      "montage.mProjExec(\"../images.tbl\",\"../\"+out+\".hdr\",\"../projected\", \"../stats.tbl\") \n"
     ],
     "language": "python",
     "metadata": {},
     "outputs": [
      {
       "ename": "MontageError",
       "evalue": "mProjExec: Image metadata file (../images.tbl) does not exist",
       "output_type": "pyerr",
       "traceback": [
        "\u001b[0;31m---------------------------------------------------------------------------\u001b[0m\n\u001b[0;31mMontageError\u001b[0m                              Traceback (most recent call last)",
        "\u001b[0;32m<ipython-input-13-3d44179e81aa>\u001b[0m in \u001b[0;36m<module>\u001b[0;34m()\u001b[0m\n\u001b[0;32m----> 1\u001b[0;31m \u001b[0mmontage\u001b[0m\u001b[0;34m.\u001b[0m\u001b[0mmProjExec\u001b[0m\u001b[0;34m(\u001b[0m\u001b[0;34m\"../images.tbl\"\u001b[0m\u001b[0;34m,\u001b[0m\u001b[0;34m\"../\"\u001b[0m\u001b[0;34m+\u001b[0m\u001b[0mout\u001b[0m\u001b[0;34m+\u001b[0m\u001b[0;34m\".hdr\"\u001b[0m\u001b[0;34m,\u001b[0m\u001b[0;34m\"../projected\"\u001b[0m\u001b[0;34m,\u001b[0m \u001b[0;34m\"../stats.tbl\"\u001b[0m\u001b[0;34m)\u001b[0m\u001b[0;34m\u001b[0m\u001b[0m\n\u001b[0m",
        "\u001b[0;32m/Users/doris/anaconda/envs/py33dev/lib/python3.3/site-packages/montage_wrapper/commands.py\u001b[0m in \u001b[0;36mmProjExec\u001b[0;34m(images_table, template_header, proj_dir, stats_table, raw_dir, debug, exact, whole, border, restart_rec, status_file, scale_column, mpi, n_proc)\u001b[0m\n\u001b[1;32m   1835\u001b[0m     \u001b[0;32mif\u001b[0m \u001b[0mstderr\u001b[0m\u001b[0;34m:\u001b[0m\u001b[0;34m\u001b[0m\u001b[0m\n\u001b[1;32m   1836\u001b[0m         \u001b[0;32mraise\u001b[0m \u001b[0mException\u001b[0m\u001b[0;34m(\u001b[0m\u001b[0mstderr\u001b[0m\u001b[0;34m)\u001b[0m\u001b[0;34m\u001b[0m\u001b[0m\n\u001b[0;32m-> 1837\u001b[0;31m     \u001b[0;32mreturn\u001b[0m \u001b[0mstatus\u001b[0m\u001b[0;34m.\u001b[0m\u001b[0mparse_struct\u001b[0m\u001b[0;34m(\u001b[0m\u001b[0;34m\"mProjExec\"\u001b[0m\u001b[0;34m,\u001b[0m \u001b[0mp\u001b[0m\u001b[0;34m.\u001b[0m\u001b[0mstdout\u001b[0m\u001b[0;34m.\u001b[0m\u001b[0mread\u001b[0m\u001b[0;34m(\u001b[0m\u001b[0;34m)\u001b[0m\u001b[0;34m.\u001b[0m\u001b[0mstrip\u001b[0m\u001b[0;34m(\u001b[0m\u001b[0;34m)\u001b[0m\u001b[0;34m)\u001b[0m\u001b[0;34m\u001b[0m\u001b[0m\n\u001b[0m\u001b[1;32m   1838\u001b[0m \u001b[0;34m\u001b[0m\u001b[0m\n\u001b[1;32m   1839\u001b[0m \u001b[0;34m\u001b[0m\u001b[0m\n",
        "\u001b[0;32m/Users/doris/anaconda/envs/py33dev/lib/python3.3/site-packages/montage_wrapper/status.py\u001b[0m in \u001b[0;36mparse_struct\u001b[0;34m(command, string)\u001b[0m\n\u001b[1;32m     31\u001b[0m     \u001b[0;32melse\u001b[0m\u001b[0;34m:\u001b[0m\u001b[0;34m\u001b[0m\u001b[0m\n\u001b[1;32m     32\u001b[0m         \u001b[0;32mif\u001b[0m \u001b[0;34m'struct'\u001b[0m \u001b[0;32min\u001b[0m \u001b[0mstring\u001b[0m\u001b[0;34m:\u001b[0m\u001b[0;34m\u001b[0m\u001b[0m\n\u001b[0;32m---> 33\u001b[0;31m             \u001b[0mresult\u001b[0m \u001b[0;34m=\u001b[0m \u001b[0mStruct\u001b[0m\u001b[0;34m(\u001b[0m\u001b[0mcommand\u001b[0m\u001b[0;34m,\u001b[0m \u001b[0mstring\u001b[0m\u001b[0;34m)\u001b[0m\u001b[0;34m\u001b[0m\u001b[0m\n\u001b[0m\u001b[1;32m     34\u001b[0m         \u001b[0;32melse\u001b[0m\u001b[0;34m:\u001b[0m\u001b[0;34m\u001b[0m\u001b[0m\n\u001b[1;32m     35\u001b[0m             \u001b[0mprint\u001b[0m\u001b[0;34m(\u001b[0m\u001b[0mstring\u001b[0m\u001b[0;34m)\u001b[0m\u001b[0;34m\u001b[0m\u001b[0m\n",
        "\u001b[0;32m/Users/doris/anaconda/envs/py33dev/lib/python3.3/site-packages/montage_wrapper/status.py\u001b[0m in \u001b[0;36m__init__\u001b[0;34m(self, command, string)\u001b[0m\n\u001b[1;32m     68\u001b[0m \u001b[0;34m\u001b[0m\u001b[0m\n\u001b[1;32m     69\u001b[0m         \u001b[0;32mif\u001b[0m \u001b[0mself\u001b[0m\u001b[0;34m.\u001b[0m\u001b[0mstat\u001b[0m \u001b[0;34m==\u001b[0m \u001b[0;34m\"ERROR\"\u001b[0m\u001b[0;34m:\u001b[0m\u001b[0;34m\u001b[0m\u001b[0m\n\u001b[0;32m---> 70\u001b[0;31m             \u001b[0;32mraise\u001b[0m \u001b[0mMontageError\u001b[0m\u001b[0;34m(\u001b[0m\u001b[0;34m\"%s: %s\"\u001b[0m \u001b[0;34m%\u001b[0m \u001b[0;34m(\u001b[0m\u001b[0mcommand\u001b[0m\u001b[0;34m,\u001b[0m \u001b[0mself\u001b[0m\u001b[0;34m.\u001b[0m\u001b[0mmsg\u001b[0m\u001b[0;34m)\u001b[0m\u001b[0;34m)\u001b[0m\u001b[0;34m\u001b[0m\u001b[0m\n\u001b[0m\u001b[1;32m     71\u001b[0m         \u001b[0;32melif\u001b[0m \u001b[0mself\u001b[0m\u001b[0;34m.\u001b[0m\u001b[0mstat\u001b[0m \u001b[0;34m==\u001b[0m \u001b[0;34m\"WARNING\"\u001b[0m\u001b[0;34m:\u001b[0m\u001b[0;34m\u001b[0m\u001b[0m\n\u001b[1;32m     72\u001b[0m             \u001b[0mlog\u001b[0m\u001b[0;34m.\u001b[0m\u001b[0mwarn\u001b[0m\u001b[0;34m(\u001b[0m\u001b[0mself\u001b[0m\u001b[0;34m.\u001b[0m\u001b[0mmsg\u001b[0m\u001b[0;34m)\u001b[0m\u001b[0;34m\u001b[0m\u001b[0m\n",
        "\u001b[0;31mMontageError\u001b[0m: mProjExec: Image metadata file (../images.tbl) does not exist"
       ]
      }
     ],
     "prompt_number": 13
    },
    {
     "cell_type": "code",
     "collapsed": false,
     "input": [
      "montage.mImgtbl(\"raw\",\"images.tbl\")"
     ],
     "language": "python",
     "metadata": {},
     "outputs": [
      {
       "metadata": {},
       "output_type": "pyout",
       "prompt_number": 14,
       "text": [
        "badfits : 0\n",
        "count : 0\n",
        "stat : OK\n",
        "badwcs : 0"
       ]
      }
     ],
     "prompt_number": 14
    },
    {
     "cell_type": "code",
     "collapsed": false,
     "input": [
      "montage.mProjExec(\"../images.tbl\",\"../\"+out+\".hdr\",\"../projected\", \"../stats.tbl\") "
     ],
     "language": "python",
     "metadata": {},
     "outputs": [
      {
       "ename": "MontageError",
       "evalue": "mProjExec: Image metadata file (../images.tbl) does not exist",
       "output_type": "pyerr",
       "traceback": [
        "\u001b[0;31m---------------------------------------------------------------------------\u001b[0m\n\u001b[0;31mMontageError\u001b[0m                              Traceback (most recent call last)",
        "\u001b[0;32m<ipython-input-15-3d44179e81aa>\u001b[0m in \u001b[0;36m<module>\u001b[0;34m()\u001b[0m\n\u001b[0;32m----> 1\u001b[0;31m \u001b[0mmontage\u001b[0m\u001b[0;34m.\u001b[0m\u001b[0mmProjExec\u001b[0m\u001b[0;34m(\u001b[0m\u001b[0;34m\"../images.tbl\"\u001b[0m\u001b[0;34m,\u001b[0m\u001b[0;34m\"../\"\u001b[0m\u001b[0;34m+\u001b[0m\u001b[0mout\u001b[0m\u001b[0;34m+\u001b[0m\u001b[0;34m\".hdr\"\u001b[0m\u001b[0;34m,\u001b[0m\u001b[0;34m\"../projected\"\u001b[0m\u001b[0;34m,\u001b[0m \u001b[0;34m\"../stats.tbl\"\u001b[0m\u001b[0;34m)\u001b[0m\u001b[0;34m\u001b[0m\u001b[0m\n\u001b[0m",
        "\u001b[0;32m/Users/doris/anaconda/envs/py33dev/lib/python3.3/site-packages/montage_wrapper/commands.py\u001b[0m in \u001b[0;36mmProjExec\u001b[0;34m(images_table, template_header, proj_dir, stats_table, raw_dir, debug, exact, whole, border, restart_rec, status_file, scale_column, mpi, n_proc)\u001b[0m\n\u001b[1;32m   1835\u001b[0m     \u001b[0;32mif\u001b[0m \u001b[0mstderr\u001b[0m\u001b[0;34m:\u001b[0m\u001b[0;34m\u001b[0m\u001b[0m\n\u001b[1;32m   1836\u001b[0m         \u001b[0;32mraise\u001b[0m \u001b[0mException\u001b[0m\u001b[0;34m(\u001b[0m\u001b[0mstderr\u001b[0m\u001b[0;34m)\u001b[0m\u001b[0;34m\u001b[0m\u001b[0m\n\u001b[0;32m-> 1837\u001b[0;31m     \u001b[0;32mreturn\u001b[0m \u001b[0mstatus\u001b[0m\u001b[0;34m.\u001b[0m\u001b[0mparse_struct\u001b[0m\u001b[0;34m(\u001b[0m\u001b[0;34m\"mProjExec\"\u001b[0m\u001b[0;34m,\u001b[0m \u001b[0mp\u001b[0m\u001b[0;34m.\u001b[0m\u001b[0mstdout\u001b[0m\u001b[0;34m.\u001b[0m\u001b[0mread\u001b[0m\u001b[0;34m(\u001b[0m\u001b[0;34m)\u001b[0m\u001b[0;34m.\u001b[0m\u001b[0mstrip\u001b[0m\u001b[0;34m(\u001b[0m\u001b[0;34m)\u001b[0m\u001b[0;34m)\u001b[0m\u001b[0;34m\u001b[0m\u001b[0m\n\u001b[0m\u001b[1;32m   1838\u001b[0m \u001b[0;34m\u001b[0m\u001b[0m\n\u001b[1;32m   1839\u001b[0m \u001b[0;34m\u001b[0m\u001b[0m\n",
        "\u001b[0;32m/Users/doris/anaconda/envs/py33dev/lib/python3.3/site-packages/montage_wrapper/status.py\u001b[0m in \u001b[0;36mparse_struct\u001b[0;34m(command, string)\u001b[0m\n\u001b[1;32m     31\u001b[0m     \u001b[0;32melse\u001b[0m\u001b[0;34m:\u001b[0m\u001b[0;34m\u001b[0m\u001b[0m\n\u001b[1;32m     32\u001b[0m         \u001b[0;32mif\u001b[0m \u001b[0;34m'struct'\u001b[0m \u001b[0;32min\u001b[0m \u001b[0mstring\u001b[0m\u001b[0;34m:\u001b[0m\u001b[0;34m\u001b[0m\u001b[0m\n\u001b[0;32m---> 33\u001b[0;31m             \u001b[0mresult\u001b[0m \u001b[0;34m=\u001b[0m \u001b[0mStruct\u001b[0m\u001b[0;34m(\u001b[0m\u001b[0mcommand\u001b[0m\u001b[0;34m,\u001b[0m \u001b[0mstring\u001b[0m\u001b[0;34m)\u001b[0m\u001b[0;34m\u001b[0m\u001b[0m\n\u001b[0m\u001b[1;32m     34\u001b[0m         \u001b[0;32melse\u001b[0m\u001b[0;34m:\u001b[0m\u001b[0;34m\u001b[0m\u001b[0m\n\u001b[1;32m     35\u001b[0m             \u001b[0mprint\u001b[0m\u001b[0;34m(\u001b[0m\u001b[0mstring\u001b[0m\u001b[0;34m)\u001b[0m\u001b[0;34m\u001b[0m\u001b[0m\n",
        "\u001b[0;32m/Users/doris/anaconda/envs/py33dev/lib/python3.3/site-packages/montage_wrapper/status.py\u001b[0m in \u001b[0;36m__init__\u001b[0;34m(self, command, string)\u001b[0m\n\u001b[1;32m     68\u001b[0m \u001b[0;34m\u001b[0m\u001b[0m\n\u001b[1;32m     69\u001b[0m         \u001b[0;32mif\u001b[0m \u001b[0mself\u001b[0m\u001b[0;34m.\u001b[0m\u001b[0mstat\u001b[0m \u001b[0;34m==\u001b[0m \u001b[0;34m\"ERROR\"\u001b[0m\u001b[0;34m:\u001b[0m\u001b[0;34m\u001b[0m\u001b[0m\n\u001b[0;32m---> 70\u001b[0;31m             \u001b[0;32mraise\u001b[0m \u001b[0mMontageError\u001b[0m\u001b[0;34m(\u001b[0m\u001b[0;34m\"%s: %s\"\u001b[0m \u001b[0;34m%\u001b[0m \u001b[0;34m(\u001b[0m\u001b[0mcommand\u001b[0m\u001b[0;34m,\u001b[0m \u001b[0mself\u001b[0m\u001b[0;34m.\u001b[0m\u001b[0mmsg\u001b[0m\u001b[0;34m)\u001b[0m\u001b[0;34m)\u001b[0m\u001b[0;34m\u001b[0m\u001b[0m\n\u001b[0m\u001b[1;32m     71\u001b[0m         \u001b[0;32melif\u001b[0m \u001b[0mself\u001b[0m\u001b[0;34m.\u001b[0m\u001b[0mstat\u001b[0m \u001b[0;34m==\u001b[0m \u001b[0;34m\"WARNING\"\u001b[0m\u001b[0;34m:\u001b[0m\u001b[0;34m\u001b[0m\u001b[0m\n\u001b[1;32m     72\u001b[0m             \u001b[0mlog\u001b[0m\u001b[0;34m.\u001b[0m\u001b[0mwarn\u001b[0m\u001b[0;34m(\u001b[0m\u001b[0mself\u001b[0m\u001b[0;34m.\u001b[0m\u001b[0mmsg\u001b[0m\u001b[0;34m)\u001b[0m\u001b[0;34m\u001b[0m\u001b[0m\n",
        "\u001b[0;31mMontageError\u001b[0m: mProjExec: Image metadata file (../images.tbl) does not exist"
       ]
      }
     ],
     "prompt_number": 15
    },
    {
     "cell_type": "code",
     "collapsed": false,
     "input": [
      "ls"
     ],
     "language": "python",
     "metadata": {},
     "outputs": [
      {
       "output_type": "stream",
       "stream": "stdout",
       "text": [
        "images.tbl  \u001b[34mprojected\u001b[m\u001b[m/  \u001b[34mraw\u001b[m\u001b[m/\r\n"
       ]
      }
     ],
     "prompt_number": 16
    },
    {
     "cell_type": "code",
     "collapsed": false,
     "input": [
      "montage.mProjExec(\"../images.tbl\",\"../\"+out+\".hdr\",\"../projected\", \"../stats.tbl\") "
     ],
     "language": "python",
     "metadata": {},
     "outputs": [
      {
       "ename": "MontageError",
       "evalue": "mProjExec: Output directory (../projected) does not exist",
       "output_type": "pyerr",
       "traceback": [
        "\u001b[0;31m---------------------------------------------------------------------------\u001b[0m\n\u001b[0;31mMontageError\u001b[0m                              Traceback (most recent call last)",
        "\u001b[0;32m<ipython-input-17-ddf154e98b9a>\u001b[0m in \u001b[0;36m<module>\u001b[0;34m()\u001b[0m\n\u001b[0;32m----> 1\u001b[0;31m \u001b[0mmontage\u001b[0m\u001b[0;34m.\u001b[0m\u001b[0mmProjExec\u001b[0m\u001b[0;34m(\u001b[0m\u001b[0;34m\"images.tbl\"\u001b[0m\u001b[0;34m,\u001b[0m\u001b[0;34m\"../\"\u001b[0m\u001b[0;34m+\u001b[0m\u001b[0mout\u001b[0m\u001b[0;34m+\u001b[0m\u001b[0;34m\".hdr\"\u001b[0m\u001b[0;34m,\u001b[0m\u001b[0;34m\"../projected\"\u001b[0m\u001b[0;34m,\u001b[0m \u001b[0;34m\"../stats.tbl\"\u001b[0m\u001b[0;34m)\u001b[0m\u001b[0;34m\u001b[0m\u001b[0m\n\u001b[0m",
        "\u001b[0;32m/Users/doris/anaconda/envs/py33dev/lib/python3.3/site-packages/montage_wrapper/commands.py\u001b[0m in \u001b[0;36mmProjExec\u001b[0;34m(images_table, template_header, proj_dir, stats_table, raw_dir, debug, exact, whole, border, restart_rec, status_file, scale_column, mpi, n_proc)\u001b[0m\n\u001b[1;32m   1835\u001b[0m     \u001b[0;32mif\u001b[0m \u001b[0mstderr\u001b[0m\u001b[0;34m:\u001b[0m\u001b[0;34m\u001b[0m\u001b[0m\n\u001b[1;32m   1836\u001b[0m         \u001b[0;32mraise\u001b[0m \u001b[0mException\u001b[0m\u001b[0;34m(\u001b[0m\u001b[0mstderr\u001b[0m\u001b[0;34m)\u001b[0m\u001b[0;34m\u001b[0m\u001b[0m\n\u001b[0;32m-> 1837\u001b[0;31m     \u001b[0;32mreturn\u001b[0m \u001b[0mstatus\u001b[0m\u001b[0;34m.\u001b[0m\u001b[0mparse_struct\u001b[0m\u001b[0;34m(\u001b[0m\u001b[0;34m\"mProjExec\"\u001b[0m\u001b[0;34m,\u001b[0m \u001b[0mp\u001b[0m\u001b[0;34m.\u001b[0m\u001b[0mstdout\u001b[0m\u001b[0;34m.\u001b[0m\u001b[0mread\u001b[0m\u001b[0;34m(\u001b[0m\u001b[0;34m)\u001b[0m\u001b[0;34m.\u001b[0m\u001b[0mstrip\u001b[0m\u001b[0;34m(\u001b[0m\u001b[0;34m)\u001b[0m\u001b[0;34m)\u001b[0m\u001b[0;34m\u001b[0m\u001b[0m\n\u001b[0m\u001b[1;32m   1838\u001b[0m \u001b[0;34m\u001b[0m\u001b[0m\n\u001b[1;32m   1839\u001b[0m \u001b[0;34m\u001b[0m\u001b[0m\n",
        "\u001b[0;32m/Users/doris/anaconda/envs/py33dev/lib/python3.3/site-packages/montage_wrapper/status.py\u001b[0m in \u001b[0;36mparse_struct\u001b[0;34m(command, string)\u001b[0m\n\u001b[1;32m     31\u001b[0m     \u001b[0;32melse\u001b[0m\u001b[0;34m:\u001b[0m\u001b[0;34m\u001b[0m\u001b[0m\n\u001b[1;32m     32\u001b[0m         \u001b[0;32mif\u001b[0m \u001b[0;34m'struct'\u001b[0m \u001b[0;32min\u001b[0m \u001b[0mstring\u001b[0m\u001b[0;34m:\u001b[0m\u001b[0;34m\u001b[0m\u001b[0m\n\u001b[0;32m---> 33\u001b[0;31m             \u001b[0mresult\u001b[0m \u001b[0;34m=\u001b[0m \u001b[0mStruct\u001b[0m\u001b[0;34m(\u001b[0m\u001b[0mcommand\u001b[0m\u001b[0;34m,\u001b[0m \u001b[0mstring\u001b[0m\u001b[0;34m)\u001b[0m\u001b[0;34m\u001b[0m\u001b[0m\n\u001b[0m\u001b[1;32m     34\u001b[0m         \u001b[0;32melse\u001b[0m\u001b[0;34m:\u001b[0m\u001b[0;34m\u001b[0m\u001b[0m\n\u001b[1;32m     35\u001b[0m             \u001b[0mprint\u001b[0m\u001b[0;34m(\u001b[0m\u001b[0mstring\u001b[0m\u001b[0;34m)\u001b[0m\u001b[0;34m\u001b[0m\u001b[0m\n",
        "\u001b[0;32m/Users/doris/anaconda/envs/py33dev/lib/python3.3/site-packages/montage_wrapper/status.py\u001b[0m in \u001b[0;36m__init__\u001b[0;34m(self, command, string)\u001b[0m\n\u001b[1;32m     68\u001b[0m \u001b[0;34m\u001b[0m\u001b[0m\n\u001b[1;32m     69\u001b[0m         \u001b[0;32mif\u001b[0m \u001b[0mself\u001b[0m\u001b[0;34m.\u001b[0m\u001b[0mstat\u001b[0m \u001b[0;34m==\u001b[0m \u001b[0;34m\"ERROR\"\u001b[0m\u001b[0;34m:\u001b[0m\u001b[0;34m\u001b[0m\u001b[0m\n\u001b[0;32m---> 70\u001b[0;31m             \u001b[0;32mraise\u001b[0m \u001b[0mMontageError\u001b[0m\u001b[0;34m(\u001b[0m\u001b[0;34m\"%s: %s\"\u001b[0m \u001b[0;34m%\u001b[0m \u001b[0;34m(\u001b[0m\u001b[0mcommand\u001b[0m\u001b[0;34m,\u001b[0m \u001b[0mself\u001b[0m\u001b[0;34m.\u001b[0m\u001b[0mmsg\u001b[0m\u001b[0;34m)\u001b[0m\u001b[0;34m)\u001b[0m\u001b[0;34m\u001b[0m\u001b[0m\n\u001b[0m\u001b[1;32m     71\u001b[0m         \u001b[0;32melif\u001b[0m \u001b[0mself\u001b[0m\u001b[0;34m.\u001b[0m\u001b[0mstat\u001b[0m \u001b[0;34m==\u001b[0m \u001b[0;34m\"WARNING\"\u001b[0m\u001b[0;34m:\u001b[0m\u001b[0;34m\u001b[0m\u001b[0m\n\u001b[1;32m     72\u001b[0m             \u001b[0mlog\u001b[0m\u001b[0;34m.\u001b[0m\u001b[0mwarn\u001b[0m\u001b[0;34m(\u001b[0m\u001b[0mself\u001b[0m\u001b[0;34m.\u001b[0m\u001b[0mmsg\u001b[0m\u001b[0;34m)\u001b[0m\u001b[0;34m\u001b[0m\u001b[0m\n",
        "\u001b[0;31mMontageError\u001b[0m: mProjExec: Output directory (../projected) does not exist"
       ]
      }
     ],
     "prompt_number": 17
    },
    {
     "cell_type": "code",
     "collapsed": false,
     "input": [],
     "language": "python",
     "metadata": {},
     "outputs": []
    }
   ],
   "metadata": {}
  }
 ]
}