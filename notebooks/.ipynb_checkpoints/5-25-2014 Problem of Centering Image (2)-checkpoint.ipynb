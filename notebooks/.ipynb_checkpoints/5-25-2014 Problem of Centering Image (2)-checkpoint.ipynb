{
 "metadata": {
  "name": ""
 },
 "nbformat": 3,
 "nbformat_minor": 0,
 "worksheets": [
  {
   "cells": [
    {
     "cell_type": "markdown",
     "metadata": {},
     "source": [
      " I thought of this today, but how exactly is what we are doing different from the Hogg's RC3 . With the addition of u,z, files available. But the mosaic is the same?\n",
      "http://cosmo.nyu.edu/hogg/rc3/"
     ]
    },
    {
     "cell_type": "code",
     "collapsed": false,
     "input": [
      "#a breif count of the number of galaxies inside Hogg's RC3\n",
      "88*6"
     ],
     "language": "python",
     "metadata": {},
     "outputs": [
      {
       "metadata": {},
       "output_type": "pyout",
       "prompt_number": 2,
       "text": [
        "528"
       ]
      }
     ],
     "prompt_number": 2
    },
    {
     "cell_type": "markdown",
     "metadata": {},
     "source": [
      "Checking this with the thumbnail \n",
      "It should endup looking something like if you pasted all the RA,DEC values into http://skyserver.sdss3.org/dr10/en/tools/chart/list.aspx\n",
      "\n",
      "- result: total of 921\n",
      "- 16,15,7,12"
     ]
    },
    {
     "cell_type": "code",
     "collapsed": false,
     "input": [
      "(16+15+7+12)/5"
     ],
     "language": "python",
     "metadata": {},
     "outputs": [
      {
       "metadata": {},
       "output_type": "pyout",
       "prompt_number": 5,
       "text": [
        "10.0"
       ]
      }
     ],
     "prompt_number": 5
    },
    {
     "cell_type": "code",
     "collapsed": false,
     "input": [
      "25*921 #approx"
     ],
     "language": "python",
     "metadata": {},
     "outputs": [
      {
       "metadata": {},
       "output_type": "pyout",
       "prompt_number": 6,
       "text": [
        "23025"
       ]
      }
     ],
     "prompt_number": 6
    },
    {
     "cell_type": "markdown",
     "metadata": {},
     "source": [
      "Looking at the order of magnitude, there should be around 9210 galaxies in SDSS footprint. Which means Hogg's doesn't cover all of the galaxies in RC3.\n",
      "\n",
      "- This also means that I should be left with around 9210 mosaics in the end\n",
      "     - (can use this to calculate approx disk space I need for this, later)"
     ]
    },
    {
     "cell_type": "markdown",
     "metadata": {},
     "source": [
      "Note : the JPEG in the Single Field Search is not north-aligned, Right is north in this case.\n"
     ]
    },
    {
     "cell_type": "markdown",
     "metadata": {},
     "source": [
      "I found out that if I change the field number for (RA, DEC)=(139.463333333,-0.279166666667), from 128 to 127 then the galaxy stil stays in my field of view. So if I mosaic these two together. Ideally I should get a good centered image?"
     ]
    }
   ],
   "metadata": {}
  }
 ]
}