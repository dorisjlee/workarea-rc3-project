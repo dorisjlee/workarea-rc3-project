{
 "metadata": {
  "name": ""
 },
 "nbformat": 3,
 "nbformat_minor": 0,
 "worksheets": [
  {
   "cells": [
    {
     "cell_type": "heading",
     "level": 1,
     "metadata": {},
     "source": [
      "Montage Tutorial: Pleiades Mosaic"
     ]
    },
    {
     "cell_type": "markdown",
     "metadata": {},
     "source": [
      "http://montage.ipac.caltech.edu/docs/pleiades_tutorial.html"
     ]
    },
    {
     "cell_type": "raw",
     "metadata": {},
     "source": [
      "Create a HDR file with given info\n",
      "HDR file:\n",
      "- High Dynamic Range\n",
      "- greater dynamic range of luminosity \n",
      "\n",
      "# See comments on the pleides.bash file\n",
      "\n",
      "After Montage installation, Montage can be called in bash. \n",
      "We write a bash script to create the image mosaic.\n",
      "# Run by \"bash pleiades.bash\""
     ]
    },
    {
     "cell_type": "code",
     "collapsed": false,
     "input": [],
     "language": "python",
     "metadata": {},
     "outputs": []
    }
   ],
   "metadata": {}
  }
 ]
}