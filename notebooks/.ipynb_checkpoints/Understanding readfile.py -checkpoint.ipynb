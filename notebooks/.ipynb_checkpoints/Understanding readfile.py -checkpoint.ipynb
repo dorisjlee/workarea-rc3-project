{
 "metadata": {
  "name": ""
 },
 "nbformat": 3,
 "nbformat_minor": 0,
 "worksheets": [
  {
   "cells": [
    {
     "cell_type": "code",
     "collapsed": false,
     "input": [
      "# This code only runs on python 2 (source deactivate) not python 3. (source activate py33dev)\n",
      "# I made some modification so that it works in python 3.3\n",
      "counter = 0\n",
      "\n",
      "ralist = []\n",
      "declist = []\n",
      "radiuslist = []\n",
      "\n",
      "f= open('rc3.txt','r')\n",
      "for line in f:\n",
      "       \n",
      "    counter = counter + 1\n",
      "    if counter > 15:\n",
      "        break\n",
      "        \n",
      "    if counter != 5 and counter != 6 and counter != 7 and counter != 11:\n",
      "        \n",
      "        x = float(line[0:2])\n",
      "        y = float(line[2:4])\n",
      "        z = float(line[4:8])\n",
      "         \n",
      "        sign = line[9]\n",
      "        decval = float(line[10:12]) \n",
      "        m = float(line[12:14])\n",
      "        \n",
      "##     #   if line[14] != ' ' and line[15] != ' ':        \n",
      "        n = float(line[14:16])\n",
      "        \n",
      "        # testval = float(line[171:175])\n",
      "        rad = 10**(float(line[171:175]))\n",
      "        radius = rad/10\n",
      "        \n",
      "        ra = 15*x + (y/4) + (z/240) \n",
      "##      #  if line[14] != ' ' and line[15] != ' ':\n",
      "        dec = decval + (m/60) + (n/3600)   \n",
      "##      else:\n",
      "#        dec = decval + (m/60)\n",
      "        \n",
      "        if sign == '-':\n",
      "           dec = -1*dec \n",
      "              \n",
      "        ralist.append(ra)\n",
      "        declist.append(dec)\n",
      "        radiuslist.append(radius)\n",
      "        \n",
      "       # print ra, dec\n",
      "       # print radius \n",
      "#Parenthesis for py2 --> py3 compatiblity\n",
      "print (ralist)\n",
      "print (declist)\n",
      "print (radiuslist)        "
     ],
     "language": "python",
     "metadata": {},
     "outputs": [
      {
       "output_type": "stream",
       "stream": "stdout",
       "text": [
        "[0.007500000000000001, 0.03625, 0.08875000000000001, 0.09375, 0.12083333333333333, 0.15833333333333333, 0.15958333333333333, 0.18458333333333332, 0.19499999999999998, 0.22041666666666665, 0.23291666666666666]\n",
        "[47.27444444444444, -6.374722222222222, -2.6105555555555555, -80.79166666666667, -40.483333333333334, 20.059166666666666, 28.384999999999998, 28.40138888888889, 28.402777777777775, -47.355000000000004, -40.711666666666666]\n",
        "[2.39883291901949, 1.5488166189124812, 1.2302687708123818, 1.6982436524617444, 1.9498445997580454, 0.8128305161640993, 1.1748975549395297, 0.7943282347242816, 1.0, 0.9772372209558107, 1.0471285480508996]\n"
       ]
      }
     ],
     "prompt_number": 4
    },
    {
     "cell_type": "code",
     "collapsed": false,
     "input": [
      "\n"
     ],
     "language": "python",
     "metadata": {},
     "outputs": [],
     "prompt_number": 5
    },
    {
     "cell_type": "code",
     "collapsed": false,
     "input": [],
     "language": "python",
     "metadata": {},
     "outputs": []
    },
    {
     "cell_type": "markdown",
     "metadata": {},
     "source": [
      "test"
     ]
    }
   ],
   "metadata": {}
  }
 ]
}