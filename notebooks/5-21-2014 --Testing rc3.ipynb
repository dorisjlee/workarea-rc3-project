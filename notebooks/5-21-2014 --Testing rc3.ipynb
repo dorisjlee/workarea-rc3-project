{
 "metadata": {
  "name": ""
 },
 "nbformat": 3,
 "nbformat_minor": 0,
 "worksheets": [
  {
   "cells": [
    {
     "cell_type": "raw",
     "metadata": {},
     "source": [
      "Trying to get one individual mosaic to work picking the first object from that huge list of values"
     ]
    },
    {
     "cell_type": "code",
     "collapsed": false,
     "input": [
      "import montage_wrapper as montage"
     ],
     "language": "python",
     "metadata": {},
     "outputs": [],
     "prompt_number": 1
    },
    {
     "cell_type": "code",
     "collapsed": false,
     "input": [
      "montage.mArchiveList(\"SDSS\",\"u\",\"0.007500000000000001 47.27444444444444\", 2*2.39883291901949,2*2.39883291901949,\"rc3_1.tbl\")"
     ],
     "language": "python",
     "metadata": {},
     "outputs": [
      {
       "metadata": {},
       "output_type": "pyout",
       "prompt_number": 2,
       "text": [
        "stat : OK\n",
        "count : 16"
       ]
      }
     ],
     "prompt_number": 2
    },
    {
     "cell_type": "code",
     "collapsed": false,
     "input": [
      "montage.mArchiveExec(\"rc3_1.tbl\")"
     ],
     "language": "python",
     "metadata": {},
     "outputs": [
      {
       "metadata": {},
       "output_type": "pyout",
       "prompt_number": 3,
       "text": [
        "stat : OK\n",
        "count : 16\n",
        "failed : 0"
       ]
      }
     ],
     "prompt_number": 3
    },
    {
     "cell_type": "code",
     "collapsed": false,
     "input": [
      "cat rc3_1.tbl"
     ],
     "language": "python",
     "metadata": {},
     "outputs": [
      {
       "output_type": "stream",
       "stream": "stdout",
       "text": [
        "|                              Title|width|height|   size|              RA|             DEC|            pixscale|    format|                                                                  url|equinox|naxes|    naxis|           crtype|       crpix|                            crval|                                                                               cdval|                        naxis1|                        naxis2|                        ctype1|                        ctype2|                        crval1|                        crval2|                        crpix1|                        crpix2|                         cd1_1|                         cd1_2|                         cd2_1|                         cd2_2|                                              file|           scale|             offset|\r\n",
        " Sloan Digital Sky Survey - Filter u  2048   1489 3049472 356.358244786909  46.273189535245 0.000110035211267606 image/fits http://das.sdss.org/imaging/4134/648/corr/6/fpC-004134-u6-0356.fit.gz   J2000     2 2048,1489 RA---TAN,DEC--TAN 1024.5,744.5  356.358244786909,46.273189535245  0.00010604076258153,2.93573381508171E-05,2.93794990383605E-05,-0.000105989002283908                           2048                           1489                       RA---TAN                       DEC--TAN               356.358244786909                46.273189535245                         1024.5                          744.5                 1.06040763e-04                 2.93573382e-05                 2.93794990e-05                -1.05989002e-04                          fpC-004134-u6-0356.fit.gz     1.9566531280 -1988.8082888443646 \r\n",
        " Sloan Digital Sky Survey - Filter u  2048   1489 3049472 356.415926213479 46.1289237468834 0.000110035211267606 image/fits http://das.sdss.org/imaging/4134/648/corr/6/fpC-004134-u6-0357.fit.gz   J2000     2 2048,1489 RA---TAN,DEC--TAN 1024.5,744.5 356.415926213479,46.1289237468834 0.000106064632816805,2.92979691924991E-05,2.93080479753849E-05,-0.000106015327299094                           2048                           1489                       RA---TAN                       DEC--TAN               356.415926213479               46.1289237468834                         1024.5                          744.5                 1.06064633e-04                 2.92979692e-05                 2.93080480e-05                -1.06015327e-04                          fpC-004134-u6-0357.fit.gz     1.9558609129 -1987.2640136796563 \r\n",
        " Sloan Digital Sky Survey - Filter u  2048   1489 3049472 356.473297621026 45.9846328731911 0.000110035211267606 image/fits http://das.sdss.org/imaging/4134/648/corr/6/fpC-004134-u6-0358.fit.gz   J2000     2 2048,1489 RA---TAN,DEC--TAN 1024.5,744.5 356.473297621026,45.9846328731911 0.000106081197577466,2.92173850398683E-05,2.92387057753641E-05,-0.000106027700319233                           2048                           1489                       RA---TAN                       DEC--TAN               356.473297621026               45.9846328731911                         1024.5                          744.5                 1.06081198e-04                 2.92173850e-05                 2.92387058e-05                -1.06027700e-04                          fpC-004134-u6-0358.fit.gz     1.9550759324 -1986.4702430265693 \r\n",
        " Sloan Digital Sky Survey - Filter u  2048   1489 3049472 356.530393184907 45.8403304098761 0.000110035211267606 image/fits http://das.sdss.org/imaging/4134/648/corr/6/fpC-004134-u6-0359.fit.gz   J2000     2 2048,1489 RA---TAN,DEC--TAN 1024.5,744.5 356.530393184907,45.8403304098761 0.000106099221265056,2.91548411475129E-05,2.91675601187896E-05,-0.000106053853541102                           2048                           1489                       RA---TAN                       DEC--TAN               356.530393184907               45.8403304098761                         1024.5                          744.5                 1.06099221e-04                 2.91548411e-05                 2.91675601e-05                -1.06053854e-04                          fpC-004134-u6-0359.fit.gz     1.9542983058 -1985.6777969870054 \r\n",
        " Sloan Digital Sky Survey - Filter u  2048   1489 3049472 356.587238743905 45.6959980110793 0.000110035211267606 image/fits http://das.sdss.org/imaging/4134/648/corr/6/fpC-004134-u6-0360.fit.gz   J2000     2 2048,1489 RA---TAN,DEC--TAN 1024.5,744.5 356.587238743905,45.6959980110793 0.000106122543528246,2.91242261340831E-05,2.91018097339388E-05,-0.000106059993866272                           2048                           1489                       RA---TAN                       DEC--TAN               356.587238743905               45.6959980110793                         1024.5                          744.5                 1.06122544e-04                 2.91242261e-05                 2.91018097e-05                -1.06059994e-04                          fpC-004134-u6-0360.fit.gz     1.9535280274 -1985.1350948695833 \r\n",
        " Sloan Digital Sky Survey - Filter u  2048   1489 3049472 356.643810871279  45.551639623807 0.000110035211267606 image/fits http://das.sdss.org/imaging/4134/648/corr/6/fpC-004134-u6-0361.fit.gz   J2000     2 2048,1489 RA---TAN,DEC--TAN 1024.5,744.5  356.643810871279,45.551639623807 0.000106135103175977,2.90123259687554E-05,2.90334778548802E-05,-0.000106069285762993                           2048                           1489                       RA---TAN                       DEC--TAN               356.643810871279                45.551639623807                         1024.5                          744.5                 1.06135103e-04                 2.90123260e-05                 2.90334779e-05                -1.06069286e-04                          fpC-004134-u6-0361.fit.gz     1.9527650684 -1984.4301586884708 \r\n",
        " Sloan Digital Sky Survey - Filter u  2048   1489 3049472 356.700060830415 45.4072726607828 0.000110035211267606 image/fits http://das.sdss.org/imaging/4134/648/corr/6/fpC-004134-u6-0362.fit.gz   J2000     2 2048,1489 RA---TAN,DEC--TAN 1024.5,744.5 356.700060830415,45.4072726607828 0.000106156000196478,2.89369887611015E-05,2.89651439081185E-05,-0.000106091152552607                           2048                           1489                       RA---TAN                       DEC--TAN               356.700060830415               45.4072726607828                         1024.5                          744.5                 1.06156000e-04                 2.89369888e-05                 2.89651439e-05                -1.06091153e-04                          fpC-004134-u6-0362.fit.gz     1.9520093413 -1983.6608698770294 \r\n",
        " Sloan Digital Sky Survey - Filter u  2048   1489 3049472 356.756045392997 45.2628452340618 0.000110035211267606 image/fits http://das.sdss.org/imaging/4134/648/corr/6/fpC-004134-u6-0363.fit.gz   J2000     2 2048,1489 RA---TAN,DEC--TAN 1024.5,744.5 356.756045392997,45.2628452340618  0.00010617839959392,2.88924157681772E-05,2.88934430536615E-05,-0.000106137956420173                           2048                           1489                       RA---TAN                       DEC--TAN               356.756045392997               45.2628452340618                         1024.5                          744.5                 1.06178400e-04                 2.88924158e-05                 2.88934431e-05                -1.06137956e-04                          fpC-004134-u6-0363.fit.gz     1.9512607889 -1982.8924727024835 \r\n",
        " Sloan Digital Sky Survey - Filter u  2048   1489 3049472 356.811744625827 45.1184229954491 0.000110035211267606 image/fits http://das.sdss.org/imaging/4134/648/corr/6/fpC-004134-u6-0364.fit.gz   J2000     2 2048,1489 RA---TAN,DEC--TAN 1024.5,744.5 356.811744625827,45.1184229954491  0.000106195613819018,2.8820943730209E-05,2.88281471390671E-05,-0.000106119847921128                           2048                           1489                       RA---TAN                       DEC--TAN               356.811744625827               45.1184229954491                         1024.5                          744.5                 1.06195614e-04                 2.88209437e-05                 2.88281471e-05                -1.06119848e-04                          fpC-004134-u6-0364.fit.gz     1.9505196030 -1982.0864789447439 \r\n",
        " Sloan Digital Sky Survey - Filter u  2048   1489 3049472 356.867188802751 44.9739826484928 0.000110035211267606 image/fits http://das.sdss.org/imaging/4134/648/corr/6/fpC-004134-u6-0365.fit.gz   J2000     2 2048,1489 RA---TAN,DEC--TAN 1024.5,744.5 356.867188802751,44.9739826484928  0.000106216879676781,2.8746754006212E-05,2.87605109239962E-05,-0.000106144854634544                           2048                           1489                       RA---TAN                       DEC--TAN               356.867188802751               44.9739826484928                         1024.5                          744.5                 1.06216880e-04                 2.87467540e-05                 2.87605109e-05                -1.06144855e-04                          fpC-004134-u6-0365.fit.gz     1.9497857772 -1981.3413503241657 \r\n",
        " Sloan Digital Sky Survey - Filter u  2048   1489 3049472 356.922345935241 44.8294904294076 0.000110035211267606 image/fits http://das.sdss.org/imaging/4134/648/corr/6/fpC-004134-u6-0366.fit.gz   J2000     2 2048,1489 RA---TAN,DEC--TAN 1024.5,744.5 356.922345935241,44.8294904294076 0.000106235396000418,2.86676722751272E-05,2.86988830295036E-05,-0.000106178953545443                           2048                           1489                       RA---TAN                       DEC--TAN               356.922345935241               44.8294904294076                         1024.5                          744.5                 1.06235396e-04                 2.86676723e-05                 2.86988830e-05                -1.06178954e-04                          fpC-004134-u6-0366.fit.gz     1.9490591047 -1980.5973457171106 \r\n",
        " Sloan Digital Sky Survey - Filter u  2048   1489 3049472 356.434010642756 45.3254162650761 0.000110035211267606 image/fits http://das.sdss.org/imaging/4135/648/corr/6/fpC-004135-u6-0167.fit.gz   J2000     2 2048,1489 RA---TAN,DEC--TAN 1024.5,744.5 356.434010642756,45.3254162650761 0.000106054499973312,2.92853830975539E-05,2.93105609899834E-05,-0.000106032967965126                           2048                           1489                       RA---TAN                       DEC--TAN               356.434010642756               45.3254162650761                         1024.5                          744.5                 1.06054500e-04                 2.92853831e-05                 2.93105610e-05                -1.06032968e-04                          fpC-004135-u6-0167.fit.gz     1.9731684656 -2000.9672605971186 \r\n",
        " Sloan Digital Sky Survey - Filter u  2048   1489 3049472 356.490574933051 45.1810738234455 0.000110035211267606 image/fits http://das.sdss.org/imaging/4135/648/corr/6/fpC-004135-u6-0168.fit.gz   J2000     2 2048,1489 RA---TAN,DEC--TAN 1024.5,744.5 356.490574933051,45.1810738234455 0.000106081539511221,2.92303511884743E-05,2.92347209693623E-05,-0.000106073804332142                           2048                           1489                       RA---TAN                       DEC--TAN               356.490574933051               45.1810738234455                         1024.5                          744.5                 1.06081540e-04                 2.92303512e-05                 2.92347210e-05                -1.06073804e-04                          fpC-004135-u6-0168.fit.gz     1.9730433985 -2000.8946917940309 \r\n",
        " Sloan Digital Sky Survey - Filter u  2048   1489 3049472 356.546898614489 45.0367360859419 0.000110035211267606 image/fits http://das.sdss.org/imaging/4135/648/corr/6/fpC-004135-u6-0169.fit.gz   J2000     2 2048,1489 RA---TAN,DEC--TAN 1024.5,744.5 356.546898614489,45.0367360859419 0.000106095645049064,2.91729349718077E-05,2.91742365296941E-05,-0.000106073035101134                           2048                           1489                       RA---TAN                       DEC--TAN               356.546898614489               45.0367360859419                         1024.5                          744.5                 1.06095645e-04                 2.91729350e-05                 2.91742365e-05                -1.06073035e-04                          fpC-004135-u6-0169.fit.gz     1.9729291619 -2000.9078092298926 \r\n",
        " Sloan Digital Sky Survey - Filter u  2048   1489 3049472 356.602932199774 44.8923394151988 0.000110035211267606 image/fits http://das.sdss.org/imaging/4135/648/corr/6/fpC-004135-u6-0170.fit.gz   J2000     2 2048,1489 RA---TAN,DEC--TAN 1024.5,744.5 356.602932199774,44.8923394151988 0.000106121038054347,2.91137862405729E-05,2.91038092129412E-05,-0.000106101556263846                           2048                           1489                       RA---TAN                       DEC--TAN               356.602932199774               44.8923394151988                         1024.5                          744.5                 1.06121038e-04                 2.91137862e-05                 2.91038092e-05                -1.06101556e-04                          fpC-004135-u6-0170.fit.gz     1.9728257911 -2000.8586936419208 \r\n",
        " Sloan Digital Sky Survey - Filter u  2048   1489 3049472 356.658725176148 44.7479421530823 0.000110035211267606 image/fits http://das.sdss.org/imaging/4135/648/corr/6/fpC-004135-u6-0171.fit.gz   J2000     2 2048,1489 RA---TAN,DEC--TAN 1024.5,744.5 356.658725176148,44.7479421530823 0.000106138220824942,2.90415162717923E-05,2.90355235245896E-05,-0.000106096409615837                           2048                           1489                       RA---TAN                       DEC--TAN               356.658725176148               44.7479421530823                         1024.5                          744.5                 1.06138221e-04                 2.90415163e-05                 2.90355235e-05                -1.06096410e-04                          fpC-004135-u6-0171.fit.gz     1.9727332614 -2000.7701853254077 \r\n"
       ]
      }
     ],
     "prompt_number": 4
    },
    {
     "cell_type": "markdown",
     "metadata": {},
     "source": [
      "This works now, the reason why it wasn't originally working was because first it throws the error that \"raw\" directory is not found. Then I made a empty \"raw\" directory. then I sucessfully call mImgtbl on the things in raw directory (which contains nothing, thisi s why counts:0 and image.tbl is empty)."
     ]
    },
    {
     "cell_type": "markdown",
     "metadata": {},
     "source": [
      "What you need to do is put all the *.fit.gz files created by the mArchiveExec into your \"raw\" directory. This way, when mImgtbl scans for all the images"
     ]
    },
    {
     "cell_type": "code",
     "collapsed": false,
     "input": [
      "montage.mImgtbl(\"raw\",\"images.tbl\")"
     ],
     "language": "python",
     "metadata": {},
     "outputs": [
      {
       "metadata": {},
       "output_type": "pyout",
       "prompt_number": 6,
       "text": [
        "stat : OK\n",
        "badwcs : 0\n",
        "count : 16\n",
        "badfits : 0"
       ]
      }
     ],
     "prompt_number": 6
    },
    {
     "cell_type": "code",
     "collapsed": false,
     "input": [
      "montage.mProjExec(\"rimages.tbl\",)"
     ],
     "language": "python",
     "metadata": {},
     "outputs": [
      {
       "ename": "TypeError",
       "evalue": "mProjExec() missing 3 required positional arguments: 'template_header', 'proj_dir', and 'stats_table'",
       "output_type": "pyerr",
       "traceback": [
        "\u001b[0;31m---------------------------------------------------------------------------\u001b[0m\n\u001b[0;31mTypeError\u001b[0m                                 Traceback (most recent call last)",
        "\u001b[0;32m<ipython-input-7-c9afe136bb74>\u001b[0m in \u001b[0;36m<module>\u001b[0;34m()\u001b[0m\n\u001b[0;32m----> 1\u001b[0;31m \u001b[0mmontage\u001b[0m\u001b[0;34m.\u001b[0m\u001b[0mmProjExec\u001b[0m\u001b[0;34m(\u001b[0m\u001b[0;34m\"rimages.tbl\"\u001b[0m\u001b[0;34m,\u001b[0m\u001b[0;34m)\u001b[0m\u001b[0;34m\u001b[0m\u001b[0m\n\u001b[0m",
        "\u001b[0;31mTypeError\u001b[0m: mProjExec() missing 3 required positional arguments: 'template_header', 'proj_dir', and 'stats_table'"
       ]
      }
     ],
     "prompt_number": 7
    },
    {
     "cell_type": "markdown",
     "metadata": {},
     "source": [
      "We need the FIT header template info here. So need to generate .hdr file. Use mHdr."
     ]
    },
    {
     "cell_type": "code",
     "collapsed": false,
     "input": [
      "montage.mHdr?"
     ],
     "language": "python",
     "metadata": {},
     "outputs": [],
     "prompt_number": 27
    },
    {
     "cell_type": "code",
     "collapsed": false,
     "input": [
      "montage.mHdr(\"0.007500000000000001 47.27444444444444\", 2*2.39883291901949,\"rc3_1.hdr\")"
     ],
     "language": "python",
     "metadata": {},
     "outputs": [
      {
       "metadata": {},
       "output_type": "pyout",
       "prompt_number": 8,
       "text": [
        "stat : OK\n",
        "count : 16"
       ]
      }
     ],
     "prompt_number": 8
    },
    {
     "cell_type": "code",
     "collapsed": false,
     "input": [
      "ls"
     ],
     "language": "python",
     "metadata": {},
     "outputs": [
      {
       "output_type": "stream",
       "stream": "stdout",
       "text": [
        "5-21-2014 --Testing rc3.ipynb  rc3_1.hdr\r\n",
        "images.tbl                     rc3_1.tbl\r\n",
        "\u001b[34mraw\u001b[m\u001b[m/                           readfile.py\r\n",
        "rc3.txt\r\n"
       ]
      }
     ],
     "prompt_number": 9
    },
    {
     "cell_type": "code",
     "collapsed": false,
     "input": [
      "cat rc3_1.hdr"
     ],
     "language": "python",
     "metadata": {},
     "outputs": [
      {
       "output_type": "stream",
       "stream": "stdout",
       "text": [
        "SIMPLE  = T\r\n",
        "BITPIX  = -64\r\n",
        "NAXIS   = 2\r\n",
        "NAXIS1  = 17272\r\n",
        "NAXIS2  = 17272\r\n",
        "CTYPE1  = 'RA---TAN'\r\n",
        "CTYPE2  = 'DEC--TAN'\r\n",
        "CRVAL1  =    0.007500\r\n",
        "CRVAL2  =   47.274440\r\n",
        "CRPIX1  = 8636.500000\r\n",
        "CRPIX2  = 8636.500000\r\n",
        "CDELT1  =   -0.000277778\r\n",
        "CDELT2  =    0.000277778\r\n",
        "CROTA2  =    0.000000\r\n",
        "EQUINOX = 2000.0\r\n",
        "END\r\n"
       ]
      }
     ],
     "prompt_number": 32
    },
    {
     "cell_type": "code",
     "collapsed": false,
     "input": [
      "montage.mProjExec(\"rimages.tbl\",\"rc3_1.hdr\",\"raw\", \"stats.tbl\")"
     ],
     "language": "python",
     "metadata": {},
     "outputs": [
      {
       "ename": "MontageError",
       "evalue": "mProjExec: Image metadata file (rimages.tbl) does not exist",
       "output_type": "pyerr",
       "traceback": [
        "\u001b[0;31m---------------------------------------------------------------------------\u001b[0m\n\u001b[0;31mMontageError\u001b[0m                              Traceback (most recent call last)",
        "\u001b[0;32m<ipython-input-10-7143063cb18c>\u001b[0m in \u001b[0;36m<module>\u001b[0;34m()\u001b[0m\n\u001b[0;32m----> 1\u001b[0;31m \u001b[0mmontage\u001b[0m\u001b[0;34m.\u001b[0m\u001b[0mmProjExec\u001b[0m\u001b[0;34m(\u001b[0m\u001b[0;34m\"rimages.tbl\"\u001b[0m\u001b[0;34m,\u001b[0m\u001b[0;34m\"rc3_1.hdr\"\u001b[0m\u001b[0;34m,\u001b[0m\u001b[0;34m\"raw\"\u001b[0m\u001b[0;34m,\u001b[0m \u001b[0;34m\"stats.tbl\"\u001b[0m\u001b[0;34m)\u001b[0m\u001b[0;34m\u001b[0m\u001b[0m\n\u001b[0m",
        "\u001b[0;32m/Users/doris/anaconda/envs/py33dev/lib/python3.3/site-packages/montage_wrapper/commands.py\u001b[0m in \u001b[0;36mmProjExec\u001b[0;34m(images_table, template_header, proj_dir, stats_table, raw_dir, debug, exact, whole, border, restart_rec, status_file, scale_column, mpi, n_proc)\u001b[0m\n\u001b[1;32m   1835\u001b[0m     \u001b[0;32mif\u001b[0m \u001b[0mstderr\u001b[0m\u001b[0;34m:\u001b[0m\u001b[0;34m\u001b[0m\u001b[0m\n\u001b[1;32m   1836\u001b[0m         \u001b[0;32mraise\u001b[0m \u001b[0mException\u001b[0m\u001b[0;34m(\u001b[0m\u001b[0mstderr\u001b[0m\u001b[0;34m)\u001b[0m\u001b[0;34m\u001b[0m\u001b[0m\n\u001b[0;32m-> 1837\u001b[0;31m     \u001b[0;32mreturn\u001b[0m \u001b[0mstatus\u001b[0m\u001b[0;34m.\u001b[0m\u001b[0mparse_struct\u001b[0m\u001b[0;34m(\u001b[0m\u001b[0;34m\"mProjExec\"\u001b[0m\u001b[0;34m,\u001b[0m \u001b[0mp\u001b[0m\u001b[0;34m.\u001b[0m\u001b[0mstdout\u001b[0m\u001b[0;34m.\u001b[0m\u001b[0mread\u001b[0m\u001b[0;34m(\u001b[0m\u001b[0;34m)\u001b[0m\u001b[0;34m.\u001b[0m\u001b[0mstrip\u001b[0m\u001b[0;34m(\u001b[0m\u001b[0;34m)\u001b[0m\u001b[0;34m)\u001b[0m\u001b[0;34m\u001b[0m\u001b[0m\n\u001b[0m\u001b[1;32m   1838\u001b[0m \u001b[0;34m\u001b[0m\u001b[0m\n\u001b[1;32m   1839\u001b[0m \u001b[0;34m\u001b[0m\u001b[0m\n",
        "\u001b[0;32m/Users/doris/anaconda/envs/py33dev/lib/python3.3/site-packages/montage_wrapper/status.py\u001b[0m in \u001b[0;36mparse_struct\u001b[0;34m(command, string)\u001b[0m\n\u001b[1;32m     31\u001b[0m     \u001b[0;32melse\u001b[0m\u001b[0;34m:\u001b[0m\u001b[0;34m\u001b[0m\u001b[0m\n\u001b[1;32m     32\u001b[0m         \u001b[0;32mif\u001b[0m \u001b[0;34m'struct'\u001b[0m \u001b[0;32min\u001b[0m \u001b[0mstring\u001b[0m\u001b[0;34m:\u001b[0m\u001b[0;34m\u001b[0m\u001b[0m\n\u001b[0;32m---> 33\u001b[0;31m             \u001b[0mresult\u001b[0m \u001b[0;34m=\u001b[0m \u001b[0mStruct\u001b[0m\u001b[0;34m(\u001b[0m\u001b[0mcommand\u001b[0m\u001b[0;34m,\u001b[0m \u001b[0mstring\u001b[0m\u001b[0;34m)\u001b[0m\u001b[0;34m\u001b[0m\u001b[0m\n\u001b[0m\u001b[1;32m     34\u001b[0m         \u001b[0;32melse\u001b[0m\u001b[0;34m:\u001b[0m\u001b[0;34m\u001b[0m\u001b[0m\n\u001b[1;32m     35\u001b[0m             \u001b[0mprint\u001b[0m\u001b[0;34m(\u001b[0m\u001b[0mstring\u001b[0m\u001b[0;34m)\u001b[0m\u001b[0;34m\u001b[0m\u001b[0m\n",
        "\u001b[0;32m/Users/doris/anaconda/envs/py33dev/lib/python3.3/site-packages/montage_wrapper/status.py\u001b[0m in \u001b[0;36m__init__\u001b[0;34m(self, command, string)\u001b[0m\n\u001b[1;32m     68\u001b[0m \u001b[0;34m\u001b[0m\u001b[0m\n\u001b[1;32m     69\u001b[0m         \u001b[0;32mif\u001b[0m \u001b[0mself\u001b[0m\u001b[0;34m.\u001b[0m\u001b[0mstat\u001b[0m \u001b[0;34m==\u001b[0m \u001b[0;34m\"ERROR\"\u001b[0m\u001b[0;34m:\u001b[0m\u001b[0;34m\u001b[0m\u001b[0m\n\u001b[0;32m---> 70\u001b[0;31m             \u001b[0;32mraise\u001b[0m \u001b[0mMontageError\u001b[0m\u001b[0;34m(\u001b[0m\u001b[0;34m\"%s: %s\"\u001b[0m \u001b[0;34m%\u001b[0m \u001b[0;34m(\u001b[0m\u001b[0mcommand\u001b[0m\u001b[0;34m,\u001b[0m \u001b[0mself\u001b[0m\u001b[0;34m.\u001b[0m\u001b[0mmsg\u001b[0m\u001b[0;34m)\u001b[0m\u001b[0;34m)\u001b[0m\u001b[0;34m\u001b[0m\u001b[0m\n\u001b[0m\u001b[1;32m     71\u001b[0m         \u001b[0;32melif\u001b[0m \u001b[0mself\u001b[0m\u001b[0;34m.\u001b[0m\u001b[0mstat\u001b[0m \u001b[0;34m==\u001b[0m \u001b[0;34m\"WARNING\"\u001b[0m\u001b[0;34m:\u001b[0m\u001b[0;34m\u001b[0m\u001b[0m\n\u001b[1;32m     72\u001b[0m             \u001b[0mlog\u001b[0m\u001b[0;34m.\u001b[0m\u001b[0mwarn\u001b[0m\u001b[0;34m(\u001b[0m\u001b[0mself\u001b[0m\u001b[0;34m.\u001b[0m\u001b[0mmsg\u001b[0m\u001b[0;34m)\u001b[0m\u001b[0;34m\u001b[0m\u001b[0m\n",
        "\u001b[0;31mMontageError\u001b[0m: mProjExec: Image metadata file (rimages.tbl) does not exist"
       ]
      }
     ],
     "prompt_number": 10
    },
    {
     "cell_type": "code",
     "collapsed": false,
     "input": [
      "ls"
     ],
     "language": "python",
     "metadata": {},
     "outputs": [
      {
       "output_type": "stream",
       "stream": "stdout",
       "text": [
        "5-21-2014 --Testing rc3.ipynb  rc3_1.tbl\r\n",
        "images.tbl                     readfile.py\r\n",
        "\u001b[34mraw\u001b[m\u001b[m/                           stats.tbl\r\n",
        "rc3.txt                        status\r\n",
        "rc3_1.hdr\r\n"
       ]
      }
     ],
     "prompt_number": 16
    },
    {
     "cell_type": "code",
     "collapsed": false,
     "input": [
      "cd raw/"
     ],
     "language": "python",
     "metadata": {},
     "outputs": [
      {
       "output_type": "stream",
       "stream": "stdout",
       "text": [
        "/Users/doris/Desktop/GSoC2014/workarea-rc3-project/rc3/raw\n"
       ]
      }
     ],
     "prompt_number": 17
    },
    {
     "cell_type": "code",
     "collapsed": false,
     "input": [
      "mkdir projected"
     ],
     "language": "python",
     "metadata": {},
     "outputs": [],
     "prompt_number": 23
    },
    {
     "cell_type": "markdown",
     "metadata": {},
     "source": [
      "A lot of fuss here, since you need to access the raw fit files you need to go into the \"raw\" directory but you need to access the metadata tables and hdr outside too, so you do the ../ which is kind of like doing \"cd ..\""
     ]
    },
    {
     "cell_type": "code",
     "collapsed": false,
     "input": [
      "montage.mProjExec(\"../images.tbl\",\"../rc3_1.hdr\",\"projected\", \"stats.tbl\",debug=True)"
     ],
     "language": "python",
     "metadata": {},
     "outputs": [
      {
       "output_type": "stream",
       "stream": "stdout",
       "text": [
        "Output wcs ptype: [TAN]\n",
        "Input wcs ptype: [TAN]\n",
        "wcsMatch = 1\n",
        " inp2p = INTRINSIC\n",
        "outp2p = INTRINSIC\n",
        "[mProjectPP  -h 0 fpC-004134-u6-0356.fit.gz projected/hdu0_fpC-004134-u6-0356.fit.gz ../rc3_1.hdr]\n",
        "Input wcs ptype: [TAN]\n",
        "wcsMatch = 1\n",
        " inp2p = INTRINSIC\n",
        "outp2p = INTRINSIC\n",
        "[mProjectPP  -h 0 fpC-004134-u6-0357.fit.gz projected/hdu0_fpC-004134-u6-0357.fit.gz ../rc3_1.hdr]\n",
        "Input wcs ptype: [TAN]\n",
        "wcsMatch = 1\n",
        " inp2p = INTRINSIC\n",
        "outp2p = INTRINSIC\n",
        "[mProjectPP  -h 0 fpC-004134-u6-0358.fit.gz projected/hdu0_fpC-004134-u6-0358.fit.gz ../rc3_1.hdr]\n",
        "Input wcs ptype: [TAN]\n",
        "wcsMatch = 1\n",
        " inp2p = INTRINSIC\n",
        "outp2p = INTRINSIC\n",
        "[mProjectPP  -h 0 fpC-004134-u6-0359.fit.gz projected/hdu0_fpC-004134-u6-0359.fit.gz ../rc3_1.hdr]\n",
        "Input wcs ptype: [TAN]\n",
        "wcsMatch = 1\n",
        " inp2p = INTRINSIC\n",
        "outp2p = INTRINSIC\n",
        "[mProjectPP  -h 0 fpC-004134-u6-0360.fit.gz projected/hdu0_fpC-004134-u6-0360.fit.gz ../rc3_1.hdr]\n",
        "Input wcs ptype: [TAN]\n",
        "wcsMatch = 1\n",
        " inp2p = INTRINSIC\n",
        "outp2p = INTRINSIC\n",
        "[mProjectPP  -h 0 fpC-004134-u6-0361.fit.gz projected/hdu0_fpC-004134-u6-0361.fit.gz ../rc3_1.hdr]\n",
        "Input wcs ptype: [TAN]\n",
        "wcsMatch = 1\n",
        " inp2p = INTRINSIC\n",
        "outp2p = INTRINSIC\n",
        "[mProjectPP  -h 0 fpC-004134-u6-0362.fit.gz projected/hdu0_fpC-004134-u6-0362.fit.gz ../rc3_1.hdr]\n",
        "Input wcs ptype: [TAN]\n",
        "wcsMatch = 1\n",
        " inp2p = INTRINSIC\n",
        "outp2p = INTRINSIC\n",
        "[mProjectPP  -h 0 fpC-004134-u6-0363.fit.gz projected/hdu0_fpC-004134-u6-0363.fit.gz ../rc3_1.hdr]\n",
        "Input wcs ptype: [TAN]\n",
        "wcsMatch = 1\n",
        " inp2p = INTRINSIC\n",
        "outp2p = INTRINSIC\n",
        "[mProjectPP  -h 0 fpC-004134-u6-0364.fit.gz projected/hdu0_fpC-004134-u6-0364.fit.gz ../rc3_1.hdr]\n",
        "Input wcs ptype: [TAN]\n",
        "wcsMatch = 1\n",
        " inp2p = INTRINSIC\n",
        "outp2p = INTRINSIC\n",
        "[mProjectPP  -h 0 fpC-004134-u6-0365.fit.gz projected/hdu0_fpC-004134-u6-0365.fit.gz ../rc3_1.hdr]\n",
        "Input wcs ptype: [TAN]\n",
        "wcsMatch = 1\n",
        " inp2p = INTRINSIC\n",
        "outp2p = INTRINSIC\n",
        "[mProjectPP  -h 0 fpC-004134-u6-0366.fit.gz projected/hdu0_fpC-004134-u6-0366.fit.gz ../rc3_1.hdr]\n",
        "Input wcs ptype: [TAN]\n",
        "wcsMatch = 1\n",
        " inp2p = INTRINSIC\n",
        "outp2p = INTRINSIC\n",
        "[mProjectPP  -h 0 fpC-004135-u6-0167.fit.gz projected/hdu0_fpC-004135-u6-0167.fit.gz ../rc3_1.hdr]\n",
        "Input wcs ptype: [TAN]\n",
        "wcsMatch = 1\n",
        " inp2p = INTRINSIC\n",
        "outp2p = INTRINSIC\n",
        "[mProjectPP  -h 0 fpC-004135-u6-0168.fit.gz projected/hdu0_fpC-004135-u6-0168.fit.gz ../rc3_1.hdr]\n",
        "Input wcs ptype: [TAN]\n",
        "wcsMatch = 1\n",
        " inp2p = INTRINSIC\n",
        "outp2p = INTRINSIC\n",
        "[mProjectPP  -h 0 fpC-004135-u6-0169.fit.gz projected/hdu0_fpC-004135-u6-0169.fit.gz ../rc3_1.hdr]\n",
        "Input wcs ptype: [TAN]\n",
        "wcsMatch = 1\n",
        " inp2p = INTRINSIC\n",
        "outp2p = INTRINSIC\n",
        "[mProjectPP  -h 0 fpC-004135-u6-0170.fit.gz projected/hdu0_fpC-004135-u6-0170.fit.gz ../rc3_1.hdr]\n",
        "Input wcs ptype: [TAN]\n",
        "wcsMatch = 1\n",
        " inp2p = INTRINSIC\n",
        "outp2p = INTRINSIC\n",
        "[mProjectPP  -h 0 fpC-004135-u6-0171.fit.gz projected/hdu0_fpC-004135-u6-0171.fit.gz ../rc3_1.hdr]\n"
       ]
      },
      {
       "metadata": {},
       "output_type": "pyout",
       "prompt_number": 25,
       "text": [
        "[stat : OK\n",
        "count : 16\n",
        "nooverlap : 1\n",
        "failed : 0]"
       ]
      }
     ],
     "prompt_number": 25
    },
    {
     "cell_type": "raw",
     "metadata": {},
     "source": [
      "    #So it turns out images.tbl was empty, I probabaly didn't correctly write in when doing mImgtbl"
     ]
    },
    {
     "cell_type": "code",
     "collapsed": false,
     "input": [
      "#creating a table of projected images\n",
      "montage.mImgtbl(\"projected\",\"pimages.tbl\")"
     ],
     "language": "python",
     "metadata": {},
     "outputs": [
      {
       "metadata": {},
       "output_type": "pyout",
       "prompt_number": 26,
       "text": [
        "stat : OK\n",
        "badwcs : 0\n",
        "count : 15\n",
        "badfits : 0"
       ]
      }
     ],
     "prompt_number": 26
    },
    {
     "cell_type": "code",
     "collapsed": false,
     "input": [
      "ls #this is inside raw/"
     ],
     "language": "python",
     "metadata": {},
     "outputs": [
      {
       "output_type": "stream",
       "stream": "stdout",
       "text": [
        "fpC-004134-u6-0356.fit.gz  fpC-004134-u6-0366.fit.gz\r\n",
        "fpC-004134-u6-0357.fit.gz  fpC-004135-u6-0167.fit.gz\r\n",
        "fpC-004134-u6-0358.fit.gz  fpC-004135-u6-0168.fit.gz\r\n",
        "fpC-004134-u6-0359.fit.gz  fpC-004135-u6-0169.fit.gz\r\n",
        "fpC-004134-u6-0360.fit.gz  fpC-004135-u6-0170.fit.gz\r\n",
        "fpC-004134-u6-0361.fit.gz  fpC-004135-u6-0171.fit.gz\r\n",
        "fpC-004134-u6-0362.fit.gz  pimages.tbl\r\n",
        "fpC-004134-u6-0363.fit.gz  \u001b[34mprojected\u001b[m\u001b[m/\r\n",
        "fpC-004134-u6-0364.fit.gz  stats.tbl\r\n",
        "fpC-004134-u6-0365.fit.gz  status\r\n"
       ]
      }
     ],
     "prompt_number": 27
    },
    {
     "cell_type": "code",
     "collapsed": false,
     "input": [
      "cd projected"
     ],
     "language": "python",
     "metadata": {},
     "outputs": [
      {
       "output_type": "stream",
       "stream": "stdout",
       "text": [
        "/Users/doris/Desktop/GSoC2014/workarea-rc3-project/rc3/raw/projected\n"
       ]
      }
     ],
     "prompt_number": 32
    },
    {
     "cell_type": "code",
     "collapsed": false,
     "input": [
      "#mAdd coadds the reprojected images using the FITS header template and mImgtbl list.\n",
      "montage.mAdd(\"../pimages.tbl\",\"../../rc3_1.hdr\",\"SDSS_U_rc3_1.fits\")"
     ],
     "language": "python",
     "metadata": {},
     "outputs": [
      {
       "metadata": {},
       "output_type": "pyout",
       "prompt_number": 35,
       "text": [
        "stat : OK\n",
        "time : 0"
       ]
      }
     ],
     "prompt_number": 35
    },
    {
     "cell_type": "markdown",
     "metadata": {},
     "source": [
      "After repeating this step for all 5 bands "
     ]
    },
    {
     "cell_type": "code",
     "collapsed": false,
     "input": [
      "\n",
      "mJPEG -blue DSS2B/DSS2B.fits -1s 99.999% gaussian-log \\\n",
      "        -green DSS2R/DSS2R.fits -1s 99.999% gaussian-log \\\n",
      "        -red DSS2IR/DSS2IR.fits -1s 99.999% gaussian-log \\\n",
      "        -out DSS2_BRIR.jpg"
     ],
     "language": "python",
     "metadata": {},
     "outputs": []
    }
   ],
   "metadata": {}
  }
 ]
}