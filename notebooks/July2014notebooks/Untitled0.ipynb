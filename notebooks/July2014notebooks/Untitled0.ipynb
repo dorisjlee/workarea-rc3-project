{
 "metadata": {
  "name": "",
  "signature": "sha256:a7b90417703fb1e030c192e6d1d87314e560a863fe5ad8ce8ea907921b8c4acb"
 },
 "nbformat": 3,
 "nbformat_minor": 0,
 "worksheets": [
  {
   "cells": [
    {
     "cell_type": "code",
     "collapsed": false,
     "input": [
      "Doriss-MacBook-Pro:3.7818276,-7.1066372 dorislee$ mJPEG -red DSS_2ir_3.7818276_-7.1066372.fits 0 100 log -green DSS_2r_3.7818276_-7.1066372.fits  0 100 log -blue DSS_2b_3.7818276_-7.1066372.fits 0 100 log -out montage0100log.jpg\n",
      "[struct stat=\"ERROR\", msg=\"Red and green FITS images don't match\"]"
     ],
     "language": "python",
     "metadata": {},
     "outputs": []
    }
   ],
   "metadata": {}
  }
 ]
}