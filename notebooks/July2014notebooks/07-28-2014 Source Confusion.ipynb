{
 "metadata": {
  "name": "",
  "signature": "sha256:3c4462710402c437310952f06f031550ad89c9f1912e3c411e4b4d788f0dddc2"
 },
 "nbformat": 3,
 "nbformat_minor": 0,
 "worksheets": [
  {
   "cells": [
    {
     "cell_type": "code",
     "collapsed": false,
     "input": [
      "cd ../../pipeline_final/"
     ],
     "language": "python",
     "metadata": {},
     "outputs": [
      {
       "output_type": "stream",
       "stream": "stdout",
       "text": [
        "/Users/dorislee/Desktop/GSoC2014/workarea-rc3-project/pipeline_final\n"
       ]
      }
     ],
     "prompt_number": 1
    },
    {
     "cell_type": "markdown",
     "metadata": {},
     "source": [
      "\n",
      "Entered this query and found that there are about 1858 unresolved source confusion cases"
     ]
    },
    {
     "cell_type": "code",
     "collapsed": false,
     "input": [
      "SELECT * FROM RC3 WHERE new_ra NOT IN (\n",
      "   SELECT new_ra\n",
      "     FROM rc3\n",
      "     WHERE new_ra = 0.0\n",
      ")AND new_dec NOT IN (\n",
      "   SELECT new_dec\n",
      "     FROM rc3\n",
      "     WHERE new_dec = 0.0\n",
      ")AND new_ra IN(\n",
      "    select new_ra from rc3 group by  new_ra having count(*) > 1\n",
      ")AND new_dec IN(\n",
      "    select new_dec from rc3 group by  new_dec having count(*) > 1\n",
      ")"
     ],
     "language": "python",
     "metadata": {},
     "outputs": []
    },
    {
     "cell_type": "markdown",
     "metadata": {},
     "source": [
      "Testing What the Source Confusion algorithm respond when I mosaic on one of these "
     ]
    },
    {
     "cell_type": "code",
     "collapsed": false,
     "input": [
      "from sdss import *\n",
      "from skyserver import *\n",
      "from rc3 import *"
     ],
     "language": "python",
     "metadata": {},
     "outputs": [
      {
       "output_type": "stream",
       "stream": "stderr",
       "text": [
        "WARNING: AstropyDeprecationWarning: ConfigurationItem has been deprecated in astropy 0.4. Use ConfigItem objects as members of ConfigNamespace subclasses instead.  See ConfigNamespace for an example. [astropy.config.configuration]\n",
        "WARNING:astropy:AstropyDeprecationWarning: ConfigurationItem has been deprecated in astropy 0.4. Use ConfigItem objects as members of ConfigNamespace subclasses instead.  See ConfigNamespace for an example.\n"
       ]
      }
     ],
     "prompt_number": 3
    },
    {
     "cell_type": "markdown",
     "metadata": {},
     "source": [
      "I added \"AND ra NOT BETWEEN 0 AND 36\" and found out that all the \"issues with source confusion algorithm\", only 4 that actually lie outside the rerun range. That means that everything from the \"good run\" 36-360 actually tested that the source confusion algorithm is decent. There must be something wrong with the code that I used in the 0-36 run that is causing this. It might just be an issue of writing in the actual file (which explains why all the radius is the same)."
     ]
    },
    {
     "cell_type": "code",
     "collapsed": false,
     "input": [],
     "language": "python",
     "metadata": {},
     "outputs": []
    },
    {
     "cell_type": "code",
     "collapsed": false,
     "input": [],
     "language": "python",
     "metadata": {},
     "outputs": []
    }
   ],
   "metadata": {}
  }
 ]
}