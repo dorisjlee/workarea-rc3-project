{
 "metadata": {
  "name": "",
  "signature": "sha256:43ccb7aabeb00204b2edc4b167e13ce0d775807bcee5a7b9f1a908049a4a9b59"
 },
 "nbformat": 3,
 "nbformat_minor": 0,
 "worksheets": [
  {
   "cells": [
    {
     "cell_type": "markdown",
     "metadata": {},
     "source": [
      "- Imaging Intro http://www.ipac.caltech.edu/2mass/releases/allsky/doc/sec1_3.html#improd\n",
      "- Data Access \n",
      "http://www.ipac.caltech.edu/2mass/releases/allsky/doc/sec1_6d.html"
     ]
    },
    {
     "cell_type": "markdown",
     "metadata": {},
     "source": [
      "\"Most PSC sources are stars in the Milky Way. However, the PSC also contains point-source processed photometry for virtually all of the resolved sources found in the Extended Source Catalogs, as well as a significant number of unresolved, more distant galaxies.\"\n",
      "we should probably use PSC because it contains much more stuff and XSC is just a subset of PSC"
     ]
    },
    {
     "cell_type": "code",
     "collapsed": false,
     "input": [
      "Done\n",
      " 2MASS (Two Micron All-Sky Survey)\n",
      "    \n",
      " WISE ( Wide-Field Infrared Survey Explorer)\n",
      "\n",
      "Not suitable\n",
      "EUCLID (future)"
     ],
     "language": "python",
     "metadata": {},
     "outputs": []
    },
    {
     "cell_type": "code",
     "collapsed": false,
     "input": [
      " IRAS (Infrared Astronomical Satellite)\n",
      " Planck Database\n",
      " Spitzer Space Telescope\n",
      " Herschel\n",
      " MSX (Midcourse Space Experiment)\n",
      " COSMOS (Cosmic Evolution Survey)\n",
      " BOLOCAM (Caltech Observational Cosmology Group GPS Catalog)\n",
      " AKARI Infrared Astronomy Satellite\n",
      " USNO (United States Naval Observatory)\n",
      " DENIS (Deep Near Infrared Survey of the Southern Sky)\n",
      "6dFGS \n"
     ],
     "language": "python",
     "metadata": {},
     "outputs": []
    },
    {
     "cell_type": "code",
     "collapsed": false,
     "input": [
      "\t\t\\begin{itemize}\n",
      "\t\t\t\t\t\t\\item Bands: \n",
      "\t\t\t\t\t\t\\item Imaging method: \n",
      "\t\t\t\t\t\t\\item Sky Coverage: \n",
      "\t\t\t\t\t\t\\item Data Access: \n",
      "\t\t\t\t\t\t\\item Catalogs/Data Releases: \n",
      "\t\t\t\t\t\t\n",
      "\t\t\\end{itemize}"
     ],
     "language": "python",
     "metadata": {},
     "outputs": []
    }
   ],
   "metadata": {}
  }
 ]
}