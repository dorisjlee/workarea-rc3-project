{
 "metadata": {
  "name": ""
 },
 "nbformat": 3,
 "nbformat_minor": 0,
 "worksheets": [
  {
   "cells": [
    {
     "cell_type": "markdown",
     "metadata": {},
     "source": [
      "If use Single Field Search \u2014 Imaging for SDSS DR10 on SAS then the RA, DEC \"rounds up\" to the closest image. \n",
      "\n",
      "- This is not really a \"mosaic\". To make a mosaic, you need to put together many images with the galaxy at Center.SWarp has a function like this :http://data.sdss3.org/images/default.swarp So trying to find how to do this in Montage.\n",
      "- It should endup looking something like if you pasted all the RA,DEC values into http://skyserver.sdss3.org/dr10/en/tools/chart/list.aspx\n"
     ]
    },
    {
     "cell_type": "markdown",
     "metadata": {},
     "source": [
      "http://www.sdss3.org/dr10/data_access/\n",
      "Data "
     ]
    },
    {
     "cell_type": "code",
     "collapsed": false,
     "input": [],
     "language": "python",
     "metadata": {},
     "outputs": []
    }
   ],
   "metadata": {}
  }
 ]
}